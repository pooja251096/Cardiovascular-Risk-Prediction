{
  "nbformat": 4,
  "nbformat_minor": 0,
  "metadata": {
    "colab": {
      "name": "Pooja_AlmaBetter_ML_Classification_CardioVascularRisk.ipynb",
      "provenance": [],
      "collapsed_sections": [],
      "include_colab_link": true
    },
    "kernelspec": {
      "name": "python3",
      "display_name": "Python 3"
    },
    "language_info": {
      "name": "python"
    }
  },
  "cells": [
    {
      "cell_type": "markdown",
      "metadata": {
        "id": "view-in-github",
        "colab_type": "text"
      },
      "source": [
        "<a href=\"https://colab.research.google.com/github/pooja251096/Cardiovascular-Risk-Prediction/blob/main/Pooja_AlmaBetter_ML_Classification_CardioVascularRisk.ipynb\" target=\"_parent\"><img src=\"https://colab.research.google.com/assets/colab-badge.svg\" alt=\"Open In Colab\"/></a>"
      ]
    },
    {
      "cell_type": "code",
      "metadata": {
        "id": "yb_Nx_k1OfnL",
        "colab": {
          "base_uri": "https://localhost:8080/"
        },
        "outputId": "2cd419cc-2119-42ee-a8a7-0dd8913ff7f0"
      },
      "source": [
        "# Importing the libraries\n",
        "!pip install CatBoost\n",
        "!pip install imbalanced-learn\n",
        "\n",
        "import pandas as pd\n",
        "import numpy as np\n",
        "import seaborn as sns\n",
        "import matplotlib.pyplot as plt \n",
        "from sklearn.metrics import classification_report\n",
        "from imblearn.over_sampling import SMOTE\n",
        "from imblearn.under_sampling import RandomUnderSampler\n",
        "from imblearn.pipeline import Pipeline\n",
        "from collections import Counter\n",
        "from sklearn.metrics import confusion_matrix, accuracy_score"
      ],
      "execution_count": 1,
      "outputs": [
        {
          "output_type": "stream",
          "name": "stdout",
          "text": [
            "Collecting CatBoost\n",
            "  Downloading catboost-1.0.3-cp37-none-manylinux1_x86_64.whl (76.3 MB)\n",
            "\u001b[K     |████████████████████████████████| 76.3 MB 1.3 MB/s \n",
            "\u001b[?25hRequirement already satisfied: six in /usr/local/lib/python3.7/dist-packages (from CatBoost) (1.15.0)\n",
            "Requirement already satisfied: matplotlib in /usr/local/lib/python3.7/dist-packages (from CatBoost) (3.2.2)\n",
            "Requirement already satisfied: plotly in /usr/local/lib/python3.7/dist-packages (from CatBoost) (4.4.1)\n",
            "Requirement already satisfied: pandas>=0.24.0 in /usr/local/lib/python3.7/dist-packages (from CatBoost) (1.1.5)\n",
            "Requirement already satisfied: scipy in /usr/local/lib/python3.7/dist-packages (from CatBoost) (1.4.1)\n",
            "Requirement already satisfied: numpy>=1.16.0 in /usr/local/lib/python3.7/dist-packages (from CatBoost) (1.19.5)\n",
            "Requirement already satisfied: graphviz in /usr/local/lib/python3.7/dist-packages (from CatBoost) (0.10.1)\n",
            "Requirement already satisfied: pytz>=2017.2 in /usr/local/lib/python3.7/dist-packages (from pandas>=0.24.0->CatBoost) (2018.9)\n",
            "Requirement already satisfied: python-dateutil>=2.7.3 in /usr/local/lib/python3.7/dist-packages (from pandas>=0.24.0->CatBoost) (2.8.2)\n",
            "Requirement already satisfied: kiwisolver>=1.0.1 in /usr/local/lib/python3.7/dist-packages (from matplotlib->CatBoost) (1.3.2)\n",
            "Requirement already satisfied: pyparsing!=2.0.4,!=2.1.2,!=2.1.6,>=2.0.1 in /usr/local/lib/python3.7/dist-packages (from matplotlib->CatBoost) (3.0.6)\n",
            "Requirement already satisfied: cycler>=0.10 in /usr/local/lib/python3.7/dist-packages (from matplotlib->CatBoost) (0.11.0)\n",
            "Requirement already satisfied: retrying>=1.3.3 in /usr/local/lib/python3.7/dist-packages (from plotly->CatBoost) (1.3.3)\n",
            "Installing collected packages: CatBoost\n",
            "Successfully installed CatBoost-1.0.3\n",
            "Requirement already satisfied: imbalanced-learn in /usr/local/lib/python3.7/dist-packages (0.8.1)\n",
            "Requirement already satisfied: scipy>=0.19.1 in /usr/local/lib/python3.7/dist-packages (from imbalanced-learn) (1.4.1)\n",
            "Requirement already satisfied: numpy>=1.13.3 in /usr/local/lib/python3.7/dist-packages (from imbalanced-learn) (1.19.5)\n",
            "Requirement already satisfied: scikit-learn>=0.24 in /usr/local/lib/python3.7/dist-packages (from imbalanced-learn) (1.0.1)\n",
            "Requirement already satisfied: joblib>=0.11 in /usr/local/lib/python3.7/dist-packages (from imbalanced-learn) (1.1.0)\n",
            "Requirement already satisfied: threadpoolctl>=2.0.0 in /usr/local/lib/python3.7/dist-packages (from scikit-learn>=0.24->imbalanced-learn) (3.0.0)\n"
          ]
        }
      ]
    },
    {
      "cell_type": "code",
      "metadata": {
        "colab": {
          "base_uri": "https://localhost:8080/"
        },
        "id": "RrXhjp1higmF",
        "outputId": "16e1372e-140a-4079-b1f9-453a05008c9d"
      },
      "source": [
        "# mount drive and give path of dataset\n",
        "from google.colab import drive\n",
        "drive.mount('/content/drive')"
      ],
      "execution_count": 2,
      "outputs": [
        {
          "output_type": "stream",
          "name": "stdout",
          "text": [
            "Mounted at /content/drive\n"
          ]
        }
      ]
    },
    {
      "cell_type": "code",
      "metadata": {
        "id": "77bvdEJWQ3KP"
      },
      "source": [
        "data = pd.read_csv(\"/content/drive/MyDrive/Classification_cardiovascular/data_cardiovascular_risk.csv\")"
      ],
      "execution_count": 3,
      "outputs": []
    },
    {
      "cell_type": "code",
      "metadata": {
        "colab": {
          "base_uri": "https://localhost:8080/",
          "height": 206
        },
        "id": "VGHsMw34SSzp",
        "outputId": "74ed0389-3b6d-4fc7-fd45-a64e2781346d"
      },
      "source": [
        "##View first five rows of the dataframe\n",
        "data.sample(5)"
      ],
      "execution_count": 4,
      "outputs": [
        {
          "output_type": "execute_result",
          "data": {
            "text/html": [
              "\n",
              "  <div id=\"df-653345db-beee-432d-97cf-efa59fe1702c\">\n",
              "    <div class=\"colab-df-container\">\n",
              "      <div>\n",
              "<style scoped>\n",
              "    .dataframe tbody tr th:only-of-type {\n",
              "        vertical-align: middle;\n",
              "    }\n",
              "\n",
              "    .dataframe tbody tr th {\n",
              "        vertical-align: top;\n",
              "    }\n",
              "\n",
              "    .dataframe thead th {\n",
              "        text-align: right;\n",
              "    }\n",
              "</style>\n",
              "<table border=\"1\" class=\"dataframe\">\n",
              "  <thead>\n",
              "    <tr style=\"text-align: right;\">\n",
              "      <th></th>\n",
              "      <th>id</th>\n",
              "      <th>age</th>\n",
              "      <th>education</th>\n",
              "      <th>sex</th>\n",
              "      <th>is_smoking</th>\n",
              "      <th>cigsPerDay</th>\n",
              "      <th>BPMeds</th>\n",
              "      <th>prevalentStroke</th>\n",
              "      <th>prevalentHyp</th>\n",
              "      <th>diabetes</th>\n",
              "      <th>totChol</th>\n",
              "      <th>sysBP</th>\n",
              "      <th>diaBP</th>\n",
              "      <th>BMI</th>\n",
              "      <th>heartRate</th>\n",
              "      <th>glucose</th>\n",
              "      <th>TenYearCHD</th>\n",
              "    </tr>\n",
              "  </thead>\n",
              "  <tbody>\n",
              "    <tr>\n",
              "      <th>300</th>\n",
              "      <td>300</td>\n",
              "      <td>53</td>\n",
              "      <td>3.0</td>\n",
              "      <td>M</td>\n",
              "      <td>NO</td>\n",
              "      <td>0.0</td>\n",
              "      <td>0.0</td>\n",
              "      <td>0</td>\n",
              "      <td>0</td>\n",
              "      <td>0</td>\n",
              "      <td>253.0</td>\n",
              "      <td>115.0</td>\n",
              "      <td>81.0</td>\n",
              "      <td>28.09</td>\n",
              "      <td>70.0</td>\n",
              "      <td>84.0</td>\n",
              "      <td>0</td>\n",
              "    </tr>\n",
              "    <tr>\n",
              "      <th>1499</th>\n",
              "      <td>1499</td>\n",
              "      <td>40</td>\n",
              "      <td>2.0</td>\n",
              "      <td>M</td>\n",
              "      <td>NO</td>\n",
              "      <td>0.0</td>\n",
              "      <td>0.0</td>\n",
              "      <td>0</td>\n",
              "      <td>0</td>\n",
              "      <td>0</td>\n",
              "      <td>192.0</td>\n",
              "      <td>128.0</td>\n",
              "      <td>81.0</td>\n",
              "      <td>25.41</td>\n",
              "      <td>75.0</td>\n",
              "      <td>76.0</td>\n",
              "      <td>0</td>\n",
              "    </tr>\n",
              "    <tr>\n",
              "      <th>3267</th>\n",
              "      <td>3267</td>\n",
              "      <td>41</td>\n",
              "      <td>2.0</td>\n",
              "      <td>M</td>\n",
              "      <td>NO</td>\n",
              "      <td>0.0</td>\n",
              "      <td>0.0</td>\n",
              "      <td>0</td>\n",
              "      <td>0</td>\n",
              "      <td>0</td>\n",
              "      <td>195.0</td>\n",
              "      <td>139.0</td>\n",
              "      <td>88.0</td>\n",
              "      <td>26.88</td>\n",
              "      <td>85.0</td>\n",
              "      <td>65.0</td>\n",
              "      <td>0</td>\n",
              "    </tr>\n",
              "    <tr>\n",
              "      <th>390</th>\n",
              "      <td>390</td>\n",
              "      <td>52</td>\n",
              "      <td>1.0</td>\n",
              "      <td>F</td>\n",
              "      <td>NO</td>\n",
              "      <td>0.0</td>\n",
              "      <td>0.0</td>\n",
              "      <td>0</td>\n",
              "      <td>0</td>\n",
              "      <td>0</td>\n",
              "      <td>265.0</td>\n",
              "      <td>137.5</td>\n",
              "      <td>84.5</td>\n",
              "      <td>26.91</td>\n",
              "      <td>72.0</td>\n",
              "      <td>86.0</td>\n",
              "      <td>0</td>\n",
              "    </tr>\n",
              "    <tr>\n",
              "      <th>3090</th>\n",
              "      <td>3090</td>\n",
              "      <td>60</td>\n",
              "      <td>2.0</td>\n",
              "      <td>F</td>\n",
              "      <td>YES</td>\n",
              "      <td>9.0</td>\n",
              "      <td>0.0</td>\n",
              "      <td>0</td>\n",
              "      <td>1</td>\n",
              "      <td>0</td>\n",
              "      <td>280.0</td>\n",
              "      <td>150.5</td>\n",
              "      <td>90.0</td>\n",
              "      <td>33.45</td>\n",
              "      <td>90.0</td>\n",
              "      <td>NaN</td>\n",
              "      <td>0</td>\n",
              "    </tr>\n",
              "  </tbody>\n",
              "</table>\n",
              "</div>\n",
              "      <button class=\"colab-df-convert\" onclick=\"convertToInteractive('df-653345db-beee-432d-97cf-efa59fe1702c')\"\n",
              "              title=\"Convert this dataframe to an interactive table.\"\n",
              "              style=\"display:none;\">\n",
              "        \n",
              "  <svg xmlns=\"http://www.w3.org/2000/svg\" height=\"24px\"viewBox=\"0 0 24 24\"\n",
              "       width=\"24px\">\n",
              "    <path d=\"M0 0h24v24H0V0z\" fill=\"none\"/>\n",
              "    <path d=\"M18.56 5.44l.94 2.06.94-2.06 2.06-.94-2.06-.94-.94-2.06-.94 2.06-2.06.94zm-11 1L8.5 8.5l.94-2.06 2.06-.94-2.06-.94L8.5 2.5l-.94 2.06-2.06.94zm10 10l.94 2.06.94-2.06 2.06-.94-2.06-.94-.94-2.06-.94 2.06-2.06.94z\"/><path d=\"M17.41 7.96l-1.37-1.37c-.4-.4-.92-.59-1.43-.59-.52 0-1.04.2-1.43.59L10.3 9.45l-7.72 7.72c-.78.78-.78 2.05 0 2.83L4 21.41c.39.39.9.59 1.41.59.51 0 1.02-.2 1.41-.59l7.78-7.78 2.81-2.81c.8-.78.8-2.07 0-2.86zM5.41 20L4 18.59l7.72-7.72 1.47 1.35L5.41 20z\"/>\n",
              "  </svg>\n",
              "      </button>\n",
              "      \n",
              "  <style>\n",
              "    .colab-df-container {\n",
              "      display:flex;\n",
              "      flex-wrap:wrap;\n",
              "      gap: 12px;\n",
              "    }\n",
              "\n",
              "    .colab-df-convert {\n",
              "      background-color: #E8F0FE;\n",
              "      border: none;\n",
              "      border-radius: 50%;\n",
              "      cursor: pointer;\n",
              "      display: none;\n",
              "      fill: #1967D2;\n",
              "      height: 32px;\n",
              "      padding: 0 0 0 0;\n",
              "      width: 32px;\n",
              "    }\n",
              "\n",
              "    .colab-df-convert:hover {\n",
              "      background-color: #E2EBFA;\n",
              "      box-shadow: 0px 1px 2px rgba(60, 64, 67, 0.3), 0px 1px 3px 1px rgba(60, 64, 67, 0.15);\n",
              "      fill: #174EA6;\n",
              "    }\n",
              "\n",
              "    [theme=dark] .colab-df-convert {\n",
              "      background-color: #3B4455;\n",
              "      fill: #D2E3FC;\n",
              "    }\n",
              "\n",
              "    [theme=dark] .colab-df-convert:hover {\n",
              "      background-color: #434B5C;\n",
              "      box-shadow: 0px 1px 3px 1px rgba(0, 0, 0, 0.15);\n",
              "      filter: drop-shadow(0px 1px 2px rgba(0, 0, 0, 0.3));\n",
              "      fill: #FFFFFF;\n",
              "    }\n",
              "  </style>\n",
              "\n",
              "      <script>\n",
              "        const buttonEl =\n",
              "          document.querySelector('#df-653345db-beee-432d-97cf-efa59fe1702c button.colab-df-convert');\n",
              "        buttonEl.style.display =\n",
              "          google.colab.kernel.accessAllowed ? 'block' : 'none';\n",
              "\n",
              "        async function convertToInteractive(key) {\n",
              "          const element = document.querySelector('#df-653345db-beee-432d-97cf-efa59fe1702c');\n",
              "          const dataTable =\n",
              "            await google.colab.kernel.invokeFunction('convertToInteractive',\n",
              "                                                     [key], {});\n",
              "          if (!dataTable) return;\n",
              "\n",
              "          const docLinkHtml = 'Like what you see? Visit the ' +\n",
              "            '<a target=\"_blank\" href=https://colab.research.google.com/notebooks/data_table.ipynb>data table notebook</a>'\n",
              "            + ' to learn more about interactive tables.';\n",
              "          element.innerHTML = '';\n",
              "          dataTable['output_type'] = 'display_data';\n",
              "          await google.colab.output.renderOutput(dataTable, element);\n",
              "          const docLink = document.createElement('div');\n",
              "          docLink.innerHTML = docLinkHtml;\n",
              "          element.appendChild(docLink);\n",
              "        }\n",
              "      </script>\n",
              "    </div>\n",
              "  </div>\n",
              "  "
            ],
            "text/plain": [
              "        id  age  education sex  ...    BMI  heartRate  glucose  TenYearCHD\n",
              "300    300   53        3.0   M  ...  28.09       70.0     84.0           0\n",
              "1499  1499   40        2.0   M  ...  25.41       75.0     76.0           0\n",
              "3267  3267   41        2.0   M  ...  26.88       85.0     65.0           0\n",
              "390    390   52        1.0   F  ...  26.91       72.0     86.0           0\n",
              "3090  3090   60        2.0   F  ...  33.45       90.0      NaN           0\n",
              "\n",
              "[5 rows x 17 columns]"
            ]
          },
          "metadata": {},
          "execution_count": 4
        }
      ]
    },
    {
      "cell_type": "code",
      "source": [
        "##View last five rows of the dataframe\n",
        "data.tail()"
      ],
      "metadata": {
        "colab": {
          "base_uri": "https://localhost:8080/",
          "height": 206
        },
        "id": "4FSgMFK76ERJ",
        "outputId": "97902c37-978e-444f-bdad-51ec3bfc1d70"
      },
      "execution_count": 5,
      "outputs": [
        {
          "output_type": "execute_result",
          "data": {
            "text/html": [
              "\n",
              "  <div id=\"df-e1c365df-793b-43fe-ba0f-136da74da2aa\">\n",
              "    <div class=\"colab-df-container\">\n",
              "      <div>\n",
              "<style scoped>\n",
              "    .dataframe tbody tr th:only-of-type {\n",
              "        vertical-align: middle;\n",
              "    }\n",
              "\n",
              "    .dataframe tbody tr th {\n",
              "        vertical-align: top;\n",
              "    }\n",
              "\n",
              "    .dataframe thead th {\n",
              "        text-align: right;\n",
              "    }\n",
              "</style>\n",
              "<table border=\"1\" class=\"dataframe\">\n",
              "  <thead>\n",
              "    <tr style=\"text-align: right;\">\n",
              "      <th></th>\n",
              "      <th>id</th>\n",
              "      <th>age</th>\n",
              "      <th>education</th>\n",
              "      <th>sex</th>\n",
              "      <th>is_smoking</th>\n",
              "      <th>cigsPerDay</th>\n",
              "      <th>BPMeds</th>\n",
              "      <th>prevalentStroke</th>\n",
              "      <th>prevalentHyp</th>\n",
              "      <th>diabetes</th>\n",
              "      <th>totChol</th>\n",
              "      <th>sysBP</th>\n",
              "      <th>diaBP</th>\n",
              "      <th>BMI</th>\n",
              "      <th>heartRate</th>\n",
              "      <th>glucose</th>\n",
              "      <th>TenYearCHD</th>\n",
              "    </tr>\n",
              "  </thead>\n",
              "  <tbody>\n",
              "    <tr>\n",
              "      <th>3385</th>\n",
              "      <td>3385</td>\n",
              "      <td>60</td>\n",
              "      <td>1.0</td>\n",
              "      <td>F</td>\n",
              "      <td>NO</td>\n",
              "      <td>0.0</td>\n",
              "      <td>0.0</td>\n",
              "      <td>0</td>\n",
              "      <td>0</td>\n",
              "      <td>0</td>\n",
              "      <td>261.0</td>\n",
              "      <td>123.5</td>\n",
              "      <td>79.0</td>\n",
              "      <td>29.28</td>\n",
              "      <td>70.0</td>\n",
              "      <td>103.0</td>\n",
              "      <td>0</td>\n",
              "    </tr>\n",
              "    <tr>\n",
              "      <th>3386</th>\n",
              "      <td>3386</td>\n",
              "      <td>46</td>\n",
              "      <td>1.0</td>\n",
              "      <td>F</td>\n",
              "      <td>NO</td>\n",
              "      <td>0.0</td>\n",
              "      <td>0.0</td>\n",
              "      <td>0</td>\n",
              "      <td>0</td>\n",
              "      <td>0</td>\n",
              "      <td>199.0</td>\n",
              "      <td>102.0</td>\n",
              "      <td>56.0</td>\n",
              "      <td>21.96</td>\n",
              "      <td>80.0</td>\n",
              "      <td>84.0</td>\n",
              "      <td>0</td>\n",
              "    </tr>\n",
              "    <tr>\n",
              "      <th>3387</th>\n",
              "      <td>3387</td>\n",
              "      <td>44</td>\n",
              "      <td>3.0</td>\n",
              "      <td>M</td>\n",
              "      <td>YES</td>\n",
              "      <td>3.0</td>\n",
              "      <td>0.0</td>\n",
              "      <td>0</td>\n",
              "      <td>1</td>\n",
              "      <td>0</td>\n",
              "      <td>352.0</td>\n",
              "      <td>164.0</td>\n",
              "      <td>119.0</td>\n",
              "      <td>28.92</td>\n",
              "      <td>73.0</td>\n",
              "      <td>72.0</td>\n",
              "      <td>1</td>\n",
              "    </tr>\n",
              "    <tr>\n",
              "      <th>3388</th>\n",
              "      <td>3388</td>\n",
              "      <td>60</td>\n",
              "      <td>1.0</td>\n",
              "      <td>M</td>\n",
              "      <td>NO</td>\n",
              "      <td>0.0</td>\n",
              "      <td>NaN</td>\n",
              "      <td>0</td>\n",
              "      <td>1</td>\n",
              "      <td>0</td>\n",
              "      <td>191.0</td>\n",
              "      <td>167.0</td>\n",
              "      <td>105.0</td>\n",
              "      <td>23.01</td>\n",
              "      <td>80.0</td>\n",
              "      <td>85.0</td>\n",
              "      <td>0</td>\n",
              "    </tr>\n",
              "    <tr>\n",
              "      <th>3389</th>\n",
              "      <td>3389</td>\n",
              "      <td>54</td>\n",
              "      <td>3.0</td>\n",
              "      <td>F</td>\n",
              "      <td>NO</td>\n",
              "      <td>0.0</td>\n",
              "      <td>0.0</td>\n",
              "      <td>0</td>\n",
              "      <td>0</td>\n",
              "      <td>0</td>\n",
              "      <td>288.0</td>\n",
              "      <td>124.0</td>\n",
              "      <td>77.0</td>\n",
              "      <td>29.88</td>\n",
              "      <td>79.0</td>\n",
              "      <td>92.0</td>\n",
              "      <td>0</td>\n",
              "    </tr>\n",
              "  </tbody>\n",
              "</table>\n",
              "</div>\n",
              "      <button class=\"colab-df-convert\" onclick=\"convertToInteractive('df-e1c365df-793b-43fe-ba0f-136da74da2aa')\"\n",
              "              title=\"Convert this dataframe to an interactive table.\"\n",
              "              style=\"display:none;\">\n",
              "        \n",
              "  <svg xmlns=\"http://www.w3.org/2000/svg\" height=\"24px\"viewBox=\"0 0 24 24\"\n",
              "       width=\"24px\">\n",
              "    <path d=\"M0 0h24v24H0V0z\" fill=\"none\"/>\n",
              "    <path d=\"M18.56 5.44l.94 2.06.94-2.06 2.06-.94-2.06-.94-.94-2.06-.94 2.06-2.06.94zm-11 1L8.5 8.5l.94-2.06 2.06-.94-2.06-.94L8.5 2.5l-.94 2.06-2.06.94zm10 10l.94 2.06.94-2.06 2.06-.94-2.06-.94-.94-2.06-.94 2.06-2.06.94z\"/><path d=\"M17.41 7.96l-1.37-1.37c-.4-.4-.92-.59-1.43-.59-.52 0-1.04.2-1.43.59L10.3 9.45l-7.72 7.72c-.78.78-.78 2.05 0 2.83L4 21.41c.39.39.9.59 1.41.59.51 0 1.02-.2 1.41-.59l7.78-7.78 2.81-2.81c.8-.78.8-2.07 0-2.86zM5.41 20L4 18.59l7.72-7.72 1.47 1.35L5.41 20z\"/>\n",
              "  </svg>\n",
              "      </button>\n",
              "      \n",
              "  <style>\n",
              "    .colab-df-container {\n",
              "      display:flex;\n",
              "      flex-wrap:wrap;\n",
              "      gap: 12px;\n",
              "    }\n",
              "\n",
              "    .colab-df-convert {\n",
              "      background-color: #E8F0FE;\n",
              "      border: none;\n",
              "      border-radius: 50%;\n",
              "      cursor: pointer;\n",
              "      display: none;\n",
              "      fill: #1967D2;\n",
              "      height: 32px;\n",
              "      padding: 0 0 0 0;\n",
              "      width: 32px;\n",
              "    }\n",
              "\n",
              "    .colab-df-convert:hover {\n",
              "      background-color: #E2EBFA;\n",
              "      box-shadow: 0px 1px 2px rgba(60, 64, 67, 0.3), 0px 1px 3px 1px rgba(60, 64, 67, 0.15);\n",
              "      fill: #174EA6;\n",
              "    }\n",
              "\n",
              "    [theme=dark] .colab-df-convert {\n",
              "      background-color: #3B4455;\n",
              "      fill: #D2E3FC;\n",
              "    }\n",
              "\n",
              "    [theme=dark] .colab-df-convert:hover {\n",
              "      background-color: #434B5C;\n",
              "      box-shadow: 0px 1px 3px 1px rgba(0, 0, 0, 0.15);\n",
              "      filter: drop-shadow(0px 1px 2px rgba(0, 0, 0, 0.3));\n",
              "      fill: #FFFFFF;\n",
              "    }\n",
              "  </style>\n",
              "\n",
              "      <script>\n",
              "        const buttonEl =\n",
              "          document.querySelector('#df-e1c365df-793b-43fe-ba0f-136da74da2aa button.colab-df-convert');\n",
              "        buttonEl.style.display =\n",
              "          google.colab.kernel.accessAllowed ? 'block' : 'none';\n",
              "\n",
              "        async function convertToInteractive(key) {\n",
              "          const element = document.querySelector('#df-e1c365df-793b-43fe-ba0f-136da74da2aa');\n",
              "          const dataTable =\n",
              "            await google.colab.kernel.invokeFunction('convertToInteractive',\n",
              "                                                     [key], {});\n",
              "          if (!dataTable) return;\n",
              "\n",
              "          const docLinkHtml = 'Like what you see? Visit the ' +\n",
              "            '<a target=\"_blank\" href=https://colab.research.google.com/notebooks/data_table.ipynb>data table notebook</a>'\n",
              "            + ' to learn more about interactive tables.';\n",
              "          element.innerHTML = '';\n",
              "          dataTable['output_type'] = 'display_data';\n",
              "          await google.colab.output.renderOutput(dataTable, element);\n",
              "          const docLink = document.createElement('div');\n",
              "          docLink.innerHTML = docLinkHtml;\n",
              "          element.appendChild(docLink);\n",
              "        }\n",
              "      </script>\n",
              "    </div>\n",
              "  </div>\n",
              "  "
            ],
            "text/plain": [
              "        id  age  education sex  ...    BMI  heartRate  glucose  TenYearCHD\n",
              "3385  3385   60        1.0   F  ...  29.28       70.0    103.0           0\n",
              "3386  3386   46        1.0   F  ...  21.96       80.0     84.0           0\n",
              "3387  3387   44        3.0   M  ...  28.92       73.0     72.0           1\n",
              "3388  3388   60        1.0   M  ...  23.01       80.0     85.0           0\n",
              "3389  3389   54        3.0   F  ...  29.88       79.0     92.0           0\n",
              "\n",
              "[5 rows x 17 columns]"
            ]
          },
          "metadata": {},
          "execution_count": 5
        }
      ]
    },
    {
      "cell_type": "code",
      "source": [
        "data.shape"
      ],
      "metadata": {
        "colab": {
          "base_uri": "https://localhost:8080/"
        },
        "id": "rN4oEVL8JNEv",
        "outputId": "1a39f367-ec3b-49c9-f2ba-9bd5c96f8eb3"
      },
      "execution_count": 6,
      "outputs": [
        {
          "output_type": "execute_result",
          "data": {
            "text/plain": [
              "(3390, 17)"
            ]
          },
          "metadata": {},
          "execution_count": 6
        }
      ]
    },
    {
      "cell_type": "code",
      "source": [
        "data.info()"
      ],
      "metadata": {
        "colab": {
          "base_uri": "https://localhost:8080/"
        },
        "id": "prIKEI1CMIcl",
        "outputId": "2bfcf872-a8b4-48ee-a97a-68b4b1454d13"
      },
      "execution_count": 7,
      "outputs": [
        {
          "output_type": "stream",
          "name": "stdout",
          "text": [
            "<class 'pandas.core.frame.DataFrame'>\n",
            "RangeIndex: 3390 entries, 0 to 3389\n",
            "Data columns (total 17 columns):\n",
            " #   Column           Non-Null Count  Dtype  \n",
            "---  ------           --------------  -----  \n",
            " 0   id               3390 non-null   int64  \n",
            " 1   age              3390 non-null   int64  \n",
            " 2   education        3303 non-null   float64\n",
            " 3   sex              3390 non-null   object \n",
            " 4   is_smoking       3390 non-null   object \n",
            " 5   cigsPerDay       3368 non-null   float64\n",
            " 6   BPMeds           3346 non-null   float64\n",
            " 7   prevalentStroke  3390 non-null   int64  \n",
            " 8   prevalentHyp     3390 non-null   int64  \n",
            " 9   diabetes         3390 non-null   int64  \n",
            " 10  totChol          3352 non-null   float64\n",
            " 11  sysBP            3390 non-null   float64\n",
            " 12  diaBP            3390 non-null   float64\n",
            " 13  BMI              3376 non-null   float64\n",
            " 14  heartRate        3389 non-null   float64\n",
            " 15  glucose          3086 non-null   float64\n",
            " 16  TenYearCHD       3390 non-null   int64  \n",
            "dtypes: float64(9), int64(6), object(2)\n",
            "memory usage: 450.4+ KB\n"
          ]
        }
      ]
    },
    {
      "cell_type": "markdown",
      "source": [
        "#Data Cleaning"
      ],
      "metadata": {
        "id": "2pqMwtch5fpq"
      }
    },
    {
      "cell_type": "code",
      "metadata": {
        "colab": {
          "base_uri": "https://localhost:8080/"
        },
        "id": "3f0zNcu7SZ0w",
        "outputId": "34ad75b4-1637-447f-8ca9-c157962cc7b3"
      },
      "source": [
        "## Null value checks\n",
        "data.isna().sum()"
      ],
      "execution_count": 8,
      "outputs": [
        {
          "output_type": "execute_result",
          "data": {
            "text/plain": [
              "id                   0\n",
              "age                  0\n",
              "education           87\n",
              "sex                  0\n",
              "is_smoking           0\n",
              "cigsPerDay          22\n",
              "BPMeds              44\n",
              "prevalentStroke      0\n",
              "prevalentHyp         0\n",
              "diabetes             0\n",
              "totChol             38\n",
              "sysBP                0\n",
              "diaBP                0\n",
              "BMI                 14\n",
              "heartRate            1\n",
              "glucose            304\n",
              "TenYearCHD           0\n",
              "dtype: int64"
            ]
          },
          "metadata": {},
          "execution_count": 8
        }
      ]
    },
    {
      "cell_type": "code",
      "source": [
        "## Null values\n",
        "sns.heatmap(data.isnull(), yticklabels=False, cmap=\"viridis\")"
      ],
      "metadata": {
        "colab": {
          "base_uri": "https://localhost:8080/",
          "height": 355
        },
        "id": "iLcnzkMqAQhu",
        "outputId": "b1d4eea0-f93f-4724-f3c3-0db6b568448a"
      },
      "execution_count": 9,
      "outputs": [
        {
          "output_type": "execute_result",
          "data": {
            "text/plain": [
              "<matplotlib.axes._subplots.AxesSubplot at 0x7f3429671250>"
            ]
          },
          "metadata": {},
          "execution_count": 9
        },
        {
          "output_type": "display_data",
          "data": {
            "image/png": "[encoded data removed]",
            "text/plain": [
              "<Figure size 432x288 with 2 Axes>"
            ]
          },
          "metadata": {
            "needs_background": "light"
          }
        }
      ]
    },
    {
      "cell_type": "markdown",
      "metadata": {
        "id": "Pe4hGyJ9WFqz"
      },
      "source": [
        "Dealing with null values"
      ]
    },
    {
      "cell_type": "code",
      "source": [
        "##Impute Missing values with Median. \n",
        "data['glucose'] = data['glucose'].fillna(data['glucose'].median())\n",
        "data['BPMeds'] = data['BPMeds'].fillna(data['BPMeds'].median())\n",
        "data['heartRate'] = data['heartRate'].fillna(data['heartRate'].median())\n",
        "data['BMI'] = data['BMI'].fillna(data['BMI'].median())\n",
        "data['totChol'] = data['totChol'].fillna(data['totChol'].median())\n",
        "data['education'] = data['education'].fillna(data['education'].median())\n",
        "\n"
      ],
      "metadata": {
        "id": "gMmkFPQ17qzQ"
      },
      "execution_count": 10,
      "outputs": []
    },
    {
      "cell_type": "code",
      "source": [
        "data.dropna(inplace=True)"
      ],
      "metadata": {
        "id": "R-THdr78ApI3"
      },
      "execution_count": 11,
      "outputs": []
    },
    {
      "cell_type": "code",
      "source": [
        "#Again checking null values \n",
        "sns.heatmap(data.isnull(), yticklabels=False, cmap=\"viridis\")"
      ],
      "metadata": {
        "colab": {
          "base_uri": "https://localhost:8080/",
          "height": 355
        },
        "id": "ovYYLTDpBT5m",
        "outputId": "9c6a5155-651e-478a-8745-8839b595cdff"
      },
      "execution_count": 12,
      "outputs": [
        {
          "output_type": "execute_result",
          "data": {
            "text/plain": [
              "<matplotlib.axes._subplots.AxesSubplot at 0x7f3420601650>"
            ]
          },
          "metadata": {},
          "execution_count": 12
        },
        {
          "output_type": "display_data",
          "data": {
            "image/png": "[encoded data removed]",
            "text/plain": [
              "<Figure size 432x288 with 2 Axes>"
            ]
          },
          "metadata": {
            "needs_background": "light"
          }
        }
      ]
    },
    {
      "cell_type": "code",
      "source": [
        "##Rechecking if we have any missing value left\n",
        "data.isnull().sum()"
      ],
      "metadata": {
        "colab": {
          "base_uri": "https://localhost:8080/"
        },
        "id": "hw3Wlf_kBqfO",
        "outputId": "95f2811b-69a5-479b-a056-a102b79c4a74"
      },
      "execution_count": 13,
      "outputs": [
        {
          "output_type": "execute_result",
          "data": {
            "text/plain": [
              "id                 0\n",
              "age                0\n",
              "education          0\n",
              "sex                0\n",
              "is_smoking         0\n",
              "cigsPerDay         0\n",
              "BPMeds             0\n",
              "prevalentStroke    0\n",
              "prevalentHyp       0\n",
              "diabetes           0\n",
              "totChol            0\n",
              "sysBP              0\n",
              "diaBP              0\n",
              "BMI                0\n",
              "heartRate          0\n",
              "glucose            0\n",
              "TenYearCHD         0\n",
              "dtype: int64"
            ]
          },
          "metadata": {},
          "execution_count": 13
        }
      ]
    },
    {
      "cell_type": "code",
      "metadata": {
        "id": "G5LqrksjZXr4"
      },
      "source": [
        "data.drop(\"id\", axis=1, inplace=True)\n",
        "data.drop_duplicates(inplace=True)"
      ],
      "execution_count": 14,
      "outputs": []
    },
    {
      "cell_type": "markdown",
      "metadata": {
        "id": "LnBsRV6L0SGD"
      },
      "source": [
        "## Exploratory Data Analysis"
      ]
    },
    {
      "cell_type": "code",
      "source": [
        "#Descriptive Stats\n",
        "\n",
        "data.describe()"
      ],
      "metadata": {
        "colab": {
          "base_uri": "https://localhost:8080/",
          "height": 364
        },
        "id": "p0QyOgPD2BKh",
        "outputId": "a5e06592-4520-4711-8a39-3ed1bfb0b213"
      },
      "execution_count": 16,
      "outputs": [
        {
          "output_type": "execute_result",
          "data": {
            "text/html": [
              "\n",
              "  <div id=\"df-0bc852f1-4fb1-4296-97c0-2a16325216f4\">\n",
              "    <div class=\"colab-df-container\">\n",
              "      <div>\n",
              "<style scoped>\n",
              "    .dataframe tbody tr th:only-of-type {\n",
              "        vertical-align: middle;\n",
              "    }\n",
              "\n",
              "    .dataframe tbody tr th {\n",
              "        vertical-align: top;\n",
              "    }\n",
              "\n",
              "    .dataframe thead th {\n",
              "        text-align: right;\n",
              "    }\n",
              "</style>\n",
              "<table border=\"1\" class=\"dataframe\">\n",
              "  <thead>\n",
              "    <tr style=\"text-align: right;\">\n",
              "      <th></th>\n",
              "      <th>age</th>\n",
              "      <th>education</th>\n",
              "      <th>cigsPerDay</th>\n",
              "      <th>BPMeds</th>\n",
              "      <th>prevalentStroke</th>\n",
              "      <th>prevalentHyp</th>\n",
              "      <th>diabetes</th>\n",
              "      <th>totChol</th>\n",
              "      <th>sysBP</th>\n",
              "      <th>diaBP</th>\n",
              "      <th>BMI</th>\n",
              "      <th>heartRate</th>\n",
              "      <th>glucose</th>\n",
              "      <th>TenYearCHD</th>\n",
              "    </tr>\n",
              "  </thead>\n",
              "  <tbody>\n",
              "    <tr>\n",
              "      <th>count</th>\n",
              "      <td>3368.000000</td>\n",
              "      <td>3368.000000</td>\n",
              "      <td>3368.000000</td>\n",
              "      <td>3368.000000</td>\n",
              "      <td>3368.000000</td>\n",
              "      <td>3368.000000</td>\n",
              "      <td>3368.000000</td>\n",
              "      <td>3368.000000</td>\n",
              "      <td>3368.000000</td>\n",
              "      <td>3368.00000</td>\n",
              "      <td>3368.000000</td>\n",
              "      <td>3368.000000</td>\n",
              "      <td>3368.000000</td>\n",
              "      <td>3368.000000</td>\n",
              "    </tr>\n",
              "    <tr>\n",
              "      <th>mean</th>\n",
              "      <td>49.543646</td>\n",
              "      <td>1.971200</td>\n",
              "      <td>9.069477</td>\n",
              "      <td>0.029691</td>\n",
              "      <td>0.006532</td>\n",
              "      <td>0.315914</td>\n",
              "      <td>0.025831</td>\n",
              "      <td>236.991686</td>\n",
              "      <td>132.601395</td>\n",
              "      <td>82.88465</td>\n",
              "      <td>25.796737</td>\n",
              "      <td>75.974762</td>\n",
              "      <td>81.692993</td>\n",
              "      <td>0.151425</td>\n",
              "    </tr>\n",
              "    <tr>\n",
              "      <th>std</th>\n",
              "      <td>8.603941</td>\n",
              "      <td>1.005805</td>\n",
              "      <td>11.879078</td>\n",
              "      <td>0.169759</td>\n",
              "      <td>0.080569</td>\n",
              "      <td>0.464948</td>\n",
              "      <td>0.158656</td>\n",
              "      <td>44.951744</td>\n",
              "      <td>22.300647</td>\n",
              "      <td>12.02176</td>\n",
              "      <td>4.114976</td>\n",
              "      <td>11.966154</td>\n",
              "      <td>23.198838</td>\n",
              "      <td>0.358516</td>\n",
              "    </tr>\n",
              "    <tr>\n",
              "      <th>min</th>\n",
              "      <td>32.000000</td>\n",
              "      <td>1.000000</td>\n",
              "      <td>0.000000</td>\n",
              "      <td>0.000000</td>\n",
              "      <td>0.000000</td>\n",
              "      <td>0.000000</td>\n",
              "      <td>0.000000</td>\n",
              "      <td>107.000000</td>\n",
              "      <td>83.500000</td>\n",
              "      <td>48.00000</td>\n",
              "      <td>15.960000</td>\n",
              "      <td>45.000000</td>\n",
              "      <td>40.000000</td>\n",
              "      <td>0.000000</td>\n",
              "    </tr>\n",
              "    <tr>\n",
              "      <th>25%</th>\n",
              "      <td>42.000000</td>\n",
              "      <td>1.000000</td>\n",
              "      <td>0.000000</td>\n",
              "      <td>0.000000</td>\n",
              "      <td>0.000000</td>\n",
              "      <td>0.000000</td>\n",
              "      <td>0.000000</td>\n",
              "      <td>206.000000</td>\n",
              "      <td>117.000000</td>\n",
              "      <td>74.50000</td>\n",
              "      <td>23.030000</td>\n",
              "      <td>68.000000</td>\n",
              "      <td>72.000000</td>\n",
              "      <td>0.000000</td>\n",
              "    </tr>\n",
              "    <tr>\n",
              "      <th>50%</th>\n",
              "      <td>49.000000</td>\n",
              "      <td>2.000000</td>\n",
              "      <td>0.000000</td>\n",
              "      <td>0.000000</td>\n",
              "      <td>0.000000</td>\n",
              "      <td>0.000000</td>\n",
              "      <td>0.000000</td>\n",
              "      <td>234.000000</td>\n",
              "      <td>128.500000</td>\n",
              "      <td>82.00000</td>\n",
              "      <td>25.380000</td>\n",
              "      <td>75.000000</td>\n",
              "      <td>78.000000</td>\n",
              "      <td>0.000000</td>\n",
              "    </tr>\n",
              "    <tr>\n",
              "      <th>75%</th>\n",
              "      <td>56.000000</td>\n",
              "      <td>3.000000</td>\n",
              "      <td>20.000000</td>\n",
              "      <td>0.000000</td>\n",
              "      <td>0.000000</td>\n",
              "      <td>1.000000</td>\n",
              "      <td>0.000000</td>\n",
              "      <td>264.000000</td>\n",
              "      <td>144.000000</td>\n",
              "      <td>90.00000</td>\n",
              "      <td>28.025000</td>\n",
              "      <td>83.000000</td>\n",
              "      <td>85.000000</td>\n",
              "      <td>0.000000</td>\n",
              "    </tr>\n",
              "    <tr>\n",
              "      <th>max</th>\n",
              "      <td>70.000000</td>\n",
              "      <td>4.000000</td>\n",
              "      <td>70.000000</td>\n",
              "      <td>1.000000</td>\n",
              "      <td>1.000000</td>\n",
              "      <td>1.000000</td>\n",
              "      <td>1.000000</td>\n",
              "      <td>696.000000</td>\n",
              "      <td>295.000000</td>\n",
              "      <td>142.50000</td>\n",
              "      <td>56.800000</td>\n",
              "      <td>143.000000</td>\n",
              "      <td>394.000000</td>\n",
              "      <td>1.000000</td>\n",
              "    </tr>\n",
              "  </tbody>\n",
              "</table>\n",
              "</div>\n",
              "      <button class=\"colab-df-convert\" onclick=\"convertToInteractive('df-0bc852f1-4fb1-4296-97c0-2a16325216f4')\"\n",
              "              title=\"Convert this dataframe to an interactive table.\"\n",
              "              style=\"display:none;\">\n",
              "        \n",
              "  <svg xmlns=\"http://www.w3.org/2000/svg\" height=\"24px\"viewBox=\"0 0 24 24\"\n",
              "       width=\"24px\">\n",
              "    <path d=\"M0 0h24v24H0V0z\" fill=\"none\"/>\n",
              "    <path d=\"M18.56 5.44l.94 2.06.94-2.06 2.06-.94-2.06-.94-.94-2.06-.94 2.06-2.06.94zm-11 1L8.5 8.5l.94-2.06 2.06-.94-2.06-.94L8.5 2.5l-.94 2.06-2.06.94zm10 10l.94 2.06.94-2.06 2.06-.94-2.06-.94-.94-2.06-.94 2.06-2.06.94z\"/><path d=\"M17.41 7.96l-1.37-1.37c-.4-.4-.92-.59-1.43-.59-.52 0-1.04.2-1.43.59L10.3 9.45l-7.72 7.72c-.78.78-.78 2.05 0 2.83L4 21.41c.39.39.9.59 1.41.59.51 0 1.02-.2 1.41-.59l7.78-7.78 2.81-2.81c.8-.78.8-2.07 0-2.86zM5.41 20L4 18.59l7.72-7.72 1.47 1.35L5.41 20z\"/>\n",
              "  </svg>\n",
              "      </button>\n",
              "      \n",
              "  <style>\n",
              "    .colab-df-container {\n",
              "      display:flex;\n",
              "      flex-wrap:wrap;\n",
              "      gap: 12px;\n",
              "    }\n",
              "\n",
              "    .colab-df-convert {\n",
              "      background-color: #E8F0FE;\n",
              "      border: none;\n",
              "      border-radius: 50%;\n",
              "      cursor: pointer;\n",
              "      display: none;\n",
              "      fill: #1967D2;\n",
              "      height: 32px;\n",
              "      padding: 0 0 0 0;\n",
              "      width: 32px;\n",
              "    }\n",
              "\n",
              "    .colab-df-convert:hover {\n",
              "      background-color: #E2EBFA;\n",
              "      box-shadow: 0px 1px 2px rgba(60, 64, 67, 0.3), 0px 1px 3px 1px rgba(60, 64, 67, 0.15);\n",
              "      fill: #174EA6;\n",
              "    }\n",
              "\n",
              "    [theme=dark] .colab-df-convert {\n",
              "      background-color: #3B4455;\n",
              "      fill: #D2E3FC;\n",
              "    }\n",
              "\n",
              "    [theme=dark] .colab-df-convert:hover {\n",
              "      background-color: #434B5C;\n",
              "      box-shadow: 0px 1px 3px 1px rgba(0, 0, 0, 0.15);\n",
              "      filter: drop-shadow(0px 1px 2px rgba(0, 0, 0, 0.3));\n",
              "      fill: #FFFFFF;\n",
              "    }\n",
              "  </style>\n",
              "\n",
              "      <script>\n",
              "        const buttonEl =\n",
              "          document.querySelector('#df-0bc852f1-4fb1-4296-97c0-2a16325216f4 button.colab-df-convert');\n",
              "        buttonEl.style.display =\n",
              "          google.colab.kernel.accessAllowed ? 'block' : 'none';\n",
              "\n",
              "        async function convertToInteractive(key) {\n",
              "          const element = document.querySelector('#df-0bc852f1-4fb1-4296-97c0-2a16325216f4');\n",
              "          const dataTable =\n",
              "            await google.colab.kernel.invokeFunction('convertToInteractive',\n",
              "                                                     [key], {});\n",
              "          if (!dataTable) return;\n",
              "\n",
              "          const docLinkHtml = 'Like what you see? Visit the ' +\n",
              "            '<a target=\"_blank\" href=https://colab.research.google.com/notebooks/data_table.ipynb>data table notebook</a>'\n",
              "            + ' to learn more about interactive tables.';\n",
              "          element.innerHTML = '';\n",
              "          dataTable['output_type'] = 'display_data';\n",
              "          await google.colab.output.renderOutput(dataTable, element);\n",
              "          const docLink = document.createElement('div');\n",
              "          docLink.innerHTML = docLinkHtml;\n",
              "          element.appendChild(docLink);\n",
              "        }\n",
              "      </script>\n",
              "    </div>\n",
              "  </div>\n",
              "  "
            ],
            "text/plain": [
              "               age    education  ...      glucose   TenYearCHD\n",
              "count  3368.000000  3368.000000  ...  3368.000000  3368.000000\n",
              "mean     49.543646     1.971200  ...    81.692993     0.151425\n",
              "std       8.603941     1.005805  ...    23.198838     0.358516\n",
              "min      32.000000     1.000000  ...    40.000000     0.000000\n",
              "25%      42.000000     1.000000  ...    72.000000     0.000000\n",
              "50%      49.000000     2.000000  ...    78.000000     0.000000\n",
              "75%      56.000000     3.000000  ...    85.000000     0.000000\n",
              "max      70.000000     4.000000  ...   394.000000     1.000000\n",
              "\n",
              "[8 rows x 14 columns]"
            ]
          },
          "metadata": {},
          "execution_count": 16
        }
      ]
    },
    {
      "cell_type": "markdown",
      "source": [
        "Observations :\n",
        "\n",
        "Some the features are Discrete so let us analyze continuous ones\n",
        "\n",
        "Age : We can see that Min. age of subject found in given records is 32 while Max. being 70. So our values are ranging from 32 to 70.\n",
        "\n",
        "cigsPerDay : Subject smoking Cig. per day is as low as nill while we have 70 Cigs. per day making the Peak.\n",
        "\n",
        "totChol : Min. Cholesterol level recorded in our dataset is 107 while Max. is 696.\n",
        "\n",
        "sysBP : Min. Systolic Blood Pressure observed in Subject is 83 while Max. is 295.\n",
        "\n",
        "diaBP : Min. Diastolic Blood Pressure observed in Subject is 48 while Max. is 142.\n",
        "\n",
        "BMI : Body Mass Index in our dataset ranges from 15.96 to 56.80.\n",
        "\n",
        "heartRate : Observed Heartrate in our case study is 44 to 143.\n",
        "\n",
        "glucose : Glucose sugar level range is 40 to 394\n",
        "\n",
        "\n",
        "\n"
      ],
      "metadata": {
        "id": "VYW35dWi2ua3"
      }
    },
    {
      "cell_type": "code",
      "source": [
        "#CHD by Gender Viz.\n",
        "\n",
        "sns.catplot(x='sex', hue='TenYearCHD', data=data, kind='count', palette='Dark2', height=6, legend=False)\n",
        "plt.xlabel('Gender')\n",
        "plt.xticks(ticks=[0,1], labels=['Female', 'Male'])\n",
        "plt.ylabel('No. of Patients')\n",
        "plt.legend(['Neg.', 'Pos.'])\n",
        "plt.title('CHD by Gender')"
      ],
      "metadata": {
        "colab": {
          "base_uri": "https://localhost:8080/",
          "height": 474
        },
        "id": "yhs9ZteF5JwU",
        "outputId": "d66f4d52-67cb-451a-ee41-1de527e030f4"
      },
      "execution_count": 17,
      "outputs": [
        {
          "output_type": "execute_result",
          "data": {
            "text/plain": [
              "Text(0.5, 1.0, 'CHD by Gender')"
            ]
          },
          "metadata": {},
          "execution_count": 17
        },
        {
          "output_type": "display_data",
          "data": {
            "image/png": "[encoded data removed]",
            "text/plain": [
              "<Figure size 432x432 with 1 Axes>"
            ]
          },
          "metadata": {
            "needs_background": "light"
          }
        }
      ]
    },
    {
      "cell_type": "markdown",
      "source": [
        "Observations :\n",
        "\n",
        "Above Bivariate Analysis plot depicts Gender wise absence / presence of Chronic Heart Disease (CHD).\n",
        "\n",
        "Observations tells us that we've Excessive number of people who are not suffering from CHD.\n",
        "\n",
        "Negative : Approx. 80 to 90% of Females are falling in Negative Category while Approx. 60 to 70% of Males are in Negative Slot.\n",
        "\n",
        "Positive : While Approx. 10% of Females & Males are suffering from CHD.\n",
        "\n",
        "By this we can say that our Dataset is Imbalanced where Approx. 80 to 90% are Negative Classifications and Approx. 10 to 15% are Positive Classes."
      ],
      "metadata": {
        "id": "GRIwC7LKVzhg"
      }
    },
    {
      "cell_type": "code",
      "source": [
        "sns.displot(data['age'], bins=15, kde=True, color='maroon')\n",
        "plt.ylabel('Count')\n",
        "plt.title('Agewise distribution of the patients')"
      ],
      "metadata": {
        "colab": {
          "base_uri": "https://localhost:8080/",
          "height": 402
        },
        "id": "kNj9aySmWcRo",
        "outputId": "4393d633-8ca4-4916-f81f-85e0badd905d"
      },
      "execution_count": 18,
      "outputs": [
        {
          "output_type": "execute_result",
          "data": {
            "text/plain": [
              "Text(0.5, 1.0, 'Agewise distribution of the patients')"
            ]
          },
          "metadata": {},
          "execution_count": 18
        },
        {
          "output_type": "display_data",
          "data": {
            "image/png": "[encoded data removed]",
            "text/plain": [
              "<Figure size 360x360 with 1 Axes>"
            ]
          },
          "metadata": {
            "needs_background": "light"
          }
        }
      ]
    },
    {
      "cell_type": "markdown",
      "source": [
        "Observation :\n",
        "\n",
        "Age ranging from 40 to 50 are in Majority followed by 50 to 70.\n",
        "\n",
        "Let us define a user-defined Function to encode Age."
      ],
      "metadata": {
        "id": "8BZFTB9OWsx0"
      }
    },
    {
      "cell_type": "code",
      "source": [
        "#User-defined function\n",
        "\n",
        "#Age encoding\n",
        "def encode_age(data):\n",
        "    if data <= 40:\n",
        "        return 0\n",
        "    if data > 40 and data <=55:\n",
        "        return 1\n",
        "    else:\n",
        "        return 2    \n",
        "\n",
        "#heart rate encoder\n",
        "def heartrate_enc(data):\n",
        "    if data <= 60:\n",
        "        return 0\n",
        "    if data > 60 and data <=100:\n",
        "        return 1\n",
        "    else:\n",
        "        return 2\n",
        "\n",
        "#applying functions\n",
        "data['enc_hr'] = data['heartRate'].apply(heartrate_enc)\n",
        "data['encode_age'] = data['age'].apply(lambda x : encode_age(x))"
      ],
      "metadata": {
        "id": "0oSIT0mqW6HI"
      },
      "execution_count": 19,
      "outputs": []
    },
    {
      "cell_type": "markdown",
      "source": [
        "Above Functions will Encode Age and Heart Rate.\n",
        "We can encode the Age Group Further :\n",
        "\n",
        "Subject with Age <= 40 are Adults.\n",
        "\n",
        "Subject with Age > 40 and <= 55 are Middle-Aged Adult.\n",
        "\n",
        "Subject Above 55 will fall in Senior Category.\n",
        "\n",
        "We'll Encode HeartRate as follows:\n",
        "\n",
        "HeartRate <= 60 is Low / Resting HeartBeat.\n",
        "\n",
        "HeartRate between 60 to 100 is considered as Normal.\n",
        "\n",
        "While, HeartRate above 100 is High.\n"
      ],
      "metadata": {
        "id": "AACLROMMXOuc"
      }
    },
    {
      "cell_type": "code",
      "source": [
        "#HeartRate (Grouped) Count\n",
        "\n",
        "plt.figure(figsize=(20,8))\n",
        "plt.subplots_adjust(wspace=0.3, hspace=0.3)\n",
        "\n",
        "plt.subplot(1, 2, 1)\n",
        "sns.countplot(data['enc_hr'], palette='Wistia')\n",
        "plt.title('HeartRate (Grouped)')\n",
        "plt.xticks([0,1,2], ['Low', 'Normal', 'High'])\n",
        "\n",
        "plt.subplot(1, 2, 2)\n",
        "sns.countplot(data['encode_age'])\n",
        "plt.xlabel('Age Group')\n",
        "plt.xticks(ticks=[0,1,2], labels=['Adults', 'Middle-Aged', 'Senior'])\n",
        "plt.title('Count by Age Group')\n"
      ],
      "metadata": {
        "colab": {
          "base_uri": "https://localhost:8080/",
          "height": 621
        },
        "id": "yevtSnHJXdwy",
        "outputId": "06e09e5d-a618-453f-9fca-f3b19bd948fa"
      },
      "execution_count": 20,
      "outputs": [
        {
          "output_type": "stream",
          "name": "stderr",
          "text": [
            "/usr/local/lib/python3.7/dist-packages/seaborn/_decorators.py:43: FutureWarning: Pass the following variable as a keyword arg: x. From version 0.12, the only valid positional argument will be `data`, and passing other arguments without an explicit keyword will result in an error or misinterpretation.\n",
            "  FutureWarning\n",
            "/usr/local/lib/python3.7/dist-packages/seaborn/_decorators.py:43: FutureWarning: Pass the following variable as a keyword arg: x. From version 0.12, the only valid positional argument will be `data`, and passing other arguments without an explicit keyword will result in an error or misinterpretation.\n",
            "  FutureWarning\n"
          ]
        },
        {
          "output_type": "execute_result",
          "data": {
            "text/plain": [
              "Text(0.5, 1.0, 'Count by Age Group')"
            ]
          },
          "metadata": {},
          "execution_count": 20
        },
        {
          "output_type": "display_data",
          "data": {
            "image/png": "[encoded data removed]",
            "text/plain": [
              "<Figure size 1440x576 with 2 Axes>"
            ]
          },
          "metadata": {
            "needs_background": "light"
          }
        }
      ]
    },
    {
      "cell_type": "markdown",
      "source": [
        "We can observe that Subject with Normal HeartRate are in Majority followed by \n",
        "Resting / Low HeartRate and High HeartRate.\n",
        "\n",
        "We've more number of Middle-Aged Adults in our Dataset followed by Seniors And then Adults"
      ],
      "metadata": {
        "id": "96ywXkQGXzW-"
      }
    },
    {
      "cell_type": "code",
      "source": [
        "#Violin Plot of Cigsperday by age group\n",
        "\n",
        "sns.catplot(data=data, x='encode_age', y='cigsPerDay', kind='violin', size=7, palette='Greys_r')\n",
        "plt.xlabel('Age Group / Gender')\n",
        "plt.ylabel('Cigs. / Day')\n",
        "plt.xticks(ticks=[0,1,2], labels=['Adults', 'Middle-Aged', 'Senior'])\n",
        "plt.title('Cigs. per day by Age Group')\n"
      ],
      "metadata": {
        "colab": {
          "base_uri": "https://localhost:8080/",
          "height": 580
        },
        "id": "G5IrZcmxY_qW",
        "outputId": "a7187a43-9a0e-4b92-b43e-0a1b78bedeac"
      },
      "execution_count": 21,
      "outputs": [
        {
          "output_type": "stream",
          "name": "stderr",
          "text": [
            "/usr/local/lib/python3.7/dist-packages/seaborn/categorical.py:3750: UserWarning: The `size` parameter has been renamed to `height`; please update your code.\n",
            "  warnings.warn(msg, UserWarning)\n"
          ]
        },
        {
          "output_type": "execute_result",
          "data": {
            "text/plain": [
              "Text(0.5, 1.0, 'Cigs. per day by Age Group')"
            ]
          },
          "metadata": {},
          "execution_count": 21
        },
        {
          "output_type": "display_data",
          "data": {
            "image/png": "[encoded data removed]",
            "text/plain": [
              "<Figure size 504x504 with 1 Axes>"
            ]
          },
          "metadata": {
            "needs_background": "light"
          }
        }
      ]
    },
    {
      "cell_type": "markdown",
      "source": [
        "Observation :\n",
        "\n",
        "Adults : In Adults we can observe that Median values has Lower Kernel Density followed by 75% IQR's Density. While, 25% IQR marks the Higher Kernel Density.\n",
        "\n",
        "Middle-Aged : In Middle-Aged Group we can observe that 25% IQR & Median has Higher Kernel Density while 75% IQR has a quite Lower Kernel Density.\n",
        "\n",
        "Senior : In Seniority section we can observe that Median and 25% IQR are Closely Intact to each other having Higher Kernel Density, while 75% IQR got Lower Kernel Density."
      ],
      "metadata": {
        "id": "N8ol1quCZp5N"
      }
    },
    {
      "cell_type": "code",
      "source": [
        "#Target Class count\n",
        "\n",
        "plt.figure(figsize=(8,8))\n",
        "plt.pie(data['TenYearCHD'].value_counts(), labels=['Neg.','Pos.'], autopct='%1.2f%%', explode=[0,0.2], shadow=True, colors=['crimson','gold'])\n",
        "my_circle = plt.Circle( (0,0), 0.4, color='white')\n",
        "p = plt.gcf()\n",
        "p.gca().add_artist(my_circle)\n",
        "plt.title('Target Class Count')"
      ],
      "metadata": {
        "colab": {
          "base_uri": "https://localhost:8080/",
          "height": 499
        },
        "id": "jErcsLEiZ8hp",
        "outputId": "6e47b60f-dde3-4b63-c4f1-04dc513d2d4e"
      },
      "execution_count": 22,
      "outputs": [
        {
          "output_type": "execute_result",
          "data": {
            "text/plain": [
              "Text(0.5, 1.0, 'Target Class Count')"
            ]
          },
          "metadata": {},
          "execution_count": 22
        },
        {
          "output_type": "display_data",
          "data": {
            "image/png": "[encoded data removed]",
            "text/plain": [
              "<Figure size 576x576 with 1 Axes>"
            ]
          },
          "metadata": {}
        }
      ]
    },
    {
      "cell_type": "markdown",
      "source": [
        "Observations :\n",
        "\n",
        "We can see that we've Imbalanced Dataset here having ratio of 85:15 where Positive Class is Minor.\n",
        "\n",
        "We'll need to balance the Dataset in this case to get the best out of it.\n",
        "\n"
      ],
      "metadata": {
        "id": "wDXD4l4Yaafv"
      }
    },
    {
      "cell_type": "code",
      "metadata": {
        "colab": {
          "base_uri": "https://localhost:8080/",
          "height": 863
        },
        "id": "tWu-eUp62FK0",
        "outputId": "0770a317-c4ba-4ee2-bf24-fe0a0efc9fad"
      },
      "source": [
        "# Correlation\n",
        "df_corr = data.corr()\n",
        "\n",
        "plt.figure(figsize=(15, 15))\n",
        "sns.heatmap(df_corr, cbar = True,  square = True, annot=True, fmt= '.2f',annot_kws={'size': 15},\n",
        "           cmap= 'coolwarm')\n",
        "plt.title('Correlation between features');\n"
      ],
      "execution_count": 23,
      "outputs": [
        {
          "output_type": "display_data",
          "data": {
            "image/png": "[encoded data removed]",
            "text/plain": [
              "<Figure size 1080x1080 with 2 Axes>"
            ]
          },
          "metadata": {
            "needs_background": "light"
          }
        }
      ]
    },
    {
      "cell_type": "markdown",
      "source": [
        "Observations :\n",
        "There are highly positive correlation between 3 features sysBP, diaBP, and prevalentHyp, especially sysBP with the 2 others. We will drop sysBP."
      ],
      "metadata": {
        "id": "xvyHk1n0ia7O"
      }
    },
    {
      "cell_type": "code",
      "source": [
        "#We're dropping few features here because they are Positively Correlated (As we saw in Correlation Plot)\n",
        "data.drop(\"sysBP\", axis=1, inplace=True)\n",
        "data.drop(\"encode_age\", axis=1, inplace=True)\n",
        "data.drop(\"enc_hr\", axis=1, inplace=True)\n",
        "data.head()"
      ],
      "metadata": {
        "colab": {
          "base_uri": "https://localhost:8080/",
          "height": 206
        },
        "id": "LjfXWXnenBwJ",
        "outputId": "bc9cb2e6-1abf-4e66-f15e-ecb2a2aded89"
      },
      "execution_count": 24,
      "outputs": [
        {
          "output_type": "execute_result",
          "data": {
            "text/html": [
              "\n",
              "  <div id=\"df-7b732fca-6643-4877-bb25-e683e7b9638b\">\n",
              "    <div class=\"colab-df-container\">\n",
              "      <div>\n",
              "<style scoped>\n",
              "    .dataframe tbody tr th:only-of-type {\n",
              "        vertical-align: middle;\n",
              "    }\n",
              "\n",
              "    .dataframe tbody tr th {\n",
              "        vertical-align: top;\n",
              "    }\n",
              "\n",
              "    .dataframe thead th {\n",
              "        text-align: right;\n",
              "    }\n",
              "</style>\n",
              "<table border=\"1\" class=\"dataframe\">\n",
              "  <thead>\n",
              "    <tr style=\"text-align: right;\">\n",
              "      <th></th>\n",
              "      <th>age</th>\n",
              "      <th>education</th>\n",
              "      <th>sex</th>\n",
              "      <th>is_smoking</th>\n",
              "      <th>cigsPerDay</th>\n",
              "      <th>BPMeds</th>\n",
              "      <th>prevalentStroke</th>\n",
              "      <th>prevalentHyp</th>\n",
              "      <th>diabetes</th>\n",
              "      <th>totChol</th>\n",
              "      <th>diaBP</th>\n",
              "      <th>BMI</th>\n",
              "      <th>heartRate</th>\n",
              "      <th>glucose</th>\n",
              "      <th>TenYearCHD</th>\n",
              "    </tr>\n",
              "  </thead>\n",
              "  <tbody>\n",
              "    <tr>\n",
              "      <th>0</th>\n",
              "      <td>64</td>\n",
              "      <td>2.0</td>\n",
              "      <td>F</td>\n",
              "      <td>YES</td>\n",
              "      <td>3.0</td>\n",
              "      <td>0.0</td>\n",
              "      <td>0</td>\n",
              "      <td>0</td>\n",
              "      <td>0</td>\n",
              "      <td>221.0</td>\n",
              "      <td>85.0</td>\n",
              "      <td>25.38</td>\n",
              "      <td>90.0</td>\n",
              "      <td>80.0</td>\n",
              "      <td>1</td>\n",
              "    </tr>\n",
              "    <tr>\n",
              "      <th>1</th>\n",
              "      <td>36</td>\n",
              "      <td>4.0</td>\n",
              "      <td>M</td>\n",
              "      <td>NO</td>\n",
              "      <td>0.0</td>\n",
              "      <td>0.0</td>\n",
              "      <td>0</td>\n",
              "      <td>1</td>\n",
              "      <td>0</td>\n",
              "      <td>212.0</td>\n",
              "      <td>98.0</td>\n",
              "      <td>29.77</td>\n",
              "      <td>72.0</td>\n",
              "      <td>75.0</td>\n",
              "      <td>0</td>\n",
              "    </tr>\n",
              "    <tr>\n",
              "      <th>2</th>\n",
              "      <td>46</td>\n",
              "      <td>1.0</td>\n",
              "      <td>F</td>\n",
              "      <td>YES</td>\n",
              "      <td>10.0</td>\n",
              "      <td>0.0</td>\n",
              "      <td>0</td>\n",
              "      <td>0</td>\n",
              "      <td>0</td>\n",
              "      <td>250.0</td>\n",
              "      <td>71.0</td>\n",
              "      <td>20.35</td>\n",
              "      <td>88.0</td>\n",
              "      <td>94.0</td>\n",
              "      <td>0</td>\n",
              "    </tr>\n",
              "    <tr>\n",
              "      <th>3</th>\n",
              "      <td>50</td>\n",
              "      <td>1.0</td>\n",
              "      <td>M</td>\n",
              "      <td>YES</td>\n",
              "      <td>20.0</td>\n",
              "      <td>0.0</td>\n",
              "      <td>0</td>\n",
              "      <td>1</td>\n",
              "      <td>0</td>\n",
              "      <td>233.0</td>\n",
              "      <td>88.0</td>\n",
              "      <td>28.26</td>\n",
              "      <td>68.0</td>\n",
              "      <td>94.0</td>\n",
              "      <td>1</td>\n",
              "    </tr>\n",
              "    <tr>\n",
              "      <th>4</th>\n",
              "      <td>64</td>\n",
              "      <td>1.0</td>\n",
              "      <td>F</td>\n",
              "      <td>YES</td>\n",
              "      <td>30.0</td>\n",
              "      <td>0.0</td>\n",
              "      <td>0</td>\n",
              "      <td>0</td>\n",
              "      <td>0</td>\n",
              "      <td>241.0</td>\n",
              "      <td>85.0</td>\n",
              "      <td>26.42</td>\n",
              "      <td>70.0</td>\n",
              "      <td>77.0</td>\n",
              "      <td>0</td>\n",
              "    </tr>\n",
              "  </tbody>\n",
              "</table>\n",
              "</div>\n",
              "      <button class=\"colab-df-convert\" onclick=\"convertToInteractive('df-7b732fca-6643-4877-bb25-e683e7b9638b')\"\n",
              "              title=\"Convert this dataframe to an interactive table.\"\n",
              "              style=\"display:none;\">\n",
              "        \n",
              "  <svg xmlns=\"http://www.w3.org/2000/svg\" height=\"24px\"viewBox=\"0 0 24 24\"\n",
              "       width=\"24px\">\n",
              "    <path d=\"M0 0h24v24H0V0z\" fill=\"none\"/>\n",
              "    <path d=\"M18.56 5.44l.94 2.06.94-2.06 2.06-.94-2.06-.94-.94-2.06-.94 2.06-2.06.94zm-11 1L8.5 8.5l.94-2.06 2.06-.94-2.06-.94L8.5 2.5l-.94 2.06-2.06.94zm10 10l.94 2.06.94-2.06 2.06-.94-2.06-.94-.94-2.06-.94 2.06-2.06.94z\"/><path d=\"M17.41 7.96l-1.37-1.37c-.4-.4-.92-.59-1.43-.59-.52 0-1.04.2-1.43.59L10.3 9.45l-7.72 7.72c-.78.78-.78 2.05 0 2.83L4 21.41c.39.39.9.59 1.41.59.51 0 1.02-.2 1.41-.59l7.78-7.78 2.81-2.81c.8-.78.8-2.07 0-2.86zM5.41 20L4 18.59l7.72-7.72 1.47 1.35L5.41 20z\"/>\n",
              "  </svg>\n",
              "      </button>\n",
              "      \n",
              "  <style>\n",
              "    .colab-df-container {\n",
              "      display:flex;\n",
              "      flex-wrap:wrap;\n",
              "      gap: 12px;\n",
              "    }\n",
              "\n",
              "    .colab-df-convert {\n",
              "      background-color: #E8F0FE;\n",
              "      border: none;\n",
              "      border-radius: 50%;\n",
              "      cursor: pointer;\n",
              "      display: none;\n",
              "      fill: #1967D2;\n",
              "      height: 32px;\n",
              "      padding: 0 0 0 0;\n",
              "      width: 32px;\n",
              "    }\n",
              "\n",
              "    .colab-df-convert:hover {\n",
              "      background-color: #E2EBFA;\n",
              "      box-shadow: 0px 1px 2px rgba(60, 64, 67, 0.3), 0px 1px 3px 1px rgba(60, 64, 67, 0.15);\n",
              "      fill: #174EA6;\n",
              "    }\n",
              "\n",
              "    [theme=dark] .colab-df-convert {\n",
              "      background-color: #3B4455;\n",
              "      fill: #D2E3FC;\n",
              "    }\n",
              "\n",
              "    [theme=dark] .colab-df-convert:hover {\n",
              "      background-color: #434B5C;\n",
              "      box-shadow: 0px 1px 3px 1px rgba(0, 0, 0, 0.15);\n",
              "      filter: drop-shadow(0px 1px 2px rgba(0, 0, 0, 0.3));\n",
              "      fill: #FFFFFF;\n",
              "    }\n",
              "  </style>\n",
              "\n",
              "      <script>\n",
              "        const buttonEl =\n",
              "          document.querySelector('#df-7b732fca-6643-4877-bb25-e683e7b9638b button.colab-df-convert');\n",
              "        buttonEl.style.display =\n",
              "          google.colab.kernel.accessAllowed ? 'block' : 'none';\n",
              "\n",
              "        async function convertToInteractive(key) {\n",
              "          const element = document.querySelector('#df-7b732fca-6643-4877-bb25-e683e7b9638b');\n",
              "          const dataTable =\n",
              "            await google.colab.kernel.invokeFunction('convertToInteractive',\n",
              "                                                     [key], {});\n",
              "          if (!dataTable) return;\n",
              "\n",
              "          const docLinkHtml = 'Like what you see? Visit the ' +\n",
              "            '<a target=\"_blank\" href=https://colab.research.google.com/notebooks/data_table.ipynb>data table notebook</a>'\n",
              "            + ' to learn more about interactive tables.';\n",
              "          element.innerHTML = '';\n",
              "          dataTable['output_type'] = 'display_data';\n",
              "          await google.colab.output.renderOutput(dataTable, element);\n",
              "          const docLink = document.createElement('div');\n",
              "          docLink.innerHTML = docLinkHtml;\n",
              "          element.appendChild(docLink);\n",
              "        }\n",
              "      </script>\n",
              "    </div>\n",
              "  </div>\n",
              "  "
            ],
            "text/plain": [
              "   age  education sex is_smoking  ...    BMI  heartRate  glucose  TenYearCHD\n",
              "0   64        2.0   F        YES  ...  25.38       90.0     80.0           1\n",
              "1   36        4.0   M         NO  ...  29.77       72.0     75.0           0\n",
              "2   46        1.0   F        YES  ...  20.35       88.0     94.0           0\n",
              "3   50        1.0   M        YES  ...  28.26       68.0     94.0           1\n",
              "4   64        1.0   F        YES  ...  26.42       70.0     77.0           0\n",
              "\n",
              "[5 rows x 15 columns]"
            ]
          },
          "metadata": {},
          "execution_count": 24
        }
      ]
    },
    {
      "cell_type": "code",
      "source": [
        "# Correlation\n",
        "df_corr = data.corr()\n",
        "\n",
        "plt.figure(figsize=(15, 15))\n",
        "sns.heatmap(df_corr, cbar = True,  square = True, annot=True, fmt= '.2f',annot_kws={'size': 15},\n",
        "           cmap= 'coolwarm')\n",
        "plt.title('Correlation between features');"
      ],
      "metadata": {
        "colab": {
          "base_uri": "https://localhost:8080/",
          "height": 863
        },
        "id": "CjtDtAcbnBo-",
        "outputId": "f878c9fe-e05e-417a-f67f-bd2dedd7c76a"
      },
      "execution_count": 25,
      "outputs": [
        {
          "output_type": "display_data",
          "data": {
            "image/png": "[encoded data removed]",
            "text/plain": [
              "<Figure size 1080x1080 with 2 Axes>"
            ]
          },
          "metadata": {
            "needs_background": "light"
          }
        }
      ]
    },
    {
      "cell_type": "markdown",
      "metadata": {
        "id": "c9G0Z7QOdXEu"
      },
      "source": [
        "##Dealing with object type variables "
      ]
    },
    {
      "cell_type": "code",
      "source": [
        "data.info()"
      ],
      "metadata": {
        "colab": {
          "base_uri": "https://localhost:8080/"
        },
        "id": "WRjXhZgcEFhp",
        "outputId": "c33aa339-49f6-47c9-e258-553148815d06"
      },
      "execution_count": 26,
      "outputs": [
        {
          "output_type": "stream",
          "name": "stdout",
          "text": [
            "<class 'pandas.core.frame.DataFrame'>\n",
            "Int64Index: 3368 entries, 0 to 3389\n",
            "Data columns (total 15 columns):\n",
            " #   Column           Non-Null Count  Dtype  \n",
            "---  ------           --------------  -----  \n",
            " 0   age              3368 non-null   int64  \n",
            " 1   education        3368 non-null   float64\n",
            " 2   sex              3368 non-null   object \n",
            " 3   is_smoking       3368 non-null   object \n",
            " 4   cigsPerDay       3368 non-null   float64\n",
            " 5   BPMeds           3368 non-null   float64\n",
            " 6   prevalentStroke  3368 non-null   int64  \n",
            " 7   prevalentHyp     3368 non-null   int64  \n",
            " 8   diabetes         3368 non-null   int64  \n",
            " 9   totChol          3368 non-null   float64\n",
            " 10  diaBP            3368 non-null   float64\n",
            " 11  BMI              3368 non-null   float64\n",
            " 12  heartRate        3368 non-null   float64\n",
            " 13  glucose          3368 non-null   float64\n",
            " 14  TenYearCHD       3368 non-null   int64  \n",
            "dtypes: float64(8), int64(5), object(2)\n",
            "memory usage: 581.0+ KB\n"
          ]
        }
      ]
    },
    {
      "cell_type": "code",
      "source": [
        "## Encoding Assortment with numerical values\n",
        "data['sex']=data['sex'].apply(lambda x: 1 if x=='M' else 0)\n",
        "data['is_smoking']=data['is_smoking'].apply(lambda x: 1 if x=='YES' else 0)"
      ],
      "metadata": {
        "id": "E0hQQ02DFNTg"
      },
      "execution_count": 28,
      "outputs": []
    },
    {
      "cell_type": "code",
      "source": [
        "data.head()"
      ],
      "metadata": {
        "colab": {
          "base_uri": "https://localhost:8080/",
          "height": 206
        },
        "id": "WFcFCJX2F_Ne",
        "outputId": "6375b101-bf2e-4ae5-c4b4-6c51f804c9cc"
      },
      "execution_count": 29,
      "outputs": [
        {
          "output_type": "execute_result",
          "data": {
            "text/html": [
              "\n",
              "  <div id=\"df-f23d9c49-d07c-4879-aa84-93850217b226\">\n",
              "    <div class=\"colab-df-container\">\n",
              "      <div>\n",
              "<style scoped>\n",
              "    .dataframe tbody tr th:only-of-type {\n",
              "        vertical-align: middle;\n",
              "    }\n",
              "\n",
              "    .dataframe tbody tr th {\n",
              "        vertical-align: top;\n",
              "    }\n",
              "\n",
              "    .dataframe thead th {\n",
              "        text-align: right;\n",
              "    }\n",
              "</style>\n",
              "<table border=\"1\" class=\"dataframe\">\n",
              "  <thead>\n",
              "    <tr style=\"text-align: right;\">\n",
              "      <th></th>\n",
              "      <th>age</th>\n",
              "      <th>education</th>\n",
              "      <th>sex</th>\n",
              "      <th>is_smoking</th>\n",
              "      <th>cigsPerDay</th>\n",
              "      <th>BPMeds</th>\n",
              "      <th>prevalentStroke</th>\n",
              "      <th>prevalentHyp</th>\n",
              "      <th>diabetes</th>\n",
              "      <th>totChol</th>\n",
              "      <th>diaBP</th>\n",
              "      <th>BMI</th>\n",
              "      <th>heartRate</th>\n",
              "      <th>glucose</th>\n",
              "      <th>TenYearCHD</th>\n",
              "    </tr>\n",
              "  </thead>\n",
              "  <tbody>\n",
              "    <tr>\n",
              "      <th>0</th>\n",
              "      <td>64</td>\n",
              "      <td>2.0</td>\n",
              "      <td>0</td>\n",
              "      <td>1</td>\n",
              "      <td>3.0</td>\n",
              "      <td>0.0</td>\n",
              "      <td>0</td>\n",
              "      <td>0</td>\n",
              "      <td>0</td>\n",
              "      <td>221.0</td>\n",
              "      <td>85.0</td>\n",
              "      <td>25.38</td>\n",
              "      <td>90.0</td>\n",
              "      <td>80.0</td>\n",
              "      <td>1</td>\n",
              "    </tr>\n",
              "    <tr>\n",
              "      <th>1</th>\n",
              "      <td>36</td>\n",
              "      <td>4.0</td>\n",
              "      <td>0</td>\n",
              "      <td>0</td>\n",
              "      <td>0.0</td>\n",
              "      <td>0.0</td>\n",
              "      <td>0</td>\n",
              "      <td>1</td>\n",
              "      <td>0</td>\n",
              "      <td>212.0</td>\n",
              "      <td>98.0</td>\n",
              "      <td>29.77</td>\n",
              "      <td>72.0</td>\n",
              "      <td>75.0</td>\n",
              "      <td>0</td>\n",
              "    </tr>\n",
              "    <tr>\n",
              "      <th>2</th>\n",
              "      <td>46</td>\n",
              "      <td>1.0</td>\n",
              "      <td>0</td>\n",
              "      <td>1</td>\n",
              "      <td>10.0</td>\n",
              "      <td>0.0</td>\n",
              "      <td>0</td>\n",
              "      <td>0</td>\n",
              "      <td>0</td>\n",
              "      <td>250.0</td>\n",
              "      <td>71.0</td>\n",
              "      <td>20.35</td>\n",
              "      <td>88.0</td>\n",
              "      <td>94.0</td>\n",
              "      <td>0</td>\n",
              "    </tr>\n",
              "    <tr>\n",
              "      <th>3</th>\n",
              "      <td>50</td>\n",
              "      <td>1.0</td>\n",
              "      <td>0</td>\n",
              "      <td>1</td>\n",
              "      <td>20.0</td>\n",
              "      <td>0.0</td>\n",
              "      <td>0</td>\n",
              "      <td>1</td>\n",
              "      <td>0</td>\n",
              "      <td>233.0</td>\n",
              "      <td>88.0</td>\n",
              "      <td>28.26</td>\n",
              "      <td>68.0</td>\n",
              "      <td>94.0</td>\n",
              "      <td>1</td>\n",
              "    </tr>\n",
              "    <tr>\n",
              "      <th>4</th>\n",
              "      <td>64</td>\n",
              "      <td>1.0</td>\n",
              "      <td>0</td>\n",
              "      <td>1</td>\n",
              "      <td>30.0</td>\n",
              "      <td>0.0</td>\n",
              "      <td>0</td>\n",
              "      <td>0</td>\n",
              "      <td>0</td>\n",
              "      <td>241.0</td>\n",
              "      <td>85.0</td>\n",
              "      <td>26.42</td>\n",
              "      <td>70.0</td>\n",
              "      <td>77.0</td>\n",
              "      <td>0</td>\n",
              "    </tr>\n",
              "  </tbody>\n",
              "</table>\n",
              "</div>\n",
              "      <button class=\"colab-df-convert\" onclick=\"convertToInteractive('df-f23d9c49-d07c-4879-aa84-93850217b226')\"\n",
              "              title=\"Convert this dataframe to an interactive table.\"\n",
              "              style=\"display:none;\">\n",
              "        \n",
              "  <svg xmlns=\"http://www.w3.org/2000/svg\" height=\"24px\"viewBox=\"0 0 24 24\"\n",
              "       width=\"24px\">\n",
              "    <path d=\"M0 0h24v24H0V0z\" fill=\"none\"/>\n",
              "    <path d=\"M18.56 5.44l.94 2.06.94-2.06 2.06-.94-2.06-.94-.94-2.06-.94 2.06-2.06.94zm-11 1L8.5 8.5l.94-2.06 2.06-.94-2.06-.94L8.5 2.5l-.94 2.06-2.06.94zm10 10l.94 2.06.94-2.06 2.06-.94-2.06-.94-.94-2.06-.94 2.06-2.06.94z\"/><path d=\"M17.41 7.96l-1.37-1.37c-.4-.4-.92-.59-1.43-.59-.52 0-1.04.2-1.43.59L10.3 9.45l-7.72 7.72c-.78.78-.78 2.05 0 2.83L4 21.41c.39.39.9.59 1.41.59.51 0 1.02-.2 1.41-.59l7.78-7.78 2.81-2.81c.8-.78.8-2.07 0-2.86zM5.41 20L4 18.59l7.72-7.72 1.47 1.35L5.41 20z\"/>\n",
              "  </svg>\n",
              "      </button>\n",
              "      \n",
              "  <style>\n",
              "    .colab-df-container {\n",
              "      display:flex;\n",
              "      flex-wrap:wrap;\n",
              "      gap: 12px;\n",
              "    }\n",
              "\n",
              "    .colab-df-convert {\n",
              "      background-color: #E8F0FE;\n",
              "      border: none;\n",
              "      border-radius: 50%;\n",
              "      cursor: pointer;\n",
              "      display: none;\n",
              "      fill: #1967D2;\n",
              "      height: 32px;\n",
              "      padding: 0 0 0 0;\n",
              "      width: 32px;\n",
              "    }\n",
              "\n",
              "    .colab-df-convert:hover {\n",
              "      background-color: #E2EBFA;\n",
              "      box-shadow: 0px 1px 2px rgba(60, 64, 67, 0.3), 0px 1px 3px 1px rgba(60, 64, 67, 0.15);\n",
              "      fill: #174EA6;\n",
              "    }\n",
              "\n",
              "    [theme=dark] .colab-df-convert {\n",
              "      background-color: #3B4455;\n",
              "      fill: #D2E3FC;\n",
              "    }\n",
              "\n",
              "    [theme=dark] .colab-df-convert:hover {\n",
              "      background-color: #434B5C;\n",
              "      box-shadow: 0px 1px 3px 1px rgba(0, 0, 0, 0.15);\n",
              "      filter: drop-shadow(0px 1px 2px rgba(0, 0, 0, 0.3));\n",
              "      fill: #FFFFFF;\n",
              "    }\n",
              "  </style>\n",
              "\n",
              "      <script>\n",
              "        const buttonEl =\n",
              "          document.querySelector('#df-f23d9c49-d07c-4879-aa84-93850217b226 button.colab-df-convert');\n",
              "        buttonEl.style.display =\n",
              "          google.colab.kernel.accessAllowed ? 'block' : 'none';\n",
              "\n",
              "        async function convertToInteractive(key) {\n",
              "          const element = document.querySelector('#df-f23d9c49-d07c-4879-aa84-93850217b226');\n",
              "          const dataTable =\n",
              "            await google.colab.kernel.invokeFunction('convertToInteractive',\n",
              "                                                     [key], {});\n",
              "          if (!dataTable) return;\n",
              "\n",
              "          const docLinkHtml = 'Like what you see? Visit the ' +\n",
              "            '<a target=\"_blank\" href=https://colab.research.google.com/notebooks/data_table.ipynb>data table notebook</a>'\n",
              "            + ' to learn more about interactive tables.';\n",
              "          element.innerHTML = '';\n",
              "          dataTable['output_type'] = 'display_data';\n",
              "          await google.colab.output.renderOutput(dataTable, element);\n",
              "          const docLink = document.createElement('div');\n",
              "          docLink.innerHTML = docLinkHtml;\n",
              "          element.appendChild(docLink);\n",
              "        }\n",
              "      </script>\n",
              "    </div>\n",
              "  </div>\n",
              "  "
            ],
            "text/plain": [
              "   age  education  sex  is_smoking  ...    BMI  heartRate  glucose  TenYearCHD\n",
              "0   64        2.0    0           1  ...  25.38       90.0     80.0           1\n",
              "1   36        4.0    0           0  ...  29.77       72.0     75.0           0\n",
              "2   46        1.0    0           1  ...  20.35       88.0     94.0           0\n",
              "3   50        1.0    0           1  ...  28.26       68.0     94.0           1\n",
              "4   64        1.0    0           1  ...  26.42       70.0     77.0           0\n",
              "\n",
              "[5 rows x 15 columns]"
            ]
          },
          "metadata": {},
          "execution_count": 29
        }
      ]
    },
    {
      "cell_type": "markdown",
      "metadata": {
        "id": "sWpE02PYf8Qy"
      },
      "source": [
        "## Data prepation to modeling"
      ]
    },
    {
      "cell_type": "code",
      "metadata": {
        "colab": {
          "base_uri": "https://localhost:8080/"
        },
        "id": "80yO2wuGYjXL",
        "outputId": "8bbf9c93-4312-45c0-aa67-1c951f0ac5ab"
      },
      "source": [
        "data.columns"
      ],
      "execution_count": 30,
      "outputs": [
        {
          "output_type": "execute_result",
          "data": {
            "text/plain": [
              "Index(['age', 'education', 'sex', 'is_smoking', 'cigsPerDay', 'BPMeds',\n",
              "       'prevalentStroke', 'prevalentHyp', 'diabetes', 'totChol', 'diaBP',\n",
              "       'BMI', 'heartRate', 'glucose', 'TenYearCHD'],\n",
              "      dtype='object')"
            ]
          },
          "metadata": {},
          "execution_count": 30
        }
      ]
    },
    {
      "cell_type": "markdown",
      "metadata": {
        "id": "ONwFwHwGhC1F"
      },
      "source": [
        "Splitting target variable from independent variables"
      ]
    },
    {
      "cell_type": "code",
      "metadata": {
        "id": "Pt8THeXzfe9k"
      },
      "source": [
        "target_variable = 'TenYearCHD'\n",
        "X = data.drop([target_variable], axis=1).values\n",
        "y = data[target_variable].values"
      ],
      "execution_count": 31,
      "outputs": []
    },
    {
      "cell_type": "code",
      "metadata": {
        "colab": {
          "base_uri": "https://localhost:8080/"
        },
        "id": "pkMMkLhXhc1l",
        "outputId": "2affff79-b1e7-47d9-e94f-510bcab296e5"
      },
      "source": [
        "X"
      ],
      "execution_count": 32,
      "outputs": [
        {
          "output_type": "execute_result",
          "data": {
            "text/plain": [
              "array([[64.  ,  2.  ,  0.  , ..., 25.38, 90.  , 80.  ],\n",
              "       [36.  ,  4.  ,  0.  , ..., 29.77, 72.  , 75.  ],\n",
              "       [46.  ,  1.  ,  0.  , ..., 20.35, 88.  , 94.  ],\n",
              "       ...,\n",
              "       [44.  ,  3.  ,  0.  , ..., 28.92, 73.  , 72.  ],\n",
              "       [60.  ,  1.  ,  0.  , ..., 23.01, 80.  , 85.  ],\n",
              "       [54.  ,  3.  ,  0.  , ..., 29.88, 79.  , 92.  ]])"
            ]
          },
          "metadata": {},
          "execution_count": 32
        }
      ]
    },
    {
      "cell_type": "code",
      "metadata": {
        "colab": {
          "base_uri": "https://localhost:8080/"
        },
        "id": "59Rp5K07hudC",
        "outputId": "7686fc83-5fce-4bf3-ae07-41de3eaab1ef"
      },
      "source": [
        "y"
      ],
      "execution_count": 33,
      "outputs": [
        {
          "output_type": "execute_result",
          "data": {
            "text/plain": [
              "array([1, 0, 0, ..., 1, 0, 0])"
            ]
          },
          "metadata": {},
          "execution_count": 33
        }
      ]
    },
    {
      "cell_type": "code",
      "source": [
        "#Applying SMOTE\n",
        "num_before = dict(Counter(y))\n",
        "from imblearn.over_sampling import SMOTE\n",
        "\n",
        "smote = SMOTE()\n",
        "\n",
        "# fit predictor and target variable\n",
        "x_smote, y_smote = smote.fit_resample(X,y)\n",
        "\n",
        "print('Original dataset shape', len(data))\n",
        "print('Resampled dataset shape', len(y_smote))\n",
        "num_after =dict(Counter(y_smote))"
      ],
      "metadata": {
        "id": "ne3PgWErxCDn",
        "colab": {
          "base_uri": "https://localhost:8080/"
        },
        "outputId": "ad46a14a-b0cd-47fc-c257-4b0a5d77a003"
      },
      "execution_count": 34,
      "outputs": [
        {
          "output_type": "stream",
          "name": "stdout",
          "text": [
            "Original dataset shape 3368\n",
            "Resampled dataset shape 5716\n"
          ]
        }
      ]
    },
    {
      "cell_type": "code",
      "source": [
        "print(num_before, num_after)"
      ],
      "metadata": {
        "colab": {
          "base_uri": "https://localhost:8080/"
        },
        "id": "j34vCW3LySFw",
        "outputId": "4e899980-25cd-4d1e-a840-e8224f2042c9"
      },
      "execution_count": 35,
      "outputs": [
        {
          "output_type": "stream",
          "name": "stdout",
          "text": [
            "{1: 510, 0: 2858} {1: 2858, 0: 2858}\n"
          ]
        }
      ]
    },
    {
      "cell_type": "code",
      "source": [
        "labels = [\"Negative Cases\",\"Positive Cases\"]\n",
        "plt.figure(figsize=(15,6))\n",
        "plt.subplot(1,2,1)\n",
        "sns.barplot(labels, list(num_before.values()))\n",
        "plt.title(\"Numbers Before Balancing\")\n",
        "plt.subplot(1,2,2)\n",
        "sns.barplot(labels, list(num_after.values()))\n",
        "plt.title(\"Numbers After Balancing\")\n",
        "plt.show()"
      ],
      "metadata": {
        "colab": {
          "base_uri": "https://localhost:8080/",
          "height": 479
        },
        "id": "xIVuPEaixByL",
        "outputId": "c84a5a5f-c34f-436e-8895-cde8a1bd6221"
      },
      "execution_count": 36,
      "outputs": [
        {
          "output_type": "stream",
          "name": "stderr",
          "text": [
            "/usr/local/lib/python3.7/dist-packages/seaborn/_decorators.py:43: FutureWarning: Pass the following variables as keyword args: x, y. From version 0.12, the only valid positional argument will be `data`, and passing other arguments without an explicit keyword will result in an error or misinterpretation.\n",
            "  FutureWarning\n",
            "/usr/local/lib/python3.7/dist-packages/seaborn/_decorators.py:43: FutureWarning: Pass the following variables as keyword args: x, y. From version 0.12, the only valid positional argument will be `data`, and passing other arguments without an explicit keyword will result in an error or misinterpretation.\n",
            "  FutureWarning\n"
          ]
        },
        {
          "output_type": "display_data",
          "data": {
            "image/png": "[encoded data removed]",
            "text/plain": [
              "<Figure size 1080x432 with 2 Axes>"
            ]
          },
          "metadata": {
            "needs_background": "light"
          }
        }
      ]
    },
    {
      "cell_type": "markdown",
      "metadata": {
        "id": "FM5CMLU_h-T-"
      },
      "source": [
        "Splitting train and test data"
      ]
    },
    {
      "cell_type": "code",
      "metadata": {
        "id": "bJNl_5oah8TF"
      },
      "source": [
        "from sklearn.model_selection import train_test_split\n",
        "X_train, X_test, y_train, y_test = train_test_split(x_smote, y_smote, test_size=0.2, random_state=0)"
      ],
      "execution_count": 37,
      "outputs": []
    },
    {
      "cell_type": "code",
      "metadata": {
        "colab": {
          "base_uri": "https://localhost:8080/"
        },
        "id": "9cjye5KZknDY",
        "outputId": "ea346240-e836-485a-ea08-a523eefd8694"
      },
      "source": [
        "X_train"
      ],
      "execution_count": 38,
      "outputs": [
        {
          "output_type": "execute_result",
          "data": {
            "text/plain": [
              "array([[66.29534021,  2.29534021,  0.        , ..., 26.35326185,\n",
              "        81.76164948, 89.11397938],\n",
              "       [62.57583855,  1.60604036,  0.        , ..., 28.84777091,\n",
              "        69.54563674, 73.1516771 ],\n",
              "       [42.        ,  1.        ,  0.        , ..., 24.23      ,\n",
              "        72.        , 84.        ],\n",
              "       ...,\n",
              "       [42.        ,  1.        ,  0.        , ..., 21.31      ,\n",
              "        70.        , 65.        ],\n",
              "       [46.        ,  1.        ,  0.        , ..., 26.31      ,\n",
              "        98.        , 64.        ],\n",
              "       [47.        ,  1.        ,  0.        , ..., 27.05      ,\n",
              "        75.        , 77.        ]])"
            ]
          },
          "metadata": {},
          "execution_count": 38
        }
      ]
    },
    {
      "cell_type": "code",
      "metadata": {
        "colab": {
          "base_uri": "https://localhost:8080/"
        },
        "id": "JLTz0o0hkpsy",
        "outputId": "7805a008-b775-4410-ba32-06a43473bbe7"
      },
      "source": [
        "y_train"
      ],
      "execution_count": 39,
      "outputs": [
        {
          "output_type": "execute_result",
          "data": {
            "text/plain": [
              "array([1, 1, 0, ..., 1, 0, 0])"
            ]
          },
          "metadata": {},
          "execution_count": 39
        }
      ]
    },
    {
      "cell_type": "code",
      "metadata": {
        "colab": {
          "base_uri": "https://localhost:8080/"
        },
        "id": "oyzAyNhlkr82",
        "outputId": "8dabfba0-f875-4b8e-fb6f-32298c213798"
      },
      "source": [
        "X_test"
      ],
      "execution_count": 40,
      "outputs": [
        {
          "output_type": "execute_result",
          "data": {
            "text/plain": [
              "array([[ 56.        ,   3.        ,   0.        , ...,  26.82      ,\n",
              "         80.        , 105.        ],\n",
              "       [ 58.52190956,   1.3479397 ,   0.        , ...,  27.67999299,\n",
              "         79.21778897,  64.95618089],\n",
              "       [ 36.        ,   2.        ,   0.        , ...,  36.52      ,\n",
              "         65.        ,  85.        ],\n",
              "       ...,\n",
              "       [ 57.        ,   4.        ,   0.        , ...,  29.02      ,\n",
              "         72.        ,  92.        ],\n",
              "       [ 36.        ,   1.        ,   0.        , ...,  20.79      ,\n",
              "         75.        ,  69.        ],\n",
              "       [ 56.09745325,   4.        ,   0.        , ...,  31.46047364,\n",
              "         68.8050935 ,  72.77436331]])"
            ]
          },
          "metadata": {},
          "execution_count": 40
        }
      ]
    },
    {
      "cell_type": "code",
      "metadata": {
        "colab": {
          "base_uri": "https://localhost:8080/"
        },
        "id": "FmBkVWtFktc5",
        "outputId": "26a45f1a-078c-45a7-c4ad-8c6b96621e51"
      },
      "source": [
        "y_test"
      ],
      "execution_count": 41,
      "outputs": [
        {
          "output_type": "execute_result",
          "data": {
            "text/plain": [
              "array([0, 1, 0, ..., 0, 0, 1])"
            ]
          },
          "metadata": {},
          "execution_count": 41
        }
      ]
    },
    {
      "cell_type": "markdown",
      "metadata": {
        "id": "ab2gWjXcmZ8F"
      },
      "source": [
        "Feature Scaling X_train and X_test"
      ]
    },
    {
      "cell_type": "code",
      "metadata": {
        "id": "tdBVWKv9mYjb"
      },
      "source": [
        "from sklearn.preprocessing import StandardScaler\n",
        "sc = StandardScaler()\n",
        "X_train_scaled = sc.fit_transform(X_train)\n",
        "X_test_scaled = sc.transform(X_test)"
      ],
      "execution_count": 42,
      "outputs": []
    },
    {
      "cell_type": "code",
      "metadata": {
        "colab": {
          "base_uri": "https://localhost:8080/"
        },
        "id": "qbNzC7tDmrY9",
        "outputId": "32eb477a-0f4f-47af-b842-2d7079755639"
      },
      "source": [
        "X_train_scaled"
      ],
      "execution_count": 43,
      "outputs": [
        {
          "output_type": "execute_result",
          "data": {
            "text/plain": [
              "array([[ 1.77467411,  0.41271058,  0.        , ...,  0.0984442 ,\n",
              "         0.51124868,  0.14491501],\n",
              "       [ 1.33214061, -0.32053983,  0.        , ...,  0.74684794,\n",
              "        -0.55030057, -0.35811926],\n",
              "       [-1.1159018 , -0.96522203,  0.        , ..., -0.45346037,\n",
              "        -0.33702088, -0.01624638],\n",
              "       ...,\n",
              "       [-1.1159018 , -0.96522203,  0.        , ..., -1.21246299,\n",
              "        -0.51081723, -0.61501033],\n",
              "       [-0.63999558, -0.96522203,  0.        , ...,  0.08719904,\n",
              "         1.92233175, -0.64652422],\n",
              "       [-0.52101902, -0.96522203,  0.        , ...,  0.27954902,\n",
              "        -0.07632634, -0.23684363]])"
            ]
          },
          "metadata": {},
          "execution_count": 43
        }
      ]
    },
    {
      "cell_type": "code",
      "metadata": {
        "colab": {
          "base_uri": "https://localhost:8080/"
        },
        "id": "XnB9-7iEmwmQ",
        "outputId": "ee11e01d-1f9b-46be-de2c-5bf676c3eb53"
      },
      "source": [
        "X_test_scaled"
      ],
      "execution_count": 44,
      "outputs": [
        {
          "output_type": "execute_result",
          "data": {
            "text/plain": [
              "array([[ 0.54976999,  1.1623003 ,  0.        , ...,  0.21976457,\n",
              "         0.35816455,  0.64554535],\n",
              "       [ 0.8498181 , -0.59509728,  0.        , ...,  0.44330461,\n",
              "         0.29019183, -0.61639124],\n",
              "       [-1.82976114,  0.09853914,  0.        , ...,  2.7411089 ,\n",
              "        -0.94530812,  0.01526751],\n",
              "       ...,\n",
              "       [ 0.66874654,  2.22606147,  0.        , ...,  0.79161586,\n",
              "        -0.33702088,  0.23586475],\n",
              "       [-1.82976114, -0.96522203,  0.        , ..., -1.34762784,\n",
              "        -0.07632634, -0.48895476],\n",
              "       [ 0.56136464,  2.22606147,  0.        , ...,  1.42597404,\n",
              "        -0.61465243, -0.37000989]])"
            ]
          },
          "metadata": {},
          "execution_count": 44
        }
      ]
    },
    {
      "cell_type": "markdown",
      "metadata": {
        "id": "9DNRH1SSlGxN"
      },
      "source": [
        "Here is a data ready to be trained and tested, using any machine learning classification algorithm. "
      ]
    },
    {
      "cell_type": "markdown",
      "metadata": {
        "id": "IONQ-_gInY8p"
      },
      "source": [
        "##K-Nearest Neighbors (K-NN)"
      ]
    },
    {
      "cell_type": "markdown",
      "metadata": {
        "id": "HONwGa9Kst8B"
      },
      "source": [
        "Training the K-NN model on the Training set"
      ]
    },
    {
      "cell_type": "code",
      "metadata": {
        "colab": {
          "base_uri": "https://localhost:8080/"
        },
        "id": "_3AZN9khkumm",
        "outputId": "467a9b75-bbc1-4abf-ae6e-8cb2c39ccd42"
      },
      "source": [
        "from sklearn.neighbors import KNeighborsClassifier\n",
        "classifier = KNeighborsClassifier(n_neighbors = 5, metric = 'minkowski', p = 2)\n",
        "classifier.fit(X_train_scaled, y_train)"
      ],
      "execution_count": 45,
      "outputs": [
        {
          "output_type": "execute_result",
          "data": {
            "text/plain": [
              "KNeighborsClassifier()"
            ]
          },
          "metadata": {},
          "execution_count": 45
        }
      ]
    },
    {
      "cell_type": "markdown",
      "metadata": {
        "id": "N0aninqFs4NF"
      },
      "source": [
        "Making the Confusion Matrix"
      ]
    },
    {
      "cell_type": "code",
      "metadata": {
        "colab": {
          "base_uri": "https://localhost:8080/"
        },
        "id": "Qf1aG0j6s1fz",
        "outputId": "0a916a8f-729a-45bf-e4fc-44be52c294b6"
      },
      "source": [
        "y_pred = classifier.predict(X_test_scaled)\n",
        "tn, fp, fn, tp = confusion_matrix(y_test, y_pred).ravel()\n",
        "tp, tn, fp, fn"
      ],
      "execution_count": 46,
      "outputs": [
        {
          "output_type": "execute_result",
          "data": {
            "text/plain": [
              "(540, 383, 195, 26)"
            ]
          },
          "metadata": {},
          "execution_count": 46
        }
      ]
    },
    {
      "cell_type": "code",
      "source": [
        "sns.heatmap(confusion_matrix(y_test,y_pred), annot=True, cmap='Greys_r', fmt='d')\n"
      ],
      "metadata": {
        "colab": {
          "base_uri": "https://localhost:8080/",
          "height": 282
        },
        "id": "qlJ3LS4VrlNK",
        "outputId": "b0d79af7-9f9e-476c-9a38-79d5e88aa53a"
      },
      "execution_count": 47,
      "outputs": [
        {
          "output_type": "execute_result",
          "data": {
            "text/plain": [
              "<matplotlib.axes._subplots.AxesSubplot at 0x7f341d4d1d10>"
            ]
          },
          "metadata": {},
          "execution_count": 47
        },
        {
          "output_type": "display_data",
          "data": {
            "image/png": "[encoded data removed]",
            "text/plain": [
              "<Figure size 432x288 with 2 Axes>"
            ]
          },
          "metadata": {
            "needs_background": "light"
          }
        }
      ]
    },
    {
      "cell_type": "code",
      "metadata": {
        "colab": {
          "base_uri": "https://localhost:8080/"
        },
        "id": "mPFa91zht79u",
        "outputId": "27e0e373-0d43-4d96-8a72-8a9d2239ec1f"
      },
      "source": [
        "accuracy_score_KNNClassifier = accuracy_score(y_test, y_pred)\n",
        "print(accuracy_score_KNNClassifier)"
      ],
      "execution_count": 48,
      "outputs": [
        {
          "output_type": "stream",
          "name": "stdout",
          "text": [
            "0.8068181818181818\n"
          ]
        }
      ]
    },
    {
      "cell_type": "markdown",
      "metadata": {
        "id": "__8o8pjnt8Rw"
      },
      "source": [
        "Calculating accuracy score"
      ]
    },
    {
      "cell_type": "code",
      "source": [
        "from sklearn.metrics import classification_report\n",
        "print(classification_report(y_test, y_pred))"
      ],
      "metadata": {
        "colab": {
          "base_uri": "https://localhost:8080/"
        },
        "id": "pWXoIj3iBkND",
        "outputId": "d59a6613-24ed-4e28-fc74-f29561c7ff6f"
      },
      "execution_count": 49,
      "outputs": [
        {
          "output_type": "stream",
          "name": "stdout",
          "text": [
            "              precision    recall  f1-score   support\n",
            "\n",
            "           0       0.94      0.66      0.78       578\n",
            "           1       0.73      0.95      0.83       566\n",
            "\n",
            "    accuracy                           0.81      1144\n",
            "   macro avg       0.84      0.81      0.80      1144\n",
            "weighted avg       0.84      0.81      0.80      1144\n",
            "\n"
          ]
        }
      ]
    },
    {
      "cell_type": "markdown",
      "source": [
        "#hyperparameter optimization"
      ],
      "metadata": {
        "id": "1xMZer9WmkH8"
      }
    },
    {
      "cell_type": "code",
      "source": [
        "from sklearn.model_selection import train_test_split, GridSearchCV, RandomizedSearchCV\n",
        "import numpy as np\n",
        "grid_params = { 'n_neighbors' : [5,7,9,11,13],\n",
        "               'weights' : ['uniform','distance'],\n",
        "               'metric' : ['minkowski','euclidean','manhattan']}\n",
        "gs = GridSearchCV(KNeighborsClassifier(), grid_params, verbose = 1, cv=5, n_jobs = -1)"
      ],
      "metadata": {
        "id": "AhHV8pMBphy6"
      },
      "execution_count": 50,
      "outputs": []
    },
    {
      "cell_type": "code",
      "source": [
        "# fit the model on our train set\n",
        "g_res = gs.fit(X_train_scaled, y_train)"
      ],
      "metadata": {
        "colab": {
          "base_uri": "https://localhost:8080/"
        },
        "id": "beOi5Zbu67sl",
        "outputId": "60e23889-c658-43b4-c644-fe35fc335067"
      },
      "execution_count": 51,
      "outputs": [
        {
          "output_type": "stream",
          "name": "stdout",
          "text": [
            "Fitting 5 folds for each of 30 candidates, totalling 150 fits\n"
          ]
        }
      ]
    },
    {
      "cell_type": "code",
      "source": [
        "g_res.best_params_"
      ],
      "metadata": {
        "colab": {
          "base_uri": "https://localhost:8080/"
        },
        "id": "38ASkJ41Mhi-",
        "outputId": "4b880138-ea78-423b-fcda-7c812f0eaafc"
      },
      "execution_count": 52,
      "outputs": [
        {
          "output_type": "execute_result",
          "data": {
            "text/plain": [
              "{'metric': 'manhattan', 'n_neighbors': 5, 'weights': 'distance'}"
            ]
          },
          "metadata": {},
          "execution_count": 52
        }
      ]
    },
    {
      "cell_type": "code",
      "source": [
        "# find the best score\n",
        "g_res.best_score_\n"
      ],
      "metadata": {
        "colab": {
          "base_uri": "https://localhost:8080/"
        },
        "id": "aUgnUrfu7CaJ",
        "outputId": "3a0552dc-f7bf-40a9-86a9-3642c11f60d9"
      },
      "execution_count": 53,
      "outputs": [
        {
          "output_type": "execute_result",
          "data": {
            "text/plain": [
              "0.8440523250947616"
            ]
          },
          "metadata": {},
          "execution_count": 53
        }
      ]
    },
    {
      "cell_type": "code",
      "source": [
        "# use the best hyperparameters\n",
        "knn = KNeighborsClassifier(n_neighbors = 5, weights = 'distance',metric = 'manhattan')\n",
        "knn.fit(X_train_scaled, y_train)"
      ],
      "metadata": {
        "colab": {
          "base_uri": "https://localhost:8080/"
        },
        "id": "x9hJqCzx7SfX",
        "outputId": "85b41aea-99c9-4059-b386-e4beda7b2c11"
      },
      "execution_count": 54,
      "outputs": [
        {
          "output_type": "execute_result",
          "data": {
            "text/plain": [
              "KNeighborsClassifier(metric='manhattan', weights='distance')"
            ]
          },
          "metadata": {},
          "execution_count": 54
        }
      ]
    },
    {
      "cell_type": "code",
      "source": [
        "# get a prediction\n",
        "y_hat = knn.predict(X_train_scaled)\n",
        "y_knn = knn.predict(X_test_scaled)"
      ],
      "metadata": {
        "id": "Xp7sJnaK738s"
      },
      "execution_count": 55,
      "outputs": []
    },
    {
      "cell_type": "code",
      "source": [
        "accuracy_score_KNNClassifier = accuracy_score(y_test, y_knn)\n",
        "print(accuracy_score_KNNClassifier)"
      ],
      "metadata": {
        "colab": {
          "base_uri": "https://localhost:8080/"
        },
        "id": "fiKeFgXNBBwO",
        "outputId": "966f6f8d-c242-4ec5-ea1a-33afa471ca62"
      },
      "execution_count": 56,
      "outputs": [
        {
          "output_type": "stream",
          "name": "stdout",
          "text": [
            "0.8688811188811189\n"
          ]
        }
      ]
    },
    {
      "cell_type": "code",
      "source": [
        "from sklearn.metrics import confusion_matrix, accuracy_score\n",
        "y_pred = classifier.predict(X_test_scaled)\n",
        "tn, fp, fn, tp = confusion_matrix(y_test, y_knn).ravel()\n",
        "tp, tn, fp, fn\n"
      ],
      "metadata": {
        "colab": {
          "base_uri": "https://localhost:8080/"
        },
        "id": "V73yP9PFwlAE",
        "outputId": "abe3ea5c-07ca-44e5-dac2-7659bbf5cc6f"
      },
      "execution_count": 57,
      "outputs": [
        {
          "output_type": "execute_result",
          "data": {
            "text/plain": [
              "(553, 441, 137, 13)"
            ]
          },
          "metadata": {},
          "execution_count": 57
        }
      ]
    },
    {
      "cell_type": "code",
      "source": [
        "sns.heatmap(confusion_matrix(y_test,y_knn), annot=True, cmap='Greys_r', fmt='d')\n"
      ],
      "metadata": {
        "colab": {
          "base_uri": "https://localhost:8080/",
          "height": 282
        },
        "id": "9O9EUl67sJSN",
        "outputId": "7ac3b8da-a428-4e75-f4bc-e81dc398b5d0"
      },
      "execution_count": 58,
      "outputs": [
        {
          "output_type": "execute_result",
          "data": {
            "text/plain": [
              "<matplotlib.axes._subplots.AxesSubplot at 0x7f341d314cd0>"
            ]
          },
          "metadata": {},
          "execution_count": 58
        },
        {
          "output_type": "display_data",
          "data": {
            "image/png": "[encoded data removed]",
            "text/plain": [
              "<Figure size 432x288 with 2 Axes>"
            ]
          },
          "metadata": {
            "needs_background": "light"
          }
        }
      ]
    },
    {
      "cell_type": "code",
      "source": [
        "from sklearn.metrics import classification_report\n",
        "print(classification_report(y_test, y_knn))"
      ],
      "metadata": {
        "colab": {
          "base_uri": "https://localhost:8080/"
        },
        "id": "QGBnE2yd7-50",
        "outputId": "96bf55e9-1c89-4131-d4e9-2b5c6fb74758"
      },
      "execution_count": 59,
      "outputs": [
        {
          "output_type": "stream",
          "name": "stdout",
          "text": [
            "              precision    recall  f1-score   support\n",
            "\n",
            "           0       0.97      0.76      0.85       578\n",
            "           1       0.80      0.98      0.88       566\n",
            "\n",
            "    accuracy                           0.87      1144\n",
            "   macro avg       0.89      0.87      0.87      1144\n",
            "weighted avg       0.89      0.87      0.87      1144\n",
            "\n"
          ]
        }
      ]
    },
    {
      "cell_type": "code",
      "source": [
        "from sklearn.metrics import cohen_kappa_score\n",
        "cohen_kappa_score(y_test, y_knn)"
      ],
      "metadata": {
        "colab": {
          "base_uri": "https://localhost:8080/"
        },
        "id": "cRp8e7lx8ktf",
        "outputId": "b991222b-6c85-445d-b2a5-f937c48b0e8d"
      },
      "execution_count": 60,
      "outputs": [
        {
          "output_type": "execute_result",
          "data": {
            "text/plain": [
              "0.7383284740097349"
            ]
          },
          "metadata": {},
          "execution_count": 60
        }
      ]
    },
    {
      "cell_type": "markdown",
      "metadata": {
        "id": "HXgR-CN_u9ct"
      },
      "source": [
        "##Support Vector Machine (SVM)"
      ]
    },
    {
      "cell_type": "markdown",
      "metadata": {
        "id": "isQEiDR1u9Ly"
      },
      "source": [
        "Training the SVM model on the Training set"
      ]
    },
    {
      "cell_type": "code",
      "metadata": {
        "colab": {
          "base_uri": "https://localhost:8080/"
        },
        "id": "1SB0tE-9u7UT",
        "outputId": "82c7c9f4-40a2-4f12-ede3-1a249b280523"
      },
      "source": [
        "from sklearn.svm import SVC\n",
        "classifier = SVC(kernel = 'linear', random_state = 0)\n",
        "classifier.fit(X_train_scaled, y_train)"
      ],
      "execution_count": 61,
      "outputs": [
        {
          "output_type": "execute_result",
          "data": {
            "text/plain": [
              "SVC(kernel='linear', random_state=0)"
            ]
          },
          "metadata": {},
          "execution_count": 61
        }
      ]
    },
    {
      "cell_type": "markdown",
      "metadata": {
        "id": "RLBQuTunvaoM"
      },
      "source": [
        "Making the Confusion Matrix"
      ]
    },
    {
      "cell_type": "code",
      "metadata": {
        "colab": {
          "base_uri": "https://localhost:8080/"
        },
        "id": "ksTSKvyovY9l",
        "outputId": "844a8bb0-1f21-4e92-ef4f-5161e7b70258"
      },
      "source": [
        "from sklearn.metrics import confusion_matrix, accuracy_score\n",
        "y_pred = classifier.predict(X_test_scaled)\n",
        "tn, fp, fn, tp = confusion_matrix(y_test, y_pred).ravel()\n",
        "tp, tn, fp, fn"
      ],
      "execution_count": 62,
      "outputs": [
        {
          "output_type": "execute_result",
          "data": {
            "text/plain": [
              "(413, 357, 221, 153)"
            ]
          },
          "metadata": {},
          "execution_count": 62
        }
      ]
    },
    {
      "cell_type": "code",
      "source": [
        "sns.heatmap(confusion_matrix(y_test,y_pred), annot=True, cmap='Greys_r', fmt='d')\n"
      ],
      "metadata": {
        "colab": {
          "base_uri": "https://localhost:8080/",
          "height": 282
        },
        "id": "MTytIhsxgg3M",
        "outputId": "b600a510-9a74-4e8e-f729-4187cc98fb16"
      },
      "execution_count": 63,
      "outputs": [
        {
          "output_type": "execute_result",
          "data": {
            "text/plain": [
              "<matplotlib.axes._subplots.AxesSubplot at 0x7f341c1e0250>"
            ]
          },
          "metadata": {},
          "execution_count": 63
        },
        {
          "output_type": "display_data",
          "data": {
            "image/png": "[encoded data removed]",
            "text/plain": [
              "<Figure size 432x288 with 2 Axes>"
            ]
          },
          "metadata": {
            "needs_background": "light"
          }
        }
      ]
    },
    {
      "cell_type": "markdown",
      "metadata": {
        "id": "wRM3kOBNvhwV"
      },
      "source": [
        "Calculating accuracy score"
      ]
    },
    {
      "cell_type": "code",
      "metadata": {
        "colab": {
          "base_uri": "https://localhost:8080/"
        },
        "id": "nbvduVDTvhhd",
        "outputId": "cb143faa-7d02-4add-e3fa-d178af7897bf"
      },
      "source": [
        "accuracy_score_SVM = accuracy_score(y_test, y_pred)\n",
        "print(accuracy_score_SVM)"
      ],
      "execution_count": 64,
      "outputs": [
        {
          "output_type": "stream",
          "name": "stdout",
          "text": [
            "0.6730769230769231\n"
          ]
        }
      ]
    },
    {
      "cell_type": "markdown",
      "metadata": {
        "id": "e0L8hwQz5V5G"
      },
      "source": [
        "Classification report"
      ]
    },
    {
      "cell_type": "code",
      "metadata": {
        "colab": {
          "base_uri": "https://localhost:8080/"
        },
        "id": "EvK84Nhv5V5V",
        "outputId": "e764a3f0-91b0-446b-a1df-3aebad3f0a23"
      },
      "source": [
        "from sklearn.metrics import classification_report\n",
        "print(classification_report(y_test, y_pred))"
      ],
      "execution_count": 65,
      "outputs": [
        {
          "output_type": "stream",
          "name": "stdout",
          "text": [
            "              precision    recall  f1-score   support\n",
            "\n",
            "           0       0.70      0.62      0.66       578\n",
            "           1       0.65      0.73      0.69       566\n",
            "\n",
            "    accuracy                           0.67      1144\n",
            "   macro avg       0.68      0.67      0.67      1144\n",
            "weighted avg       0.68      0.67      0.67      1144\n",
            "\n"
          ]
        }
      ]
    },
    {
      "cell_type": "code",
      "source": [
        "# defining parameter range\n",
        "param_grid = {'C': [0.1, 1, 10, 100, 1000],\n",
        "              'gamma': [1, 0.1, 0.01, 0.001, 0.0001],\n",
        "              'kernel': ['rbf']}\n",
        " \n",
        "grid = GridSearchCV(SVC(), param_grid, refit = True, verbose = 3)\n",
        " \n",
        "# fitting the model for grid search\n",
        "grid.fit(X_train_scaled, y_train )"
      ],
      "metadata": {
        "id": "VueQNZ2dn8aP",
        "colab": {
          "base_uri": "https://localhost:8080/"
        },
        "outputId": "0f3a0197-23da-4856-f459-fa71bf245004"
      },
      "execution_count": 66,
      "outputs": [
        {
          "output_type": "stream",
          "name": "stdout",
          "text": [
            "Fitting 5 folds for each of 25 candidates, totalling 125 fits\n",
            "[CV 1/5] END ........C=0.1, gamma=1, kernel=rbf;, score=0.686 total time=   1.1s\n",
            "[CV 2/5] END ........C=0.1, gamma=1, kernel=rbf;, score=0.621 total time=   1.1s\n",
            "[CV 3/5] END ........C=0.1, gamma=1, kernel=rbf;, score=0.636 total time=   1.1s\n",
            "[CV 4/5] END ........C=0.1, gamma=1, kernel=rbf;, score=0.664 total time=   1.1s\n",
            "[CV 5/5] END ........C=0.1, gamma=1, kernel=rbf;, score=0.653 total time=   1.1s\n",
            "[CV 1/5] END ......C=0.1, gamma=0.1, kernel=rbf;, score=0.703 total time=   1.0s\n",
            "[CV 2/5] END ......C=0.1, gamma=0.1, kernel=rbf;, score=0.682 total time=   1.0s\n",
            "[CV 3/5] END ......C=0.1, gamma=0.1, kernel=rbf;, score=0.653 total time=   1.0s\n",
            "[CV 4/5] END ......C=0.1, gamma=0.1, kernel=rbf;, score=0.693 total time=   1.0s\n",
            "[CV 5/5] END ......C=0.1, gamma=0.1, kernel=rbf;, score=0.707 total time=   1.0s\n",
            "[CV 1/5] END .....C=0.1, gamma=0.01, kernel=rbf;, score=0.681 total time=   1.0s\n",
            "[CV 2/5] END .....C=0.1, gamma=0.01, kernel=rbf;, score=0.670 total time=   1.0s\n",
            "[CV 3/5] END .....C=0.1, gamma=0.01, kernel=rbf;, score=0.653 total time=   1.0s\n",
            "[CV 4/5] END .....C=0.1, gamma=0.01, kernel=rbf;, score=0.682 total time=   1.0s\n",
            "[CV 5/5] END .....C=0.1, gamma=0.01, kernel=rbf;, score=0.671 total time=   1.0s\n",
            "[CV 1/5] END ....C=0.1, gamma=0.001, kernel=rbf;, score=0.644 total time=   1.1s\n",
            "[CV 2/5] END ....C=0.1, gamma=0.001, kernel=rbf;, score=0.622 total time=   1.1s\n",
            "[CV 3/5] END ....C=0.1, gamma=0.001, kernel=rbf;, score=0.629 total time=   1.1s\n",
            "[CV 4/5] END ....C=0.1, gamma=0.001, kernel=rbf;, score=0.642 total time=   1.1s\n",
            "[CV 5/5] END ....C=0.1, gamma=0.001, kernel=rbf;, score=0.629 total time=   1.1s\n",
            "[CV 1/5] END ...C=0.1, gamma=0.0001, kernel=rbf;, score=0.502 total time=   1.1s\n",
            "[CV 2/5] END ...C=0.1, gamma=0.0001, kernel=rbf;, score=0.502 total time=   1.1s\n",
            "[CV 3/5] END ...C=0.1, gamma=0.0001, kernel=rbf;, score=0.501 total time=   1.1s\n",
            "[CV 4/5] END ...C=0.1, gamma=0.0001, kernel=rbf;, score=0.501 total time=   1.1s\n",
            "[CV 5/5] END ...C=0.1, gamma=0.0001, kernel=rbf;, score=0.501 total time=   1.1s\n",
            "[CV 1/5] END ..........C=1, gamma=1, kernel=rbf;, score=0.872 total time=   1.3s\n",
            "[CV 2/5] END ..........C=1, gamma=1, kernel=rbf;, score=0.878 total time=   1.2s\n",
            "[CV 3/5] END ..........C=1, gamma=1, kernel=rbf;, score=0.845 total time=   1.2s\n",
            "[CV 4/5] END ..........C=1, gamma=1, kernel=rbf;, score=0.862 total time=   1.2s\n",
            "[CV 5/5] END ..........C=1, gamma=1, kernel=rbf;, score=0.881 total time=   1.2s\n",
            "[CV 1/5] END ........C=1, gamma=0.1, kernel=rbf;, score=0.761 total time=   0.9s\n",
            "[CV 2/5] END ........C=1, gamma=0.1, kernel=rbf;, score=0.749 total time=   0.9s\n",
            "[CV 3/5] END ........C=1, gamma=0.1, kernel=rbf;, score=0.719 total time=   1.2s\n",
            "[CV 4/5] END ........C=1, gamma=0.1, kernel=rbf;, score=0.748 total time=   1.2s\n",
            "[CV 5/5] END ........C=1, gamma=0.1, kernel=rbf;, score=0.764 total time=   0.9s\n",
            "[CV 1/5] END .......C=1, gamma=0.01, kernel=rbf;, score=0.701 total time=   0.9s\n",
            "[CV 2/5] END .......C=1, gamma=0.01, kernel=rbf;, score=0.695 total time=   0.9s\n",
            "[CV 3/5] END .......C=1, gamma=0.01, kernel=rbf;, score=0.648 total time=   0.9s\n",
            "[CV 4/5] END .......C=1, gamma=0.01, kernel=rbf;, score=0.693 total time=   0.9s\n",
            "[CV 5/5] END .......C=1, gamma=0.01, kernel=rbf;, score=0.709 total time=   0.9s\n",
            "[CV 1/5] END ......C=1, gamma=0.001, kernel=rbf;, score=0.679 total time=   1.0s\n",
            "[CV 2/5] END ......C=1, gamma=0.001, kernel=rbf;, score=0.668 total time=   0.9s\n",
            "[CV 3/5] END ......C=1, gamma=0.001, kernel=rbf;, score=0.646 total time=   0.9s\n",
            "[CV 4/5] END ......C=1, gamma=0.001, kernel=rbf;, score=0.682 total time=   0.9s\n",
            "[CV 5/5] END ......C=1, gamma=0.001, kernel=rbf;, score=0.681 total time=   0.9s\n",
            "[CV 1/5] END .....C=1, gamma=0.0001, kernel=rbf;, score=0.648 total time=   1.1s\n",
            "[CV 2/5] END .....C=1, gamma=0.0001, kernel=rbf;, score=0.624 total time=   1.1s\n",
            "[CV 3/5] END .....C=1, gamma=0.0001, kernel=rbf;, score=0.628 total time=   1.1s\n",
            "[CV 4/5] END .....C=1, gamma=0.0001, kernel=rbf;, score=0.646 total time=   1.1s\n",
            "[CV 5/5] END .....C=1, gamma=0.0001, kernel=rbf;, score=0.628 total time=   1.1s\n",
            "[CV 1/5] END .........C=10, gamma=1, kernel=rbf;, score=0.889 total time=   1.3s\n",
            "[CV 2/5] END .........C=10, gamma=1, kernel=rbf;, score=0.880 total time=   1.3s\n",
            "[CV 3/5] END .........C=10, gamma=1, kernel=rbf;, score=0.861 total time=   1.2s\n",
            "[CV 4/5] END .........C=10, gamma=1, kernel=rbf;, score=0.884 total time=   1.3s\n",
            "[CV 5/5] END .........C=10, gamma=1, kernel=rbf;, score=0.884 total time=   1.3s\n",
            "[CV 1/5] END .......C=10, gamma=0.1, kernel=rbf;, score=0.800 total time=   0.9s\n",
            "[CV 2/5] END .......C=10, gamma=0.1, kernel=rbf;, score=0.797 total time=   0.9s\n",
            "[CV 3/5] END .......C=10, gamma=0.1, kernel=rbf;, score=0.770 total time=   0.9s\n",
            "[CV 4/5] END .......C=10, gamma=0.1, kernel=rbf;, score=0.789 total time=   0.9s\n",
            "[CV 5/5] END .......C=10, gamma=0.1, kernel=rbf;, score=0.791 total time=   0.9s\n",
            "[CV 1/5] END ......C=10, gamma=0.01, kernel=rbf;, score=0.711 total time=   0.9s\n",
            "[CV 2/5] END ......C=10, gamma=0.01, kernel=rbf;, score=0.713 total time=   0.9s\n",
            "[CV 3/5] END ......C=10, gamma=0.01, kernel=rbf;, score=0.663 total time=   0.9s\n",
            "[CV 4/5] END ......C=10, gamma=0.01, kernel=rbf;, score=0.710 total time=   0.9s\n",
            "[CV 5/5] END ......C=10, gamma=0.01, kernel=rbf;, score=0.711 total time=   0.9s\n",
            "[CV 1/5] END .....C=10, gamma=0.001, kernel=rbf;, score=0.685 total time=   0.9s\n",
            "[CV 2/5] END .....C=10, gamma=0.001, kernel=rbf;, score=0.680 total time=   0.9s\n",
            "[CV 3/5] END .....C=10, gamma=0.001, kernel=rbf;, score=0.650 total time=   0.9s\n",
            "[CV 4/5] END .....C=10, gamma=0.001, kernel=rbf;, score=0.690 total time=   0.9s\n",
            "[CV 5/5] END .....C=10, gamma=0.001, kernel=rbf;, score=0.699 total time=   0.9s\n",
            "[CV 1/5] END ....C=10, gamma=0.0001, kernel=rbf;, score=0.677 total time=   0.9s\n",
            "[CV 2/5] END ....C=10, gamma=0.0001, kernel=rbf;, score=0.670 total time=   0.9s\n",
            "[CV 3/5] END ....C=10, gamma=0.0001, kernel=rbf;, score=0.646 total time=   0.9s\n",
            "[CV 4/5] END ....C=10, gamma=0.0001, kernel=rbf;, score=0.681 total time=   0.9s\n",
            "[CV 5/5] END ....C=10, gamma=0.0001, kernel=rbf;, score=0.682 total time=   0.9s\n",
            "[CV 1/5] END ........C=100, gamma=1, kernel=rbf;, score=0.889 total time=   1.2s\n",
            "[CV 2/5] END ........C=100, gamma=1, kernel=rbf;, score=0.878 total time=   1.2s\n",
            "[CV 3/5] END ........C=100, gamma=1, kernel=rbf;, score=0.861 total time=   1.2s\n",
            "[CV 4/5] END ........C=100, gamma=1, kernel=rbf;, score=0.885 total time=   1.3s\n",
            "[CV 5/5] END ........C=100, gamma=1, kernel=rbf;, score=0.884 total time=   1.3s\n",
            "[CV 1/5] END ......C=100, gamma=0.1, kernel=rbf;, score=0.832 total time=   1.6s\n",
            "[CV 2/5] END ......C=100, gamma=0.1, kernel=rbf;, score=0.811 total time=   1.6s\n",
            "[CV 3/5] END ......C=100, gamma=0.1, kernel=rbf;, score=0.816 total time=   1.5s\n",
            "[CV 4/5] END ......C=100, gamma=0.1, kernel=rbf;, score=0.823 total time=   1.6s\n",
            "[CV 5/5] END ......C=100, gamma=0.1, kernel=rbf;, score=0.833 total time=   1.5s\n",
            "[CV 1/5] END .....C=100, gamma=0.01, kernel=rbf;, score=0.743 total time=   1.2s\n",
            "[CV 2/5] END .....C=100, gamma=0.01, kernel=rbf;, score=0.746 total time=   1.1s\n",
            "[CV 3/5] END .....C=100, gamma=0.01, kernel=rbf;, score=0.717 total time=   1.1s\n",
            "[CV 4/5] END .....C=100, gamma=0.01, kernel=rbf;, score=0.741 total time=   1.2s\n",
            "[CV 5/5] END .....C=100, gamma=0.01, kernel=rbf;, score=0.732 total time=   1.1s\n",
            "[CV 1/5] END ....C=100, gamma=0.001, kernel=rbf;, score=0.705 total time=   1.0s\n",
            "[CV 2/5] END ....C=100, gamma=0.001, kernel=rbf;, score=0.694 total time=   0.9s\n",
            "[CV 3/5] END ....C=100, gamma=0.001, kernel=rbf;, score=0.652 total time=   0.9s\n",
            "[CV 4/5] END ....C=100, gamma=0.001, kernel=rbf;, score=0.693 total time=   1.0s\n",
            "[CV 5/5] END ....C=100, gamma=0.001, kernel=rbf;, score=0.704 total time=   0.9s\n",
            "[CV 1/5] END ...C=100, gamma=0.0001, kernel=rbf;, score=0.682 total time=   0.9s\n",
            "[CV 2/5] END ...C=100, gamma=0.0001, kernel=rbf;, score=0.677 total time=   0.9s\n",
            "[CV 3/5] END ...C=100, gamma=0.0001, kernel=rbf;, score=0.640 total time=   0.9s\n",
            "[CV 4/5] END ...C=100, gamma=0.0001, kernel=rbf;, score=0.685 total time=   0.9s\n",
            "[CV 5/5] END ...C=100, gamma=0.0001, kernel=rbf;, score=0.696 total time=   0.9s\n",
            "[CV 1/5] END .......C=1000, gamma=1, kernel=rbf;, score=0.889 total time=   1.2s\n",
            "[CV 2/5] END .......C=1000, gamma=1, kernel=rbf;, score=0.878 total time=   1.2s\n",
            "[CV 3/5] END .......C=1000, gamma=1, kernel=rbf;, score=0.861 total time=   1.2s\n",
            "[CV 4/5] END .......C=1000, gamma=1, kernel=rbf;, score=0.885 total time=   1.3s\n",
            "[CV 5/5] END .......C=1000, gamma=1, kernel=rbf;, score=0.884 total time=   1.3s\n",
            "[CV 1/5] END .....C=1000, gamma=0.1, kernel=rbf;, score=0.845 total time=   4.3s\n",
            "[CV 2/5] END .....C=1000, gamma=0.1, kernel=rbf;, score=0.826 total time=   4.5s\n",
            "[CV 3/5] END .....C=1000, gamma=0.1, kernel=rbf;, score=0.823 total time=   4.8s\n",
            "[CV 4/5] END .....C=1000, gamma=0.1, kernel=rbf;, score=0.846 total time=   4.1s\n",
            "[CV 5/5] END .....C=1000, gamma=0.1, kernel=rbf;, score=0.851 total time=   4.7s\n",
            "[CV 1/5] END ....C=1000, gamma=0.01, kernel=rbf;, score=0.767 total time=   2.7s\n",
            "[CV 2/5] END ....C=1000, gamma=0.01, kernel=rbf;, score=0.758 total time=   2.5s\n",
            "[CV 3/5] END ....C=1000, gamma=0.01, kernel=rbf;, score=0.744 total time=   3.5s\n",
            "[CV 4/5] END ....C=1000, gamma=0.01, kernel=rbf;, score=0.757 total time=   3.3s\n",
            "[CV 5/5] END ....C=1000, gamma=0.01, kernel=rbf;, score=0.755 total time=   2.5s\n",
            "[CV 1/5] END ...C=1000, gamma=0.001, kernel=rbf;, score=0.705 total time=   1.4s\n",
            "[CV 2/5] END ...C=1000, gamma=0.001, kernel=rbf;, score=0.716 total time=   1.3s\n",
            "[CV 3/5] END ...C=1000, gamma=0.001, kernel=rbf;, score=0.663 total time=   1.3s\n",
            "[CV 4/5] END ...C=1000, gamma=0.001, kernel=rbf;, score=0.701 total time=   1.4s\n",
            "[CV 5/5] END ...C=1000, gamma=0.001, kernel=rbf;, score=0.720 total time=   1.3s\n",
            "[CV 1/5] END ..C=1000, gamma=0.0001, kernel=rbf;, score=0.684 total time=   1.0s\n",
            "[CV 2/5] END ..C=1000, gamma=0.0001, kernel=rbf;, score=0.680 total time=   1.0s\n",
            "[CV 3/5] END ..C=1000, gamma=0.0001, kernel=rbf;, score=0.648 total time=   1.0s\n",
            "[CV 4/5] END ..C=1000, gamma=0.0001, kernel=rbf;, score=0.690 total time=   1.0s\n",
            "[CV 5/5] END ..C=1000, gamma=0.0001, kernel=rbf;, score=0.702 total time=   1.0s\n"
          ]
        },
        {
          "output_type": "execute_result",
          "data": {
            "text/plain": [
              "GridSearchCV(estimator=SVC(),\n",
              "             param_grid={'C': [0.1, 1, 10, 100, 1000],\n",
              "                         'gamma': [1, 0.1, 0.01, 0.001, 0.0001],\n",
              "                         'kernel': ['rbf']},\n",
              "             verbose=3)"
            ]
          },
          "metadata": {},
          "execution_count": 66
        }
      ]
    },
    {
      "cell_type": "code",
      "source": [
        "# print best parameter after tuning\n",
        "print(grid.best_params_)\n",
        " \n",
        "# print how our model looks after hyper-parameter tuning\n",
        "print(grid.best_estimator_)"
      ],
      "metadata": {
        "colab": {
          "base_uri": "https://localhost:8080/"
        },
        "id": "_Ny4HQ9luScB",
        "outputId": "c5d24b41-bf0f-41ca-b112-93458caada6c"
      },
      "execution_count": 67,
      "outputs": [
        {
          "output_type": "stream",
          "name": "stdout",
          "text": [
            "{'C': 10, 'gamma': 1, 'kernel': 'rbf'}\n",
            "SVC(C=10, gamma=1)\n"
          ]
        }
      ]
    },
    {
      "cell_type": "code",
      "source": [
        "grid_predictions = grid.predict(X_test_scaled)\n",
        " \n",
        "# print classification report\n",
        "print(classification_report(y_test, grid_predictions))"
      ],
      "metadata": {
        "colab": {
          "base_uri": "https://localhost:8080/"
        },
        "id": "tdTsD75BuHpI",
        "outputId": "4943178f-324a-4252-fba5-71c5b97b2c93"
      },
      "execution_count": 68,
      "outputs": [
        {
          "output_type": "stream",
          "name": "stdout",
          "text": [
            "              precision    recall  f1-score   support\n",
            "\n",
            "           0       0.92      0.89      0.90       578\n",
            "           1       0.89      0.92      0.90       566\n",
            "\n",
            "    accuracy                           0.90      1144\n",
            "   macro avg       0.90      0.90      0.90      1144\n",
            "weighted avg       0.90      0.90      0.90      1144\n",
            "\n"
          ]
        }
      ]
    },
    {
      "cell_type": "code",
      "source": [
        "from sklearn.metrics import confusion_matrix, accuracy_score\n",
        "y_pred = classifier.predict(X_test_scaled)\n",
        "tn, fp, fn, tp = confusion_matrix(y_test, grid_predictions).ravel()\n",
        "tp, tn, fp, fn"
      ],
      "metadata": {
        "colab": {
          "base_uri": "https://localhost:8080/"
        },
        "id": "aCyhRwxCvx22",
        "outputId": "0aad4815-338a-4bd0-f572-03ad58b4ebd6"
      },
      "execution_count": 69,
      "outputs": [
        {
          "output_type": "execute_result",
          "data": {
            "text/plain": [
              "(521, 512, 66, 45)"
            ]
          },
          "metadata": {},
          "execution_count": 69
        }
      ]
    },
    {
      "cell_type": "code",
      "source": [
        "sns.heatmap(confusion_matrix(y_test,grid_predictions), annot=True, cmap='Greys_r', fmt='d')\n"
      ],
      "metadata": {
        "colab": {
          "base_uri": "https://localhost:8080/",
          "height": 282
        },
        "id": "IuSXD68eviVt",
        "outputId": "8f203742-f91b-49fe-8829-445af048aa14"
      },
      "execution_count": 70,
      "outputs": [
        {
          "output_type": "execute_result",
          "data": {
            "text/plain": [
              "<matplotlib.axes._subplots.AxesSubplot at 0x7f341c132e90>"
            ]
          },
          "metadata": {},
          "execution_count": 70
        },
        {
          "output_type": "display_data",
          "data": {
            "image/png": "[encoded data removed]",
            "text/plain": [
              "<Figure size 432x288 with 2 Axes>"
            ]
          },
          "metadata": {
            "needs_background": "light"
          }
        }
      ]
    },
    {
      "cell_type": "code",
      "source": [
        "accuracy_score_SVM = accuracy_score(y_test, grid_predictions)\n",
        "print(accuracy_score_SVM)"
      ],
      "metadata": {
        "colab": {
          "base_uri": "https://localhost:8080/"
        },
        "id": "2UVYov30RH-1",
        "outputId": "4b376555-6fed-4bab-93e2-7cf23470f468"
      },
      "execution_count": 71,
      "outputs": [
        {
          "output_type": "stream",
          "name": "stdout",
          "text": [
            "0.902972027972028\n"
          ]
        }
      ]
    },
    {
      "cell_type": "code",
      "source": [
        "from sklearn.metrics import cohen_kappa_score\n",
        "cohen_kappa_score(y_test, grid_predictions)"
      ],
      "metadata": {
        "colab": {
          "base_uri": "https://localhost:8080/"
        },
        "id": "pe3GHYzbo-xk",
        "outputId": "3a38bf9f-a54d-42e1-f17d-27214cbc6cf8"
      },
      "execution_count": 72,
      "outputs": [
        {
          "output_type": "execute_result",
          "data": {
            "text/plain": [
              "0.80599742112114"
            ]
          },
          "metadata": {},
          "execution_count": 72
        }
      ]
    },
    {
      "cell_type": "markdown",
      "metadata": {
        "id": "AhC6WHQtvgVA"
      },
      "source": [
        "##Accuracy Scores of each classification model are as follows "
      ]
    },
    {
      "cell_type": "code",
      "metadata": {
        "colab": {
          "base_uri": "https://localhost:8080/"
        },
        "id": "qEtnBx4evqUB",
        "outputId": "13031d72-50ac-4378-edc6-263cdd03b5e6"
      },
      "source": [
        "print(f'''Accuracy Scores:\n",
        "K Nearest Neigbours         : {accuracy_score_KNNClassifier}\n",
        "Support Vector Machine      : {accuracy_score_SVM}\n",
        "''')"
      ],
      "execution_count": 73,
      "outputs": [
        {
          "output_type": "stream",
          "name": "stdout",
          "text": [
            "Accuracy Scores:\n",
            "K Nearest Neigbours         : 0.8688811188811189\n",
            "Support Vector Machine      : 0.902972027972028\n",
            "\n"
          ]
        }
      ]
    },
    {
      "cell_type": "code",
      "source": [
        ""
      ],
      "metadata": {
        "id": "ahZv5NAcxBI_"
      },
      "execution_count": null,
      "outputs": []
    },
    {
      "cell_type": "code",
      "source": [
        ""
      ],
      "metadata": {
        "id": "_17mZJbVvr90"
      },
      "execution_count": null,
      "outputs": []
    }
  ]
}