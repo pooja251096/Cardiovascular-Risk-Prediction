{
  "nbformat": 4,
  "nbformat_minor": 0,
  "metadata": {
    "colab": {
      "name": "Pooja_AlmaBetter_ML_Classification_CardioVascularRisk.ipynb",
      "provenance": [],
      "collapsed_sections": [],
      "include_colab_link": true
    },
    "kernelspec": {
      "name": "python3",
      "display_name": "Python 3"
    },
    "language_info": {
      "name": "python"
    }
  },
  "cells": [
    {
      "cell_type": "markdown",
      "metadata": {
        "id": "view-in-github",
        "colab_type": "text"
      },
      "source": [
        "<a href=\"https://colab.research.google.com/github/pooja251096/Cardiovascular-Risk-Prediction/blob/main/Pooja_AlmaBetter_ML_Classification_CardioVascularRisk.ipynb\" target=\"_parent\"><img src=\"https://colab.research.google.com/assets/colab-badge.svg\" alt=\"Open In Colab\"/></a>"
      ]
    },
    {
      "cell_type": "code",
      "metadata": {
        "id": "yb_Nx_k1OfnL",
        "colab": {
          "base_uri": "https://localhost:8080/"
        },
        "outputId": "d4ac55d1-9a40-46b9-ee9f-f7f75deed520"
      },
      "source": [
        "# Importing the libraries\n",
        "!pip install CatBoost\n",
        "!pip install imbalanced-learn\n",
        "\n",
        "import pandas as pd\n",
        "import numpy as np\n",
        "import seaborn as sns\n",
        "import matplotlib.pyplot as plt \n",
        "from sklearn.metrics import classification_report\n",
        "from imblearn.over_sampling import SMOTE\n",
        "from imblearn.under_sampling import RandomUnderSampler\n",
        "from imblearn.pipeline import Pipeline\n",
        "from collections import Counter\n",
        "from sklearn.metrics import confusion_matrix, accuracy_score"
      ],
      "execution_count": 1,
      "outputs": [
        {
          "output_type": "stream",
          "name": "stdout",
          "text": [
            "Collecting CatBoost\n",
            "  Downloading catboost-1.0.3-cp37-none-manylinux1_x86_64.whl (76.3 MB)\n",
            "\u001b[K     |████████████████████████████████| 76.3 MB 46 kB/s \n",
            "\u001b[?25hRequirement already satisfied: scipy in /usr/local/lib/python3.7/dist-packages (from CatBoost) (1.4.1)\n",
            "Requirement already satisfied: graphviz in /usr/local/lib/python3.7/dist-packages (from CatBoost) (0.10.1)\n",
            "Requirement already satisfied: matplotlib in /usr/local/lib/python3.7/dist-packages (from CatBoost) (3.2.2)\n",
            "Requirement already satisfied: six in /usr/local/lib/python3.7/dist-packages (from CatBoost) (1.15.0)\n",
            "Requirement already satisfied: pandas>=0.24.0 in /usr/local/lib/python3.7/dist-packages (from CatBoost) (1.1.5)\n",
            "Requirement already satisfied: numpy>=1.16.0 in /usr/local/lib/python3.7/dist-packages (from CatBoost) (1.19.5)\n",
            "Requirement already satisfied: plotly in /usr/local/lib/python3.7/dist-packages (from CatBoost) (4.4.1)\n",
            "Requirement already satisfied: pytz>=2017.2 in /usr/local/lib/python3.7/dist-packages (from pandas>=0.24.0->CatBoost) (2018.9)\n",
            "Requirement already satisfied: python-dateutil>=2.7.3 in /usr/local/lib/python3.7/dist-packages (from pandas>=0.24.0->CatBoost) (2.8.2)\n",
            "Requirement already satisfied: kiwisolver>=1.0.1 in /usr/local/lib/python3.7/dist-packages (from matplotlib->CatBoost) (1.3.2)\n",
            "Requirement already satisfied: cycler>=0.10 in /usr/local/lib/python3.7/dist-packages (from matplotlib->CatBoost) (0.11.0)\n",
            "Requirement already satisfied: pyparsing!=2.0.4,!=2.1.2,!=2.1.6,>=2.0.1 in /usr/local/lib/python3.7/dist-packages (from matplotlib->CatBoost) (3.0.6)\n",
            "Requirement already satisfied: retrying>=1.3.3 in /usr/local/lib/python3.7/dist-packages (from plotly->CatBoost) (1.3.3)\n",
            "Installing collected packages: CatBoost\n",
            "Successfully installed CatBoost-1.0.3\n",
            "Requirement already satisfied: imbalanced-learn in /usr/local/lib/python3.7/dist-packages (0.8.1)\n",
            "Requirement already satisfied: scikit-learn>=0.24 in /usr/local/lib/python3.7/dist-packages (from imbalanced-learn) (1.0.1)\n",
            "Requirement already satisfied: numpy>=1.13.3 in /usr/local/lib/python3.7/dist-packages (from imbalanced-learn) (1.19.5)\n",
            "Requirement already satisfied: scipy>=0.19.1 in /usr/local/lib/python3.7/dist-packages (from imbalanced-learn) (1.4.1)\n",
            "Requirement already satisfied: joblib>=0.11 in /usr/local/lib/python3.7/dist-packages (from imbalanced-learn) (1.1.0)\n",
            "Requirement already satisfied: threadpoolctl>=2.0.0 in /usr/local/lib/python3.7/dist-packages (from scikit-learn>=0.24->imbalanced-learn) (3.0.0)\n"
          ]
        }
      ]
    },
    {
      "cell_type": "code",
      "metadata": {
        "colab": {
          "base_uri": "https://localhost:8080/"
        },
        "id": "RrXhjp1higmF",
        "outputId": "4da6a8d2-57cf-41ee-d2c4-e69d655e6703"
      },
      "source": [
        "# mount drive and give path of dataset\n",
        "from google.colab import drive\n",
        "drive.mount('/content/drive')"
      ],
      "execution_count": 3,
      "outputs": [
        {
          "output_type": "stream",
          "name": "stdout",
          "text": [
            "Mounted at /content/drive\n"
          ]
        }
      ]
    },
    {
      "cell_type": "code",
      "metadata": {
        "id": "77bvdEJWQ3KP"
      },
      "source": [
        "data = pd.read_csv(\"/content/drive/MyDrive/Classification_cardiovascular/data_cardiovascular_risk.csv\")"
      ],
      "execution_count": 4,
      "outputs": []
    },
    {
      "cell_type": "code",
      "metadata": {
        "colab": {
          "base_uri": "https://localhost:8080/",
          "height": 206
        },
        "id": "VGHsMw34SSzp",
        "outputId": "5bf7cfbc-9d46-4c4a-915d-db92dbb992ab"
      },
      "source": [
        "##View first five rows of the dataframe\n",
        "data.sample(5)"
      ],
      "execution_count": 5,
      "outputs": [
        {
          "output_type": "execute_result",
          "data": {
            "text/html": [
              "\n",
              "  <div id=\"df-34e9a3d1-df80-4a01-8f76-035c63531b96\">\n",
              "    <div class=\"colab-df-container\">\n",
              "      <div>\n",
              "<style scoped>\n",
              "    .dataframe tbody tr th:only-of-type {\n",
              "        vertical-align: middle;\n",
              "    }\n",
              "\n",
              "    .dataframe tbody tr th {\n",
              "        vertical-align: top;\n",
              "    }\n",
              "\n",
              "    .dataframe thead th {\n",
              "        text-align: right;\n",
              "    }\n",
              "</style>\n",
              "<table border=\"1\" class=\"dataframe\">\n",
              "  <thead>\n",
              "    <tr style=\"text-align: right;\">\n",
              "      <th></th>\n",
              "      <th>id</th>\n",
              "      <th>age</th>\n",
              "      <th>education</th>\n",
              "      <th>sex</th>\n",
              "      <th>is_smoking</th>\n",
              "      <th>cigsPerDay</th>\n",
              "      <th>BPMeds</th>\n",
              "      <th>prevalentStroke</th>\n",
              "      <th>prevalentHyp</th>\n",
              "      <th>diabetes</th>\n",
              "      <th>totChol</th>\n",
              "      <th>sysBP</th>\n",
              "      <th>diaBP</th>\n",
              "      <th>BMI</th>\n",
              "      <th>heartRate</th>\n",
              "      <th>glucose</th>\n",
              "      <th>TenYearCHD</th>\n",
              "    </tr>\n",
              "  </thead>\n",
              "  <tbody>\n",
              "    <tr>\n",
              "      <th>1507</th>\n",
              "      <td>1507</td>\n",
              "      <td>36</td>\n",
              "      <td>1.0</td>\n",
              "      <td>M</td>\n",
              "      <td>NO</td>\n",
              "      <td>0.0</td>\n",
              "      <td>0.0</td>\n",
              "      <td>0</td>\n",
              "      <td>1</td>\n",
              "      <td>0</td>\n",
              "      <td>182.0</td>\n",
              "      <td>145.0</td>\n",
              "      <td>102.0</td>\n",
              "      <td>30.92</td>\n",
              "      <td>72.0</td>\n",
              "      <td>70.0</td>\n",
              "      <td>0</td>\n",
              "    </tr>\n",
              "    <tr>\n",
              "      <th>2576</th>\n",
              "      <td>2576</td>\n",
              "      <td>39</td>\n",
              "      <td>1.0</td>\n",
              "      <td>F</td>\n",
              "      <td>NO</td>\n",
              "      <td>0.0</td>\n",
              "      <td>0.0</td>\n",
              "      <td>0</td>\n",
              "      <td>0</td>\n",
              "      <td>0</td>\n",
              "      <td>153.0</td>\n",
              "      <td>107.0</td>\n",
              "      <td>82.0</td>\n",
              "      <td>20.99</td>\n",
              "      <td>75.0</td>\n",
              "      <td>82.0</td>\n",
              "      <td>0</td>\n",
              "    </tr>\n",
              "    <tr>\n",
              "      <th>2524</th>\n",
              "      <td>2524</td>\n",
              "      <td>67</td>\n",
              "      <td>1.0</td>\n",
              "      <td>F</td>\n",
              "      <td>NO</td>\n",
              "      <td>0.0</td>\n",
              "      <td>0.0</td>\n",
              "      <td>0</td>\n",
              "      <td>0</td>\n",
              "      <td>0</td>\n",
              "      <td>302.0</td>\n",
              "      <td>121.0</td>\n",
              "      <td>83.0</td>\n",
              "      <td>30.12</td>\n",
              "      <td>75.0</td>\n",
              "      <td>64.0</td>\n",
              "      <td>0</td>\n",
              "    </tr>\n",
              "    <tr>\n",
              "      <th>2712</th>\n",
              "      <td>2712</td>\n",
              "      <td>38</td>\n",
              "      <td>2.0</td>\n",
              "      <td>F</td>\n",
              "      <td>YES</td>\n",
              "      <td>5.0</td>\n",
              "      <td>0.0</td>\n",
              "      <td>0</td>\n",
              "      <td>0</td>\n",
              "      <td>0</td>\n",
              "      <td>193.0</td>\n",
              "      <td>107.0</td>\n",
              "      <td>73.0</td>\n",
              "      <td>20.73</td>\n",
              "      <td>85.0</td>\n",
              "      <td>72.0</td>\n",
              "      <td>0</td>\n",
              "    </tr>\n",
              "    <tr>\n",
              "      <th>2208</th>\n",
              "      <td>2208</td>\n",
              "      <td>48</td>\n",
              "      <td>3.0</td>\n",
              "      <td>F</td>\n",
              "      <td>NO</td>\n",
              "      <td>0.0</td>\n",
              "      <td>0.0</td>\n",
              "      <td>0</td>\n",
              "      <td>0</td>\n",
              "      <td>0</td>\n",
              "      <td>231.0</td>\n",
              "      <td>131.0</td>\n",
              "      <td>80.0</td>\n",
              "      <td>21.14</td>\n",
              "      <td>70.0</td>\n",
              "      <td>85.0</td>\n",
              "      <td>0</td>\n",
              "    </tr>\n",
              "  </tbody>\n",
              "</table>\n",
              "</div>\n",
              "      <button class=\"colab-df-convert\" onclick=\"convertToInteractive('df-34e9a3d1-df80-4a01-8f76-035c63531b96')\"\n",
              "              title=\"Convert this dataframe to an interactive table.\"\n",
              "              style=\"display:none;\">\n",
              "        \n",
              "  <svg xmlns=\"http://www.w3.org/2000/svg\" height=\"24px\"viewBox=\"0 0 24 24\"\n",
              "       width=\"24px\">\n",
              "    <path d=\"M0 0h24v24H0V0z\" fill=\"none\"/>\n",
              "    <path d=\"M18.56 5.44l.94 2.06.94-2.06 2.06-.94-2.06-.94-.94-2.06-.94 2.06-2.06.94zm-11 1L8.5 8.5l.94-2.06 2.06-.94-2.06-.94L8.5 2.5l-.94 2.06-2.06.94zm10 10l.94 2.06.94-2.06 2.06-.94-2.06-.94-.94-2.06-.94 2.06-2.06.94z\"/><path d=\"M17.41 7.96l-1.37-1.37c-.4-.4-.92-.59-1.43-.59-.52 0-1.04.2-1.43.59L10.3 9.45l-7.72 7.72c-.78.78-.78 2.05 0 2.83L4 21.41c.39.39.9.59 1.41.59.51 0 1.02-.2 1.41-.59l7.78-7.78 2.81-2.81c.8-.78.8-2.07 0-2.86zM5.41 20L4 18.59l7.72-7.72 1.47 1.35L5.41 20z\"/>\n",
              "  </svg>\n",
              "      </button>\n",
              "      \n",
              "  <style>\n",
              "    .colab-df-container {\n",
              "      display:flex;\n",
              "      flex-wrap:wrap;\n",
              "      gap: 12px;\n",
              "    }\n",
              "\n",
              "    .colab-df-convert {\n",
              "      background-color: #E8F0FE;\n",
              "      border: none;\n",
              "      border-radius: 50%;\n",
              "      cursor: pointer;\n",
              "      display: none;\n",
              "      fill: #1967D2;\n",
              "      height: 32px;\n",
              "      padding: 0 0 0 0;\n",
              "      width: 32px;\n",
              "    }\n",
              "\n",
              "    .colab-df-convert:hover {\n",
              "      background-color: #E2EBFA;\n",
              "      box-shadow: 0px 1px 2px rgba(60, 64, 67, 0.3), 0px 1px 3px 1px rgba(60, 64, 67, 0.15);\n",
              "      fill: #174EA6;\n",
              "    }\n",
              "\n",
              "    [theme=dark] .colab-df-convert {\n",
              "      background-color: #3B4455;\n",
              "      fill: #D2E3FC;\n",
              "    }\n",
              "\n",
              "    [theme=dark] .colab-df-convert:hover {\n",
              "      background-color: #434B5C;\n",
              "      box-shadow: 0px 1px 3px 1px rgba(0, 0, 0, 0.15);\n",
              "      filter: drop-shadow(0px 1px 2px rgba(0, 0, 0, 0.3));\n",
              "      fill: #FFFFFF;\n",
              "    }\n",
              "  </style>\n",
              "\n",
              "      <script>\n",
              "        const buttonEl =\n",
              "          document.querySelector('#df-34e9a3d1-df80-4a01-8f76-035c63531b96 button.colab-df-convert');\n",
              "        buttonEl.style.display =\n",
              "          google.colab.kernel.accessAllowed ? 'block' : 'none';\n",
              "\n",
              "        async function convertToInteractive(key) {\n",
              "          const element = document.querySelector('#df-34e9a3d1-df80-4a01-8f76-035c63531b96');\n",
              "          const dataTable =\n",
              "            await google.colab.kernel.invokeFunction('convertToInteractive',\n",
              "                                                     [key], {});\n",
              "          if (!dataTable) return;\n",
              "\n",
              "          const docLinkHtml = 'Like what you see? Visit the ' +\n",
              "            '<a target=\"_blank\" href=https://colab.research.google.com/notebooks/data_table.ipynb>data table notebook</a>'\n",
              "            + ' to learn more about interactive tables.';\n",
              "          element.innerHTML = '';\n",
              "          dataTable['output_type'] = 'display_data';\n",
              "          await google.colab.output.renderOutput(dataTable, element);\n",
              "          const docLink = document.createElement('div');\n",
              "          docLink.innerHTML = docLinkHtml;\n",
              "          element.appendChild(docLink);\n",
              "        }\n",
              "      </script>\n",
              "    </div>\n",
              "  </div>\n",
              "  "
            ],
            "text/plain": [
              "        id  age  education sex  ...    BMI  heartRate  glucose  TenYearCHD\n",
              "1507  1507   36        1.0   M  ...  30.92       72.0     70.0           0\n",
              "2576  2576   39        1.0   F  ...  20.99       75.0     82.0           0\n",
              "2524  2524   67        1.0   F  ...  30.12       75.0     64.0           0\n",
              "2712  2712   38        2.0   F  ...  20.73       85.0     72.0           0\n",
              "2208  2208   48        3.0   F  ...  21.14       70.0     85.0           0\n",
              "\n",
              "[5 rows x 17 columns]"
            ]
          },
          "metadata": {},
          "execution_count": 5
        }
      ]
    },
    {
      "cell_type": "code",
      "source": [
        "##View last five rows of the dataframe\n",
        "data.tail()"
      ],
      "metadata": {
        "colab": {
          "base_uri": "https://localhost:8080/",
          "height": 206
        },
        "id": "4FSgMFK76ERJ",
        "outputId": "1a827ef3-cfb1-4ff3-cf88-6264bdee3503"
      },
      "execution_count": 6,
      "outputs": [
        {
          "output_type": "execute_result",
          "data": {
            "text/html": [
              "\n",
              "  <div id=\"df-044a9652-cf2e-4167-8a39-747910e0c026\">\n",
              "    <div class=\"colab-df-container\">\n",
              "      <div>\n",
              "<style scoped>\n",
              "    .dataframe tbody tr th:only-of-type {\n",
              "        vertical-align: middle;\n",
              "    }\n",
              "\n",
              "    .dataframe tbody tr th {\n",
              "        vertical-align: top;\n",
              "    }\n",
              "\n",
              "    .dataframe thead th {\n",
              "        text-align: right;\n",
              "    }\n",
              "</style>\n",
              "<table border=\"1\" class=\"dataframe\">\n",
              "  <thead>\n",
              "    <tr style=\"text-align: right;\">\n",
              "      <th></th>\n",
              "      <th>id</th>\n",
              "      <th>age</th>\n",
              "      <th>education</th>\n",
              "      <th>sex</th>\n",
              "      <th>is_smoking</th>\n",
              "      <th>cigsPerDay</th>\n",
              "      <th>BPMeds</th>\n",
              "      <th>prevalentStroke</th>\n",
              "      <th>prevalentHyp</th>\n",
              "      <th>diabetes</th>\n",
              "      <th>totChol</th>\n",
              "      <th>sysBP</th>\n",
              "      <th>diaBP</th>\n",
              "      <th>BMI</th>\n",
              "      <th>heartRate</th>\n",
              "      <th>glucose</th>\n",
              "      <th>TenYearCHD</th>\n",
              "    </tr>\n",
              "  </thead>\n",
              "  <tbody>\n",
              "    <tr>\n",
              "      <th>3385</th>\n",
              "      <td>3385</td>\n",
              "      <td>60</td>\n",
              "      <td>1.0</td>\n",
              "      <td>F</td>\n",
              "      <td>NO</td>\n",
              "      <td>0.0</td>\n",
              "      <td>0.0</td>\n",
              "      <td>0</td>\n",
              "      <td>0</td>\n",
              "      <td>0</td>\n",
              "      <td>261.0</td>\n",
              "      <td>123.5</td>\n",
              "      <td>79.0</td>\n",
              "      <td>29.28</td>\n",
              "      <td>70.0</td>\n",
              "      <td>103.0</td>\n",
              "      <td>0</td>\n",
              "    </tr>\n",
              "    <tr>\n",
              "      <th>3386</th>\n",
              "      <td>3386</td>\n",
              "      <td>46</td>\n",
              "      <td>1.0</td>\n",
              "      <td>F</td>\n",
              "      <td>NO</td>\n",
              "      <td>0.0</td>\n",
              "      <td>0.0</td>\n",
              "      <td>0</td>\n",
              "      <td>0</td>\n",
              "      <td>0</td>\n",
              "      <td>199.0</td>\n",
              "      <td>102.0</td>\n",
              "      <td>56.0</td>\n",
              "      <td>21.96</td>\n",
              "      <td>80.0</td>\n",
              "      <td>84.0</td>\n",
              "      <td>0</td>\n",
              "    </tr>\n",
              "    <tr>\n",
              "      <th>3387</th>\n",
              "      <td>3387</td>\n",
              "      <td>44</td>\n",
              "      <td>3.0</td>\n",
              "      <td>M</td>\n",
              "      <td>YES</td>\n",
              "      <td>3.0</td>\n",
              "      <td>0.0</td>\n",
              "      <td>0</td>\n",
              "      <td>1</td>\n",
              "      <td>0</td>\n",
              "      <td>352.0</td>\n",
              "      <td>164.0</td>\n",
              "      <td>119.0</td>\n",
              "      <td>28.92</td>\n",
              "      <td>73.0</td>\n",
              "      <td>72.0</td>\n",
              "      <td>1</td>\n",
              "    </tr>\n",
              "    <tr>\n",
              "      <th>3388</th>\n",
              "      <td>3388</td>\n",
              "      <td>60</td>\n",
              "      <td>1.0</td>\n",
              "      <td>M</td>\n",
              "      <td>NO</td>\n",
              "      <td>0.0</td>\n",
              "      <td>NaN</td>\n",
              "      <td>0</td>\n",
              "      <td>1</td>\n",
              "      <td>0</td>\n",
              "      <td>191.0</td>\n",
              "      <td>167.0</td>\n",
              "      <td>105.0</td>\n",
              "      <td>23.01</td>\n",
              "      <td>80.0</td>\n",
              "      <td>85.0</td>\n",
              "      <td>0</td>\n",
              "    </tr>\n",
              "    <tr>\n",
              "      <th>3389</th>\n",
              "      <td>3389</td>\n",
              "      <td>54</td>\n",
              "      <td>3.0</td>\n",
              "      <td>F</td>\n",
              "      <td>NO</td>\n",
              "      <td>0.0</td>\n",
              "      <td>0.0</td>\n",
              "      <td>0</td>\n",
              "      <td>0</td>\n",
              "      <td>0</td>\n",
              "      <td>288.0</td>\n",
              "      <td>124.0</td>\n",
              "      <td>77.0</td>\n",
              "      <td>29.88</td>\n",
              "      <td>79.0</td>\n",
              "      <td>92.0</td>\n",
              "      <td>0</td>\n",
              "    </tr>\n",
              "  </tbody>\n",
              "</table>\n",
              "</div>\n",
              "      <button class=\"colab-df-convert\" onclick=\"convertToInteractive('df-044a9652-cf2e-4167-8a39-747910e0c026')\"\n",
              "              title=\"Convert this dataframe to an interactive table.\"\n",
              "              style=\"display:none;\">\n",
              "        \n",
              "  <svg xmlns=\"http://www.w3.org/2000/svg\" height=\"24px\"viewBox=\"0 0 24 24\"\n",
              "       width=\"24px\">\n",
              "    <path d=\"M0 0h24v24H0V0z\" fill=\"none\"/>\n",
              "    <path d=\"M18.56 5.44l.94 2.06.94-2.06 2.06-.94-2.06-.94-.94-2.06-.94 2.06-2.06.94zm-11 1L8.5 8.5l.94-2.06 2.06-.94-2.06-.94L8.5 2.5l-.94 2.06-2.06.94zm10 10l.94 2.06.94-2.06 2.06-.94-2.06-.94-.94-2.06-.94 2.06-2.06.94z\"/><path d=\"M17.41 7.96l-1.37-1.37c-.4-.4-.92-.59-1.43-.59-.52 0-1.04.2-1.43.59L10.3 9.45l-7.72 7.72c-.78.78-.78 2.05 0 2.83L4 21.41c.39.39.9.59 1.41.59.51 0 1.02-.2 1.41-.59l7.78-7.78 2.81-2.81c.8-.78.8-2.07 0-2.86zM5.41 20L4 18.59l7.72-7.72 1.47 1.35L5.41 20z\"/>\n",
              "  </svg>\n",
              "      </button>\n",
              "      \n",
              "  <style>\n",
              "    .colab-df-container {\n",
              "      display:flex;\n",
              "      flex-wrap:wrap;\n",
              "      gap: 12px;\n",
              "    }\n",
              "\n",
              "    .colab-df-convert {\n",
              "      background-color: #E8F0FE;\n",
              "      border: none;\n",
              "      border-radius: 50%;\n",
              "      cursor: pointer;\n",
              "      display: none;\n",
              "      fill: #1967D2;\n",
              "      height: 32px;\n",
              "      padding: 0 0 0 0;\n",
              "      width: 32px;\n",
              "    }\n",
              "\n",
              "    .colab-df-convert:hover {\n",
              "      background-color: #E2EBFA;\n",
              "      box-shadow: 0px 1px 2px rgba(60, 64, 67, 0.3), 0px 1px 3px 1px rgba(60, 64, 67, 0.15);\n",
              "      fill: #174EA6;\n",
              "    }\n",
              "\n",
              "    [theme=dark] .colab-df-convert {\n",
              "      background-color: #3B4455;\n",
              "      fill: #D2E3FC;\n",
              "    }\n",
              "\n",
              "    [theme=dark] .colab-df-convert:hover {\n",
              "      background-color: #434B5C;\n",
              "      box-shadow: 0px 1px 3px 1px rgba(0, 0, 0, 0.15);\n",
              "      filter: drop-shadow(0px 1px 2px rgba(0, 0, 0, 0.3));\n",
              "      fill: #FFFFFF;\n",
              "    }\n",
              "  </style>\n",
              "\n",
              "      <script>\n",
              "        const buttonEl =\n",
              "          document.querySelector('#df-044a9652-cf2e-4167-8a39-747910e0c026 button.colab-df-convert');\n",
              "        buttonEl.style.display =\n",
              "          google.colab.kernel.accessAllowed ? 'block' : 'none';\n",
              "\n",
              "        async function convertToInteractive(key) {\n",
              "          const element = document.querySelector('#df-044a9652-cf2e-4167-8a39-747910e0c026');\n",
              "          const dataTable =\n",
              "            await google.colab.kernel.invokeFunction('convertToInteractive',\n",
              "                                                     [key], {});\n",
              "          if (!dataTable) return;\n",
              "\n",
              "          const docLinkHtml = 'Like what you see? Visit the ' +\n",
              "            '<a target=\"_blank\" href=https://colab.research.google.com/notebooks/data_table.ipynb>data table notebook</a>'\n",
              "            + ' to learn more about interactive tables.';\n",
              "          element.innerHTML = '';\n",
              "          dataTable['output_type'] = 'display_data';\n",
              "          await google.colab.output.renderOutput(dataTable, element);\n",
              "          const docLink = document.createElement('div');\n",
              "          docLink.innerHTML = docLinkHtml;\n",
              "          element.appendChild(docLink);\n",
              "        }\n",
              "      </script>\n",
              "    </div>\n",
              "  </div>\n",
              "  "
            ],
            "text/plain": [
              "        id  age  education sex  ...    BMI  heartRate  glucose  TenYearCHD\n",
              "3385  3385   60        1.0   F  ...  29.28       70.0    103.0           0\n",
              "3386  3386   46        1.0   F  ...  21.96       80.0     84.0           0\n",
              "3387  3387   44        3.0   M  ...  28.92       73.0     72.0           1\n",
              "3388  3388   60        1.0   M  ...  23.01       80.0     85.0           0\n",
              "3389  3389   54        3.0   F  ...  29.88       79.0     92.0           0\n",
              "\n",
              "[5 rows x 17 columns]"
            ]
          },
          "metadata": {},
          "execution_count": 6
        }
      ]
    },
    {
      "cell_type": "code",
      "source": [
        "data.shape"
      ],
      "metadata": {
        "colab": {
          "base_uri": "https://localhost:8080/"
        },
        "id": "rN4oEVL8JNEv",
        "outputId": "d83cc72c-de67-4abf-d232-c421807b85e3"
      },
      "execution_count": 7,
      "outputs": [
        {
          "output_type": "execute_result",
          "data": {
            "text/plain": [
              "(3390, 17)"
            ]
          },
          "metadata": {},
          "execution_count": 7
        }
      ]
    },
    {
      "cell_type": "code",
      "source": [
        "data.info()"
      ],
      "metadata": {
        "colab": {
          "base_uri": "https://localhost:8080/"
        },
        "id": "prIKEI1CMIcl",
        "outputId": "01977a90-f919-4050-cafe-d4fa4c2efd73"
      },
      "execution_count": 9,
      "outputs": [
        {
          "output_type": "stream",
          "name": "stdout",
          "text": [
            "<class 'pandas.core.frame.DataFrame'>\n",
            "RangeIndex: 3390 entries, 0 to 3389\n",
            "Data columns (total 17 columns):\n",
            " #   Column           Non-Null Count  Dtype  \n",
            "---  ------           --------------  -----  \n",
            " 0   id               3390 non-null   int64  \n",
            " 1   age              3390 non-null   int64  \n",
            " 2   education        3303 non-null   float64\n",
            " 3   sex              3390 non-null   object \n",
            " 4   is_smoking       3390 non-null   object \n",
            " 5   cigsPerDay       3368 non-null   float64\n",
            " 6   BPMeds           3346 non-null   float64\n",
            " 7   prevalentStroke  3390 non-null   int64  \n",
            " 8   prevalentHyp     3390 non-null   int64  \n",
            " 9   diabetes         3390 non-null   int64  \n",
            " 10  totChol          3352 non-null   float64\n",
            " 11  sysBP            3390 non-null   float64\n",
            " 12  diaBP            3390 non-null   float64\n",
            " 13  BMI              3376 non-null   float64\n",
            " 14  heartRate        3389 non-null   float64\n",
            " 15  glucose          3086 non-null   float64\n",
            " 16  TenYearCHD       3390 non-null   int64  \n",
            "dtypes: float64(9), int64(6), object(2)\n",
            "memory usage: 450.4+ KB\n"
          ]
        }
      ]
    },
    {
      "cell_type": "markdown",
      "source": [
        "#Data Cleaning"
      ],
      "metadata": {
        "id": "2pqMwtch5fpq"
      }
    },
    {
      "cell_type": "code",
      "metadata": {
        "colab": {
          "base_uri": "https://localhost:8080/"
        },
        "id": "3f0zNcu7SZ0w",
        "outputId": "57ce32c6-8410-458f-ca5f-ee813957d92f"
      },
      "source": [
        "## Null value checks\n",
        "data.isna().sum()"
      ],
      "execution_count": 94,
      "outputs": [
        {
          "output_type": "execute_result",
          "data": {
            "text/plain": [
              "id                   0\n",
              "age                  0\n",
              "education           87\n",
              "sex                  0\n",
              "is_smoking           0\n",
              "cigsPerDay          22\n",
              "BPMeds              44\n",
              "prevalentStroke      0\n",
              "prevalentHyp         0\n",
              "diabetes             0\n",
              "totChol             38\n",
              "sysBP                0\n",
              "diaBP                0\n",
              "BMI                 14\n",
              "heartRate            1\n",
              "glucose            304\n",
              "TenYearCHD           0\n",
              "dtype: int64"
            ]
          },
          "metadata": {},
          "execution_count": 94
        }
      ]
    },
    {
      "cell_type": "code",
      "source": [
        "## Null values\n",
        "sns.heatmap(data.isnull(), yticklabels=False, cmap=\"viridis\")"
      ],
      "metadata": {
        "colab": {
          "base_uri": "https://localhost:8080/",
          "height": 355
        },
        "id": "iLcnzkMqAQhu",
        "outputId": "9e6e62a2-18fa-497e-f03f-1dd92ccb7e9a"
      },
      "execution_count": 95,
      "outputs": [
        {
          "output_type": "execute_result",
          "data": {
            "text/plain": [
              "<matplotlib.axes._subplots.AxesSubplot at 0x7fa95e905d90>"
            ]
          },
          "metadata": {},
          "execution_count": 95
        },
        {
          "output_type": "display_data",
          "data": {
            "image/png": "[encoded data removed]",
            "text/plain": [
              "<Figure size 432x288 with 2 Axes>"
            ]
          },
          "metadata": {
            "needs_background": "light"
          }
        }
      ]
    },
    {
      "cell_type": "markdown",
      "metadata": {
        "id": "Pe4hGyJ9WFqz"
      },
      "source": [
        "Dealing with null values"
      ]
    },
    {
      "cell_type": "code",
      "source": [
        "##Impute Missing values with Median. \n",
        "data['glucose'] = data['glucose'].fillna(data['glucose'].median())\n",
        "data['BPMeds'] = data['BPMeds'].fillna(data['BPMeds'].median())\n",
        "data['heartRate'] = data['heartRate'].fillna(data['heartRate'].median())\n",
        "data['BMI'] = data['BMI'].fillna(data['BMI'].median())\n",
        "data['totChol'] = data['totChol'].fillna(data['totChol'].median())\n",
        "data['education'] = data['education'].fillna(data['education'].median())\n",
        "\n"
      ],
      "metadata": {
        "id": "gMmkFPQ17qzQ"
      },
      "execution_count": 96,
      "outputs": []
    },
    {
      "cell_type": "code",
      "source": [
        "data.dropna(inplace=True)"
      ],
      "metadata": {
        "id": "R-THdr78ApI3"
      },
      "execution_count": 97,
      "outputs": []
    },
    {
      "cell_type": "code",
      "source": [
        "#Again checking null values \n",
        "sns.heatmap(data.isnull(), yticklabels=False, cmap=\"viridis\")"
      ],
      "metadata": {
        "colab": {
          "base_uri": "https://localhost:8080/",
          "height": 355
        },
        "id": "ovYYLTDpBT5m",
        "outputId": "6c4ac072-c9d8-4624-8cae-b308345967bb"
      },
      "execution_count": 98,
      "outputs": [
        {
          "output_type": "execute_result",
          "data": {
            "text/plain": [
              "<matplotlib.axes._subplots.AxesSubplot at 0x7fa95e8b0b50>"
            ]
          },
          "metadata": {},
          "execution_count": 98
        },
        {
          "output_type": "display_data",
          "data": {
            "image/png": "[encoded data removed]",
            "text/plain": [
              "<Figure size 432x288 with 2 Axes>"
            ]
          },
          "metadata": {
            "needs_background": "light"
          }
        }
      ]
    },
    {
      "cell_type": "code",
      "source": [
        "##Rechecking if we have any missing value left\n",
        "data.isnull().sum()"
      ],
      "metadata": {
        "colab": {
          "base_uri": "https://localhost:8080/"
        },
        "id": "hw3Wlf_kBqfO",
        "outputId": "1cc9d011-39f6-43a0-fe0c-bb52baf35e2d"
      },
      "execution_count": 99,
      "outputs": [
        {
          "output_type": "execute_result",
          "data": {
            "text/plain": [
              "id                 0\n",
              "age                0\n",
              "education          0\n",
              "sex                0\n",
              "is_smoking         0\n",
              "cigsPerDay         0\n",
              "BPMeds             0\n",
              "prevalentStroke    0\n",
              "prevalentHyp       0\n",
              "diabetes           0\n",
              "totChol            0\n",
              "sysBP              0\n",
              "diaBP              0\n",
              "BMI                0\n",
              "heartRate          0\n",
              "glucose            0\n",
              "TenYearCHD         0\n",
              "dtype: int64"
            ]
          },
          "metadata": {},
          "execution_count": 99
        }
      ]
    },
    {
      "cell_type": "code",
      "metadata": {
        "id": "G5LqrksjZXr4"
      },
      "source": [
        "data.drop(\"id\", axis=1, inplace=True)\n",
        "data.drop_duplicates(inplace=True)"
      ],
      "execution_count": 100,
      "outputs": []
    },
    {
      "cell_type": "code",
      "metadata": {
        "colab": {
          "base_uri": "https://localhost:8080/"
        },
        "id": "R8N8qfZRbdhm",
        "outputId": "5e8f3f9b-c9dc-411b-de97-cfc9a8bea17b"
      },
      "source": [
        "data.shape"
      ],
      "execution_count": 101,
      "outputs": [
        {
          "output_type": "execute_result",
          "data": {
            "text/plain": [
              "(3368, 16)"
            ]
          },
          "metadata": {},
          "execution_count": 101
        }
      ]
    },
    {
      "cell_type": "markdown",
      "metadata": {
        "id": "96OfYrIqb1Bs"
      },
      "source": [
        "here shape confirms that there are no duplicates and total columns reduced to 16"
      ]
    },
    {
      "cell_type": "markdown",
      "metadata": {
        "id": "LnBsRV6L0SGD"
      },
      "source": [
        "## Exploratory Data Analysis"
      ]
    },
    {
      "cell_type": "code",
      "source": [
        "#Descriptive Stats\n",
        "\n",
        "data.describe()"
      ],
      "metadata": {
        "colab": {
          "base_uri": "https://localhost:8080/",
          "height": 364
        },
        "id": "p0QyOgPD2BKh",
        "outputId": "973e701b-ae0c-4f4c-da1e-5ddb9785125c"
      },
      "execution_count": 102,
      "outputs": [
        {
          "output_type": "execute_result",
          "data": {
            "text/html": [
              "\n",
              "  <div id=\"df-1ab6ff4e-affd-4cee-9c02-2513849dc0d8\">\n",
              "    <div class=\"colab-df-container\">\n",
              "      <div>\n",
              "<style scoped>\n",
              "    .dataframe tbody tr th:only-of-type {\n",
              "        vertical-align: middle;\n",
              "    }\n",
              "\n",
              "    .dataframe tbody tr th {\n",
              "        vertical-align: top;\n",
              "    }\n",
              "\n",
              "    .dataframe thead th {\n",
              "        text-align: right;\n",
              "    }\n",
              "</style>\n",
              "<table border=\"1\" class=\"dataframe\">\n",
              "  <thead>\n",
              "    <tr style=\"text-align: right;\">\n",
              "      <th></th>\n",
              "      <th>age</th>\n",
              "      <th>education</th>\n",
              "      <th>cigsPerDay</th>\n",
              "      <th>BPMeds</th>\n",
              "      <th>prevalentStroke</th>\n",
              "      <th>prevalentHyp</th>\n",
              "      <th>diabetes</th>\n",
              "      <th>totChol</th>\n",
              "      <th>sysBP</th>\n",
              "      <th>diaBP</th>\n",
              "      <th>BMI</th>\n",
              "      <th>heartRate</th>\n",
              "      <th>glucose</th>\n",
              "      <th>TenYearCHD</th>\n",
              "    </tr>\n",
              "  </thead>\n",
              "  <tbody>\n",
              "    <tr>\n",
              "      <th>count</th>\n",
              "      <td>3368.000000</td>\n",
              "      <td>3368.000000</td>\n",
              "      <td>3368.000000</td>\n",
              "      <td>3368.000000</td>\n",
              "      <td>3368.000000</td>\n",
              "      <td>3368.000000</td>\n",
              "      <td>3368.000000</td>\n",
              "      <td>3368.000000</td>\n",
              "      <td>3368.000000</td>\n",
              "      <td>3368.00000</td>\n",
              "      <td>3368.000000</td>\n",
              "      <td>3368.000000</td>\n",
              "      <td>3368.000000</td>\n",
              "      <td>3368.000000</td>\n",
              "    </tr>\n",
              "    <tr>\n",
              "      <th>mean</th>\n",
              "      <td>49.543646</td>\n",
              "      <td>1.971200</td>\n",
              "      <td>9.069477</td>\n",
              "      <td>0.029691</td>\n",
              "      <td>0.006532</td>\n",
              "      <td>0.315914</td>\n",
              "      <td>0.025831</td>\n",
              "      <td>236.991686</td>\n",
              "      <td>132.601395</td>\n",
              "      <td>82.88465</td>\n",
              "      <td>25.796737</td>\n",
              "      <td>75.974762</td>\n",
              "      <td>81.692993</td>\n",
              "      <td>0.151425</td>\n",
              "    </tr>\n",
              "    <tr>\n",
              "      <th>std</th>\n",
              "      <td>8.603941</td>\n",
              "      <td>1.005805</td>\n",
              "      <td>11.879078</td>\n",
              "      <td>0.169759</td>\n",
              "      <td>0.080569</td>\n",
              "      <td>0.464948</td>\n",
              "      <td>0.158656</td>\n",
              "      <td>44.951744</td>\n",
              "      <td>22.300647</td>\n",
              "      <td>12.02176</td>\n",
              "      <td>4.114976</td>\n",
              "      <td>11.966154</td>\n",
              "      <td>23.198838</td>\n",
              "      <td>0.358516</td>\n",
              "    </tr>\n",
              "    <tr>\n",
              "      <th>min</th>\n",
              "      <td>32.000000</td>\n",
              "      <td>1.000000</td>\n",
              "      <td>0.000000</td>\n",
              "      <td>0.000000</td>\n",
              "      <td>0.000000</td>\n",
              "      <td>0.000000</td>\n",
              "      <td>0.000000</td>\n",
              "      <td>107.000000</td>\n",
              "      <td>83.500000</td>\n",
              "      <td>48.00000</td>\n",
              "      <td>15.960000</td>\n",
              "      <td>45.000000</td>\n",
              "      <td>40.000000</td>\n",
              "      <td>0.000000</td>\n",
              "    </tr>\n",
              "    <tr>\n",
              "      <th>25%</th>\n",
              "      <td>42.000000</td>\n",
              "      <td>1.000000</td>\n",
              "      <td>0.000000</td>\n",
              "      <td>0.000000</td>\n",
              "      <td>0.000000</td>\n",
              "      <td>0.000000</td>\n",
              "      <td>0.000000</td>\n",
              "      <td>206.000000</td>\n",
              "      <td>117.000000</td>\n",
              "      <td>74.50000</td>\n",
              "      <td>23.030000</td>\n",
              "      <td>68.000000</td>\n",
              "      <td>72.000000</td>\n",
              "      <td>0.000000</td>\n",
              "    </tr>\n",
              "    <tr>\n",
              "      <th>50%</th>\n",
              "      <td>49.000000</td>\n",
              "      <td>2.000000</td>\n",
              "      <td>0.000000</td>\n",
              "      <td>0.000000</td>\n",
              "      <td>0.000000</td>\n",
              "      <td>0.000000</td>\n",
              "      <td>0.000000</td>\n",
              "      <td>234.000000</td>\n",
              "      <td>128.500000</td>\n",
              "      <td>82.00000</td>\n",
              "      <td>25.380000</td>\n",
              "      <td>75.000000</td>\n",
              "      <td>78.000000</td>\n",
              "      <td>0.000000</td>\n",
              "    </tr>\n",
              "    <tr>\n",
              "      <th>75%</th>\n",
              "      <td>56.000000</td>\n",
              "      <td>3.000000</td>\n",
              "      <td>20.000000</td>\n",
              "      <td>0.000000</td>\n",
              "      <td>0.000000</td>\n",
              "      <td>1.000000</td>\n",
              "      <td>0.000000</td>\n",
              "      <td>264.000000</td>\n",
              "      <td>144.000000</td>\n",
              "      <td>90.00000</td>\n",
              "      <td>28.025000</td>\n",
              "      <td>83.000000</td>\n",
              "      <td>85.000000</td>\n",
              "      <td>0.000000</td>\n",
              "    </tr>\n",
              "    <tr>\n",
              "      <th>max</th>\n",
              "      <td>70.000000</td>\n",
              "      <td>4.000000</td>\n",
              "      <td>70.000000</td>\n",
              "      <td>1.000000</td>\n",
              "      <td>1.000000</td>\n",
              "      <td>1.000000</td>\n",
              "      <td>1.000000</td>\n",
              "      <td>696.000000</td>\n",
              "      <td>295.000000</td>\n",
              "      <td>142.50000</td>\n",
              "      <td>56.800000</td>\n",
              "      <td>143.000000</td>\n",
              "      <td>394.000000</td>\n",
              "      <td>1.000000</td>\n",
              "    </tr>\n",
              "  </tbody>\n",
              "</table>\n",
              "</div>\n",
              "      <button class=\"colab-df-convert\" onclick=\"convertToInteractive('df-1ab6ff4e-affd-4cee-9c02-2513849dc0d8')\"\n",
              "              title=\"Convert this dataframe to an interactive table.\"\n",
              "              style=\"display:none;\">\n",
              "        \n",
              "  <svg xmlns=\"http://www.w3.org/2000/svg\" height=\"24px\"viewBox=\"0 0 24 24\"\n",
              "       width=\"24px\">\n",
              "    <path d=\"M0 0h24v24H0V0z\" fill=\"none\"/>\n",
              "    <path d=\"M18.56 5.44l.94 2.06.94-2.06 2.06-.94-2.06-.94-.94-2.06-.94 2.06-2.06.94zm-11 1L8.5 8.5l.94-2.06 2.06-.94-2.06-.94L8.5 2.5l-.94 2.06-2.06.94zm10 10l.94 2.06.94-2.06 2.06-.94-2.06-.94-.94-2.06-.94 2.06-2.06.94z\"/><path d=\"M17.41 7.96l-1.37-1.37c-.4-.4-.92-.59-1.43-.59-.52 0-1.04.2-1.43.59L10.3 9.45l-7.72 7.72c-.78.78-.78 2.05 0 2.83L4 21.41c.39.39.9.59 1.41.59.51 0 1.02-.2 1.41-.59l7.78-7.78 2.81-2.81c.8-.78.8-2.07 0-2.86zM5.41 20L4 18.59l7.72-7.72 1.47 1.35L5.41 20z\"/>\n",
              "  </svg>\n",
              "      </button>\n",
              "      \n",
              "  <style>\n",
              "    .colab-df-container {\n",
              "      display:flex;\n",
              "      flex-wrap:wrap;\n",
              "      gap: 12px;\n",
              "    }\n",
              "\n",
              "    .colab-df-convert {\n",
              "      background-color: #E8F0FE;\n",
              "      border: none;\n",
              "      border-radius: 50%;\n",
              "      cursor: pointer;\n",
              "      display: none;\n",
              "      fill: #1967D2;\n",
              "      height: 32px;\n",
              "      padding: 0 0 0 0;\n",
              "      width: 32px;\n",
              "    }\n",
              "\n",
              "    .colab-df-convert:hover {\n",
              "      background-color: #E2EBFA;\n",
              "      box-shadow: 0px 1px 2px rgba(60, 64, 67, 0.3), 0px 1px 3px 1px rgba(60, 64, 67, 0.15);\n",
              "      fill: #174EA6;\n",
              "    }\n",
              "\n",
              "    [theme=dark] .colab-df-convert {\n",
              "      background-color: #3B4455;\n",
              "      fill: #D2E3FC;\n",
              "    }\n",
              "\n",
              "    [theme=dark] .colab-df-convert:hover {\n",
              "      background-color: #434B5C;\n",
              "      box-shadow: 0px 1px 3px 1px rgba(0, 0, 0, 0.15);\n",
              "      filter: drop-shadow(0px 1px 2px rgba(0, 0, 0, 0.3));\n",
              "      fill: #FFFFFF;\n",
              "    }\n",
              "  </style>\n",
              "\n",
              "      <script>\n",
              "        const buttonEl =\n",
              "          document.querySelector('#df-1ab6ff4e-affd-4cee-9c02-2513849dc0d8 button.colab-df-convert');\n",
              "        buttonEl.style.display =\n",
              "          google.colab.kernel.accessAllowed ? 'block' : 'none';\n",
              "\n",
              "        async function convertToInteractive(key) {\n",
              "          const element = document.querySelector('#df-1ab6ff4e-affd-4cee-9c02-2513849dc0d8');\n",
              "          const dataTable =\n",
              "            await google.colab.kernel.invokeFunction('convertToInteractive',\n",
              "                                                     [key], {});\n",
              "          if (!dataTable) return;\n",
              "\n",
              "          const docLinkHtml = 'Like what you see? Visit the ' +\n",
              "            '<a target=\"_blank\" href=https://colab.research.google.com/notebooks/data_table.ipynb>data table notebook</a>'\n",
              "            + ' to learn more about interactive tables.';\n",
              "          element.innerHTML = '';\n",
              "          dataTable['output_type'] = 'display_data';\n",
              "          await google.colab.output.renderOutput(dataTable, element);\n",
              "          const docLink = document.createElement('div');\n",
              "          docLink.innerHTML = docLinkHtml;\n",
              "          element.appendChild(docLink);\n",
              "        }\n",
              "      </script>\n",
              "    </div>\n",
              "  </div>\n",
              "  "
            ],
            "text/plain": [
              "               age    education  ...      glucose   TenYearCHD\n",
              "count  3368.000000  3368.000000  ...  3368.000000  3368.000000\n",
              "mean     49.543646     1.971200  ...    81.692993     0.151425\n",
              "std       8.603941     1.005805  ...    23.198838     0.358516\n",
              "min      32.000000     1.000000  ...    40.000000     0.000000\n",
              "25%      42.000000     1.000000  ...    72.000000     0.000000\n",
              "50%      49.000000     2.000000  ...    78.000000     0.000000\n",
              "75%      56.000000     3.000000  ...    85.000000     0.000000\n",
              "max      70.000000     4.000000  ...   394.000000     1.000000\n",
              "\n",
              "[8 rows x 14 columns]"
            ]
          },
          "metadata": {},
          "execution_count": 102
        }
      ]
    },
    {
      "cell_type": "markdown",
      "source": [
        "Observations :\n",
        "\n",
        "Some the features are Discrete so let us analyze continuous ones\n",
        "\n",
        "Age : We can see that Min. age of subject found in given records is 32 while Max. being 70. So our values are ranging from 32 to 70.\n",
        "\n",
        "cigsPerDay : Subject smoking Cig. per day is as low as nill while we have 70 Cigs. per day making the Peak.\n",
        "\n",
        "totChol : Min. Cholesterol level recorded in our dataset is 107 while Max. is 696.\n",
        "\n",
        "sysBP : Min. Systolic Blood Pressure observed in Subject is 83 while Max. is 295.\n",
        "\n",
        "diaBP : Min. Diastolic Blood Pressure observed in Subject is 48 while Max. is 142.\n",
        "\n",
        "BMI : Body Mass Index in our dataset ranges from 15.96 to 56.80.\n",
        "\n",
        "heartRate : Observed Heartrate in our case study is 44 to 143.\n",
        "\n",
        "glucose : Glucose sugar level range is 40 to 394\n",
        "\n",
        "\n",
        "\n"
      ],
      "metadata": {
        "id": "VYW35dWi2ua3"
      }
    },
    {
      "cell_type": "code",
      "source": [
        "#CHD by Gender Viz.\n",
        "\n",
        "sns.catplot(x='sex', hue='TenYearCHD', data=data, kind='count', palette='Dark2', height=6, legend=False)\n",
        "plt.xlabel('Gender')\n",
        "plt.xticks(ticks=[0,1], labels=['Female', 'Male'])\n",
        "plt.ylabel('No. of Patients')\n",
        "plt.legend(['Neg.', 'Pos.'])\n",
        "plt.title('CHD by Gender')"
      ],
      "metadata": {
        "colab": {
          "base_uri": "https://localhost:8080/",
          "height": 474
        },
        "id": "yhs9ZteF5JwU",
        "outputId": "dd953b36-39d7-4cad-eca1-bcf303a6100a"
      },
      "execution_count": 103,
      "outputs": [
        {
          "output_type": "execute_result",
          "data": {
            "text/plain": [
              "Text(0.5, 1.0, 'CHD by Gender')"
            ]
          },
          "metadata": {},
          "execution_count": 103
        },
        {
          "output_type": "display_data",
          "data": {
            "image/png": "[encoded data removed]",
            "text/plain": [
              "<Figure size 432x432 with 1 Axes>"
            ]
          },
          "metadata": {
            "needs_background": "light"
          }
        }
      ]
    },
    {
      "cell_type": "markdown",
      "source": [
        "Observations :\n",
        "\n",
        "Above Bivariate Analysis plot depicts Gender wise absence / presence of Chronic Heart Disease (CHD).\n",
        "\n",
        "Observations tells us that we've Excessive number of people who are not suffering from CHD.\n",
        "\n",
        "Negative : Approx. 80 to 90% of Females are falling in Negative Category while Approx. 60 to 70% of Males are in Negative Slot.\n",
        "\n",
        "Positive : While Approx. 10% of Females & Males are suffering from CHD.\n",
        "\n",
        "By this we can say that our Dataset is Imbalanced where Approx. 80 to 90% are Negative Classifications and Approx. 10 to 15% are Positive Classes."
      ],
      "metadata": {
        "id": "GRIwC7LKVzhg"
      }
    },
    {
      "cell_type": "code",
      "source": [
        "sns.displot(data['age'], bins=15, kde=True, color='maroon')\n",
        "plt.ylabel('Count')\n",
        "plt.title('Agewise distribution of the patients')"
      ],
      "metadata": {
        "colab": {
          "base_uri": "https://localhost:8080/",
          "height": 367
        },
        "id": "kNj9aySmWcRo",
        "outputId": "bbc58c37-14ea-449b-f0c3-a6645cfc25b6"
      },
      "execution_count": 104,
      "outputs": [
        {
          "output_type": "stream",
          "name": "stderr",
          "text": [
            "/usr/local/lib/python3.7/dist-packages/seaborn/distributions.py:2619: FutureWarning: `distplot` is a deprecated function and will be removed in a future version. Please adapt your code to use either `displot` (a figure-level function with similar flexibility) or `histplot` (an axes-level function for histograms).\n",
            "  warnings.warn(msg, FutureWarning)\n"
          ]
        },
        {
          "output_type": "execute_result",
          "data": {
            "text/plain": [
              "Text(0.5, 1.0, 'Agewise distribution of the patients')"
            ]
          },
          "metadata": {},
          "execution_count": 104
        },
        {
          "output_type": "display_data",
          "data": {
            "image/png": "[encoded data removed]",
            "text/plain": [
              "<Figure size 432x288 with 1 Axes>"
            ]
          },
          "metadata": {
            "needs_background": "light"
          }
        }
      ]
    },
    {
      "cell_type": "markdown",
      "source": [
        "Observation :\n",
        "\n",
        "Age ranging from 40 to 50 are in Majority followed by 50 to 70.\n",
        "\n",
        "Let us define a user-defined Function to encode Age."
      ],
      "metadata": {
        "id": "8BZFTB9OWsx0"
      }
    },
    {
      "cell_type": "code",
      "source": [
        "#User-defined function\n",
        "\n",
        "#Age encoding\n",
        "def encode_age(data):\n",
        "    if data <= 40:\n",
        "        return 0\n",
        "    if data > 40 and data <=55:\n",
        "        return 1\n",
        "    else:\n",
        "        return 2    \n",
        "\n",
        "#heart rate encoder\n",
        "def heartrate_enc(data):\n",
        "    if data <= 60:\n",
        "        return 0\n",
        "    if data > 60 and data <=100:\n",
        "        return 1\n",
        "    else:\n",
        "        return 2\n",
        "\n",
        "#applying functions\n",
        "data['enc_hr'] = data['heartRate'].apply(heartrate_enc)\n",
        "data['encode_age'] = data['age'].apply(lambda x : encode_age(x))"
      ],
      "metadata": {
        "id": "0oSIT0mqW6HI"
      },
      "execution_count": 105,
      "outputs": []
    },
    {
      "cell_type": "markdown",
      "source": [
        "Above Functions will Encode Age and Heart Rate.\n",
        "We can encode the Age Group Further :\n",
        "\n",
        "Subject with Age <= 40 are Adults.\n",
        "\n",
        "Subject with Age > 40 and <= 55 are Middle-Aged Adult.\n",
        "\n",
        "Subject Above 55 will fall in Senior Category.\n",
        "\n",
        "We'll Encode HeartRate as follows:\n",
        "\n",
        "HeartRate <= 60 is Low / Resting HeartBeat.\n",
        "\n",
        "HeartRate between 60 to 100 is considered as Normal.\n",
        "\n",
        "While, HeartRate above 100 is High.\n"
      ],
      "metadata": {
        "id": "AACLROMMXOuc"
      }
    },
    {
      "cell_type": "code",
      "source": [
        "#HeartRate (Grouped) Count\n",
        "\n",
        "plt.figure(figsize=(20,8))\n",
        "plt.subplots_adjust(wspace=0.3, hspace=0.3)\n",
        "\n",
        "plt.subplot(1, 2, 1)\n",
        "sns.countplot(data['enc_hr'], palette='Wistia')\n",
        "plt.title('HeartRate (Grouped)')\n",
        "plt.xticks([0,1,2], ['Low', 'Normal', 'High'])\n",
        "\n",
        "plt.subplot(1, 2, 2)\n",
        "sns.countplot(data['encode_age'])\n",
        "plt.xlabel('Age Group')\n",
        "plt.xticks(ticks=[0,1,2], labels=['Adults', 'Middle-Aged', 'Senior'])\n",
        "plt.title('Count by Age Group')\n"
      ],
      "metadata": {
        "colab": {
          "base_uri": "https://localhost:8080/",
          "height": 621
        },
        "id": "yevtSnHJXdwy",
        "outputId": "f559ea89-1a3a-4b7a-b443-3e01411552fb"
      },
      "execution_count": 106,
      "outputs": [
        {
          "output_type": "stream",
          "name": "stderr",
          "text": [
            "/usr/local/lib/python3.7/dist-packages/seaborn/_decorators.py:43: FutureWarning: Pass the following variable as a keyword arg: x. From version 0.12, the only valid positional argument will be `data`, and passing other arguments without an explicit keyword will result in an error or misinterpretation.\n",
            "  FutureWarning\n",
            "/usr/local/lib/python3.7/dist-packages/seaborn/_decorators.py:43: FutureWarning: Pass the following variable as a keyword arg: x. From version 0.12, the only valid positional argument will be `data`, and passing other arguments without an explicit keyword will result in an error or misinterpretation.\n",
            "  FutureWarning\n"
          ]
        },
        {
          "output_type": "execute_result",
          "data": {
            "text/plain": [
              "Text(0.5, 1.0, 'Count by Age Group')"
            ]
          },
          "metadata": {},
          "execution_count": 106
        },
        {
          "output_type": "display_data",
          "data": {
            "image/png": "[encoded data removed]",
            "text/plain": [
              "<Figure size 1440x576 with 2 Axes>"
            ]
          },
          "metadata": {
            "needs_background": "light"
          }
        }
      ]
    },
    {
      "cell_type": "markdown",
      "source": [
        "We can observe that Subject with Normal HeartRate are in Majority followed by \n",
        "Resting / Low HeartRate and High HeartRate.\n",
        "\n",
        "We've more number of Middle-Aged Adults in our Dataset followed by Seniors And then Adults"
      ],
      "metadata": {
        "id": "96ywXkQGXzW-"
      }
    },
    {
      "cell_type": "code",
      "source": [
        "#Violin Plot of Cigsperday by age group\n",
        "\n",
        "sns.catplot(data=data, x='encode_age', y='cigsPerDay', kind='violin', size=7, palette='Greys_r')\n",
        "plt.xlabel('Age Group / Gender')\n",
        "plt.ylabel('Cigs. / Day')\n",
        "plt.xticks(ticks=[0,1,2], labels=['Adults', 'Middle-Aged', 'Senior'])\n",
        "plt.title('Cigs. per day by Age Group')\n"
      ],
      "metadata": {
        "colab": {
          "base_uri": "https://localhost:8080/",
          "height": 580
        },
        "id": "G5IrZcmxY_qW",
        "outputId": "dd5379cc-b7fe-43f1-a544-c608a0310a4c"
      },
      "execution_count": 107,
      "outputs": [
        {
          "output_type": "stream",
          "name": "stderr",
          "text": [
            "/usr/local/lib/python3.7/dist-packages/seaborn/categorical.py:3750: UserWarning: The `size` parameter has been renamed to `height`; please update your code.\n",
            "  warnings.warn(msg, UserWarning)\n"
          ]
        },
        {
          "output_type": "execute_result",
          "data": {
            "text/plain": [
              "Text(0.5, 1.0, 'Cigs. per day by Age Group')"
            ]
          },
          "metadata": {},
          "execution_count": 107
        },
        {
          "output_type": "display_data",
          "data": {
            "image/png": "[encoded data removed]",
            "text/plain": [
              "<Figure size 504x504 with 1 Axes>"
            ]
          },
          "metadata": {
            "needs_background": "light"
          }
        }
      ]
    },
    {
      "cell_type": "markdown",
      "source": [
        "Observation :\n",
        "\n",
        "Adults : In Adults we can observe that Median values has Lower Kernel Density followed by 75% IQR's Density. While, 25% IQR marks the Higher Kernel Density.\n",
        "\n",
        "Middle-Aged : In Middle-Aged Group we can observe that 25% IQR & Median has Higher Kernel Density while 75% IQR has a quite Lower Kernel Density.\n",
        "\n",
        "Senior : In Seniority section we can observe that Median and 25% IQR are Closely Intact to each other having Higher Kernel Density, while 75% IQR got Lower Kernel Density."
      ],
      "metadata": {
        "id": "N8ol1quCZp5N"
      }
    },
    {
      "cell_type": "code",
      "source": [
        "#Target Class count\n",
        "\n",
        "plt.figure(figsize=(8,8))\n",
        "plt.pie(data['TenYearCHD'].value_counts(), labels=['Neg.','Pos.'], autopct='%1.2f%%', explode=[0,0.2], shadow=True, colors=['crimson','gold'])\n",
        "my_circle = plt.Circle( (0,0), 0.4, color='white')\n",
        "p = plt.gcf()\n",
        "p.gca().add_artist(my_circle)\n",
        "plt.title('Target Class Count')"
      ],
      "metadata": {
        "colab": {
          "base_uri": "https://localhost:8080/",
          "height": 499
        },
        "id": "jErcsLEiZ8hp",
        "outputId": "0690df70-08d6-4eb4-c690-89a5bde06854"
      },
      "execution_count": 108,
      "outputs": [
        {
          "output_type": "execute_result",
          "data": {
            "text/plain": [
              "Text(0.5, 1.0, 'Target Class Count')"
            ]
          },
          "metadata": {},
          "execution_count": 108
        },
        {
          "output_type": "display_data",
          "data": {
            "image/png": "[encoded data removed]",
            "text/plain": [
              "<Figure size 576x576 with 1 Axes>"
            ]
          },
          "metadata": {}
        }
      ]
    },
    {
      "cell_type": "markdown",
      "source": [
        "Observations :\n",
        "\n",
        "We can see that we've Imbalanced Dataset here having ratio of 85:15 where Positive Class is Minor.\n",
        "\n",
        "We'll need to balance the Dataset in this case to get the best out of it.\n",
        "\n"
      ],
      "metadata": {
        "id": "wDXD4l4Yaafv"
      }
    },
    {
      "cell_type": "code",
      "metadata": {
        "colab": {
          "base_uri": "https://localhost:8080/",
          "height": 863
        },
        "id": "tWu-eUp62FK0",
        "outputId": "21b63706-1c59-4f8a-d05b-22c024703cb8"
      },
      "source": [
        "# Correlation\n",
        "df_corr = data.corr()\n",
        "\n",
        "plt.figure(figsize=(15, 15))\n",
        "sns.heatmap(df_corr, cbar = True,  square = True, annot=True, fmt= '.2f',annot_kws={'size': 15},\n",
        "           cmap= 'coolwarm')\n",
        "plt.title('Correlation between features');\n"
      ],
      "execution_count": 109,
      "outputs": [
        {
          "output_type": "display_data",
          "data": {
            "image/png": "[encoded data removed]",
            "text/plain": [
              "<Figure size 1080x1080 with 2 Axes>"
            ]
          },
          "metadata": {
            "needs_background": "light"
          }
        }
      ]
    },
    {
      "cell_type": "markdown",
      "source": [
        "###Observations :\n",
        "\n",
        "Correlation plot gives us valuable information regarding Relation within Attributes. It can Either be Negative or Positive or Nill. We need to always keep 1 feature from 2 Strongly Correlated ones\n",
        "\n",
        "currentSmoker & cigsPerDay has strong Correlation of 77\n",
        "\n",
        "prevalentHyp vs sysBP / diaBP are having Positive Correlation of 70 and 61.\n",
        "\n",
        "While, glucose & diabetes are postively Correlated.\n",
        "\n",
        "sysBP & diaBP are also having Positive Correlation."
      ],
      "metadata": {
        "id": "xvyHk1n0ia7O"
      }
    },
    {
      "cell_type": "code",
      "source": [
        "#We're dropping few features here because they are Positively Correlated (As we saw in Correlation Plot)\n",
        "data.drop(\"is_smoking\", axis=1, inplace=True)\n",
        "data.drop(\"glucose\", axis=1, inplace=True)\n",
        "data.drop(\"sysBP\", axis=1, inplace=True)\n",
        "data.drop(\"prevalentHyp\", axis=1, inplace=True)\n",
        "data.drop(\"encode_age\", axis=1, inplace=True)\n",
        "data.drop(\"enc_hr\", axis=1, inplace=True)\n",
        "data.drop(\"education\", axis=1, inplace=True)\n",
        "data.head()"
      ],
      "metadata": {
        "colab": {
          "base_uri": "https://localhost:8080/",
          "height": 206
        },
        "id": "LjfXWXnenBwJ",
        "outputId": "05dfd91a-0401-4adf-e6cf-46277b07c955"
      },
      "execution_count": 110,
      "outputs": [
        {
          "output_type": "execute_result",
          "data": {
            "text/html": [
              "\n",
              "  <div id=\"df-a3cb9d1a-2411-4df2-b02f-9c4208a8eb03\">\n",
              "    <div class=\"colab-df-container\">\n",
              "      <div>\n",
              "<style scoped>\n",
              "    .dataframe tbody tr th:only-of-type {\n",
              "        vertical-align: middle;\n",
              "    }\n",
              "\n",
              "    .dataframe tbody tr th {\n",
              "        vertical-align: top;\n",
              "    }\n",
              "\n",
              "    .dataframe thead th {\n",
              "        text-align: right;\n",
              "    }\n",
              "</style>\n",
              "<table border=\"1\" class=\"dataframe\">\n",
              "  <thead>\n",
              "    <tr style=\"text-align: right;\">\n",
              "      <th></th>\n",
              "      <th>age</th>\n",
              "      <th>sex</th>\n",
              "      <th>cigsPerDay</th>\n",
              "      <th>BPMeds</th>\n",
              "      <th>prevalentStroke</th>\n",
              "      <th>diabetes</th>\n",
              "      <th>totChol</th>\n",
              "      <th>diaBP</th>\n",
              "      <th>BMI</th>\n",
              "      <th>heartRate</th>\n",
              "      <th>TenYearCHD</th>\n",
              "    </tr>\n",
              "  </thead>\n",
              "  <tbody>\n",
              "    <tr>\n",
              "      <th>0</th>\n",
              "      <td>64</td>\n",
              "      <td>F</td>\n",
              "      <td>3.0</td>\n",
              "      <td>0.0</td>\n",
              "      <td>0</td>\n",
              "      <td>0</td>\n",
              "      <td>221.0</td>\n",
              "      <td>85.0</td>\n",
              "      <td>25.38</td>\n",
              "      <td>90.0</td>\n",
              "      <td>1</td>\n",
              "    </tr>\n",
              "    <tr>\n",
              "      <th>1</th>\n",
              "      <td>36</td>\n",
              "      <td>M</td>\n",
              "      <td>0.0</td>\n",
              "      <td>0.0</td>\n",
              "      <td>0</td>\n",
              "      <td>0</td>\n",
              "      <td>212.0</td>\n",
              "      <td>98.0</td>\n",
              "      <td>29.77</td>\n",
              "      <td>72.0</td>\n",
              "      <td>0</td>\n",
              "    </tr>\n",
              "    <tr>\n",
              "      <th>2</th>\n",
              "      <td>46</td>\n",
              "      <td>F</td>\n",
              "      <td>10.0</td>\n",
              "      <td>0.0</td>\n",
              "      <td>0</td>\n",
              "      <td>0</td>\n",
              "      <td>250.0</td>\n",
              "      <td>71.0</td>\n",
              "      <td>20.35</td>\n",
              "      <td>88.0</td>\n",
              "      <td>0</td>\n",
              "    </tr>\n",
              "    <tr>\n",
              "      <th>3</th>\n",
              "      <td>50</td>\n",
              "      <td>M</td>\n",
              "      <td>20.0</td>\n",
              "      <td>0.0</td>\n",
              "      <td>0</td>\n",
              "      <td>0</td>\n",
              "      <td>233.0</td>\n",
              "      <td>88.0</td>\n",
              "      <td>28.26</td>\n",
              "      <td>68.0</td>\n",
              "      <td>1</td>\n",
              "    </tr>\n",
              "    <tr>\n",
              "      <th>4</th>\n",
              "      <td>64</td>\n",
              "      <td>F</td>\n",
              "      <td>30.0</td>\n",
              "      <td>0.0</td>\n",
              "      <td>0</td>\n",
              "      <td>0</td>\n",
              "      <td>241.0</td>\n",
              "      <td>85.0</td>\n",
              "      <td>26.42</td>\n",
              "      <td>70.0</td>\n",
              "      <td>0</td>\n",
              "    </tr>\n",
              "  </tbody>\n",
              "</table>\n",
              "</div>\n",
              "      <button class=\"colab-df-convert\" onclick=\"convertToInteractive('df-a3cb9d1a-2411-4df2-b02f-9c4208a8eb03')\"\n",
              "              title=\"Convert this dataframe to an interactive table.\"\n",
              "              style=\"display:none;\">\n",
              "        \n",
              "  <svg xmlns=\"http://www.w3.org/2000/svg\" height=\"24px\"viewBox=\"0 0 24 24\"\n",
              "       width=\"24px\">\n",
              "    <path d=\"M0 0h24v24H0V0z\" fill=\"none\"/>\n",
              "    <path d=\"M18.56 5.44l.94 2.06.94-2.06 2.06-.94-2.06-.94-.94-2.06-.94 2.06-2.06.94zm-11 1L8.5 8.5l.94-2.06 2.06-.94-2.06-.94L8.5 2.5l-.94 2.06-2.06.94zm10 10l.94 2.06.94-2.06 2.06-.94-2.06-.94-.94-2.06-.94 2.06-2.06.94z\"/><path d=\"M17.41 7.96l-1.37-1.37c-.4-.4-.92-.59-1.43-.59-.52 0-1.04.2-1.43.59L10.3 9.45l-7.72 7.72c-.78.78-.78 2.05 0 2.83L4 21.41c.39.39.9.59 1.41.59.51 0 1.02-.2 1.41-.59l7.78-7.78 2.81-2.81c.8-.78.8-2.07 0-2.86zM5.41 20L4 18.59l7.72-7.72 1.47 1.35L5.41 20z\"/>\n",
              "  </svg>\n",
              "      </button>\n",
              "      \n",
              "  <style>\n",
              "    .colab-df-container {\n",
              "      display:flex;\n",
              "      flex-wrap:wrap;\n",
              "      gap: 12px;\n",
              "    }\n",
              "\n",
              "    .colab-df-convert {\n",
              "      background-color: #E8F0FE;\n",
              "      border: none;\n",
              "      border-radius: 50%;\n",
              "      cursor: pointer;\n",
              "      display: none;\n",
              "      fill: #1967D2;\n",
              "      height: 32px;\n",
              "      padding: 0 0 0 0;\n",
              "      width: 32px;\n",
              "    }\n",
              "\n",
              "    .colab-df-convert:hover {\n",
              "      background-color: #E2EBFA;\n",
              "      box-shadow: 0px 1px 2px rgba(60, 64, 67, 0.3), 0px 1px 3px 1px rgba(60, 64, 67, 0.15);\n",
              "      fill: #174EA6;\n",
              "    }\n",
              "\n",
              "    [theme=dark] .colab-df-convert {\n",
              "      background-color: #3B4455;\n",
              "      fill: #D2E3FC;\n",
              "    }\n",
              "\n",
              "    [theme=dark] .colab-df-convert:hover {\n",
              "      background-color: #434B5C;\n",
              "      box-shadow: 0px 1px 3px 1px rgba(0, 0, 0, 0.15);\n",
              "      filter: drop-shadow(0px 1px 2px rgba(0, 0, 0, 0.3));\n",
              "      fill: #FFFFFF;\n",
              "    }\n",
              "  </style>\n",
              "\n",
              "      <script>\n",
              "        const buttonEl =\n",
              "          document.querySelector('#df-a3cb9d1a-2411-4df2-b02f-9c4208a8eb03 button.colab-df-convert');\n",
              "        buttonEl.style.display =\n",
              "          google.colab.kernel.accessAllowed ? 'block' : 'none';\n",
              "\n",
              "        async function convertToInteractive(key) {\n",
              "          const element = document.querySelector('#df-a3cb9d1a-2411-4df2-b02f-9c4208a8eb03');\n",
              "          const dataTable =\n",
              "            await google.colab.kernel.invokeFunction('convertToInteractive',\n",
              "                                                     [key], {});\n",
              "          if (!dataTable) return;\n",
              "\n",
              "          const docLinkHtml = 'Like what you see? Visit the ' +\n",
              "            '<a target=\"_blank\" href=https://colab.research.google.com/notebooks/data_table.ipynb>data table notebook</a>'\n",
              "            + ' to learn more about interactive tables.';\n",
              "          element.innerHTML = '';\n",
              "          dataTable['output_type'] = 'display_data';\n",
              "          await google.colab.output.renderOutput(dataTable, element);\n",
              "          const docLink = document.createElement('div');\n",
              "          docLink.innerHTML = docLinkHtml;\n",
              "          element.appendChild(docLink);\n",
              "        }\n",
              "      </script>\n",
              "    </div>\n",
              "  </div>\n",
              "  "
            ],
            "text/plain": [
              "   age sex  cigsPerDay  BPMeds  ...  diaBP    BMI  heartRate  TenYearCHD\n",
              "0   64   F         3.0     0.0  ...   85.0  25.38       90.0           1\n",
              "1   36   M         0.0     0.0  ...   98.0  29.77       72.0           0\n",
              "2   46   F        10.0     0.0  ...   71.0  20.35       88.0           0\n",
              "3   50   M        20.0     0.0  ...   88.0  28.26       68.0           1\n",
              "4   64   F        30.0     0.0  ...   85.0  26.42       70.0           0\n",
              "\n",
              "[5 rows x 11 columns]"
            ]
          },
          "metadata": {},
          "execution_count": 110
        }
      ]
    },
    {
      "cell_type": "code",
      "source": [
        "# Correlation\n",
        "df_corr = data.corr()\n",
        "\n",
        "plt.figure(figsize=(15, 15))\n",
        "sns.heatmap(df_corr, cbar = True,  square = True, annot=True, fmt= '.2f',annot_kws={'size': 15},\n",
        "           cmap= 'coolwarm')\n",
        "plt.title('Correlation between features');"
      ],
      "metadata": {
        "colab": {
          "base_uri": "https://localhost:8080/",
          "height": 850
        },
        "id": "CjtDtAcbnBo-",
        "outputId": "02ea9a12-18fe-4004-f561-5036a0c04e79"
      },
      "execution_count": 111,
      "outputs": [
        {
          "output_type": "display_data",
          "data": {
            "image/png": "[encoded data removed]",
            "text/plain": [
              "<Figure size 1080x1080 with 2 Axes>"
            ]
          },
          "metadata": {
            "needs_background": "light"
          }
        }
      ]
    },
    {
      "cell_type": "markdown",
      "metadata": {
        "id": "c9G0Z7QOdXEu"
      },
      "source": [
        "##Dealing with object type variables "
      ]
    },
    {
      "cell_type": "code",
      "source": [
        "data.info()"
      ],
      "metadata": {
        "colab": {
          "base_uri": "https://localhost:8080/"
        },
        "id": "WRjXhZgcEFhp",
        "outputId": "24ddbc02-9945-4a91-bab6-9c6acd47d79a"
      },
      "execution_count": 112,
      "outputs": [
        {
          "output_type": "stream",
          "name": "stdout",
          "text": [
            "<class 'pandas.core.frame.DataFrame'>\n",
            "Int64Index: 3368 entries, 0 to 3389\n",
            "Data columns (total 11 columns):\n",
            " #   Column           Non-Null Count  Dtype  \n",
            "---  ------           --------------  -----  \n",
            " 0   age              3368 non-null   int64  \n",
            " 1   sex              3368 non-null   object \n",
            " 2   cigsPerDay       3368 non-null   float64\n",
            " 3   BPMeds           3368 non-null   float64\n",
            " 4   prevalentStroke  3368 non-null   int64  \n",
            " 5   diabetes         3368 non-null   int64  \n",
            " 6   totChol          3368 non-null   float64\n",
            " 7   diaBP            3368 non-null   float64\n",
            " 8   BMI              3368 non-null   float64\n",
            " 9   heartRate        3368 non-null   float64\n",
            " 10  TenYearCHD       3368 non-null   int64  \n",
            "dtypes: float64(6), int64(4), object(1)\n",
            "memory usage: 475.8+ KB\n"
          ]
        }
      ]
    },
    {
      "cell_type": "code",
      "source": [
        "## Encoding Assortment with numerical values\n",
        "data['sex']=data['sex'].apply(lambda x: 1 if x=='M' else 0)\n",
        "#data['is_smoking']=data['is_smoking'].apply(lambda x: 1 if x=='YES' else 0)"
      ],
      "metadata": {
        "id": "E0hQQ02DFNTg"
      },
      "execution_count": 113,
      "outputs": []
    },
    {
      "cell_type": "code",
      "source": [
        "data.head()"
      ],
      "metadata": {
        "colab": {
          "base_uri": "https://localhost:8080/",
          "height": 206
        },
        "id": "WFcFCJX2F_Ne",
        "outputId": "dab663bb-be58-4393-8edc-d567ce9b5d17"
      },
      "execution_count": 114,
      "outputs": [
        {
          "output_type": "execute_result",
          "data": {
            "text/html": [
              "\n",
              "  <div id=\"df-77996dd4-974b-45a4-854f-77acb9e352d7\">\n",
              "    <div class=\"colab-df-container\">\n",
              "      <div>\n",
              "<style scoped>\n",
              "    .dataframe tbody tr th:only-of-type {\n",
              "        vertical-align: middle;\n",
              "    }\n",
              "\n",
              "    .dataframe tbody tr th {\n",
              "        vertical-align: top;\n",
              "    }\n",
              "\n",
              "    .dataframe thead th {\n",
              "        text-align: right;\n",
              "    }\n",
              "</style>\n",
              "<table border=\"1\" class=\"dataframe\">\n",
              "  <thead>\n",
              "    <tr style=\"text-align: right;\">\n",
              "      <th></th>\n",
              "      <th>age</th>\n",
              "      <th>sex</th>\n",
              "      <th>cigsPerDay</th>\n",
              "      <th>BPMeds</th>\n",
              "      <th>prevalentStroke</th>\n",
              "      <th>diabetes</th>\n",
              "      <th>totChol</th>\n",
              "      <th>diaBP</th>\n",
              "      <th>BMI</th>\n",
              "      <th>heartRate</th>\n",
              "      <th>TenYearCHD</th>\n",
              "    </tr>\n",
              "  </thead>\n",
              "  <tbody>\n",
              "    <tr>\n",
              "      <th>0</th>\n",
              "      <td>64</td>\n",
              "      <td>0</td>\n",
              "      <td>3.0</td>\n",
              "      <td>0.0</td>\n",
              "      <td>0</td>\n",
              "      <td>0</td>\n",
              "      <td>221.0</td>\n",
              "      <td>85.0</td>\n",
              "      <td>25.38</td>\n",
              "      <td>90.0</td>\n",
              "      <td>1</td>\n",
              "    </tr>\n",
              "    <tr>\n",
              "      <th>1</th>\n",
              "      <td>36</td>\n",
              "      <td>1</td>\n",
              "      <td>0.0</td>\n",
              "      <td>0.0</td>\n",
              "      <td>0</td>\n",
              "      <td>0</td>\n",
              "      <td>212.0</td>\n",
              "      <td>98.0</td>\n",
              "      <td>29.77</td>\n",
              "      <td>72.0</td>\n",
              "      <td>0</td>\n",
              "    </tr>\n",
              "    <tr>\n",
              "      <th>2</th>\n",
              "      <td>46</td>\n",
              "      <td>0</td>\n",
              "      <td>10.0</td>\n",
              "      <td>0.0</td>\n",
              "      <td>0</td>\n",
              "      <td>0</td>\n",
              "      <td>250.0</td>\n",
              "      <td>71.0</td>\n",
              "      <td>20.35</td>\n",
              "      <td>88.0</td>\n",
              "      <td>0</td>\n",
              "    </tr>\n",
              "    <tr>\n",
              "      <th>3</th>\n",
              "      <td>50</td>\n",
              "      <td>1</td>\n",
              "      <td>20.0</td>\n",
              "      <td>0.0</td>\n",
              "      <td>0</td>\n",
              "      <td>0</td>\n",
              "      <td>233.0</td>\n",
              "      <td>88.0</td>\n",
              "      <td>28.26</td>\n",
              "      <td>68.0</td>\n",
              "      <td>1</td>\n",
              "    </tr>\n",
              "    <tr>\n",
              "      <th>4</th>\n",
              "      <td>64</td>\n",
              "      <td>0</td>\n",
              "      <td>30.0</td>\n",
              "      <td>0.0</td>\n",
              "      <td>0</td>\n",
              "      <td>0</td>\n",
              "      <td>241.0</td>\n",
              "      <td>85.0</td>\n",
              "      <td>26.42</td>\n",
              "      <td>70.0</td>\n",
              "      <td>0</td>\n",
              "    </tr>\n",
              "  </tbody>\n",
              "</table>\n",
              "</div>\n",
              "      <button class=\"colab-df-convert\" onclick=\"convertToInteractive('df-77996dd4-974b-45a4-854f-77acb9e352d7')\"\n",
              "              title=\"Convert this dataframe to an interactive table.\"\n",
              "              style=\"display:none;\">\n",
              "        \n",
              "  <svg xmlns=\"http://www.w3.org/2000/svg\" height=\"24px\"viewBox=\"0 0 24 24\"\n",
              "       width=\"24px\">\n",
              "    <path d=\"M0 0h24v24H0V0z\" fill=\"none\"/>\n",
              "    <path d=\"M18.56 5.44l.94 2.06.94-2.06 2.06-.94-2.06-.94-.94-2.06-.94 2.06-2.06.94zm-11 1L8.5 8.5l.94-2.06 2.06-.94-2.06-.94L8.5 2.5l-.94 2.06-2.06.94zm10 10l.94 2.06.94-2.06 2.06-.94-2.06-.94-.94-2.06-.94 2.06-2.06.94z\"/><path d=\"M17.41 7.96l-1.37-1.37c-.4-.4-.92-.59-1.43-.59-.52 0-1.04.2-1.43.59L10.3 9.45l-7.72 7.72c-.78.78-.78 2.05 0 2.83L4 21.41c.39.39.9.59 1.41.59.51 0 1.02-.2 1.41-.59l7.78-7.78 2.81-2.81c.8-.78.8-2.07 0-2.86zM5.41 20L4 18.59l7.72-7.72 1.47 1.35L5.41 20z\"/>\n",
              "  </svg>\n",
              "      </button>\n",
              "      \n",
              "  <style>\n",
              "    .colab-df-container {\n",
              "      display:flex;\n",
              "      flex-wrap:wrap;\n",
              "      gap: 12px;\n",
              "    }\n",
              "\n",
              "    .colab-df-convert {\n",
              "      background-color: #E8F0FE;\n",
              "      border: none;\n",
              "      border-radius: 50%;\n",
              "      cursor: pointer;\n",
              "      display: none;\n",
              "      fill: #1967D2;\n",
              "      height: 32px;\n",
              "      padding: 0 0 0 0;\n",
              "      width: 32px;\n",
              "    }\n",
              "\n",
              "    .colab-df-convert:hover {\n",
              "      background-color: #E2EBFA;\n",
              "      box-shadow: 0px 1px 2px rgba(60, 64, 67, 0.3), 0px 1px 3px 1px rgba(60, 64, 67, 0.15);\n",
              "      fill: #174EA6;\n",
              "    }\n",
              "\n",
              "    [theme=dark] .colab-df-convert {\n",
              "      background-color: #3B4455;\n",
              "      fill: #D2E3FC;\n",
              "    }\n",
              "\n",
              "    [theme=dark] .colab-df-convert:hover {\n",
              "      background-color: #434B5C;\n",
              "      box-shadow: 0px 1px 3px 1px rgba(0, 0, 0, 0.15);\n",
              "      filter: drop-shadow(0px 1px 2px rgba(0, 0, 0, 0.3));\n",
              "      fill: #FFFFFF;\n",
              "    }\n",
              "  </style>\n",
              "\n",
              "      <script>\n",
              "        const buttonEl =\n",
              "          document.querySelector('#df-77996dd4-974b-45a4-854f-77acb9e352d7 button.colab-df-convert');\n",
              "        buttonEl.style.display =\n",
              "          google.colab.kernel.accessAllowed ? 'block' : 'none';\n",
              "\n",
              "        async function convertToInteractive(key) {\n",
              "          const element = document.querySelector('#df-77996dd4-974b-45a4-854f-77acb9e352d7');\n",
              "          const dataTable =\n",
              "            await google.colab.kernel.invokeFunction('convertToInteractive',\n",
              "                                                     [key], {});\n",
              "          if (!dataTable) return;\n",
              "\n",
              "          const docLinkHtml = 'Like what you see? Visit the ' +\n",
              "            '<a target=\"_blank\" href=https://colab.research.google.com/notebooks/data_table.ipynb>data table notebook</a>'\n",
              "            + ' to learn more about interactive tables.';\n",
              "          element.innerHTML = '';\n",
              "          dataTable['output_type'] = 'display_data';\n",
              "          await google.colab.output.renderOutput(dataTable, element);\n",
              "          const docLink = document.createElement('div');\n",
              "          docLink.innerHTML = docLinkHtml;\n",
              "          element.appendChild(docLink);\n",
              "        }\n",
              "      </script>\n",
              "    </div>\n",
              "  </div>\n",
              "  "
            ],
            "text/plain": [
              "   age  sex  cigsPerDay  BPMeds  ...  diaBP    BMI  heartRate  TenYearCHD\n",
              "0   64    0         3.0     0.0  ...   85.0  25.38       90.0           1\n",
              "1   36    1         0.0     0.0  ...   98.0  29.77       72.0           0\n",
              "2   46    0        10.0     0.0  ...   71.0  20.35       88.0           0\n",
              "3   50    1        20.0     0.0  ...   88.0  28.26       68.0           1\n",
              "4   64    0        30.0     0.0  ...   85.0  26.42       70.0           0\n",
              "\n",
              "[5 rows x 11 columns]"
            ]
          },
          "metadata": {},
          "execution_count": 114
        }
      ]
    },
    {
      "cell_type": "markdown",
      "metadata": {
        "id": "sWpE02PYf8Qy"
      },
      "source": [
        "## Data prepation to modeling"
      ]
    },
    {
      "cell_type": "code",
      "metadata": {
        "colab": {
          "base_uri": "https://localhost:8080/"
        },
        "id": "80yO2wuGYjXL",
        "outputId": "3e0ec76c-69eb-4081-ecde-702d2b010919"
      },
      "source": [
        "data.columns"
      ],
      "execution_count": 115,
      "outputs": [
        {
          "output_type": "execute_result",
          "data": {
            "text/plain": [
              "Index(['age', 'sex', 'cigsPerDay', 'BPMeds', 'prevalentStroke', 'diabetes',\n",
              "       'totChol', 'diaBP', 'BMI', 'heartRate', 'TenYearCHD'],\n",
              "      dtype='object')"
            ]
          },
          "metadata": {},
          "execution_count": 115
        }
      ]
    },
    {
      "cell_type": "markdown",
      "metadata": {
        "id": "ONwFwHwGhC1F"
      },
      "source": [
        "Splitting target variable from independent variables"
      ]
    },
    {
      "cell_type": "code",
      "metadata": {
        "id": "Pt8THeXzfe9k"
      },
      "source": [
        "target_variable = 'TenYearCHD'\n",
        "X = data.drop([target_variable], axis=1).values\n",
        "y = data[target_variable].values"
      ],
      "execution_count": 116,
      "outputs": []
    },
    {
      "cell_type": "code",
      "metadata": {
        "colab": {
          "base_uri": "https://localhost:8080/"
        },
        "id": "pkMMkLhXhc1l",
        "outputId": "a69c9626-b0d6-4f1d-a728-df346a744fb4"
      },
      "source": [
        "X"
      ],
      "execution_count": 117,
      "outputs": [
        {
          "output_type": "execute_result",
          "data": {
            "text/plain": [
              "array([[ 64.  ,   0.  ,   3.  , ...,  85.  ,  25.38,  90.  ],\n",
              "       [ 36.  ,   1.  ,   0.  , ...,  98.  ,  29.77,  72.  ],\n",
              "       [ 46.  ,   0.  ,  10.  , ...,  71.  ,  20.35,  88.  ],\n",
              "       ...,\n",
              "       [ 44.  ,   1.  ,   3.  , ..., 119.  ,  28.92,  73.  ],\n",
              "       [ 60.  ,   1.  ,   0.  , ..., 105.  ,  23.01,  80.  ],\n",
              "       [ 54.  ,   0.  ,   0.  , ...,  77.  ,  29.88,  79.  ]])"
            ]
          },
          "metadata": {},
          "execution_count": 117
        }
      ]
    },
    {
      "cell_type": "code",
      "metadata": {
        "colab": {
          "base_uri": "https://localhost:8080/"
        },
        "id": "59Rp5K07hudC",
        "outputId": "5319ce6b-8b10-4284-e5ae-dd9352ec0ce8"
      },
      "source": [
        "y"
      ],
      "execution_count": 118,
      "outputs": [
        {
          "output_type": "execute_result",
          "data": {
            "text/plain": [
              "array([1, 0, 0, ..., 1, 0, 0])"
            ]
          },
          "metadata": {},
          "execution_count": 118
        }
      ]
    },
    {
      "cell_type": "code",
      "source": [
        "#Applying SMOTE\n",
        "num_before = dict(Counter(y))\n",
        "from imblearn.over_sampling import SMOTE\n",
        "\n",
        "smote = SMOTE()\n",
        "\n",
        "# fit predictor and target variable\n",
        "x_smote, y_smote = smote.fit_resample(X,y)\n",
        "\n",
        "print('Original dataset shape', len(data))\n",
        "print('Resampled dataset shape', len(y_smote))\n",
        "num_after =dict(Counter(y_smote))"
      ],
      "metadata": {
        "id": "ne3PgWErxCDn",
        "colab": {
          "base_uri": "https://localhost:8080/"
        },
        "outputId": "d4c41268-bdff-4aa6-e5bf-e37c599da937"
      },
      "execution_count": 119,
      "outputs": [
        {
          "output_type": "stream",
          "name": "stdout",
          "text": [
            "Original dataset shape 3368\n",
            "Resampled dataset shape 5716\n"
          ]
        }
      ]
    },
    {
      "cell_type": "code",
      "source": [
        "print(num_before, num_after)"
      ],
      "metadata": {
        "colab": {
          "base_uri": "https://localhost:8080/"
        },
        "id": "j34vCW3LySFw",
        "outputId": "7e374a96-4928-4ce0-a114-c320633e687a"
      },
      "execution_count": 120,
      "outputs": [
        {
          "output_type": "stream",
          "name": "stdout",
          "text": [
            "{1: 510, 0: 2858} {1: 2858, 0: 2858}\n"
          ]
        }
      ]
    },
    {
      "cell_type": "code",
      "source": [
        "labels = [\"Negative Cases\",\"Positive Cases\"]\n",
        "plt.figure(figsize=(15,6))\n",
        "plt.subplot(1,2,1)\n",
        "sns.barplot(labels, list(num_before.values()))\n",
        "plt.title(\"Numbers Before Balancing\")\n",
        "plt.subplot(1,2,2)\n",
        "sns.barplot(labels, list(num_after.values()))\n",
        "plt.title(\"Numbers After Balancing\")\n",
        "plt.show()"
      ],
      "metadata": {
        "colab": {
          "base_uri": "https://localhost:8080/",
          "height": 479
        },
        "id": "xIVuPEaixByL",
        "outputId": "04e1e43e-b6d1-4fac-9cd1-1f960e1ce474"
      },
      "execution_count": 121,
      "outputs": [
        {
          "output_type": "stream",
          "name": "stderr",
          "text": [
            "/usr/local/lib/python3.7/dist-packages/seaborn/_decorators.py:43: FutureWarning: Pass the following variables as keyword args: x, y. From version 0.12, the only valid positional argument will be `data`, and passing other arguments without an explicit keyword will result in an error or misinterpretation.\n",
            "  FutureWarning\n",
            "/usr/local/lib/python3.7/dist-packages/seaborn/_decorators.py:43: FutureWarning: Pass the following variables as keyword args: x, y. From version 0.12, the only valid positional argument will be `data`, and passing other arguments without an explicit keyword will result in an error or misinterpretation.\n",
            "  FutureWarning\n"
          ]
        },
        {
          "output_type": "display_data",
          "data": {
            "image/png": "[encoded data removed]",
            "text/plain": [
              "<Figure size 1080x432 with 2 Axes>"
            ]
          },
          "metadata": {
            "needs_background": "light"
          }
        }
      ]
    },
    {
      "cell_type": "markdown",
      "metadata": {
        "id": "FM5CMLU_h-T-"
      },
      "source": [
        "Splitting train and test data"
      ]
    },
    {
      "cell_type": "code",
      "metadata": {
        "id": "bJNl_5oah8TF"
      },
      "source": [
        "from sklearn.model_selection import train_test_split\n",
        "X_train, X_test, y_train, y_test = train_test_split(x_smote, y_smote, test_size=0.2, random_state=0)"
      ],
      "execution_count": 122,
      "outputs": []
    },
    {
      "cell_type": "code",
      "metadata": {
        "colab": {
          "base_uri": "https://localhost:8080/"
        },
        "id": "9cjye5KZknDY",
        "outputId": "b939005f-29bd-40b2-a034-dd0138006466"
      },
      "source": [
        "X_train"
      ],
      "execution_count": 123,
      "outputs": [
        {
          "output_type": "execute_result",
          "data": {
            "text/plain": [
              "array([[5.93672701e+01, 9.03899786e-02, 1.54519499e+01, ...,\n",
              "        1.01361560e+02, 2.37011602e+01, 9.18192200e+01],\n",
              "       [5.17392293e+01, 1.00000000e+00, 1.50000000e+01, ...,\n",
              "        7.60861653e+01, 2.44252609e+01, 6.36961467e+01],\n",
              "       [4.20000000e+01, 0.00000000e+00, 3.00000000e+01, ...,\n",
              "        6.70000000e+01, 2.42300000e+01, 7.20000000e+01],\n",
              "       ...,\n",
              "       [4.20000000e+01, 0.00000000e+00, 0.00000000e+00, ...,\n",
              "        7.90000000e+01, 2.13100000e+01, 7.00000000e+01],\n",
              "       [4.60000000e+01, 1.00000000e+00, 1.50000000e+01, ...,\n",
              "        9.40000000e+01, 2.63100000e+01, 9.80000000e+01],\n",
              "       [4.70000000e+01, 0.00000000e+00, 4.00000000e+01, ...,\n",
              "        8.50000000e+01, 2.70500000e+01, 7.50000000e+01]])"
            ]
          },
          "metadata": {},
          "execution_count": 123
        }
      ]
    },
    {
      "cell_type": "code",
      "metadata": {
        "colab": {
          "base_uri": "https://localhost:8080/"
        },
        "id": "JLTz0o0hkpsy",
        "outputId": "b1ca4d6c-0e37-4b2b-c027-84bb59b94f1a"
      },
      "source": [
        "y_train"
      ],
      "execution_count": 124,
      "outputs": [
        {
          "output_type": "execute_result",
          "data": {
            "text/plain": [
              "array([1, 1, 0, ..., 1, 0, 0])"
            ]
          },
          "metadata": {},
          "execution_count": 124
        }
      ]
    },
    {
      "cell_type": "code",
      "metadata": {
        "colab": {
          "base_uri": "https://localhost:8080/"
        },
        "id": "oyzAyNhlkr82",
        "outputId": "89684e10-c621-4f06-cd71-b579638b6f51"
      },
      "source": [
        "X_test"
      ],
      "execution_count": 125,
      "outputs": [
        {
          "output_type": "execute_result",
          "data": {
            "text/plain": [
              "array([[56.        ,  0.        ,  0.        , ..., 82.        ,\n",
              "        26.82      , 80.        ],\n",
              "       [38.56025969,  0.15602597, 21.56025969, ..., 74.35814283,\n",
              "        22.41232854, 74.06384419],\n",
              "       [36.        ,  1.        , 20.        , ..., 94.5       ,\n",
              "        36.52      , 65.        ],\n",
              "       ...,\n",
              "       [57.        ,  1.        ,  0.        , ..., 78.        ,\n",
              "        29.02      , 72.        ],\n",
              "       [36.        ,  0.        ,  0.        , ..., 62.        ,\n",
              "        20.79      , 75.        ],\n",
              "       [50.11732623,  0.        ,  0.        , ..., 88.83799467,\n",
              "        27.53436232, 71.39665779]])"
            ]
          },
          "metadata": {},
          "execution_count": 125
        }
      ]
    },
    {
      "cell_type": "code",
      "metadata": {
        "colab": {
          "base_uri": "https://localhost:8080/"
        },
        "id": "FmBkVWtFktc5",
        "outputId": "7d12db13-bac1-4df0-c1fd-c70916565a99"
      },
      "source": [
        "y_test"
      ],
      "execution_count": 126,
      "outputs": [
        {
          "output_type": "execute_result",
          "data": {
            "text/plain": [
              "array([0, 1, 0, ..., 0, 0, 1])"
            ]
          },
          "metadata": {},
          "execution_count": 126
        }
      ]
    },
    {
      "cell_type": "markdown",
      "metadata": {
        "id": "ab2gWjXcmZ8F"
      },
      "source": [
        "Feature Scaling X_train and X_test"
      ]
    },
    {
      "cell_type": "code",
      "metadata": {
        "id": "tdBVWKv9mYjb"
      },
      "source": [
        "from sklearn.preprocessing import StandardScaler\n",
        "sc = StandardScaler()\n",
        "X_train_scaled = sc.fit_transform(X_train)\n",
        "X_test_scaled = sc.transform(X_test)"
      ],
      "execution_count": 127,
      "outputs": []
    },
    {
      "cell_type": "code",
      "metadata": {
        "colab": {
          "base_uri": "https://localhost:8080/"
        },
        "id": "qbNzC7tDmrY9",
        "outputId": "34308645-de6f-4026-a46a-2e6a4f29dfee"
      },
      "source": [
        "X_train_scaled"
      ],
      "execution_count": 128,
      "outputs": [
        {
          "output_type": "execute_result",
          "data": {
            "text/plain": [
              "array([[ 0.9335305 , -0.81053162,  0.47836848, ...,  1.3686927 ,\n",
              "        -0.59167468,  1.36504246],\n",
              "       [ 0.03101429,  1.11033922,  0.44134661, ..., -0.66226293,\n",
              "        -0.40582548, -1.05013911],\n",
              "       [-1.12128844, -1.00141285,  1.67008465, ..., -1.39236424,\n",
              "        -0.45594155, -0.33701245],\n",
              "       ...,\n",
              "       [-1.12128844, -1.00141285, -0.78739143, ..., -0.42812736,\n",
              "        -1.20539488, -0.50877046],\n",
              "       [-0.64802605,  1.11033922,  0.44134661, ...,  0.77716874,\n",
              "         0.07791562,  1.89584169],\n",
              "       [-0.52971046, -1.00141285,  2.48924334, ...,  0.05399108,\n",
              "         0.26784557, -0.07937543]])"
            ]
          },
          "metadata": {},
          "execution_count": 128
        }
      ]
    },
    {
      "cell_type": "code",
      "metadata": {
        "colab": {
          "base_uri": "https://localhost:8080/"
        },
        "id": "XnB9-7iEmwmQ",
        "outputId": "920644f8-1193-49bc-ea69-6b3fefa8ae80"
      },
      "source": [
        "X_test_scaled"
      ],
      "execution_count": 129,
      "outputs": [
        {
          "output_type": "execute_result",
          "data": {
            "text/plain": [
              "array([[ 0.53512992, -1.00141285, -0.78739143, ..., -0.18706814,\n",
              "         0.20881329,  0.3500196 ],\n",
              "       [-1.52826337, -0.67192469,  0.97873598, ..., -0.80111485,\n",
              "        -0.92246892, -0.15977156],\n",
              "       [-1.83118203,  1.11033922,  0.85092595, ...,  0.81734528,\n",
              "         2.69843567, -0.93816548],\n",
              "       ...,\n",
              "       [ 0.65344551,  1.11033922, -0.78739143, ..., -0.50848043,\n",
              "         0.77346991, -0.33701245],\n",
              "       [-1.83118203, -1.00141285, -0.78739143, ..., -1.7941296 ,\n",
              "        -1.33885918, -0.07937543],\n",
              "       [-0.16088214, -1.00141285, -0.78739143, ...,  0.36238575,\n",
              "         0.39216302, -0.38882688]])"
            ]
          },
          "metadata": {},
          "execution_count": 129
        }
      ]
    },
    {
      "cell_type": "markdown",
      "metadata": {
        "id": "9DNRH1SSlGxN"
      },
      "source": [
        "Here is a data ready to be trained and tested, using any machine learning classification algorithm. "
      ]
    },
    {
      "cell_type": "markdown",
      "metadata": {
        "id": "IONQ-_gInY8p"
      },
      "source": [
        "##K-Nearest Neighbors (K-NN)"
      ]
    },
    {
      "cell_type": "markdown",
      "metadata": {
        "id": "HONwGa9Kst8B"
      },
      "source": [
        "Training the K-NN model on the Training set"
      ]
    },
    {
      "cell_type": "code",
      "metadata": {
        "colab": {
          "base_uri": "https://localhost:8080/"
        },
        "id": "_3AZN9khkumm",
        "outputId": "97ec9f1f-e6a2-4952-f15e-62918ea55681"
      },
      "source": [
        "from sklearn.neighbors import KNeighborsClassifier\n",
        "classifier = KNeighborsClassifier(n_neighbors = 5, metric = 'minkowski', p = 2)\n",
        "classifier.fit(X_train_scaled, y_train)"
      ],
      "execution_count": 130,
      "outputs": [
        {
          "output_type": "execute_result",
          "data": {
            "text/plain": [
              "KNeighborsClassifier()"
            ]
          },
          "metadata": {},
          "execution_count": 130
        }
      ]
    },
    {
      "cell_type": "markdown",
      "metadata": {
        "id": "N0aninqFs4NF"
      },
      "source": [
        "Making the Confusion Matrix"
      ]
    },
    {
      "cell_type": "code",
      "metadata": {
        "colab": {
          "base_uri": "https://localhost:8080/"
        },
        "id": "Qf1aG0j6s1fz",
        "outputId": "187b322b-899a-4c97-d2b3-3078b0605875"
      },
      "source": [
        "y_pred = classifier.predict(X_test_scaled)\n",
        "tn, fp, fn, tp = confusion_matrix(y_test, y_pred).ravel()\n",
        "tp, tn, fp, fn"
      ],
      "execution_count": 131,
      "outputs": [
        {
          "output_type": "execute_result",
          "data": {
            "text/plain": [
              "(528, 397, 181, 38)"
            ]
          },
          "metadata": {},
          "execution_count": 131
        }
      ]
    },
    {
      "cell_type": "code",
      "source": [
        "sns.heatmap(confusion_matrix(y_test,y_pred), annot=True, cmap='Greys_r', fmt='d')\n"
      ],
      "metadata": {
        "colab": {
          "base_uri": "https://localhost:8080/",
          "height": 282
        },
        "id": "qlJ3LS4VrlNK",
        "outputId": "e0742f5d-e70a-4549-c6da-625757316ed0"
      },
      "execution_count": 132,
      "outputs": [
        {
          "output_type": "execute_result",
          "data": {
            "text/plain": [
              "<matplotlib.axes._subplots.AxesSubplot at 0x7fa95d072f10>"
            ]
          },
          "metadata": {},
          "execution_count": 132
        },
        {
          "output_type": "display_data",
          "data": {
            "image/png": "[encoded data removed]",
            "text/plain": [
              "<Figure size 432x288 with 2 Axes>"
            ]
          },
          "metadata": {
            "needs_background": "light"
          }
        }
      ]
    },
    {
      "cell_type": "code",
      "metadata": {
        "colab": {
          "base_uri": "https://localhost:8080/"
        },
        "id": "mPFa91zht79u",
        "outputId": "cca5db67-bbaf-4987-a12a-10101f006ba1"
      },
      "source": [
        "accuracy_score_KNNClassifier = accuracy_score(y_test, y_pred)\n",
        "print(accuracy_score_KNNClassifier)"
      ],
      "execution_count": 133,
      "outputs": [
        {
          "output_type": "stream",
          "name": "stdout",
          "text": [
            "0.8085664335664335\n"
          ]
        }
      ]
    },
    {
      "cell_type": "markdown",
      "metadata": {
        "id": "__8o8pjnt8Rw"
      },
      "source": [
        "Calculating accuracy score"
      ]
    },
    {
      "cell_type": "code",
      "source": [
        "from sklearn.metrics import classification_report\n",
        "print(classification_report(y_test, y_pred))"
      ],
      "metadata": {
        "colab": {
          "base_uri": "https://localhost:8080/"
        },
        "id": "pWXoIj3iBkND",
        "outputId": "31a5a3bc-4fdf-48d0-b623-17ece3629c96"
      },
      "execution_count": 134,
      "outputs": [
        {
          "output_type": "stream",
          "name": "stdout",
          "text": [
            "              precision    recall  f1-score   support\n",
            "\n",
            "           0       0.91      0.69      0.78       578\n",
            "           1       0.74      0.93      0.83       566\n",
            "\n",
            "    accuracy                           0.81      1144\n",
            "   macro avg       0.83      0.81      0.81      1144\n",
            "weighted avg       0.83      0.81      0.81      1144\n",
            "\n"
          ]
        }
      ]
    },
    {
      "cell_type": "markdown",
      "source": [
        "#hyperparameter optimization"
      ],
      "metadata": {
        "id": "1xMZer9WmkH8"
      }
    },
    {
      "cell_type": "code",
      "source": [
        "from sklearn.model_selection import train_test_split, GridSearchCV, RandomizedSearchCV\n",
        "import numpy as np\n",
        "grid_params = { 'n_neighbors' : [5,7,9,11,13],\n",
        "               'weights' : ['uniform','distance'],\n",
        "               'metric' : ['minkowski','euclidean','manhattan']}\n",
        "gs = GridSearchCV(KNeighborsClassifier(), grid_params, verbose = 1, cv=5, n_jobs = -1)"
      ],
      "metadata": {
        "id": "AhHV8pMBphy6"
      },
      "execution_count": 135,
      "outputs": []
    },
    {
      "cell_type": "code",
      "source": [
        "# fit the model on our train set\n",
        "g_res = gs.fit(X_train_scaled, y_train)"
      ],
      "metadata": {
        "colab": {
          "base_uri": "https://localhost:8080/"
        },
        "id": "beOi5Zbu67sl",
        "outputId": "d038cd41-ccf8-491b-c601-75a960784173"
      },
      "execution_count": 136,
      "outputs": [
        {
          "output_type": "stream",
          "name": "stdout",
          "text": [
            "Fitting 5 folds for each of 30 candidates, totalling 150 fits\n"
          ]
        }
      ]
    },
    {
      "cell_type": "code",
      "source": [
        "g_res.best_params_"
      ],
      "metadata": {
        "colab": {
          "base_uri": "https://localhost:8080/"
        },
        "id": "38ASkJ41Mhi-",
        "outputId": "3d17ca1f-5b66-4ebf-d98c-b34fc1758224"
      },
      "execution_count": 137,
      "outputs": [
        {
          "output_type": "execute_result",
          "data": {
            "text/plain": [
              "{'metric': 'manhattan', 'n_neighbors': 5, 'weights': 'distance'}"
            ]
          },
          "metadata": {},
          "execution_count": 137
        }
      ]
    },
    {
      "cell_type": "code",
      "source": [
        "# find the best score\n",
        "g_res.best_score_\n"
      ],
      "metadata": {
        "colab": {
          "base_uri": "https://localhost:8080/"
        },
        "id": "aUgnUrfu7CaJ",
        "outputId": "2839ed29-610b-4d69-bc58-4bfc2aa79389"
      },
      "execution_count": 138,
      "outputs": [
        {
          "output_type": "execute_result",
          "data": {
            "text/plain": [
              "0.8462352476952327"
            ]
          },
          "metadata": {},
          "execution_count": 138
        }
      ]
    },
    {
      "cell_type": "code",
      "source": [
        "# use the best hyperparameters\n",
        "knn = KNeighborsClassifier(n_neighbors = 5, weights = 'distance',metric = 'manhattan')\n",
        "knn.fit(X_train_scaled, y_train)"
      ],
      "metadata": {
        "colab": {
          "base_uri": "https://localhost:8080/"
        },
        "id": "x9hJqCzx7SfX",
        "outputId": "e091136c-c099-431a-8b99-6430044cee07"
      },
      "execution_count": 139,
      "outputs": [
        {
          "output_type": "execute_result",
          "data": {
            "text/plain": [
              "KNeighborsClassifier(metric='manhattan', weights='distance')"
            ]
          },
          "metadata": {},
          "execution_count": 139
        }
      ]
    },
    {
      "cell_type": "code",
      "source": [
        "# get a prediction\n",
        "y_hat = knn.predict(X_train_scaled)\n",
        "y_knn = knn.predict(X_test_scaled)"
      ],
      "metadata": {
        "id": "Xp7sJnaK738s"
      },
      "execution_count": 140,
      "outputs": []
    },
    {
      "cell_type": "code",
      "source": [
        "accuracy_score_KNNClassifier = accuracy_score(y_test, y_knn)\n",
        "print(accuracy_score_KNNClassifier)"
      ],
      "metadata": {
        "colab": {
          "base_uri": "https://localhost:8080/"
        },
        "id": "fiKeFgXNBBwO",
        "outputId": "20834c78-016c-43f9-fb3f-8bb147e702cf"
      },
      "execution_count": 141,
      "outputs": [
        {
          "output_type": "stream",
          "name": "stdout",
          "text": [
            "0.8618881118881119\n"
          ]
        }
      ]
    },
    {
      "cell_type": "code",
      "source": [
        "from sklearn.metrics import confusion_matrix, accuracy_score\n",
        "y_pred = classifier.predict(X_test_scaled)\n",
        "tn, fp, fn, tp = confusion_matrix(y_test, y_knn).ravel()\n",
        "tp, tn, fp, fn\n"
      ],
      "metadata": {
        "colab": {
          "base_uri": "https://localhost:8080/"
        },
        "id": "V73yP9PFwlAE",
        "outputId": "087bb932-da54-4e2d-d0b0-97c90a8b7bfa"
      },
      "execution_count": 142,
      "outputs": [
        {
          "output_type": "execute_result",
          "data": {
            "text/plain": [
              "(552, 434, 144, 14)"
            ]
          },
          "metadata": {},
          "execution_count": 142
        }
      ]
    },
    {
      "cell_type": "code",
      "source": [
        "sns.heatmap(confusion_matrix(y_test,y_knn), annot=True, cmap='Greys_r', fmt='d')\n"
      ],
      "metadata": {
        "colab": {
          "base_uri": "https://localhost:8080/",
          "height": 282
        },
        "id": "9O9EUl67sJSN",
        "outputId": "ba633008-2ec6-41ad-9bb6-8e87a7aa4458"
      },
      "execution_count": 143,
      "outputs": [
        {
          "output_type": "execute_result",
          "data": {
            "text/plain": [
              "<matplotlib.axes._subplots.AxesSubplot at 0x7fa960334490>"
            ]
          },
          "metadata": {},
          "execution_count": 143
        },
        {
          "output_type": "display_data",
          "data": {
            "image/png": "[encoded data removed]",
            "text/plain": [
              "<Figure size 432x288 with 2 Axes>"
            ]
          },
          "metadata": {
            "needs_background": "light"
          }
        }
      ]
    },
    {
      "cell_type": "code",
      "source": [
        "from sklearn.metrics import classification_report\n",
        "print(classification_report(y_test, y_knn))"
      ],
      "metadata": {
        "colab": {
          "base_uri": "https://localhost:8080/"
        },
        "id": "QGBnE2yd7-50",
        "outputId": "bebbd198-0635-42ba-ccc1-cae271c641e1"
      },
      "execution_count": 144,
      "outputs": [
        {
          "output_type": "stream",
          "name": "stdout",
          "text": [
            "              precision    recall  f1-score   support\n",
            "\n",
            "           0       0.97      0.75      0.85       578\n",
            "           1       0.79      0.98      0.87       566\n",
            "\n",
            "    accuracy                           0.86      1144\n",
            "   macro avg       0.88      0.86      0.86      1144\n",
            "weighted avg       0.88      0.86      0.86      1144\n",
            "\n"
          ]
        }
      ]
    },
    {
      "cell_type": "code",
      "source": [
        "from sklearn.metrics import cohen_kappa_score\n",
        "cohen_kappa_score(y_test, y_knn)"
      ],
      "metadata": {
        "colab": {
          "base_uri": "https://localhost:8080/"
        },
        "id": "cRp8e7lx8ktf",
        "outputId": "2d17c3b2-a396-4fa4-aac2-dc50c8fdb4a4"
      },
      "execution_count": 145,
      "outputs": [
        {
          "output_type": "execute_result",
          "data": {
            "text/plain": [
              "0.7244029177136444"
            ]
          },
          "metadata": {},
          "execution_count": 145
        }
      ]
    },
    {
      "cell_type": "markdown",
      "metadata": {
        "id": "HXgR-CN_u9ct"
      },
      "source": [
        "##Support Vector Machine (SVM)"
      ]
    },
    {
      "cell_type": "markdown",
      "metadata": {
        "id": "isQEiDR1u9Ly"
      },
      "source": [
        "Training the SVM model on the Training set"
      ]
    },
    {
      "cell_type": "code",
      "metadata": {
        "colab": {
          "base_uri": "https://localhost:8080/"
        },
        "id": "1SB0tE-9u7UT",
        "outputId": "85184d09-ec05-4dbe-b350-c6e568336c96"
      },
      "source": [
        "from sklearn.svm import SVC\n",
        "classifier = SVC(kernel = 'linear', random_state = 0)\n",
        "classifier.fit(X_train_scaled, y_train)"
      ],
      "execution_count": 146,
      "outputs": [
        {
          "output_type": "execute_result",
          "data": {
            "text/plain": [
              "SVC(kernel='linear', random_state=0)"
            ]
          },
          "metadata": {},
          "execution_count": 146
        }
      ]
    },
    {
      "cell_type": "markdown",
      "metadata": {
        "id": "RLBQuTunvaoM"
      },
      "source": [
        "Making the Confusion Matrix"
      ]
    },
    {
      "cell_type": "code",
      "metadata": {
        "colab": {
          "base_uri": "https://localhost:8080/"
        },
        "id": "ksTSKvyovY9l",
        "outputId": "24c74c4a-a71e-40c0-80b2-65131c343390"
      },
      "source": [
        "from sklearn.metrics import confusion_matrix, accuracy_score\n",
        "y_pred = classifier.predict(X_test_scaled)\n",
        "tn, fp, fn, tp = confusion_matrix(y_test, y_pred).ravel()\n",
        "tp, tn, fp, fn"
      ],
      "execution_count": 147,
      "outputs": [
        {
          "output_type": "execute_result",
          "data": {
            "text/plain": [
              "(389, 352, 226, 177)"
            ]
          },
          "metadata": {},
          "execution_count": 147
        }
      ]
    },
    {
      "cell_type": "code",
      "source": [
        "sns.heatmap(confusion_matrix(y_test,y_pred), annot=True, cmap='Greys_r', fmt='d')\n"
      ],
      "metadata": {
        "id": "MTytIhsxgg3M"
      },
      "execution_count": null,
      "outputs": []
    },
    {
      "cell_type": "markdown",
      "metadata": {
        "id": "wRM3kOBNvhwV"
      },
      "source": [
        "Calculating accuracy score"
      ]
    },
    {
      "cell_type": "code",
      "metadata": {
        "colab": {
          "base_uri": "https://localhost:8080/"
        },
        "id": "nbvduVDTvhhd",
        "outputId": "6c1ff72a-1580-4335-c6ab-d7cea82c6687"
      },
      "source": [
        "accuracy_score_SVM = accuracy_score(y_test, y_pred)\n",
        "print(accuracy_score_SVM)"
      ],
      "execution_count": 148,
      "outputs": [
        {
          "output_type": "stream",
          "name": "stdout",
          "text": [
            "0.6477272727272727\n"
          ]
        }
      ]
    },
    {
      "cell_type": "markdown",
      "metadata": {
        "id": "e0L8hwQz5V5G"
      },
      "source": [
        "Classification report"
      ]
    },
    {
      "cell_type": "code",
      "metadata": {
        "colab": {
          "base_uri": "https://localhost:8080/"
        },
        "id": "EvK84Nhv5V5V",
        "outputId": "ff7a6570-d756-4982-f182-ae56119f5489"
      },
      "source": [
        "from sklearn.metrics import classification_report\n",
        "print(classification_report(y_test, y_pred))"
      ],
      "execution_count": 149,
      "outputs": [
        {
          "output_type": "stream",
          "name": "stdout",
          "text": [
            "              precision    recall  f1-score   support\n",
            "\n",
            "           0       0.67      0.61      0.64       578\n",
            "           1       0.63      0.69      0.66       566\n",
            "\n",
            "    accuracy                           0.65      1144\n",
            "   macro avg       0.65      0.65      0.65      1144\n",
            "weighted avg       0.65      0.65      0.65      1144\n",
            "\n"
          ]
        }
      ]
    },
    {
      "cell_type": "code",
      "source": [
        "# defining parameter range\n",
        "param_grid = {'C': [0.1, 1, 10, 100, 1000],\n",
        "              'gamma': [1, 0.1, 0.01, 0.001, 0.0001],\n",
        "              'kernel': ['rbf']}\n",
        " \n",
        "grid = GridSearchCV(SVC(), param_grid, refit = True, verbose = 3)\n",
        " \n",
        "# fitting the model for grid search\n",
        "grid.fit(X_train_scaled, y_train )"
      ],
      "metadata": {
        "id": "VueQNZ2dn8aP",
        "colab": {
          "base_uri": "https://localhost:8080/"
        },
        "outputId": "06bafaf5-33bd-4354-e3cf-567eaed67a4a"
      },
      "execution_count": 150,
      "outputs": [
        {
          "output_type": "stream",
          "name": "stdout",
          "text": [
            "Fitting 5 folds for each of 25 candidates, totalling 125 fits\n",
            "[CV 1/5] END ........C=0.1, gamma=1, kernel=rbf;, score=0.687 total time=   1.0s\n",
            "[CV 2/5] END ........C=0.1, gamma=1, kernel=rbf;, score=0.660 total time=   1.0s\n",
            "[CV 3/5] END ........C=0.1, gamma=1, kernel=rbf;, score=0.668 total time=   1.0s\n",
            "[CV 4/5] END ........C=0.1, gamma=1, kernel=rbf;, score=0.694 total time=   1.0s\n",
            "[CV 5/5] END ........C=0.1, gamma=1, kernel=rbf;, score=0.706 total time=   1.0s\n",
            "[CV 1/5] END ......C=0.1, gamma=0.1, kernel=rbf;, score=0.686 total time=   0.9s\n",
            "[CV 2/5] END ......C=0.1, gamma=0.1, kernel=rbf;, score=0.693 total time=   0.9s\n",
            "[CV 3/5] END ......C=0.1, gamma=0.1, kernel=rbf;, score=0.677 total time=   0.8s\n",
            "[CV 4/5] END ......C=0.1, gamma=0.1, kernel=rbf;, score=0.696 total time=   0.9s\n",
            "[CV 5/5] END ......C=0.1, gamma=0.1, kernel=rbf;, score=0.679 total time=   0.9s\n",
            "[CV 1/5] END .....C=0.1, gamma=0.01, kernel=rbf;, score=0.678 total time=   0.9s\n",
            "[CV 2/5] END .....C=0.1, gamma=0.01, kernel=rbf;, score=0.674 total time=   0.9s\n",
            "[CV 3/5] END .....C=0.1, gamma=0.01, kernel=rbf;, score=0.652 total time=   0.9s\n",
            "[CV 4/5] END .....C=0.1, gamma=0.01, kernel=rbf;, score=0.693 total time=   0.9s\n",
            "[CV 5/5] END .....C=0.1, gamma=0.01, kernel=rbf;, score=0.674 total time=   0.9s\n",
            "[CV 1/5] END ....C=0.1, gamma=0.001, kernel=rbf;, score=0.672 total time=   1.0s\n",
            "[CV 2/5] END ....C=0.1, gamma=0.001, kernel=rbf;, score=0.659 total time=   1.0s\n",
            "[CV 3/5] END ....C=0.1, gamma=0.001, kernel=rbf;, score=0.648 total time=   1.0s\n",
            "[CV 4/5] END ....C=0.1, gamma=0.001, kernel=rbf;, score=0.691 total time=   1.0s\n",
            "[CV 5/5] END ....C=0.1, gamma=0.001, kernel=rbf;, score=0.664 total time=   1.0s\n",
            "[CV 1/5] END ...C=0.1, gamma=0.0001, kernel=rbf;, score=0.502 total time=   1.0s\n",
            "[CV 2/5] END ...C=0.1, gamma=0.0001, kernel=rbf;, score=0.502 total time=   1.0s\n",
            "[CV 3/5] END ...C=0.1, gamma=0.0001, kernel=rbf;, score=0.501 total time=   1.0s\n",
            "[CV 4/5] END ...C=0.1, gamma=0.0001, kernel=rbf;, score=0.501 total time=   1.0s\n",
            "[CV 5/5] END ...C=0.1, gamma=0.0001, kernel=rbf;, score=0.501 total time=   1.0s\n",
            "[CV 1/5] END ..........C=1, gamma=1, kernel=rbf;, score=0.862 total time=   0.9s\n",
            "[CV 2/5] END ..........C=1, gamma=1, kernel=rbf;, score=0.833 total time=   1.0s\n",
            "[CV 3/5] END ..........C=1, gamma=1, kernel=rbf;, score=0.845 total time=   1.0s\n",
            "[CV 4/5] END ..........C=1, gamma=1, kernel=rbf;, score=0.850 total time=   1.0s\n",
            "[CV 5/5] END ..........C=1, gamma=1, kernel=rbf;, score=0.856 total time=   1.0s\n",
            "[CV 1/5] END ........C=1, gamma=0.1, kernel=rbf;, score=0.772 total time=   0.8s\n",
            "[CV 2/5] END ........C=1, gamma=0.1, kernel=rbf;, score=0.760 total time=   0.8s\n",
            "[CV 3/5] END ........C=1, gamma=0.1, kernel=rbf;, score=0.745 total time=   0.8s\n",
            "[CV 4/5] END ........C=1, gamma=0.1, kernel=rbf;, score=0.754 total time=   0.8s\n",
            "[CV 5/5] END ........C=1, gamma=0.1, kernel=rbf;, score=0.743 total time=   0.8s\n",
            "[CV 1/5] END .......C=1, gamma=0.01, kernel=rbf;, score=0.683 total time=   0.8s\n",
            "[CV 2/5] END .......C=1, gamma=0.01, kernel=rbf;, score=0.686 total time=   0.8s\n",
            "[CV 3/5] END .......C=1, gamma=0.01, kernel=rbf;, score=0.658 total time=   0.8s\n",
            "[CV 4/5] END .......C=1, gamma=0.01, kernel=rbf;, score=0.699 total time=   0.8s\n",
            "[CV 5/5] END .......C=1, gamma=0.01, kernel=rbf;, score=0.684 total time=   0.8s\n",
            "[CV 1/5] END ......C=1, gamma=0.001, kernel=rbf;, score=0.677 total time=   0.9s\n",
            "[CV 2/5] END ......C=1, gamma=0.001, kernel=rbf;, score=0.674 total time=   0.8s\n",
            "[CV 3/5] END ......C=1, gamma=0.001, kernel=rbf;, score=0.649 total time=   0.9s\n",
            "[CV 4/5] END ......C=1, gamma=0.001, kernel=rbf;, score=0.697 total time=   0.9s\n",
            "[CV 5/5] END ......C=1, gamma=0.001, kernel=rbf;, score=0.674 total time=   0.9s\n",
            "[CV 1/5] END .....C=1, gamma=0.0001, kernel=rbf;, score=0.672 total time=   1.0s\n",
            "[CV 2/5] END .....C=1, gamma=0.0001, kernel=rbf;, score=0.661 total time=   1.0s\n",
            "[CV 3/5] END .....C=1, gamma=0.0001, kernel=rbf;, score=0.649 total time=   1.0s\n",
            "[CV 4/5] END .....C=1, gamma=0.0001, kernel=rbf;, score=0.693 total time=   1.0s\n",
            "[CV 5/5] END .....C=1, gamma=0.0001, kernel=rbf;, score=0.663 total time=   1.0s\n",
            "[CV 1/5] END .........C=10, gamma=1, kernel=rbf;, score=0.862 total time=   1.2s\n",
            "[CV 2/5] END .........C=10, gamma=1, kernel=rbf;, score=0.854 total time=   1.7s\n",
            "[CV 3/5] END .........C=10, gamma=1, kernel=rbf;, score=0.871 total time=   2.0s\n",
            "[CV 4/5] END .........C=10, gamma=1, kernel=rbf;, score=0.873 total time=   2.5s\n",
            "[CV 5/5] END .........C=10, gamma=1, kernel=rbf;, score=0.871 total time=   4.7s\n",
            "[CV 1/5] END .......C=10, gamma=0.1, kernel=rbf;, score=0.789 total time=   2.3s\n",
            "[CV 2/5] END .......C=10, gamma=0.1, kernel=rbf;, score=0.786 total time=   1.5s\n",
            "[CV 3/5] END .......C=10, gamma=0.1, kernel=rbf;, score=0.778 total time=   1.6s\n",
            "[CV 4/5] END .......C=10, gamma=0.1, kernel=rbf;, score=0.791 total time=   1.4s\n",
            "[CV 5/5] END .......C=10, gamma=0.1, kernel=rbf;, score=0.782 total time=   1.4s\n",
            "[CV 1/5] END ......C=10, gamma=0.01, kernel=rbf;, score=0.715 total time=   1.4s\n",
            "[CV 2/5] END ......C=10, gamma=0.01, kernel=rbf;, score=0.705 total time=   2.0s\n",
            "[CV 3/5] END ......C=10, gamma=0.01, kernel=rbf;, score=0.689 total time=   1.9s\n",
            "[CV 4/5] END ......C=10, gamma=0.01, kernel=rbf;, score=0.721 total time=   1.3s\n",
            "[CV 5/5] END ......C=10, gamma=0.01, kernel=rbf;, score=0.708 total time=   1.4s\n",
            "[CV 1/5] END .....C=10, gamma=0.001, kernel=rbf;, score=0.674 total time=   1.4s\n",
            "[CV 2/5] END .....C=10, gamma=0.001, kernel=rbf;, score=0.677 total time=   0.8s\n",
            "[CV 3/5] END .....C=10, gamma=0.001, kernel=rbf;, score=0.659 total time=   0.8s\n",
            "[CV 4/5] END .....C=10, gamma=0.001, kernel=rbf;, score=0.698 total time=   0.8s\n",
            "[CV 5/5] END .....C=10, gamma=0.001, kernel=rbf;, score=0.674 total time=   0.8s\n",
            "[CV 1/5] END ....C=10, gamma=0.0001, kernel=rbf;, score=0.677 total time=   0.9s\n",
            "[CV 2/5] END ....C=10, gamma=0.0001, kernel=rbf;, score=0.674 total time=   0.9s\n",
            "[CV 3/5] END ....C=10, gamma=0.0001, kernel=rbf;, score=0.648 total time=   0.9s\n",
            "[CV 4/5] END ....C=10, gamma=0.0001, kernel=rbf;, score=0.696 total time=   0.9s\n",
            "[CV 5/5] END ....C=10, gamma=0.0001, kernel=rbf;, score=0.673 total time=   0.9s\n",
            "[CV 1/5] END ........C=100, gamma=1, kernel=rbf;, score=0.856 total time=   1.3s\n",
            "[CV 2/5] END ........C=100, gamma=1, kernel=rbf;, score=0.847 total time=   1.1s\n",
            "[CV 3/5] END ........C=100, gamma=1, kernel=rbf;, score=0.872 total time=   1.3s\n",
            "[CV 4/5] END ........C=100, gamma=1, kernel=rbf;, score=0.873 total time=   1.3s\n",
            "[CV 5/5] END ........C=100, gamma=1, kernel=rbf;, score=0.860 total time=   1.2s\n",
            "[CV 1/5] END ......C=100, gamma=0.1, kernel=rbf;, score=0.820 total time=   1.5s\n",
            "[CV 2/5] END ......C=100, gamma=0.1, kernel=rbf;, score=0.800 total time=   1.4s\n",
            "[CV 3/5] END ......C=100, gamma=0.1, kernel=rbf;, score=0.794 total time=   1.5s\n",
            "[CV 4/5] END ......C=100, gamma=0.1, kernel=rbf;, score=0.815 total time=   1.5s\n",
            "[CV 5/5] END ......C=100, gamma=0.1, kernel=rbf;, score=0.793 total time=   1.5s\n",
            "[CV 1/5] END .....C=100, gamma=0.01, kernel=rbf;, score=0.764 total time=   1.0s\n",
            "[CV 2/5] END .....C=100, gamma=0.01, kernel=rbf;, score=0.753 total time=   1.0s\n",
            "[CV 3/5] END .....C=100, gamma=0.01, kernel=rbf;, score=0.736 total time=   1.0s\n",
            "[CV 4/5] END .....C=100, gamma=0.01, kernel=rbf;, score=0.753 total time=   1.0s\n",
            "[CV 5/5] END .....C=100, gamma=0.01, kernel=rbf;, score=0.760 total time=   1.0s\n",
            "[CV 1/5] END ....C=100, gamma=0.001, kernel=rbf;, score=0.683 total time=   0.9s\n",
            "[CV 2/5] END ....C=100, gamma=0.001, kernel=rbf;, score=0.683 total time=   0.9s\n",
            "[CV 3/5] END ....C=100, gamma=0.001, kernel=rbf;, score=0.659 total time=   0.8s\n",
            "[CV 4/5] END ....C=100, gamma=0.001, kernel=rbf;, score=0.696 total time=   0.9s\n",
            "[CV 5/5] END ....C=100, gamma=0.001, kernel=rbf;, score=0.693 total time=   0.9s\n",
            "[CV 1/5] END ...C=100, gamma=0.0001, kernel=rbf;, score=0.672 total time=   0.8s\n",
            "[CV 2/5] END ...C=100, gamma=0.0001, kernel=rbf;, score=0.672 total time=   0.9s\n",
            "[CV 3/5] END ...C=100, gamma=0.0001, kernel=rbf;, score=0.650 total time=   0.8s\n",
            "[CV 4/5] END ...C=100, gamma=0.0001, kernel=rbf;, score=0.697 total time=   0.8s\n",
            "[CV 5/5] END ...C=100, gamma=0.0001, kernel=rbf;, score=0.672 total time=   0.8s\n",
            "[CV 1/5] END .......C=1000, gamma=1, kernel=rbf;, score=0.850 total time=   1.3s\n",
            "[CV 2/5] END .......C=1000, gamma=1, kernel=rbf;, score=0.843 total time=   1.3s\n",
            "[CV 3/5] END .......C=1000, gamma=1, kernel=rbf;, score=0.870 total time=   1.3s\n",
            "[CV 4/5] END .......C=1000, gamma=1, kernel=rbf;, score=0.864 total time=   1.2s\n",
            "[CV 5/5] END .......C=1000, gamma=1, kernel=rbf;, score=0.861 total time=   1.4s\n",
            "[CV 1/5] END .....C=1000, gamma=0.1, kernel=rbf;, score=0.820 total time=   5.7s\n",
            "[CV 2/5] END .....C=1000, gamma=0.1, kernel=rbf;, score=0.804 total time=   5.9s\n",
            "[CV 3/5] END .....C=1000, gamma=0.1, kernel=rbf;, score=0.821 total time=   5.2s\n",
            "[CV 4/5] END .....C=1000, gamma=0.1, kernel=rbf;, score=0.823 total time=   5.4s\n",
            "[CV 5/5] END .....C=1000, gamma=0.1, kernel=rbf;, score=0.812 total time=   5.2s\n",
            "[CV 1/5] END ....C=1000, gamma=0.01, kernel=rbf;, score=0.756 total time=   2.3s\n",
            "[CV 2/5] END ....C=1000, gamma=0.01, kernel=rbf;, score=0.777 total time=   2.1s\n",
            "[CV 3/5] END ....C=1000, gamma=0.01, kernel=rbf;, score=0.747 total time=   2.1s\n",
            "[CV 4/5] END ....C=1000, gamma=0.01, kernel=rbf;, score=0.758 total time=   2.0s\n",
            "[CV 5/5] END ....C=1000, gamma=0.01, kernel=rbf;, score=0.777 total time=   2.0s\n",
            "[CV 1/5] END ...C=1000, gamma=0.001, kernel=rbf;, score=0.716 total time=   1.3s\n",
            "[CV 2/5] END ...C=1000, gamma=0.001, kernel=rbf;, score=0.703 total time=   1.3s\n",
            "[CV 3/5] END ...C=1000, gamma=0.001, kernel=rbf;, score=0.687 total time=   1.2s\n",
            "[CV 4/5] END ...C=1000, gamma=0.001, kernel=rbf;, score=0.721 total time=   2.0s\n",
            "[CV 5/5] END ...C=1000, gamma=0.001, kernel=rbf;, score=0.704 total time=   1.2s\n",
            "[CV 1/5] END ..C=1000, gamma=0.0001, kernel=rbf;, score=0.678 total time=   0.9s\n",
            "[CV 2/5] END ..C=1000, gamma=0.0001, kernel=rbf;, score=0.679 total time=   0.9s\n",
            "[CV 3/5] END ..C=1000, gamma=0.0001, kernel=rbf;, score=0.659 total time=   0.9s\n",
            "[CV 4/5] END ..C=1000, gamma=0.0001, kernel=rbf;, score=0.699 total time=   0.9s\n",
            "[CV 5/5] END ..C=1000, gamma=0.0001, kernel=rbf;, score=0.676 total time=   0.9s\n"
          ]
        },
        {
          "output_type": "execute_result",
          "data": {
            "text/plain": [
              "GridSearchCV(estimator=SVC(),\n",
              "             param_grid={'C': [0.1, 1, 10, 100, 1000],\n",
              "                         'gamma': [1, 0.1, 0.01, 0.001, 0.0001],\n",
              "                         'kernel': ['rbf']},\n",
              "             verbose=3)"
            ]
          },
          "metadata": {},
          "execution_count": 150
        }
      ]
    },
    {
      "cell_type": "code",
      "source": [
        "# print best parameter after tuning\n",
        "print(grid.best_params_)\n",
        " \n",
        "# print how our model looks after hyper-parameter tuning\n",
        "print(grid.best_estimator_)"
      ],
      "metadata": {
        "colab": {
          "base_uri": "https://localhost:8080/"
        },
        "id": "_Ny4HQ9luScB",
        "outputId": "f384bef2-f2f0-46e3-c7c5-d09e0f1f8967"
      },
      "execution_count": 151,
      "outputs": [
        {
          "output_type": "stream",
          "name": "stdout",
          "text": [
            "{'C': 10, 'gamma': 1, 'kernel': 'rbf'}\n",
            "SVC(C=10, gamma=1)\n"
          ]
        }
      ]
    },
    {
      "cell_type": "code",
      "source": [
        "grid_predictions = grid.predict(X_test_scaled)\n",
        " \n",
        "# print classification report\n",
        "print(classification_report(y_test, grid_predictions))"
      ],
      "metadata": {
        "colab": {
          "base_uri": "https://localhost:8080/"
        },
        "id": "tdTsD75BuHpI",
        "outputId": "6ead2788-d4a8-47e2-90ae-8a63dc799681"
      },
      "execution_count": 152,
      "outputs": [
        {
          "output_type": "stream",
          "name": "stdout",
          "text": [
            "              precision    recall  f1-score   support\n",
            "\n",
            "           0       0.91      0.87      0.89       578\n",
            "           1       0.87      0.92      0.89       566\n",
            "\n",
            "    accuracy                           0.89      1144\n",
            "   macro avg       0.89      0.89      0.89      1144\n",
            "weighted avg       0.89      0.89      0.89      1144\n",
            "\n"
          ]
        }
      ]
    },
    {
      "cell_type": "code",
      "source": [
        "from sklearn.metrics import confusion_matrix, accuracy_score\n",
        "y_pred = classifier.predict(X_test_scaled)\n",
        "tn, fp, fn, tp = confusion_matrix(y_test, grid_predictions).ravel()\n",
        "tp, tn, fp, fn"
      ],
      "metadata": {
        "colab": {
          "base_uri": "https://localhost:8080/"
        },
        "id": "aCyhRwxCvx22",
        "outputId": "20315c9c-3afc-4b73-d092-ec1b447def2e"
      },
      "execution_count": 153,
      "outputs": [
        {
          "output_type": "execute_result",
          "data": {
            "text/plain": [
              "(518, 501, 77, 48)"
            ]
          },
          "metadata": {},
          "execution_count": 153
        }
      ]
    },
    {
      "cell_type": "code",
      "source": [
        "sns.heatmap(confusion_matrix(y_test,grid_predictions), annot=True, cmap='Greys_r', fmt='d')\n"
      ],
      "metadata": {
        "colab": {
          "base_uri": "https://localhost:8080/",
          "height": 282
        },
        "id": "IuSXD68eviVt",
        "outputId": "8678f0f9-529c-4931-eea0-fb0ccca36e05"
      },
      "execution_count": 154,
      "outputs": [
        {
          "output_type": "execute_result",
          "data": {
            "text/plain": [
              "<matplotlib.axes._subplots.AxesSubplot at 0x7fa95d15a290>"
            ]
          },
          "metadata": {},
          "execution_count": 154
        },
        {
          "output_type": "display_data",
          "data": {
            "image/png": "[encoded data removed]",
            "text/plain": [
              "<Figure size 432x288 with 2 Axes>"
            ]
          },
          "metadata": {
            "needs_background": "light"
          }
        }
      ]
    },
    {
      "cell_type": "code",
      "source": [
        "accuracy_score_SVM = accuracy_score(y_test, grid_predictions)\n",
        "print(accuracy_score_SVM)"
      ],
      "metadata": {
        "colab": {
          "base_uri": "https://localhost:8080/"
        },
        "id": "2UVYov30RH-1",
        "outputId": "a520dc32-3bc1-4087-e062-6294328d651a"
      },
      "execution_count": 155,
      "outputs": [
        {
          "output_type": "stream",
          "name": "stdout",
          "text": [
            "0.8907342657342657\n"
          ]
        }
      ]
    },
    {
      "cell_type": "code",
      "source": [
        "from sklearn.metrics import cohen_kappa_score\n",
        "cohen_kappa_score(y_test, grid_predictions)"
      ],
      "metadata": {
        "colab": {
          "base_uri": "https://localhost:8080/"
        },
        "id": "pe3GHYzbo-xk",
        "outputId": "82fd471b-d384-4c1a-ff64-b7f918b9371d"
      },
      "execution_count": 156,
      "outputs": [
        {
          "output_type": "execute_result",
          "data": {
            "text/plain": [
              "0.7815606650332089"
            ]
          },
          "metadata": {},
          "execution_count": 156
        }
      ]
    },
    {
      "cell_type": "markdown",
      "metadata": {
        "id": "AhC6WHQtvgVA"
      },
      "source": [
        "##Accuracy Scores of each classification model are as follows "
      ]
    },
    {
      "cell_type": "code",
      "metadata": {
        "colab": {
          "base_uri": "https://localhost:8080/"
        },
        "id": "qEtnBx4evqUB",
        "outputId": "43464a1a-dd4f-4821-dc26-6b1aab0057cb"
      },
      "source": [
        "print(f'''Accuracy Scores:\n",
        "K Nearest Neigbours         : {accuracy_score_KNNClassifier}\n",
        "Support Vector Machine      : {accuracy_score_SVM}\n",
        "''')"
      ],
      "execution_count": 157,
      "outputs": [
        {
          "output_type": "stream",
          "name": "stdout",
          "text": [
            "Accuracy Scores:\n",
            "K Nearest Neigbours         : 0.8618881118881119\n",
            "Support Vector Machine      : 0.8907342657342657\n",
            "\n"
          ]
        }
      ]
    },
    {
      "cell_type": "code",
      "source": [
        ""
      ],
      "metadata": {
        "id": "ahZv5NAcxBI_"
      },
      "execution_count": null,
      "outputs": []
    },
    {
      "cell_type": "code",
      "source": [
        ""
      ],
      "metadata": {
        "id": "_17mZJbVvr90"
      },
      "execution_count": null,
      "outputs": []
    }
  ]
}