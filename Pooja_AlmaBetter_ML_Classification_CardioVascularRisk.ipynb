{
  "nbformat": 4,
  "nbformat_minor": 0,
  "metadata": {
    "colab": {
      "name": "Pooja_AlmaBetter_ML_Classification_CardioVascularRisk.ipynb",
      "provenance": [],
      "collapsed_sections": [],
      "include_colab_link": true
    },
    "kernelspec": {
      "name": "python3",
      "display_name": "Python 3"
    },
    "language_info": {
      "name": "python"
    }
  },
  "cells": [
    {
      "cell_type": "markdown",
      "metadata": {
        "id": "view-in-github",
        "colab_type": "text"
      },
      "source": [
        "<a href=\"https://colab.research.google.com/github/pooja251096/Cardiovascular-Risk-Prediction/blob/main/Pooja_AlmaBetter_ML_Classification_CardioVascularRisk.ipynb\" target=\"_parent\"><img src=\"https://colab.research.google.com/assets/colab-badge.svg\" alt=\"Open In Colab\"/></a>"
      ]
    },
    {
      "cell_type": "code",
      "metadata": {
        "id": "yb_Nx_k1OfnL",
        "colab": {
          "base_uri": "https://localhost:8080/"
        },
        "outputId": "6cebe8c8-f579-43c3-e233-17c160763462"
      },
      "source": [
        "# Importing the libraries\n",
        "!pip install CatBoost\n",
        "!pip install imbalanced-learn\n",
        "\n",
        "import pandas as pd\n",
        "import numpy as np\n",
        "import seaborn as sns\n",
        "import matplotlib.pyplot as plt \n",
        "from sklearn.metrics import classification_report\n",
        "from imblearn.over_sampling import SMOTE\n",
        "from imblearn.under_sampling import RandomUnderSampler\n",
        "from imblearn.pipeline import Pipeline\n",
        "from collections import Counter\n",
        "from sklearn.metrics import confusion_matrix, accuracy_score\n",
        "from sklearn.metrics import roc_curve,precision_recall_curve\n",
        "from sklearn.metrics import roc_auc_score,recall_score,precision_score\n",
        "from sklearn.metrics import cohen_kappa_score"
      ],
      "execution_count": 1,
      "outputs": [
        {
          "output_type": "stream",
          "name": "stdout",
          "text": [
            "Collecting CatBoost\n",
            "  Downloading catboost-1.0.3-cp37-none-manylinux1_x86_64.whl (76.3 MB)\n",
            "\u001b[K     |████████████████████████████████| 76.3 MB 1.5 MB/s \n",
            "\u001b[?25hRequirement already satisfied: graphviz in /usr/local/lib/python3.7/dist-packages (from CatBoost) (0.10.1)\n",
            "Requirement already satisfied: six in /usr/local/lib/python3.7/dist-packages (from CatBoost) (1.15.0)\n",
            "Requirement already satisfied: scipy in /usr/local/lib/python3.7/dist-packages (from CatBoost) (1.4.1)\n",
            "Requirement already satisfied: pandas>=0.24.0 in /usr/local/lib/python3.7/dist-packages (from CatBoost) (1.1.5)\n",
            "Requirement already satisfied: plotly in /usr/local/lib/python3.7/dist-packages (from CatBoost) (4.4.1)\n",
            "Requirement already satisfied: numpy>=1.16.0 in /usr/local/lib/python3.7/dist-packages (from CatBoost) (1.19.5)\n",
            "Requirement already satisfied: matplotlib in /usr/local/lib/python3.7/dist-packages (from CatBoost) (3.2.2)\n",
            "Requirement already satisfied: python-dateutil>=2.7.3 in /usr/local/lib/python3.7/dist-packages (from pandas>=0.24.0->CatBoost) (2.8.2)\n",
            "Requirement already satisfied: pytz>=2017.2 in /usr/local/lib/python3.7/dist-packages (from pandas>=0.24.0->CatBoost) (2018.9)\n",
            "Requirement already satisfied: cycler>=0.10 in /usr/local/lib/python3.7/dist-packages (from matplotlib->CatBoost) (0.11.0)\n",
            "Requirement already satisfied: kiwisolver>=1.0.1 in /usr/local/lib/python3.7/dist-packages (from matplotlib->CatBoost) (1.3.2)\n",
            "Requirement already satisfied: pyparsing!=2.0.4,!=2.1.2,!=2.1.6,>=2.0.1 in /usr/local/lib/python3.7/dist-packages (from matplotlib->CatBoost) (3.0.6)\n",
            "Requirement already satisfied: retrying>=1.3.3 in /usr/local/lib/python3.7/dist-packages (from plotly->CatBoost) (1.3.3)\n",
            "Installing collected packages: CatBoost\n",
            "Successfully installed CatBoost-1.0.3\n",
            "Requirement already satisfied: imbalanced-learn in /usr/local/lib/python3.7/dist-packages (0.8.1)\n",
            "Requirement already satisfied: joblib>=0.11 in /usr/local/lib/python3.7/dist-packages (from imbalanced-learn) (1.1.0)\n",
            "Requirement already satisfied: scikit-learn>=0.24 in /usr/local/lib/python3.7/dist-packages (from imbalanced-learn) (1.0.1)\n",
            "Requirement already satisfied: scipy>=0.19.1 in /usr/local/lib/python3.7/dist-packages (from imbalanced-learn) (1.4.1)\n",
            "Requirement already satisfied: numpy>=1.13.3 in /usr/local/lib/python3.7/dist-packages (from imbalanced-learn) (1.19.5)\n",
            "Requirement already satisfied: threadpoolctl>=2.0.0 in /usr/local/lib/python3.7/dist-packages (from scikit-learn>=0.24->imbalanced-learn) (3.0.0)\n"
          ]
        }
      ]
    },
    {
      "cell_type": "code",
      "metadata": {
        "colab": {
          "base_uri": "https://localhost:8080/"
        },
        "id": "RrXhjp1higmF",
        "outputId": "c9d012cf-4dac-4d9e-e3df-875b550c2a14"
      },
      "source": [
        "# mount drive and give path of dataset\n",
        "from google.colab import drive\n",
        "drive.mount('/content/drive')"
      ],
      "execution_count": 2,
      "outputs": [
        {
          "output_type": "stream",
          "name": "stdout",
          "text": [
            "Mounted at /content/drive\n"
          ]
        }
      ]
    },
    {
      "cell_type": "code",
      "metadata": {
        "id": "77bvdEJWQ3KP"
      },
      "source": [
        "data = pd.read_csv(\"/content/drive/MyDrive/Classification_cardiovascular/data_cardiovascular_risk.csv\")"
      ],
      "execution_count": 3,
      "outputs": []
    },
    {
      "cell_type": "code",
      "metadata": {
        "colab": {
          "base_uri": "https://localhost:8080/",
          "height": 206
        },
        "id": "VGHsMw34SSzp",
        "outputId": "6e866db0-c148-4392-9f32-2aa32ded0525"
      },
      "source": [
        "##View first five rows of the dataframe\n",
        "data.sample(5)"
      ],
      "execution_count": 4,
      "outputs": [
        {
          "output_type": "execute_result",
          "data": {
            "text/html": [
              "\n",
              "  <div id=\"df-5c546cd5-7970-426e-a2a3-d515f4edc9c2\">\n",
              "    <div class=\"colab-df-container\">\n",
              "      <div>\n",
              "<style scoped>\n",
              "    .dataframe tbody tr th:only-of-type {\n",
              "        vertical-align: middle;\n",
              "    }\n",
              "\n",
              "    .dataframe tbody tr th {\n",
              "        vertical-align: top;\n",
              "    }\n",
              "\n",
              "    .dataframe thead th {\n",
              "        text-align: right;\n",
              "    }\n",
              "</style>\n",
              "<table border=\"1\" class=\"dataframe\">\n",
              "  <thead>\n",
              "    <tr style=\"text-align: right;\">\n",
              "      <th></th>\n",
              "      <th>id</th>\n",
              "      <th>age</th>\n",
              "      <th>education</th>\n",
              "      <th>sex</th>\n",
              "      <th>is_smoking</th>\n",
              "      <th>cigsPerDay</th>\n",
              "      <th>BPMeds</th>\n",
              "      <th>prevalentStroke</th>\n",
              "      <th>prevalentHyp</th>\n",
              "      <th>diabetes</th>\n",
              "      <th>totChol</th>\n",
              "      <th>sysBP</th>\n",
              "      <th>diaBP</th>\n",
              "      <th>BMI</th>\n",
              "      <th>heartRate</th>\n",
              "      <th>glucose</th>\n",
              "      <th>TenYearCHD</th>\n",
              "    </tr>\n",
              "  </thead>\n",
              "  <tbody>\n",
              "    <tr>\n",
              "      <th>1422</th>\n",
              "      <td>1422</td>\n",
              "      <td>52</td>\n",
              "      <td>2.0</td>\n",
              "      <td>F</td>\n",
              "      <td>YES</td>\n",
              "      <td>9.0</td>\n",
              "      <td>0.0</td>\n",
              "      <td>0</td>\n",
              "      <td>0</td>\n",
              "      <td>0</td>\n",
              "      <td>218.0</td>\n",
              "      <td>121.5</td>\n",
              "      <td>57.0</td>\n",
              "      <td>20.78</td>\n",
              "      <td>79.0</td>\n",
              "      <td>85.0</td>\n",
              "      <td>0</td>\n",
              "    </tr>\n",
              "    <tr>\n",
              "      <th>3144</th>\n",
              "      <td>3144</td>\n",
              "      <td>56</td>\n",
              "      <td>2.0</td>\n",
              "      <td>F</td>\n",
              "      <td>NO</td>\n",
              "      <td>0.0</td>\n",
              "      <td>0.0</td>\n",
              "      <td>0</td>\n",
              "      <td>0</td>\n",
              "      <td>0</td>\n",
              "      <td>306.0</td>\n",
              "      <td>120.0</td>\n",
              "      <td>87.0</td>\n",
              "      <td>25.38</td>\n",
              "      <td>82.0</td>\n",
              "      <td>84.0</td>\n",
              "      <td>0</td>\n",
              "    </tr>\n",
              "    <tr>\n",
              "      <th>2285</th>\n",
              "      <td>2285</td>\n",
              "      <td>56</td>\n",
              "      <td>2.0</td>\n",
              "      <td>M</td>\n",
              "      <td>YES</td>\n",
              "      <td>20.0</td>\n",
              "      <td>0.0</td>\n",
              "      <td>0</td>\n",
              "      <td>0</td>\n",
              "      <td>0</td>\n",
              "      <td>270.0</td>\n",
              "      <td>109.0</td>\n",
              "      <td>75.0</td>\n",
              "      <td>24.58</td>\n",
              "      <td>67.0</td>\n",
              "      <td>64.0</td>\n",
              "      <td>0</td>\n",
              "    </tr>\n",
              "    <tr>\n",
              "      <th>2712</th>\n",
              "      <td>2712</td>\n",
              "      <td>38</td>\n",
              "      <td>2.0</td>\n",
              "      <td>F</td>\n",
              "      <td>YES</td>\n",
              "      <td>5.0</td>\n",
              "      <td>0.0</td>\n",
              "      <td>0</td>\n",
              "      <td>0</td>\n",
              "      <td>0</td>\n",
              "      <td>193.0</td>\n",
              "      <td>107.0</td>\n",
              "      <td>73.0</td>\n",
              "      <td>20.73</td>\n",
              "      <td>85.0</td>\n",
              "      <td>72.0</td>\n",
              "      <td>0</td>\n",
              "    </tr>\n",
              "    <tr>\n",
              "      <th>1390</th>\n",
              "      <td>1390</td>\n",
              "      <td>64</td>\n",
              "      <td>1.0</td>\n",
              "      <td>F</td>\n",
              "      <td>NO</td>\n",
              "      <td>0.0</td>\n",
              "      <td>0.0</td>\n",
              "      <td>0</td>\n",
              "      <td>1</td>\n",
              "      <td>0</td>\n",
              "      <td>300.0</td>\n",
              "      <td>144.0</td>\n",
              "      <td>80.0</td>\n",
              "      <td>25.81</td>\n",
              "      <td>75.0</td>\n",
              "      <td>102.0</td>\n",
              "      <td>0</td>\n",
              "    </tr>\n",
              "  </tbody>\n",
              "</table>\n",
              "</div>\n",
              "      <button class=\"colab-df-convert\" onclick=\"convertToInteractive('df-5c546cd5-7970-426e-a2a3-d515f4edc9c2')\"\n",
              "              title=\"Convert this dataframe to an interactive table.\"\n",
              "              style=\"display:none;\">\n",
              "        \n",
              "  <svg xmlns=\"http://www.w3.org/2000/svg\" height=\"24px\"viewBox=\"0 0 24 24\"\n",
              "       width=\"24px\">\n",
              "    <path d=\"M0 0h24v24H0V0z\" fill=\"none\"/>\n",
              "    <path d=\"M18.56 5.44l.94 2.06.94-2.06 2.06-.94-2.06-.94-.94-2.06-.94 2.06-2.06.94zm-11 1L8.5 8.5l.94-2.06 2.06-.94-2.06-.94L8.5 2.5l-.94 2.06-2.06.94zm10 10l.94 2.06.94-2.06 2.06-.94-2.06-.94-.94-2.06-.94 2.06-2.06.94z\"/><path d=\"M17.41 7.96l-1.37-1.37c-.4-.4-.92-.59-1.43-.59-.52 0-1.04.2-1.43.59L10.3 9.45l-7.72 7.72c-.78.78-.78 2.05 0 2.83L4 21.41c.39.39.9.59 1.41.59.51 0 1.02-.2 1.41-.59l7.78-7.78 2.81-2.81c.8-.78.8-2.07 0-2.86zM5.41 20L4 18.59l7.72-7.72 1.47 1.35L5.41 20z\"/>\n",
              "  </svg>\n",
              "      </button>\n",
              "      \n",
              "  <style>\n",
              "    .colab-df-container {\n",
              "      display:flex;\n",
              "      flex-wrap:wrap;\n",
              "      gap: 12px;\n",
              "    }\n",
              "\n",
              "    .colab-df-convert {\n",
              "      background-color: #E8F0FE;\n",
              "      border: none;\n",
              "      border-radius: 50%;\n",
              "      cursor: pointer;\n",
              "      display: none;\n",
              "      fill: #1967D2;\n",
              "      height: 32px;\n",
              "      padding: 0 0 0 0;\n",
              "      width: 32px;\n",
              "    }\n",
              "\n",
              "    .colab-df-convert:hover {\n",
              "      background-color: #E2EBFA;\n",
              "      box-shadow: 0px 1px 2px rgba(60, 64, 67, 0.3), 0px 1px 3px 1px rgba(60, 64, 67, 0.15);\n",
              "      fill: #174EA6;\n",
              "    }\n",
              "\n",
              "    [theme=dark] .colab-df-convert {\n",
              "      background-color: #3B4455;\n",
              "      fill: #D2E3FC;\n",
              "    }\n",
              "\n",
              "    [theme=dark] .colab-df-convert:hover {\n",
              "      background-color: #434B5C;\n",
              "      box-shadow: 0px 1px 3px 1px rgba(0, 0, 0, 0.15);\n",
              "      filter: drop-shadow(0px 1px 2px rgba(0, 0, 0, 0.3));\n",
              "      fill: #FFFFFF;\n",
              "    }\n",
              "  </style>\n",
              "\n",
              "      <script>\n",
              "        const buttonEl =\n",
              "          document.querySelector('#df-5c546cd5-7970-426e-a2a3-d515f4edc9c2 button.colab-df-convert');\n",
              "        buttonEl.style.display =\n",
              "          google.colab.kernel.accessAllowed ? 'block' : 'none';\n",
              "\n",
              "        async function convertToInteractive(key) {\n",
              "          const element = document.querySelector('#df-5c546cd5-7970-426e-a2a3-d515f4edc9c2');\n",
              "          const dataTable =\n",
              "            await google.colab.kernel.invokeFunction('convertToInteractive',\n",
              "                                                     [key], {});\n",
              "          if (!dataTable) return;\n",
              "\n",
              "          const docLinkHtml = 'Like what you see? Visit the ' +\n",
              "            '<a target=\"_blank\" href=https://colab.research.google.com/notebooks/data_table.ipynb>data table notebook</a>'\n",
              "            + ' to learn more about interactive tables.';\n",
              "          element.innerHTML = '';\n",
              "          dataTable['output_type'] = 'display_data';\n",
              "          await google.colab.output.renderOutput(dataTable, element);\n",
              "          const docLink = document.createElement('div');\n",
              "          docLink.innerHTML = docLinkHtml;\n",
              "          element.appendChild(docLink);\n",
              "        }\n",
              "      </script>\n",
              "    </div>\n",
              "  </div>\n",
              "  "
            ],
            "text/plain": [
              "        id  age  education sex  ...    BMI  heartRate  glucose  TenYearCHD\n",
              "1422  1422   52        2.0   F  ...  20.78       79.0     85.0           0\n",
              "3144  3144   56        2.0   F  ...  25.38       82.0     84.0           0\n",
              "2285  2285   56        2.0   M  ...  24.58       67.0     64.0           0\n",
              "2712  2712   38        2.0   F  ...  20.73       85.0     72.0           0\n",
              "1390  1390   64        1.0   F  ...  25.81       75.0    102.0           0\n",
              "\n",
              "[5 rows x 17 columns]"
            ]
          },
          "metadata": {},
          "execution_count": 4
        }
      ]
    },
    {
      "cell_type": "code",
      "source": [
        "##View last five rows of the dataframe\n",
        "data.tail()"
      ],
      "metadata": {
        "colab": {
          "base_uri": "https://localhost:8080/",
          "height": 206
        },
        "id": "4FSgMFK76ERJ",
        "outputId": "33f59a56-6cd4-468c-89d7-7723477270eb"
      },
      "execution_count": 5,
      "outputs": [
        {
          "output_type": "execute_result",
          "data": {
            "text/html": [
              "\n",
              "  <div id=\"df-5cd9ca6d-e89e-4322-bea0-19b792fdd481\">\n",
              "    <div class=\"colab-df-container\">\n",
              "      <div>\n",
              "<style scoped>\n",
              "    .dataframe tbody tr th:only-of-type {\n",
              "        vertical-align: middle;\n",
              "    }\n",
              "\n",
              "    .dataframe tbody tr th {\n",
              "        vertical-align: top;\n",
              "    }\n",
              "\n",
              "    .dataframe thead th {\n",
              "        text-align: right;\n",
              "    }\n",
              "</style>\n",
              "<table border=\"1\" class=\"dataframe\">\n",
              "  <thead>\n",
              "    <tr style=\"text-align: right;\">\n",
              "      <th></th>\n",
              "      <th>id</th>\n",
              "      <th>age</th>\n",
              "      <th>education</th>\n",
              "      <th>sex</th>\n",
              "      <th>is_smoking</th>\n",
              "      <th>cigsPerDay</th>\n",
              "      <th>BPMeds</th>\n",
              "      <th>prevalentStroke</th>\n",
              "      <th>prevalentHyp</th>\n",
              "      <th>diabetes</th>\n",
              "      <th>totChol</th>\n",
              "      <th>sysBP</th>\n",
              "      <th>diaBP</th>\n",
              "      <th>BMI</th>\n",
              "      <th>heartRate</th>\n",
              "      <th>glucose</th>\n",
              "      <th>TenYearCHD</th>\n",
              "    </tr>\n",
              "  </thead>\n",
              "  <tbody>\n",
              "    <tr>\n",
              "      <th>3385</th>\n",
              "      <td>3385</td>\n",
              "      <td>60</td>\n",
              "      <td>1.0</td>\n",
              "      <td>F</td>\n",
              "      <td>NO</td>\n",
              "      <td>0.0</td>\n",
              "      <td>0.0</td>\n",
              "      <td>0</td>\n",
              "      <td>0</td>\n",
              "      <td>0</td>\n",
              "      <td>261.0</td>\n",
              "      <td>123.5</td>\n",
              "      <td>79.0</td>\n",
              "      <td>29.28</td>\n",
              "      <td>70.0</td>\n",
              "      <td>103.0</td>\n",
              "      <td>0</td>\n",
              "    </tr>\n",
              "    <tr>\n",
              "      <th>3386</th>\n",
              "      <td>3386</td>\n",
              "      <td>46</td>\n",
              "      <td>1.0</td>\n",
              "      <td>F</td>\n",
              "      <td>NO</td>\n",
              "      <td>0.0</td>\n",
              "      <td>0.0</td>\n",
              "      <td>0</td>\n",
              "      <td>0</td>\n",
              "      <td>0</td>\n",
              "      <td>199.0</td>\n",
              "      <td>102.0</td>\n",
              "      <td>56.0</td>\n",
              "      <td>21.96</td>\n",
              "      <td>80.0</td>\n",
              "      <td>84.0</td>\n",
              "      <td>0</td>\n",
              "    </tr>\n",
              "    <tr>\n",
              "      <th>3387</th>\n",
              "      <td>3387</td>\n",
              "      <td>44</td>\n",
              "      <td>3.0</td>\n",
              "      <td>M</td>\n",
              "      <td>YES</td>\n",
              "      <td>3.0</td>\n",
              "      <td>0.0</td>\n",
              "      <td>0</td>\n",
              "      <td>1</td>\n",
              "      <td>0</td>\n",
              "      <td>352.0</td>\n",
              "      <td>164.0</td>\n",
              "      <td>119.0</td>\n",
              "      <td>28.92</td>\n",
              "      <td>73.0</td>\n",
              "      <td>72.0</td>\n",
              "      <td>1</td>\n",
              "    </tr>\n",
              "    <tr>\n",
              "      <th>3388</th>\n",
              "      <td>3388</td>\n",
              "      <td>60</td>\n",
              "      <td>1.0</td>\n",
              "      <td>M</td>\n",
              "      <td>NO</td>\n",
              "      <td>0.0</td>\n",
              "      <td>NaN</td>\n",
              "      <td>0</td>\n",
              "      <td>1</td>\n",
              "      <td>0</td>\n",
              "      <td>191.0</td>\n",
              "      <td>167.0</td>\n",
              "      <td>105.0</td>\n",
              "      <td>23.01</td>\n",
              "      <td>80.0</td>\n",
              "      <td>85.0</td>\n",
              "      <td>0</td>\n",
              "    </tr>\n",
              "    <tr>\n",
              "      <th>3389</th>\n",
              "      <td>3389</td>\n",
              "      <td>54</td>\n",
              "      <td>3.0</td>\n",
              "      <td>F</td>\n",
              "      <td>NO</td>\n",
              "      <td>0.0</td>\n",
              "      <td>0.0</td>\n",
              "      <td>0</td>\n",
              "      <td>0</td>\n",
              "      <td>0</td>\n",
              "      <td>288.0</td>\n",
              "      <td>124.0</td>\n",
              "      <td>77.0</td>\n",
              "      <td>29.88</td>\n",
              "      <td>79.0</td>\n",
              "      <td>92.0</td>\n",
              "      <td>0</td>\n",
              "    </tr>\n",
              "  </tbody>\n",
              "</table>\n",
              "</div>\n",
              "      <button class=\"colab-df-convert\" onclick=\"convertToInteractive('df-5cd9ca6d-e89e-4322-bea0-19b792fdd481')\"\n",
              "              title=\"Convert this dataframe to an interactive table.\"\n",
              "              style=\"display:none;\">\n",
              "        \n",
              "  <svg xmlns=\"http://www.w3.org/2000/svg\" height=\"24px\"viewBox=\"0 0 24 24\"\n",
              "       width=\"24px\">\n",
              "    <path d=\"M0 0h24v24H0V0z\" fill=\"none\"/>\n",
              "    <path d=\"M18.56 5.44l.94 2.06.94-2.06 2.06-.94-2.06-.94-.94-2.06-.94 2.06-2.06.94zm-11 1L8.5 8.5l.94-2.06 2.06-.94-2.06-.94L8.5 2.5l-.94 2.06-2.06.94zm10 10l.94 2.06.94-2.06 2.06-.94-2.06-.94-.94-2.06-.94 2.06-2.06.94z\"/><path d=\"M17.41 7.96l-1.37-1.37c-.4-.4-.92-.59-1.43-.59-.52 0-1.04.2-1.43.59L10.3 9.45l-7.72 7.72c-.78.78-.78 2.05 0 2.83L4 21.41c.39.39.9.59 1.41.59.51 0 1.02-.2 1.41-.59l7.78-7.78 2.81-2.81c.8-.78.8-2.07 0-2.86zM5.41 20L4 18.59l7.72-7.72 1.47 1.35L5.41 20z\"/>\n",
              "  </svg>\n",
              "      </button>\n",
              "      \n",
              "  <style>\n",
              "    .colab-df-container {\n",
              "      display:flex;\n",
              "      flex-wrap:wrap;\n",
              "      gap: 12px;\n",
              "    }\n",
              "\n",
              "    .colab-df-convert {\n",
              "      background-color: #E8F0FE;\n",
              "      border: none;\n",
              "      border-radius: 50%;\n",
              "      cursor: pointer;\n",
              "      display: none;\n",
              "      fill: #1967D2;\n",
              "      height: 32px;\n",
              "      padding: 0 0 0 0;\n",
              "      width: 32px;\n",
              "    }\n",
              "\n",
              "    .colab-df-convert:hover {\n",
              "      background-color: #E2EBFA;\n",
              "      box-shadow: 0px 1px 2px rgba(60, 64, 67, 0.3), 0px 1px 3px 1px rgba(60, 64, 67, 0.15);\n",
              "      fill: #174EA6;\n",
              "    }\n",
              "\n",
              "    [theme=dark] .colab-df-convert {\n",
              "      background-color: #3B4455;\n",
              "      fill: #D2E3FC;\n",
              "    }\n",
              "\n",
              "    [theme=dark] .colab-df-convert:hover {\n",
              "      background-color: #434B5C;\n",
              "      box-shadow: 0px 1px 3px 1px rgba(0, 0, 0, 0.15);\n",
              "      filter: drop-shadow(0px 1px 2px rgba(0, 0, 0, 0.3));\n",
              "      fill: #FFFFFF;\n",
              "    }\n",
              "  </style>\n",
              "\n",
              "      <script>\n",
              "        const buttonEl =\n",
              "          document.querySelector('#df-5cd9ca6d-e89e-4322-bea0-19b792fdd481 button.colab-df-convert');\n",
              "        buttonEl.style.display =\n",
              "          google.colab.kernel.accessAllowed ? 'block' : 'none';\n",
              "\n",
              "        async function convertToInteractive(key) {\n",
              "          const element = document.querySelector('#df-5cd9ca6d-e89e-4322-bea0-19b792fdd481');\n",
              "          const dataTable =\n",
              "            await google.colab.kernel.invokeFunction('convertToInteractive',\n",
              "                                                     [key], {});\n",
              "          if (!dataTable) return;\n",
              "\n",
              "          const docLinkHtml = 'Like what you see? Visit the ' +\n",
              "            '<a target=\"_blank\" href=https://colab.research.google.com/notebooks/data_table.ipynb>data table notebook</a>'\n",
              "            + ' to learn more about interactive tables.';\n",
              "          element.innerHTML = '';\n",
              "          dataTable['output_type'] = 'display_data';\n",
              "          await google.colab.output.renderOutput(dataTable, element);\n",
              "          const docLink = document.createElement('div');\n",
              "          docLink.innerHTML = docLinkHtml;\n",
              "          element.appendChild(docLink);\n",
              "        }\n",
              "      </script>\n",
              "    </div>\n",
              "  </div>\n",
              "  "
            ],
            "text/plain": [
              "        id  age  education sex  ...    BMI  heartRate  glucose  TenYearCHD\n",
              "3385  3385   60        1.0   F  ...  29.28       70.0    103.0           0\n",
              "3386  3386   46        1.0   F  ...  21.96       80.0     84.0           0\n",
              "3387  3387   44        3.0   M  ...  28.92       73.0     72.0           1\n",
              "3388  3388   60        1.0   M  ...  23.01       80.0     85.0           0\n",
              "3389  3389   54        3.0   F  ...  29.88       79.0     92.0           0\n",
              "\n",
              "[5 rows x 17 columns]"
            ]
          },
          "metadata": {},
          "execution_count": 5
        }
      ]
    },
    {
      "cell_type": "code",
      "source": [
        "data.shape"
      ],
      "metadata": {
        "colab": {
          "base_uri": "https://localhost:8080/"
        },
        "id": "rN4oEVL8JNEv",
        "outputId": "cf44fb55-80dd-4c96-8c5b-df4754a64777"
      },
      "execution_count": 6,
      "outputs": [
        {
          "output_type": "execute_result",
          "data": {
            "text/plain": [
              "(3390, 17)"
            ]
          },
          "metadata": {},
          "execution_count": 6
        }
      ]
    },
    {
      "cell_type": "code",
      "source": [
        "data.info()"
      ],
      "metadata": {
        "colab": {
          "base_uri": "https://localhost:8080/"
        },
        "id": "prIKEI1CMIcl",
        "outputId": "38f1eab5-758e-4c7f-815f-80052cc19fd0"
      },
      "execution_count": 7,
      "outputs": [
        {
          "output_type": "stream",
          "name": "stdout",
          "text": [
            "<class 'pandas.core.frame.DataFrame'>\n",
            "RangeIndex: 3390 entries, 0 to 3389\n",
            "Data columns (total 17 columns):\n",
            " #   Column           Non-Null Count  Dtype  \n",
            "---  ------           --------------  -----  \n",
            " 0   id               3390 non-null   int64  \n",
            " 1   age              3390 non-null   int64  \n",
            " 2   education        3303 non-null   float64\n",
            " 3   sex              3390 non-null   object \n",
            " 4   is_smoking       3390 non-null   object \n",
            " 5   cigsPerDay       3368 non-null   float64\n",
            " 6   BPMeds           3346 non-null   float64\n",
            " 7   prevalentStroke  3390 non-null   int64  \n",
            " 8   prevalentHyp     3390 non-null   int64  \n",
            " 9   diabetes         3390 non-null   int64  \n",
            " 10  totChol          3352 non-null   float64\n",
            " 11  sysBP            3390 non-null   float64\n",
            " 12  diaBP            3390 non-null   float64\n",
            " 13  BMI              3376 non-null   float64\n",
            " 14  heartRate        3389 non-null   float64\n",
            " 15  glucose          3086 non-null   float64\n",
            " 16  TenYearCHD       3390 non-null   int64  \n",
            "dtypes: float64(9), int64(6), object(2)\n",
            "memory usage: 450.4+ KB\n"
          ]
        }
      ]
    },
    {
      "cell_type": "markdown",
      "source": [
        "#Data Cleaning"
      ],
      "metadata": {
        "id": "2pqMwtch5fpq"
      }
    },
    {
      "cell_type": "code",
      "metadata": {
        "colab": {
          "base_uri": "https://localhost:8080/"
        },
        "id": "3f0zNcu7SZ0w",
        "outputId": "05d6aade-8680-4804-bae3-c69828d01cee"
      },
      "source": [
        "## Null value checks\n",
        "data.isna().sum()"
      ],
      "execution_count": 8,
      "outputs": [
        {
          "output_type": "execute_result",
          "data": {
            "text/plain": [
              "id                   0\n",
              "age                  0\n",
              "education           87\n",
              "sex                  0\n",
              "is_smoking           0\n",
              "cigsPerDay          22\n",
              "BPMeds              44\n",
              "prevalentStroke      0\n",
              "prevalentHyp         0\n",
              "diabetes             0\n",
              "totChol             38\n",
              "sysBP                0\n",
              "diaBP                0\n",
              "BMI                 14\n",
              "heartRate            1\n",
              "glucose            304\n",
              "TenYearCHD           0\n",
              "dtype: int64"
            ]
          },
          "metadata": {},
          "execution_count": 8
        }
      ]
    },
    {
      "cell_type": "code",
      "source": [
        "## checking Null values\n",
        "sns.heatmap(data.isnull(), yticklabels=False, cmap=\"viridis\")"
      ],
      "metadata": {
        "colab": {
          "base_uri": "https://localhost:8080/",
          "height": 355
        },
        "id": "iLcnzkMqAQhu",
        "outputId": "c7004150-b451-402d-d42f-768e5ef2e53e"
      },
      "execution_count": 10,
      "outputs": [
        {
          "output_type": "execute_result",
          "data": {
            "text/plain": [
              "<matplotlib.axes._subplots.AxesSubplot at 0x7f83a563dd10>"
            ]
          },
          "metadata": {},
          "execution_count": 10
        },
        {
          "output_type": "display_data",
          "data": {
            "image/png": "[encoded data removed]",
            "text/plain": [
              "<Figure size 432x288 with 2 Axes>"
            ]
          },
          "metadata": {
            "needs_background": "light"
          }
        }
      ]
    },
    {
      "cell_type": "markdown",
      "metadata": {
        "id": "Pe4hGyJ9WFqz"
      },
      "source": [
        "Dealing with null values"
      ]
    },
    {
      "cell_type": "code",
      "source": [
        "##Impute Missing values with Median. \n",
        "data['glucose'] = data['glucose'].fillna(data['glucose'].median())\n",
        "data['BPMeds'] = data['BPMeds'].fillna(data['BPMeds'].median())\n",
        "data['heartRate'] = data['heartRate'].fillna(data['heartRate'].median())\n",
        "data['BMI'] = data['BMI'].fillna(data['BMI'].median())\n",
        "data['totChol'] = data['totChol'].fillna(data['totChol'].median())\n",
        "data['education'] = data['education'].fillna(data['education'].median())\n",
        "\n"
      ],
      "metadata": {
        "id": "gMmkFPQ17qzQ"
      },
      "execution_count": 11,
      "outputs": []
    },
    {
      "cell_type": "code",
      "source": [
        "data.dropna(inplace=True)"
      ],
      "metadata": {
        "id": "R-THdr78ApI3"
      },
      "execution_count": 12,
      "outputs": []
    },
    {
      "cell_type": "code",
      "source": [
        "#Again rechecking null values if any\n",
        "sns.heatmap(data.isnull(), yticklabels=False, cmap=\"viridis\")"
      ],
      "metadata": {
        "colab": {
          "base_uri": "https://localhost:8080/",
          "height": 355
        },
        "id": "ovYYLTDpBT5m",
        "outputId": "f9723221-4032-4708-d739-fa0c3e90900d"
      },
      "execution_count": 14,
      "outputs": [
        {
          "output_type": "execute_result",
          "data": {
            "text/plain": [
              "<matplotlib.axes._subplots.AxesSubplot at 0x7f83a42469d0>"
            ]
          },
          "metadata": {},
          "execution_count": 14
        },
        {
          "output_type": "display_data",
          "data": {
            "image/png": "[encoded data removed]",
            "text/plain": [
              "<Figure size 432x288 with 2 Axes>"
            ]
          },
          "metadata": {
            "needs_background": "light"
          }
        }
      ]
    },
    {
      "cell_type": "code",
      "source": [
        "##Rechecking if we have any missing value left\n",
        "data.isnull().sum()"
      ],
      "metadata": {
        "colab": {
          "base_uri": "https://localhost:8080/"
        },
        "id": "hw3Wlf_kBqfO",
        "outputId": "b76454b3-f4a5-465c-ef17-122389d54b44"
      },
      "execution_count": 15,
      "outputs": [
        {
          "output_type": "execute_result",
          "data": {
            "text/plain": [
              "id                 0\n",
              "age                0\n",
              "education          0\n",
              "sex                0\n",
              "is_smoking         0\n",
              "cigsPerDay         0\n",
              "BPMeds             0\n",
              "prevalentStroke    0\n",
              "prevalentHyp       0\n",
              "diabetes           0\n",
              "totChol            0\n",
              "sysBP              0\n",
              "diaBP              0\n",
              "BMI                0\n",
              "heartRate          0\n",
              "glucose            0\n",
              "TenYearCHD         0\n",
              "dtype: int64"
            ]
          },
          "metadata": {},
          "execution_count": 15
        }
      ]
    },
    {
      "cell_type": "code",
      "metadata": {
        "id": "G5LqrksjZXr4"
      },
      "source": [
        "#dropping id feature and duplicates if any\n",
        "data.drop(\"id\", axis=1, inplace=True)\n",
        "data.drop_duplicates(inplace=True)"
      ],
      "execution_count": 16,
      "outputs": []
    },
    {
      "cell_type": "markdown",
      "metadata": {
        "id": "LnBsRV6L0SGD"
      },
      "source": [
        "## Exploratory Data Analysis"
      ]
    },
    {
      "cell_type": "code",
      "source": [
        "#Descriptive Stats\n",
        "\n",
        "data.describe()"
      ],
      "metadata": {
        "colab": {
          "base_uri": "https://localhost:8080/",
          "height": 364
        },
        "id": "p0QyOgPD2BKh",
        "outputId": "8ca0f63f-4146-4eb7-8d4f-116493f51da5"
      },
      "execution_count": 17,
      "outputs": [
        {
          "output_type": "execute_result",
          "data": {
            "text/html": [
              "\n",
              "  <div id=\"df-a7d15bc1-7f4f-48da-be06-380729440824\">\n",
              "    <div class=\"colab-df-container\">\n",
              "      <div>\n",
              "<style scoped>\n",
              "    .dataframe tbody tr th:only-of-type {\n",
              "        vertical-align: middle;\n",
              "    }\n",
              "\n",
              "    .dataframe tbody tr th {\n",
              "        vertical-align: top;\n",
              "    }\n",
              "\n",
              "    .dataframe thead th {\n",
              "        text-align: right;\n",
              "    }\n",
              "</style>\n",
              "<table border=\"1\" class=\"dataframe\">\n",
              "  <thead>\n",
              "    <tr style=\"text-align: right;\">\n",
              "      <th></th>\n",
              "      <th>age</th>\n",
              "      <th>education</th>\n",
              "      <th>cigsPerDay</th>\n",
              "      <th>BPMeds</th>\n",
              "      <th>prevalentStroke</th>\n",
              "      <th>prevalentHyp</th>\n",
              "      <th>diabetes</th>\n",
              "      <th>totChol</th>\n",
              "      <th>sysBP</th>\n",
              "      <th>diaBP</th>\n",
              "      <th>BMI</th>\n",
              "      <th>heartRate</th>\n",
              "      <th>glucose</th>\n",
              "      <th>TenYearCHD</th>\n",
              "    </tr>\n",
              "  </thead>\n",
              "  <tbody>\n",
              "    <tr>\n",
              "      <th>count</th>\n",
              "      <td>3368.000000</td>\n",
              "      <td>3368.000000</td>\n",
              "      <td>3368.000000</td>\n",
              "      <td>3368.000000</td>\n",
              "      <td>3368.000000</td>\n",
              "      <td>3368.000000</td>\n",
              "      <td>3368.000000</td>\n",
              "      <td>3368.000000</td>\n",
              "      <td>3368.000000</td>\n",
              "      <td>3368.00000</td>\n",
              "      <td>3368.000000</td>\n",
              "      <td>3368.000000</td>\n",
              "      <td>3368.000000</td>\n",
              "      <td>3368.000000</td>\n",
              "    </tr>\n",
              "    <tr>\n",
              "      <th>mean</th>\n",
              "      <td>49.543646</td>\n",
              "      <td>1.971200</td>\n",
              "      <td>9.069477</td>\n",
              "      <td>0.029691</td>\n",
              "      <td>0.006532</td>\n",
              "      <td>0.315914</td>\n",
              "      <td>0.025831</td>\n",
              "      <td>236.991686</td>\n",
              "      <td>132.601395</td>\n",
              "      <td>82.88465</td>\n",
              "      <td>25.796737</td>\n",
              "      <td>75.974762</td>\n",
              "      <td>81.692993</td>\n",
              "      <td>0.151425</td>\n",
              "    </tr>\n",
              "    <tr>\n",
              "      <th>std</th>\n",
              "      <td>8.603941</td>\n",
              "      <td>1.005805</td>\n",
              "      <td>11.879078</td>\n",
              "      <td>0.169759</td>\n",
              "      <td>0.080569</td>\n",
              "      <td>0.464948</td>\n",
              "      <td>0.158656</td>\n",
              "      <td>44.951744</td>\n",
              "      <td>22.300647</td>\n",
              "      <td>12.02176</td>\n",
              "      <td>4.114976</td>\n",
              "      <td>11.966154</td>\n",
              "      <td>23.198838</td>\n",
              "      <td>0.358516</td>\n",
              "    </tr>\n",
              "    <tr>\n",
              "      <th>min</th>\n",
              "      <td>32.000000</td>\n",
              "      <td>1.000000</td>\n",
              "      <td>0.000000</td>\n",
              "      <td>0.000000</td>\n",
              "      <td>0.000000</td>\n",
              "      <td>0.000000</td>\n",
              "      <td>0.000000</td>\n",
              "      <td>107.000000</td>\n",
              "      <td>83.500000</td>\n",
              "      <td>48.00000</td>\n",
              "      <td>15.960000</td>\n",
              "      <td>45.000000</td>\n",
              "      <td>40.000000</td>\n",
              "      <td>0.000000</td>\n",
              "    </tr>\n",
              "    <tr>\n",
              "      <th>25%</th>\n",
              "      <td>42.000000</td>\n",
              "      <td>1.000000</td>\n",
              "      <td>0.000000</td>\n",
              "      <td>0.000000</td>\n",
              "      <td>0.000000</td>\n",
              "      <td>0.000000</td>\n",
              "      <td>0.000000</td>\n",
              "      <td>206.000000</td>\n",
              "      <td>117.000000</td>\n",
              "      <td>74.50000</td>\n",
              "      <td>23.030000</td>\n",
              "      <td>68.000000</td>\n",
              "      <td>72.000000</td>\n",
              "      <td>0.000000</td>\n",
              "    </tr>\n",
              "    <tr>\n",
              "      <th>50%</th>\n",
              "      <td>49.000000</td>\n",
              "      <td>2.000000</td>\n",
              "      <td>0.000000</td>\n",
              "      <td>0.000000</td>\n",
              "      <td>0.000000</td>\n",
              "      <td>0.000000</td>\n",
              "      <td>0.000000</td>\n",
              "      <td>234.000000</td>\n",
              "      <td>128.500000</td>\n",
              "      <td>82.00000</td>\n",
              "      <td>25.380000</td>\n",
              "      <td>75.000000</td>\n",
              "      <td>78.000000</td>\n",
              "      <td>0.000000</td>\n",
              "    </tr>\n",
              "    <tr>\n",
              "      <th>75%</th>\n",
              "      <td>56.000000</td>\n",
              "      <td>3.000000</td>\n",
              "      <td>20.000000</td>\n",
              "      <td>0.000000</td>\n",
              "      <td>0.000000</td>\n",
              "      <td>1.000000</td>\n",
              "      <td>0.000000</td>\n",
              "      <td>264.000000</td>\n",
              "      <td>144.000000</td>\n",
              "      <td>90.00000</td>\n",
              "      <td>28.025000</td>\n",
              "      <td>83.000000</td>\n",
              "      <td>85.000000</td>\n",
              "      <td>0.000000</td>\n",
              "    </tr>\n",
              "    <tr>\n",
              "      <th>max</th>\n",
              "      <td>70.000000</td>\n",
              "      <td>4.000000</td>\n",
              "      <td>70.000000</td>\n",
              "      <td>1.000000</td>\n",
              "      <td>1.000000</td>\n",
              "      <td>1.000000</td>\n",
              "      <td>1.000000</td>\n",
              "      <td>696.000000</td>\n",
              "      <td>295.000000</td>\n",
              "      <td>142.50000</td>\n",
              "      <td>56.800000</td>\n",
              "      <td>143.000000</td>\n",
              "      <td>394.000000</td>\n",
              "      <td>1.000000</td>\n",
              "    </tr>\n",
              "  </tbody>\n",
              "</table>\n",
              "</div>\n",
              "      <button class=\"colab-df-convert\" onclick=\"convertToInteractive('df-a7d15bc1-7f4f-48da-be06-380729440824')\"\n",
              "              title=\"Convert this dataframe to an interactive table.\"\n",
              "              style=\"display:none;\">\n",
              "        \n",
              "  <svg xmlns=\"http://www.w3.org/2000/svg\" height=\"24px\"viewBox=\"0 0 24 24\"\n",
              "       width=\"24px\">\n",
              "    <path d=\"M0 0h24v24H0V0z\" fill=\"none\"/>\n",
              "    <path d=\"M18.56 5.44l.94 2.06.94-2.06 2.06-.94-2.06-.94-.94-2.06-.94 2.06-2.06.94zm-11 1L8.5 8.5l.94-2.06 2.06-.94-2.06-.94L8.5 2.5l-.94 2.06-2.06.94zm10 10l.94 2.06.94-2.06 2.06-.94-2.06-.94-.94-2.06-.94 2.06-2.06.94z\"/><path d=\"M17.41 7.96l-1.37-1.37c-.4-.4-.92-.59-1.43-.59-.52 0-1.04.2-1.43.59L10.3 9.45l-7.72 7.72c-.78.78-.78 2.05 0 2.83L4 21.41c.39.39.9.59 1.41.59.51 0 1.02-.2 1.41-.59l7.78-7.78 2.81-2.81c.8-.78.8-2.07 0-2.86zM5.41 20L4 18.59l7.72-7.72 1.47 1.35L5.41 20z\"/>\n",
              "  </svg>\n",
              "      </button>\n",
              "      \n",
              "  <style>\n",
              "    .colab-df-container {\n",
              "      display:flex;\n",
              "      flex-wrap:wrap;\n",
              "      gap: 12px;\n",
              "    }\n",
              "\n",
              "    .colab-df-convert {\n",
              "      background-color: #E8F0FE;\n",
              "      border: none;\n",
              "      border-radius: 50%;\n",
              "      cursor: pointer;\n",
              "      display: none;\n",
              "      fill: #1967D2;\n",
              "      height: 32px;\n",
              "      padding: 0 0 0 0;\n",
              "      width: 32px;\n",
              "    }\n",
              "\n",
              "    .colab-df-convert:hover {\n",
              "      background-color: #E2EBFA;\n",
              "      box-shadow: 0px 1px 2px rgba(60, 64, 67, 0.3), 0px 1px 3px 1px rgba(60, 64, 67, 0.15);\n",
              "      fill: #174EA6;\n",
              "    }\n",
              "\n",
              "    [theme=dark] .colab-df-convert {\n",
              "      background-color: #3B4455;\n",
              "      fill: #D2E3FC;\n",
              "    }\n",
              "\n",
              "    [theme=dark] .colab-df-convert:hover {\n",
              "      background-color: #434B5C;\n",
              "      box-shadow: 0px 1px 3px 1px rgba(0, 0, 0, 0.15);\n",
              "      filter: drop-shadow(0px 1px 2px rgba(0, 0, 0, 0.3));\n",
              "      fill: #FFFFFF;\n",
              "    }\n",
              "  </style>\n",
              "\n",
              "      <script>\n",
              "        const buttonEl =\n",
              "          document.querySelector('#df-a7d15bc1-7f4f-48da-be06-380729440824 button.colab-df-convert');\n",
              "        buttonEl.style.display =\n",
              "          google.colab.kernel.accessAllowed ? 'block' : 'none';\n",
              "\n",
              "        async function convertToInteractive(key) {\n",
              "          const element = document.querySelector('#df-a7d15bc1-7f4f-48da-be06-380729440824');\n",
              "          const dataTable =\n",
              "            await google.colab.kernel.invokeFunction('convertToInteractive',\n",
              "                                                     [key], {});\n",
              "          if (!dataTable) return;\n",
              "\n",
              "          const docLinkHtml = 'Like what you see? Visit the ' +\n",
              "            '<a target=\"_blank\" href=https://colab.research.google.com/notebooks/data_table.ipynb>data table notebook</a>'\n",
              "            + ' to learn more about interactive tables.';\n",
              "          element.innerHTML = '';\n",
              "          dataTable['output_type'] = 'display_data';\n",
              "          await google.colab.output.renderOutput(dataTable, element);\n",
              "          const docLink = document.createElement('div');\n",
              "          docLink.innerHTML = docLinkHtml;\n",
              "          element.appendChild(docLink);\n",
              "        }\n",
              "      </script>\n",
              "    </div>\n",
              "  </div>\n",
              "  "
            ],
            "text/plain": [
              "               age    education  ...      glucose   TenYearCHD\n",
              "count  3368.000000  3368.000000  ...  3368.000000  3368.000000\n",
              "mean     49.543646     1.971200  ...    81.692993     0.151425\n",
              "std       8.603941     1.005805  ...    23.198838     0.358516\n",
              "min      32.000000     1.000000  ...    40.000000     0.000000\n",
              "25%      42.000000     1.000000  ...    72.000000     0.000000\n",
              "50%      49.000000     2.000000  ...    78.000000     0.000000\n",
              "75%      56.000000     3.000000  ...    85.000000     0.000000\n",
              "max      70.000000     4.000000  ...   394.000000     1.000000\n",
              "\n",
              "[8 rows x 14 columns]"
            ]
          },
          "metadata": {},
          "execution_count": 17
        }
      ]
    },
    {
      "cell_type": "markdown",
      "source": [
        "Observations :\n",
        "\n",
        "Some the features are Discrete so let us analyze continuous ones\n",
        "\n",
        "Age : We can see that Min. age of subject found in given records is 32 while Max. being 70. So our values are ranging from 32 to 70.\n",
        "\n",
        "cigsPerDay : Subject smoking Cig. per day is as low as nill while we have 70 Cigs. per day making the Peak.\n",
        "\n",
        "totChol : Min. Cholesterol level recorded in our dataset is 107 while Max. is 696.\n",
        "\n",
        "sysBP : Min. Systolic Blood Pressure observed in Subject is 83 while Max. is 295.\n",
        "\n",
        "diaBP : Min. Diastolic Blood Pressure observed in Subject is 48 while Max. is 142.\n",
        "\n",
        "BMI : Body Mass Index in our dataset ranges from 15.96 to 56.80.\n",
        "\n",
        "heartRate : Observed Heartrate in our case study is 44 to 143.\n",
        "\n",
        "glucose : Glucose sugar level range is 40 to 394\n",
        "\n",
        "\n",
        "\n"
      ],
      "metadata": {
        "id": "VYW35dWi2ua3"
      }
    },
    {
      "cell_type": "code",
      "source": [
        "#CHD by Gender Viz.\n",
        "\n",
        "sns.catplot(x='sex', hue='TenYearCHD', data=data, kind='count', palette='Dark2', height=6, legend=False)\n",
        "plt.xlabel('Gender')\n",
        "plt.xticks(ticks=[0,1], labels=['Female', 'Male'])\n",
        "plt.ylabel('No. of Patients')\n",
        "plt.legend(['Neg.', 'Pos.'])\n",
        "plt.title('CHD by Gender')"
      ],
      "metadata": {
        "colab": {
          "base_uri": "https://localhost:8080/",
          "height": 474
        },
        "id": "yhs9ZteF5JwU",
        "outputId": "54d07de5-171c-4308-fbab-8d52f5a77558"
      },
      "execution_count": 18,
      "outputs": [
        {
          "output_type": "execute_result",
          "data": {
            "text/plain": [
              "Text(0.5, 1.0, 'CHD by Gender')"
            ]
          },
          "metadata": {},
          "execution_count": 18
        },
        {
          "output_type": "display_data",
          "data": {
            "image/png": "[encoded data removed]",
            "text/plain": [
              "<Figure size 432x432 with 1 Axes>"
            ]
          },
          "metadata": {
            "needs_background": "light"
          }
        }
      ]
    },
    {
      "cell_type": "markdown",
      "source": [
        "Observations :\n",
        "\n",
        "Above Bivariate Analysis plot depicts Gender wise absence / presence of Chronic Heart Disease (CHD).\n",
        "\n",
        "Observations tells us that we've Excessive number of people who are not suffering from CHD.\n",
        "\n",
        "Negative : Approx. 80 to 90% of Females are falling in Negative Category while Approx. 60 to 70% of Males are in Negative Slot.\n",
        "\n",
        "Positive : While Approx. 10% of Females & Males are suffering from CHD.\n",
        "\n",
        "By this we can say that our Dataset is Imbalanced where Approx. 80 to 90% are Negative Classifications and Approx. 10 to 15% are Positive Classes."
      ],
      "metadata": {
        "id": "GRIwC7LKVzhg"
      }
    },
    {
      "cell_type": "code",
      "source": [
        "sns.displot(data['age'], bins=15, kde=True, color='maroon')\n",
        "plt.ylabel('Count')\n",
        "plt.title('Agewise distribution of the patients')"
      ],
      "metadata": {
        "colab": {
          "base_uri": "https://localhost:8080/",
          "height": 402
        },
        "id": "kNj9aySmWcRo",
        "outputId": "1de2b73b-a58f-46c7-c964-80ff32bc9679"
      },
      "execution_count": 19,
      "outputs": [
        {
          "output_type": "execute_result",
          "data": {
            "text/plain": [
              "Text(0.5, 1.0, 'Agewise distribution of the patients')"
            ]
          },
          "metadata": {},
          "execution_count": 19
        },
        {
          "output_type": "display_data",
          "data": {
            "image/png": "[encoded data removed]",
            "text/plain": [
              "<Figure size 360x360 with 1 Axes>"
            ]
          },
          "metadata": {
            "needs_background": "light"
          }
        }
      ]
    },
    {
      "cell_type": "markdown",
      "source": [
        "Observation :\n",
        "\n",
        "Age ranging from 40 to 50 are in Majority followed by 50 to 70.\n",
        "\n",
        "Let us define a user-defined Function to encode Age."
      ],
      "metadata": {
        "id": "8BZFTB9OWsx0"
      }
    },
    {
      "cell_type": "code",
      "source": [
        "#User-defined function\n",
        "\n",
        "#Age encoding\n",
        "def encode_age(data):\n",
        "    if data <= 40:\n",
        "        return 0\n",
        "    if data > 40 and data <=55:\n",
        "        return 1\n",
        "    else:\n",
        "        return 2    \n",
        "\n",
        "#heart rate encoder\n",
        "def heartrate_enc(data):\n",
        "    if data <= 60:\n",
        "        return 0\n",
        "    if data > 60 and data <=100:\n",
        "        return 1\n",
        "    else:\n",
        "        return 2\n",
        "\n",
        "#applying functions\n",
        "data['enc_hr'] = data['heartRate'].apply(heartrate_enc)\n",
        "data['encode_age'] = data['age'].apply(lambda x : encode_age(x))"
      ],
      "metadata": {
        "id": "0oSIT0mqW6HI"
      },
      "execution_count": 20,
      "outputs": []
    },
    {
      "cell_type": "markdown",
      "source": [
        "Above Functions will Encode Age and Heart Rate.\n",
        "We can encode the Age Group Further :\n",
        "\n",
        "Subject with Age <= 40 are Adults.\n",
        "\n",
        "Subject with Age > 40 and <= 55 are Middle-Aged Adult.\n",
        "\n",
        "Subject Above 55 will fall in Senior Category.\n",
        "\n",
        "We'll Encode HeartRate as follows:\n",
        "\n",
        "HeartRate <= 60 is Low / Resting HeartBeat.\n",
        "\n",
        "HeartRate between 60 to 100 is considered as Normal.\n",
        "\n",
        "While, HeartRate above 100 is High.\n"
      ],
      "metadata": {
        "id": "AACLROMMXOuc"
      }
    },
    {
      "cell_type": "code",
      "source": [
        "#HeartRate (Grouped) Count\n",
        "\n",
        "plt.figure(figsize=(20,8))\n",
        "plt.subplots_adjust(wspace=0.3, hspace=0.3)\n",
        "\n",
        "plt.subplot(1, 2, 1)\n",
        "sns.countplot(data['enc_hr'], palette='Wistia')\n",
        "plt.title('HeartRate (Grouped)')\n",
        "plt.xticks([0,1,2], ['Low', 'Normal', 'High'])\n",
        "\n",
        "plt.subplot(1, 2, 2)\n",
        "sns.countplot(data['encode_age'])\n",
        "plt.xlabel('Age Group')\n",
        "plt.xticks(ticks=[0,1,2], labels=['Adults', 'Middle-Aged', 'Senior'])\n",
        "plt.title('Count by Age Group')\n"
      ],
      "metadata": {
        "colab": {
          "base_uri": "https://localhost:8080/",
          "height": 621
        },
        "id": "yevtSnHJXdwy",
        "outputId": "15d6c8de-87f3-431e-b910-c50aebfa8317"
      },
      "execution_count": 21,
      "outputs": [
        {
          "output_type": "stream",
          "name": "stderr",
          "text": [
            "/usr/local/lib/python3.7/dist-packages/seaborn/_decorators.py:43: FutureWarning: Pass the following variable as a keyword arg: x. From version 0.12, the only valid positional argument will be `data`, and passing other arguments without an explicit keyword will result in an error or misinterpretation.\n",
            "  FutureWarning\n",
            "/usr/local/lib/python3.7/dist-packages/seaborn/_decorators.py:43: FutureWarning: Pass the following variable as a keyword arg: x. From version 0.12, the only valid positional argument will be `data`, and passing other arguments without an explicit keyword will result in an error or misinterpretation.\n",
            "  FutureWarning\n"
          ]
        },
        {
          "output_type": "execute_result",
          "data": {
            "text/plain": [
              "Text(0.5, 1.0, 'Count by Age Group')"
            ]
          },
          "metadata": {},
          "execution_count": 21
        },
        {
          "output_type": "display_data",
          "data": {
            "image/png": "[encoded data removed]",
            "text/plain": [
              "<Figure size 1440x576 with 2 Axes>"
            ]
          },
          "metadata": {
            "needs_background": "light"
          }
        }
      ]
    },
    {
      "cell_type": "markdown",
      "source": [
        "We can observe that Subject with Normal HeartRate are in Majority followed by \n",
        "Resting / Low HeartRate and High HeartRate.\n",
        "\n",
        "We've more number of Middle-Aged Adults in our Dataset followed by Seniors And then Adults"
      ],
      "metadata": {
        "id": "96ywXkQGXzW-"
      }
    },
    {
      "cell_type": "code",
      "source": [
        "#Target Class count\n",
        "\n",
        "plt.figure(figsize=(8,8))\n",
        "plt.pie(data['TenYearCHD'].value_counts(), labels=['Neg.','Pos.'], autopct='%1.2f%%', explode=[0,0.2], shadow=True, colors=['crimson','gold'])\n",
        "my_circle = plt.Circle( (0,0), 0.4, color='white')\n",
        "p = plt.gcf()\n",
        "p.gca().add_artist(my_circle)\n",
        "plt.title('Target Class Count')"
      ],
      "metadata": {
        "colab": {
          "base_uri": "https://localhost:8080/",
          "height": 499
        },
        "id": "jErcsLEiZ8hp",
        "outputId": "ebaffc09-a44a-4aaa-8130-ec2439e9e6c9"
      },
      "execution_count": 22,
      "outputs": [
        {
          "output_type": "execute_result",
          "data": {
            "text/plain": [
              "Text(0.5, 1.0, 'Target Class Count')"
            ]
          },
          "metadata": {},
          "execution_count": 22
        },
        {
          "output_type": "display_data",
          "data": {
            "image/png": "[encoded data removed]",
            "text/plain": [
              "<Figure size 576x576 with 1 Axes>"
            ]
          },
          "metadata": {}
        }
      ]
    },
    {
      "cell_type": "markdown",
      "source": [
        "Observations :\n",
        "\n",
        "We can see that we've Imbalanced Dataset here having ratio of 85:15 where Positive Class is Minor.\n",
        "\n",
        "We'll need to balance the Dataset in this case to get the best out of it.\n",
        "\n"
      ],
      "metadata": {
        "id": "wDXD4l4Yaafv"
      }
    },
    {
      "cell_type": "code",
      "metadata": {
        "colab": {
          "base_uri": "https://localhost:8080/",
          "height": 863
        },
        "id": "tWu-eUp62FK0",
        "outputId": "1ba6bd41-c618-48f9-e385-ced34fe7b6b9"
      },
      "source": [
        "# Correlation\n",
        "df_corr = data.corr()\n",
        "\n",
        "plt.figure(figsize=(15, 15))\n",
        "sns.heatmap(df_corr, cbar = True,  square = True, annot=True, fmt= '.2f',annot_kws={'size': 15},\n",
        "           cmap= 'coolwarm')\n",
        "plt.title('Correlation between features');\n"
      ],
      "execution_count": 23,
      "outputs": [
        {
          "output_type": "display_data",
          "data": {
            "image/png": "[encoded data removed]",
            "text/plain": [
              "<Figure size 1080x1080 with 2 Axes>"
            ]
          },
          "metadata": {
            "needs_background": "light"
          }
        }
      ]
    },
    {
      "cell_type": "markdown",
      "source": [
        "Observations :\n",
        "There are highly positive correlation between 3 features sysBP, diaBP, and prevalentHyp, especially sysBP with the 2 others. We will drop sysBP."
      ],
      "metadata": {
        "id": "xvyHk1n0ia7O"
      }
    },
    {
      "cell_type": "code",
      "source": [
        "#We're dropping few features here because they are Positively Correlated (As we saw in Correlation Plot)\n",
        "data.drop(\"sysBP\", axis=1, inplace=True)\n",
        "data.drop(\"encode_age\", axis=1, inplace=True)\n",
        "data.drop(\"enc_hr\", axis=1, inplace=True)\n",
        "data.head()"
      ],
      "metadata": {
        "colab": {
          "base_uri": "https://localhost:8080/",
          "height": 206
        },
        "id": "LjfXWXnenBwJ",
        "outputId": "27e85600-5733-4c68-a53c-41a2570b6372"
      },
      "execution_count": 24,
      "outputs": [
        {
          "output_type": "execute_result",
          "data": {
            "text/html": [
              "\n",
              "  <div id=\"df-f9e51453-005f-41a4-b302-42af5ee67bcf\">\n",
              "    <div class=\"colab-df-container\">\n",
              "      <div>\n",
              "<style scoped>\n",
              "    .dataframe tbody tr th:only-of-type {\n",
              "        vertical-align: middle;\n",
              "    }\n",
              "\n",
              "    .dataframe tbody tr th {\n",
              "        vertical-align: top;\n",
              "    }\n",
              "\n",
              "    .dataframe thead th {\n",
              "        text-align: right;\n",
              "    }\n",
              "</style>\n",
              "<table border=\"1\" class=\"dataframe\">\n",
              "  <thead>\n",
              "    <tr style=\"text-align: right;\">\n",
              "      <th></th>\n",
              "      <th>age</th>\n",
              "      <th>education</th>\n",
              "      <th>sex</th>\n",
              "      <th>is_smoking</th>\n",
              "      <th>cigsPerDay</th>\n",
              "      <th>BPMeds</th>\n",
              "      <th>prevalentStroke</th>\n",
              "      <th>prevalentHyp</th>\n",
              "      <th>diabetes</th>\n",
              "      <th>totChol</th>\n",
              "      <th>diaBP</th>\n",
              "      <th>BMI</th>\n",
              "      <th>heartRate</th>\n",
              "      <th>glucose</th>\n",
              "      <th>TenYearCHD</th>\n",
              "    </tr>\n",
              "  </thead>\n",
              "  <tbody>\n",
              "    <tr>\n",
              "      <th>0</th>\n",
              "      <td>64</td>\n",
              "      <td>2.0</td>\n",
              "      <td>F</td>\n",
              "      <td>YES</td>\n",
              "      <td>3.0</td>\n",
              "      <td>0.0</td>\n",
              "      <td>0</td>\n",
              "      <td>0</td>\n",
              "      <td>0</td>\n",
              "      <td>221.0</td>\n",
              "      <td>85.0</td>\n",
              "      <td>25.38</td>\n",
              "      <td>90.0</td>\n",
              "      <td>80.0</td>\n",
              "      <td>1</td>\n",
              "    </tr>\n",
              "    <tr>\n",
              "      <th>1</th>\n",
              "      <td>36</td>\n",
              "      <td>4.0</td>\n",
              "      <td>M</td>\n",
              "      <td>NO</td>\n",
              "      <td>0.0</td>\n",
              "      <td>0.0</td>\n",
              "      <td>0</td>\n",
              "      <td>1</td>\n",
              "      <td>0</td>\n",
              "      <td>212.0</td>\n",
              "      <td>98.0</td>\n",
              "      <td>29.77</td>\n",
              "      <td>72.0</td>\n",
              "      <td>75.0</td>\n",
              "      <td>0</td>\n",
              "    </tr>\n",
              "    <tr>\n",
              "      <th>2</th>\n",
              "      <td>46</td>\n",
              "      <td>1.0</td>\n",
              "      <td>F</td>\n",
              "      <td>YES</td>\n",
              "      <td>10.0</td>\n",
              "      <td>0.0</td>\n",
              "      <td>0</td>\n",
              "      <td>0</td>\n",
              "      <td>0</td>\n",
              "      <td>250.0</td>\n",
              "      <td>71.0</td>\n",
              "      <td>20.35</td>\n",
              "      <td>88.0</td>\n",
              "      <td>94.0</td>\n",
              "      <td>0</td>\n",
              "    </tr>\n",
              "    <tr>\n",
              "      <th>3</th>\n",
              "      <td>50</td>\n",
              "      <td>1.0</td>\n",
              "      <td>M</td>\n",
              "      <td>YES</td>\n",
              "      <td>20.0</td>\n",
              "      <td>0.0</td>\n",
              "      <td>0</td>\n",
              "      <td>1</td>\n",
              "      <td>0</td>\n",
              "      <td>233.0</td>\n",
              "      <td>88.0</td>\n",
              "      <td>28.26</td>\n",
              "      <td>68.0</td>\n",
              "      <td>94.0</td>\n",
              "      <td>1</td>\n",
              "    </tr>\n",
              "    <tr>\n",
              "      <th>4</th>\n",
              "      <td>64</td>\n",
              "      <td>1.0</td>\n",
              "      <td>F</td>\n",
              "      <td>YES</td>\n",
              "      <td>30.0</td>\n",
              "      <td>0.0</td>\n",
              "      <td>0</td>\n",
              "      <td>0</td>\n",
              "      <td>0</td>\n",
              "      <td>241.0</td>\n",
              "      <td>85.0</td>\n",
              "      <td>26.42</td>\n",
              "      <td>70.0</td>\n",
              "      <td>77.0</td>\n",
              "      <td>0</td>\n",
              "    </tr>\n",
              "  </tbody>\n",
              "</table>\n",
              "</div>\n",
              "      <button class=\"colab-df-convert\" onclick=\"convertToInteractive('df-f9e51453-005f-41a4-b302-42af5ee67bcf')\"\n",
              "              title=\"Convert this dataframe to an interactive table.\"\n",
              "              style=\"display:none;\">\n",
              "        \n",
              "  <svg xmlns=\"http://www.w3.org/2000/svg\" height=\"24px\"viewBox=\"0 0 24 24\"\n",
              "       width=\"24px\">\n",
              "    <path d=\"M0 0h24v24H0V0z\" fill=\"none\"/>\n",
              "    <path d=\"M18.56 5.44l.94 2.06.94-2.06 2.06-.94-2.06-.94-.94-2.06-.94 2.06-2.06.94zm-11 1L8.5 8.5l.94-2.06 2.06-.94-2.06-.94L8.5 2.5l-.94 2.06-2.06.94zm10 10l.94 2.06.94-2.06 2.06-.94-2.06-.94-.94-2.06-.94 2.06-2.06.94z\"/><path d=\"M17.41 7.96l-1.37-1.37c-.4-.4-.92-.59-1.43-.59-.52 0-1.04.2-1.43.59L10.3 9.45l-7.72 7.72c-.78.78-.78 2.05 0 2.83L4 21.41c.39.39.9.59 1.41.59.51 0 1.02-.2 1.41-.59l7.78-7.78 2.81-2.81c.8-.78.8-2.07 0-2.86zM5.41 20L4 18.59l7.72-7.72 1.47 1.35L5.41 20z\"/>\n",
              "  </svg>\n",
              "      </button>\n",
              "      \n",
              "  <style>\n",
              "    .colab-df-container {\n",
              "      display:flex;\n",
              "      flex-wrap:wrap;\n",
              "      gap: 12px;\n",
              "    }\n",
              "\n",
              "    .colab-df-convert {\n",
              "      background-color: #E8F0FE;\n",
              "      border: none;\n",
              "      border-radius: 50%;\n",
              "      cursor: pointer;\n",
              "      display: none;\n",
              "      fill: #1967D2;\n",
              "      height: 32px;\n",
              "      padding: 0 0 0 0;\n",
              "      width: 32px;\n",
              "    }\n",
              "\n",
              "    .colab-df-convert:hover {\n",
              "      background-color: #E2EBFA;\n",
              "      box-shadow: 0px 1px 2px rgba(60, 64, 67, 0.3), 0px 1px 3px 1px rgba(60, 64, 67, 0.15);\n",
              "      fill: #174EA6;\n",
              "    }\n",
              "\n",
              "    [theme=dark] .colab-df-convert {\n",
              "      background-color: #3B4455;\n",
              "      fill: #D2E3FC;\n",
              "    }\n",
              "\n",
              "    [theme=dark] .colab-df-convert:hover {\n",
              "      background-color: #434B5C;\n",
              "      box-shadow: 0px 1px 3px 1px rgba(0, 0, 0, 0.15);\n",
              "      filter: drop-shadow(0px 1px 2px rgba(0, 0, 0, 0.3));\n",
              "      fill: #FFFFFF;\n",
              "    }\n",
              "  </style>\n",
              "\n",
              "      <script>\n",
              "        const buttonEl =\n",
              "          document.querySelector('#df-f9e51453-005f-41a4-b302-42af5ee67bcf button.colab-df-convert');\n",
              "        buttonEl.style.display =\n",
              "          google.colab.kernel.accessAllowed ? 'block' : 'none';\n",
              "\n",
              "        async function convertToInteractive(key) {\n",
              "          const element = document.querySelector('#df-f9e51453-005f-41a4-b302-42af5ee67bcf');\n",
              "          const dataTable =\n",
              "            await google.colab.kernel.invokeFunction('convertToInteractive',\n",
              "                                                     [key], {});\n",
              "          if (!dataTable) return;\n",
              "\n",
              "          const docLinkHtml = 'Like what you see? Visit the ' +\n",
              "            '<a target=\"_blank\" href=https://colab.research.google.com/notebooks/data_table.ipynb>data table notebook</a>'\n",
              "            + ' to learn more about interactive tables.';\n",
              "          element.innerHTML = '';\n",
              "          dataTable['output_type'] = 'display_data';\n",
              "          await google.colab.output.renderOutput(dataTable, element);\n",
              "          const docLink = document.createElement('div');\n",
              "          docLink.innerHTML = docLinkHtml;\n",
              "          element.appendChild(docLink);\n",
              "        }\n",
              "      </script>\n",
              "    </div>\n",
              "  </div>\n",
              "  "
            ],
            "text/plain": [
              "   age  education sex is_smoking  ...    BMI  heartRate  glucose  TenYearCHD\n",
              "0   64        2.0   F        YES  ...  25.38       90.0     80.0           1\n",
              "1   36        4.0   M         NO  ...  29.77       72.0     75.0           0\n",
              "2   46        1.0   F        YES  ...  20.35       88.0     94.0           0\n",
              "3   50        1.0   M        YES  ...  28.26       68.0     94.0           1\n",
              "4   64        1.0   F        YES  ...  26.42       70.0     77.0           0\n",
              "\n",
              "[5 rows x 15 columns]"
            ]
          },
          "metadata": {},
          "execution_count": 24
        }
      ]
    },
    {
      "cell_type": "markdown",
      "metadata": {
        "id": "c9G0Z7QOdXEu"
      },
      "source": [
        "##Dealing with object type variables "
      ]
    },
    {
      "cell_type": "code",
      "source": [
        "data.info()"
      ],
      "metadata": {
        "colab": {
          "base_uri": "https://localhost:8080/"
        },
        "id": "WRjXhZgcEFhp",
        "outputId": "c16c6b7a-0765-4085-9136-901fb3009c08"
      },
      "execution_count": 26,
      "outputs": [
        {
          "output_type": "stream",
          "name": "stdout",
          "text": [
            "<class 'pandas.core.frame.DataFrame'>\n",
            "Int64Index: 3368 entries, 0 to 3389\n",
            "Data columns (total 15 columns):\n",
            " #   Column           Non-Null Count  Dtype  \n",
            "---  ------           --------------  -----  \n",
            " 0   age              3368 non-null   int64  \n",
            " 1   education        3368 non-null   float64\n",
            " 2   sex              3368 non-null   object \n",
            " 3   is_smoking       3368 non-null   object \n",
            " 4   cigsPerDay       3368 non-null   float64\n",
            " 5   BPMeds           3368 non-null   float64\n",
            " 6   prevalentStroke  3368 non-null   int64  \n",
            " 7   prevalentHyp     3368 non-null   int64  \n",
            " 8   diabetes         3368 non-null   int64  \n",
            " 9   totChol          3368 non-null   float64\n",
            " 10  diaBP            3368 non-null   float64\n",
            " 11  BMI              3368 non-null   float64\n",
            " 12  heartRate        3368 non-null   float64\n",
            " 13  glucose          3368 non-null   float64\n",
            " 14  TenYearCHD       3368 non-null   int64  \n",
            "dtypes: float64(8), int64(5), object(2)\n",
            "memory usage: 581.0+ KB\n"
          ]
        }
      ]
    },
    {
      "cell_type": "code",
      "source": [
        "## Encoding Assortment with numerical values\n",
        "data['sex']=data['sex'].apply(lambda x: 1 if x=='M' else 0)\n",
        "data['is_smoking']=data['is_smoking'].apply(lambda x: 1 if x=='YES' else 0)"
      ],
      "metadata": {
        "id": "E0hQQ02DFNTg"
      },
      "execution_count": 27,
      "outputs": []
    },
    {
      "cell_type": "code",
      "source": [
        "data.head()"
      ],
      "metadata": {
        "colab": {
          "base_uri": "https://localhost:8080/",
          "height": 206
        },
        "id": "WFcFCJX2F_Ne",
        "outputId": "88bf4537-f296-4018-8150-d1e55621245d"
      },
      "execution_count": 28,
      "outputs": [
        {
          "output_type": "execute_result",
          "data": {
            "text/html": [
              "\n",
              "  <div id=\"df-39a313aa-9fbc-4003-b250-4c6043aab4f1\">\n",
              "    <div class=\"colab-df-container\">\n",
              "      <div>\n",
              "<style scoped>\n",
              "    .dataframe tbody tr th:only-of-type {\n",
              "        vertical-align: middle;\n",
              "    }\n",
              "\n",
              "    .dataframe tbody tr th {\n",
              "        vertical-align: top;\n",
              "    }\n",
              "\n",
              "    .dataframe thead th {\n",
              "        text-align: right;\n",
              "    }\n",
              "</style>\n",
              "<table border=\"1\" class=\"dataframe\">\n",
              "  <thead>\n",
              "    <tr style=\"text-align: right;\">\n",
              "      <th></th>\n",
              "      <th>age</th>\n",
              "      <th>education</th>\n",
              "      <th>sex</th>\n",
              "      <th>is_smoking</th>\n",
              "      <th>cigsPerDay</th>\n",
              "      <th>BPMeds</th>\n",
              "      <th>prevalentStroke</th>\n",
              "      <th>prevalentHyp</th>\n",
              "      <th>diabetes</th>\n",
              "      <th>totChol</th>\n",
              "      <th>diaBP</th>\n",
              "      <th>BMI</th>\n",
              "      <th>heartRate</th>\n",
              "      <th>glucose</th>\n",
              "      <th>TenYearCHD</th>\n",
              "    </tr>\n",
              "  </thead>\n",
              "  <tbody>\n",
              "    <tr>\n",
              "      <th>0</th>\n",
              "      <td>64</td>\n",
              "      <td>2.0</td>\n",
              "      <td>0</td>\n",
              "      <td>1</td>\n",
              "      <td>3.0</td>\n",
              "      <td>0.0</td>\n",
              "      <td>0</td>\n",
              "      <td>0</td>\n",
              "      <td>0</td>\n",
              "      <td>221.0</td>\n",
              "      <td>85.0</td>\n",
              "      <td>25.38</td>\n",
              "      <td>90.0</td>\n",
              "      <td>80.0</td>\n",
              "      <td>1</td>\n",
              "    </tr>\n",
              "    <tr>\n",
              "      <th>1</th>\n",
              "      <td>36</td>\n",
              "      <td>4.0</td>\n",
              "      <td>1</td>\n",
              "      <td>0</td>\n",
              "      <td>0.0</td>\n",
              "      <td>0.0</td>\n",
              "      <td>0</td>\n",
              "      <td>1</td>\n",
              "      <td>0</td>\n",
              "      <td>212.0</td>\n",
              "      <td>98.0</td>\n",
              "      <td>29.77</td>\n",
              "      <td>72.0</td>\n",
              "      <td>75.0</td>\n",
              "      <td>0</td>\n",
              "    </tr>\n",
              "    <tr>\n",
              "      <th>2</th>\n",
              "      <td>46</td>\n",
              "      <td>1.0</td>\n",
              "      <td>0</td>\n",
              "      <td>1</td>\n",
              "      <td>10.0</td>\n",
              "      <td>0.0</td>\n",
              "      <td>0</td>\n",
              "      <td>0</td>\n",
              "      <td>0</td>\n",
              "      <td>250.0</td>\n",
              "      <td>71.0</td>\n",
              "      <td>20.35</td>\n",
              "      <td>88.0</td>\n",
              "      <td>94.0</td>\n",
              "      <td>0</td>\n",
              "    </tr>\n",
              "    <tr>\n",
              "      <th>3</th>\n",
              "      <td>50</td>\n",
              "      <td>1.0</td>\n",
              "      <td>1</td>\n",
              "      <td>1</td>\n",
              "      <td>20.0</td>\n",
              "      <td>0.0</td>\n",
              "      <td>0</td>\n",
              "      <td>1</td>\n",
              "      <td>0</td>\n",
              "      <td>233.0</td>\n",
              "      <td>88.0</td>\n",
              "      <td>28.26</td>\n",
              "      <td>68.0</td>\n",
              "      <td>94.0</td>\n",
              "      <td>1</td>\n",
              "    </tr>\n",
              "    <tr>\n",
              "      <th>4</th>\n",
              "      <td>64</td>\n",
              "      <td>1.0</td>\n",
              "      <td>0</td>\n",
              "      <td>1</td>\n",
              "      <td>30.0</td>\n",
              "      <td>0.0</td>\n",
              "      <td>0</td>\n",
              "      <td>0</td>\n",
              "      <td>0</td>\n",
              "      <td>241.0</td>\n",
              "      <td>85.0</td>\n",
              "      <td>26.42</td>\n",
              "      <td>70.0</td>\n",
              "      <td>77.0</td>\n",
              "      <td>0</td>\n",
              "    </tr>\n",
              "  </tbody>\n",
              "</table>\n",
              "</div>\n",
              "      <button class=\"colab-df-convert\" onclick=\"convertToInteractive('df-39a313aa-9fbc-4003-b250-4c6043aab4f1')\"\n",
              "              title=\"Convert this dataframe to an interactive table.\"\n",
              "              style=\"display:none;\">\n",
              "        \n",
              "  <svg xmlns=\"http://www.w3.org/2000/svg\" height=\"24px\"viewBox=\"0 0 24 24\"\n",
              "       width=\"24px\">\n",
              "    <path d=\"M0 0h24v24H0V0z\" fill=\"none\"/>\n",
              "    <path d=\"M18.56 5.44l.94 2.06.94-2.06 2.06-.94-2.06-.94-.94-2.06-.94 2.06-2.06.94zm-11 1L8.5 8.5l.94-2.06 2.06-.94-2.06-.94L8.5 2.5l-.94 2.06-2.06.94zm10 10l.94 2.06.94-2.06 2.06-.94-2.06-.94-.94-2.06-.94 2.06-2.06.94z\"/><path d=\"M17.41 7.96l-1.37-1.37c-.4-.4-.92-.59-1.43-.59-.52 0-1.04.2-1.43.59L10.3 9.45l-7.72 7.72c-.78.78-.78 2.05 0 2.83L4 21.41c.39.39.9.59 1.41.59.51 0 1.02-.2 1.41-.59l7.78-7.78 2.81-2.81c.8-.78.8-2.07 0-2.86zM5.41 20L4 18.59l7.72-7.72 1.47 1.35L5.41 20z\"/>\n",
              "  </svg>\n",
              "      </button>\n",
              "      \n",
              "  <style>\n",
              "    .colab-df-container {\n",
              "      display:flex;\n",
              "      flex-wrap:wrap;\n",
              "      gap: 12px;\n",
              "    }\n",
              "\n",
              "    .colab-df-convert {\n",
              "      background-color: #E8F0FE;\n",
              "      border: none;\n",
              "      border-radius: 50%;\n",
              "      cursor: pointer;\n",
              "      display: none;\n",
              "      fill: #1967D2;\n",
              "      height: 32px;\n",
              "      padding: 0 0 0 0;\n",
              "      width: 32px;\n",
              "    }\n",
              "\n",
              "    .colab-df-convert:hover {\n",
              "      background-color: #E2EBFA;\n",
              "      box-shadow: 0px 1px 2px rgba(60, 64, 67, 0.3), 0px 1px 3px 1px rgba(60, 64, 67, 0.15);\n",
              "      fill: #174EA6;\n",
              "    }\n",
              "\n",
              "    [theme=dark] .colab-df-convert {\n",
              "      background-color: #3B4455;\n",
              "      fill: #D2E3FC;\n",
              "    }\n",
              "\n",
              "    [theme=dark] .colab-df-convert:hover {\n",
              "      background-color: #434B5C;\n",
              "      box-shadow: 0px 1px 3px 1px rgba(0, 0, 0, 0.15);\n",
              "      filter: drop-shadow(0px 1px 2px rgba(0, 0, 0, 0.3));\n",
              "      fill: #FFFFFF;\n",
              "    }\n",
              "  </style>\n",
              "\n",
              "      <script>\n",
              "        const buttonEl =\n",
              "          document.querySelector('#df-39a313aa-9fbc-4003-b250-4c6043aab4f1 button.colab-df-convert');\n",
              "        buttonEl.style.display =\n",
              "          google.colab.kernel.accessAllowed ? 'block' : 'none';\n",
              "\n",
              "        async function convertToInteractive(key) {\n",
              "          const element = document.querySelector('#df-39a313aa-9fbc-4003-b250-4c6043aab4f1');\n",
              "          const dataTable =\n",
              "            await google.colab.kernel.invokeFunction('convertToInteractive',\n",
              "                                                     [key], {});\n",
              "          if (!dataTable) return;\n",
              "\n",
              "          const docLinkHtml = 'Like what you see? Visit the ' +\n",
              "            '<a target=\"_blank\" href=https://colab.research.google.com/notebooks/data_table.ipynb>data table notebook</a>'\n",
              "            + ' to learn more about interactive tables.';\n",
              "          element.innerHTML = '';\n",
              "          dataTable['output_type'] = 'display_data';\n",
              "          await google.colab.output.renderOutput(dataTable, element);\n",
              "          const docLink = document.createElement('div');\n",
              "          docLink.innerHTML = docLinkHtml;\n",
              "          element.appendChild(docLink);\n",
              "        }\n",
              "      </script>\n",
              "    </div>\n",
              "  </div>\n",
              "  "
            ],
            "text/plain": [
              "   age  education  sex  is_smoking  ...    BMI  heartRate  glucose  TenYearCHD\n",
              "0   64        2.0    0           1  ...  25.38       90.0     80.0           1\n",
              "1   36        4.0    1           0  ...  29.77       72.0     75.0           0\n",
              "2   46        1.0    0           1  ...  20.35       88.0     94.0           0\n",
              "3   50        1.0    1           1  ...  28.26       68.0     94.0           1\n",
              "4   64        1.0    0           1  ...  26.42       70.0     77.0           0\n",
              "\n",
              "[5 rows x 15 columns]"
            ]
          },
          "metadata": {},
          "execution_count": 28
        }
      ]
    },
    {
      "cell_type": "markdown",
      "metadata": {
        "id": "sWpE02PYf8Qy"
      },
      "source": [
        "## Data prepation to modeling"
      ]
    },
    {
      "cell_type": "code",
      "metadata": {
        "colab": {
          "base_uri": "https://localhost:8080/"
        },
        "id": "80yO2wuGYjXL",
        "outputId": "3a1a994e-8304-4c95-c9ea-12eb9406401d"
      },
      "source": [
        "data.columns"
      ],
      "execution_count": 29,
      "outputs": [
        {
          "output_type": "execute_result",
          "data": {
            "text/plain": [
              "Index(['age', 'education', 'sex', 'is_smoking', 'cigsPerDay', 'BPMeds',\n",
              "       'prevalentStroke', 'prevalentHyp', 'diabetes', 'totChol', 'diaBP',\n",
              "       'BMI', 'heartRate', 'glucose', 'TenYearCHD'],\n",
              "      dtype='object')"
            ]
          },
          "metadata": {},
          "execution_count": 29
        }
      ]
    },
    {
      "cell_type": "markdown",
      "metadata": {
        "id": "ONwFwHwGhC1F"
      },
      "source": [
        "Splitting target variable from independent variables"
      ]
    },
    {
      "cell_type": "code",
      "metadata": {
        "id": "Pt8THeXzfe9k"
      },
      "source": [
        "target_variable = 'TenYearCHD'\n",
        "X = data.drop([target_variable], axis=1).values\n",
        "y = data[target_variable].values"
      ],
      "execution_count": 30,
      "outputs": []
    },
    {
      "cell_type": "code",
      "metadata": {
        "colab": {
          "base_uri": "https://localhost:8080/"
        },
        "id": "pkMMkLhXhc1l",
        "outputId": "ba8f0fa2-d154-4b5b-b4ae-870b417936ba"
      },
      "source": [
        "X"
      ],
      "execution_count": 31,
      "outputs": [
        {
          "output_type": "execute_result",
          "data": {
            "text/plain": [
              "array([[64.  ,  2.  ,  0.  , ..., 25.38, 90.  , 80.  ],\n",
              "       [36.  ,  4.  ,  1.  , ..., 29.77, 72.  , 75.  ],\n",
              "       [46.  ,  1.  ,  0.  , ..., 20.35, 88.  , 94.  ],\n",
              "       ...,\n",
              "       [44.  ,  3.  ,  1.  , ..., 28.92, 73.  , 72.  ],\n",
              "       [60.  ,  1.  ,  1.  , ..., 23.01, 80.  , 85.  ],\n",
              "       [54.  ,  3.  ,  0.  , ..., 29.88, 79.  , 92.  ]])"
            ]
          },
          "metadata": {},
          "execution_count": 31
        }
      ]
    },
    {
      "cell_type": "code",
      "metadata": {
        "colab": {
          "base_uri": "https://localhost:8080/"
        },
        "id": "59Rp5K07hudC",
        "outputId": "4bfed2d5-89a7-4285-d247-5e1d7491dc19"
      },
      "source": [
        "y"
      ],
      "execution_count": 32,
      "outputs": [
        {
          "output_type": "execute_result",
          "data": {
            "text/plain": [
              "array([1, 0, 0, ..., 1, 0, 0])"
            ]
          },
          "metadata": {},
          "execution_count": 32
        }
      ]
    },
    {
      "cell_type": "code",
      "source": [
        "#Applying SMOTE\n",
        "num_before = dict(Counter(y))\n",
        "from imblearn.over_sampling import SMOTE\n",
        "\n",
        "smote = SMOTE()\n",
        "\n",
        "# fit predictor and target variable\n",
        "x_smote, y_smote = smote.fit_resample(X,y)\n",
        "\n",
        "print('Original dataset shape', len(data))\n",
        "print('Resampled dataset shape', len(y_smote))\n",
        "num_after =dict(Counter(y_smote))"
      ],
      "metadata": {
        "id": "ne3PgWErxCDn",
        "colab": {
          "base_uri": "https://localhost:8080/"
        },
        "outputId": "0d3ab270-913d-42b4-8f32-4a72e335028f"
      },
      "execution_count": 33,
      "outputs": [
        {
          "output_type": "stream",
          "name": "stdout",
          "text": [
            "Original dataset shape 3368\n",
            "Resampled dataset shape 5716\n"
          ]
        }
      ]
    },
    {
      "cell_type": "code",
      "source": [
        "print(num_before, num_after)"
      ],
      "metadata": {
        "colab": {
          "base_uri": "https://localhost:8080/"
        },
        "id": "j34vCW3LySFw",
        "outputId": "287a6d4f-5332-46c2-a05a-cb6109c63c31"
      },
      "execution_count": 34,
      "outputs": [
        {
          "output_type": "stream",
          "name": "stdout",
          "text": [
            "{1: 510, 0: 2858} {1: 2858, 0: 2858}\n"
          ]
        }
      ]
    },
    {
      "cell_type": "code",
      "source": [
        "labels = [\"Negative Cases\",\"Positive Cases\"]\n",
        "plt.figure(figsize=(15,6))\n",
        "plt.subplot(1,2,1)\n",
        "sns.barplot(labels, list(num_before.values()))\n",
        "plt.title(\"Numbers Before Balancing\")\n",
        "plt.subplot(1,2,2)\n",
        "sns.barplot(labels, list(num_after.values()))\n",
        "plt.title(\"Numbers After Balancing\")\n",
        "plt.show()"
      ],
      "metadata": {
        "colab": {
          "base_uri": "https://localhost:8080/",
          "height": 479
        },
        "id": "xIVuPEaixByL",
        "outputId": "72adc0f2-9b07-4e82-bfa5-9aff78a088d4"
      },
      "execution_count": 35,
      "outputs": [
        {
          "output_type": "stream",
          "name": "stderr",
          "text": [
            "/usr/local/lib/python3.7/dist-packages/seaborn/_decorators.py:43: FutureWarning: Pass the following variables as keyword args: x, y. From version 0.12, the only valid positional argument will be `data`, and passing other arguments without an explicit keyword will result in an error or misinterpretation.\n",
            "  FutureWarning\n",
            "/usr/local/lib/python3.7/dist-packages/seaborn/_decorators.py:43: FutureWarning: Pass the following variables as keyword args: x, y. From version 0.12, the only valid positional argument will be `data`, and passing other arguments without an explicit keyword will result in an error or misinterpretation.\n",
            "  FutureWarning\n"
          ]
        },
        {
          "output_type": "display_data",
          "data": {
            "image/png": "[encoded data removed]",
            "text/plain": [
              "<Figure size 1080x432 with 2 Axes>"
            ]
          },
          "metadata": {
            "needs_background": "light"
          }
        }
      ]
    },
    {
      "cell_type": "markdown",
      "metadata": {
        "id": "FM5CMLU_h-T-"
      },
      "source": [
        "Splitting train and test data"
      ]
    },
    {
      "cell_type": "code",
      "metadata": {
        "id": "bJNl_5oah8TF"
      },
      "source": [
        "from sklearn.model_selection import train_test_split\n",
        "X_train, X_test, y_train, y_test = train_test_split(x_smote, y_smote, test_size=0.2, random_state=0)"
      ],
      "execution_count": 36,
      "outputs": []
    },
    {
      "cell_type": "code",
      "metadata": {
        "colab": {
          "base_uri": "https://localhost:8080/"
        },
        "id": "9cjye5KZknDY",
        "outputId": "1c0e3d9a-3e76-4d05-99cf-afdcb639e707"
      },
      "source": [
        "X_train"
      ],
      "execution_count": 37,
      "outputs": [
        {
          "output_type": "execute_result",
          "data": {
            "text/plain": [
              "array([[52.0881807 ,  1.        ,  0.        , ..., 28.69951112,\n",
              "        65.0881807 , 79.79362633],\n",
              "       [42.0996721 ,  3.0996721 ,  1.        , ..., 28.72371154,\n",
              "        85.1029511 , 73.4983605 ],\n",
              "       [42.        ,  1.        ,  0.        , ..., 24.23      ,\n",
              "        72.        , 84.        ],\n",
              "       ...,\n",
              "       [42.        ,  1.        ,  0.        , ..., 21.31      ,\n",
              "        70.        , 65.        ],\n",
              "       [46.        ,  1.        ,  1.        , ..., 26.31      ,\n",
              "        98.        , 64.        ],\n",
              "       [47.        ,  1.        ,  0.        , ..., 27.05      ,\n",
              "        75.        , 77.        ]])"
            ]
          },
          "metadata": {},
          "execution_count": 37
        }
      ]
    },
    {
      "cell_type": "code",
      "metadata": {
        "colab": {
          "base_uri": "https://localhost:8080/"
        },
        "id": "JLTz0o0hkpsy",
        "outputId": "fb41078e-67e5-490d-d8cf-280b19dbcc76"
      },
      "source": [
        "y_train"
      ],
      "execution_count": 38,
      "outputs": [
        {
          "output_type": "execute_result",
          "data": {
            "text/plain": [
              "array([1, 1, 0, ..., 1, 0, 0])"
            ]
          },
          "metadata": {},
          "execution_count": 38
        }
      ]
    },
    {
      "cell_type": "code",
      "metadata": {
        "colab": {
          "base_uri": "https://localhost:8080/"
        },
        "id": "oyzAyNhlkr82",
        "outputId": "c2214d1b-3dc8-451e-dc15-0219c89dab5b"
      },
      "source": [
        "X_test"
      ],
      "execution_count": 39,
      "outputs": [
        {
          "output_type": "execute_result",
          "data": {
            "text/plain": [
              "array([[5.60000000e+01, 3.00000000e+00, 0.00000000e+00, ...,\n",
              "        2.68200000e+01, 8.00000000e+01, 1.05000000e+02],\n",
              "       [6.29627234e+01, 3.03727663e+00, 3.72766327e-02, ...,\n",
              "        3.23016082e+01, 6.49254467e+01, 7.48136168e+01],\n",
              "       [3.60000000e+01, 2.00000000e+00, 1.00000000e+00, ...,\n",
              "        3.65200000e+01, 6.50000000e+01, 8.50000000e+01],\n",
              "       ...,\n",
              "       [5.70000000e+01, 4.00000000e+00, 1.00000000e+00, ...,\n",
              "        2.90200000e+01, 7.20000000e+01, 9.20000000e+01],\n",
              "       [3.60000000e+01, 1.00000000e+00, 0.00000000e+00, ...,\n",
              "        2.07900000e+01, 7.50000000e+01, 6.90000000e+01],\n",
              "       [5.46117097e+01, 1.90292742e+00, 9.70725837e-02, ...,\n",
              "        2.57697388e+01, 9.40292742e+01, 7.76117097e+01]])"
            ]
          },
          "metadata": {},
          "execution_count": 39
        }
      ]
    },
    {
      "cell_type": "code",
      "metadata": {
        "colab": {
          "base_uri": "https://localhost:8080/"
        },
        "id": "FmBkVWtFktc5",
        "outputId": "5840fac2-e87b-45be-e803-cfee502f0568"
      },
      "source": [
        "y_test"
      ],
      "execution_count": 40,
      "outputs": [
        {
          "output_type": "execute_result",
          "data": {
            "text/plain": [
              "array([0, 1, 0, ..., 0, 0, 1])"
            ]
          },
          "metadata": {},
          "execution_count": 40
        }
      ]
    },
    {
      "cell_type": "markdown",
      "metadata": {
        "id": "ab2gWjXcmZ8F"
      },
      "source": [
        "Feature Scaling X_train and X_test"
      ]
    },
    {
      "cell_type": "code",
      "metadata": {
        "id": "tdBVWKv9mYjb"
      },
      "source": [
        "from sklearn.preprocessing import StandardScaler\n",
        "sc = StandardScaler()\n",
        "X_train_scaled = sc.fit_transform(X_train)\n",
        "X_test_scaled = sc.transform(X_test)"
      ],
      "execution_count": 41,
      "outputs": []
    },
    {
      "cell_type": "code",
      "metadata": {
        "colab": {
          "base_uri": "https://localhost:8080/"
        },
        "id": "qbNzC7tDmrY9",
        "outputId": "dac31a38-9309-43e5-db50-c3b29a5ac28d"
      },
      "source": [
        "X_train_scaled"
      ],
      "execution_count": 42,
      "outputs": [
        {
          "output_type": "execute_result",
          "data": {
            "text/plain": [
              "array([[ 0.07624315, -0.97774307, -0.99942841, ...,  0.69316446,\n",
              "        -0.93473553, -0.13606166],\n",
              "       [-1.11937627,  1.24716934,  1.13856643, ...,  0.69941196,\n",
              "         0.79346767, -0.3541308 ],\n",
              "       [-1.13130697, -0.97774307, -0.99942841, ..., -0.46066971,\n",
              "        -0.33792488,  0.00964788],\n",
              "       ...,\n",
              "       [-1.13130697, -0.97774307, -0.99942841, ..., -1.21448723,\n",
              "        -0.51061766, -0.64851553],\n",
              "       [-0.652509  , -0.97774307,  1.13856643, ...,  0.07629619,\n",
              "         1.9070813 , -0.68315571],\n",
              "       [-0.5328095 , -0.97774307, -0.99942841, ...,  0.26733214,\n",
              "        -0.0788857 , -0.23283338]])"
            ]
          },
          "metadata": {},
          "execution_count": 42
        }
      ]
    },
    {
      "cell_type": "code",
      "metadata": {
        "colab": {
          "base_uri": "https://localhost:8080/"
        },
        "id": "XnB9-7iEmwmQ",
        "outputId": "9450998b-6685-4dda-cb32-06f8db99a726"
      },
      "source": [
        "X_test_scaled"
      ],
      "execution_count": 43,
      "outputs": [
        {
          "output_type": "execute_result",
          "data": {
            "text/plain": [
              "array([[ 0.54448595,  1.14155204, -0.99942841, ...,  0.2079561 ,\n",
              "         0.35284625,  0.73709165],\n",
              "       [ 1.37792041,  1.18105213, -0.91973116, ...,  1.62306991,\n",
              "        -0.94878702, -0.30857008],\n",
              "       [-1.84950394,  0.08190448,  1.13856643, ...,  2.71207594,\n",
              "        -0.94234962,  0.04428806],\n",
              "       ...,\n",
              "       [ 0.66418544,  2.20119959,  1.13856643, ...,  0.77590081,\n",
              "        -0.33792488,  0.28676931],\n",
              "       [-1.84950394, -0.97774307, -0.99942841, ..., -1.3487287 ,\n",
              "        -0.0788857 , -0.50995481],\n",
              "       [ 0.37830829, -0.02095824, -0.79188772, ..., -0.06317585,\n",
              "         1.56422346, -0.21164365]])"
            ]
          },
          "metadata": {},
          "execution_count": 43
        }
      ]
    },
    {
      "cell_type": "markdown",
      "metadata": {
        "id": "9DNRH1SSlGxN"
      },
      "source": [
        "Here is a data ready to be trained and tested, using any machine learning classification algorithm. "
      ]
    },
    {
      "cell_type": "markdown",
      "metadata": {
        "id": "IONQ-_gInY8p"
      },
      "source": [
        "##K-Nearest Neighbors (K-NN)"
      ]
    },
    {
      "cell_type": "markdown",
      "metadata": {
        "id": "HONwGa9Kst8B"
      },
      "source": [
        "Training the K-NN model on the Training set"
      ]
    },
    {
      "cell_type": "code",
      "metadata": {
        "colab": {
          "base_uri": "https://localhost:8080/"
        },
        "id": "_3AZN9khkumm",
        "outputId": "c061da50-f94f-40c1-a946-343d2df3681f"
      },
      "source": [
        "## Define the KNN model\n",
        "from sklearn.neighbors import KNeighborsClassifier\n",
        "classifier = KNeighborsClassifier(n_neighbors = 5, metric = 'minkowski', p = 2)\n",
        "classifier.fit(X_train_scaled, y_train)"
      ],
      "execution_count": 153,
      "outputs": [
        {
          "output_type": "execute_result",
          "data": {
            "text/plain": [
              "KNeighborsClassifier()"
            ]
          },
          "metadata": {},
          "execution_count": 153
        }
      ]
    },
    {
      "cell_type": "code",
      "source": [
        "# Predict the test data\n",
        "y_pred = classifier.predict(X_test_scaled)"
      ],
      "metadata": {
        "id": "W4a6_xGU9S3n"
      },
      "execution_count": 154,
      "outputs": []
    },
    {
      "cell_type": "code",
      "source": [
        "# Get the confusion matrix for test\n",
        "plt.figure(figsize=(3,3))\n",
        "labels = ['Not at Risk','Heart Risk' ]\n",
        "cm = confusion_matrix(y_test, y_pred)\n",
        "\n",
        "cat = ['TN','FP','FN','TP']\n",
        "#cat = np.asarray(labels2).reshape(2,2)\n",
        "counts = [count for count in cm.flatten()]\n",
        "labelsIn = [f\"{v1}\\n{v2}\" for v1, v2 in  zip(cat,counts)]\n",
        "\n",
        "labelsIn = np.asarray(labelsIn).reshape(2,2)\n",
        "\n",
        "ax= plt.subplot()\n",
        "sns.heatmap(cm, annot=labelsIn, cmap='Greys_r', fmt='')\n",
        "\n",
        "\n",
        "# labels, title and ticks\n",
        "ax.set_xlabel('Predicted labels');\n",
        "ax.set_ylabel('True labels');\n",
        "ax.set_title('Confusion Matrix');\n",
        "ax.xaxis.set_ticklabels(labels);\n",
        "ax.yaxis.set_ticklabels(labels);"
      ],
      "metadata": {
        "colab": {
          "base_uri": "https://localhost:8080/",
          "height": 241
        },
        "id": "uLl-CQ3v2t1M",
        "outputId": "017d254a-b718-4435-b1fa-eedab89e1168"
      },
      "execution_count": 155,
      "outputs": [
        {
          "output_type": "display_data",
          "data": {
            "image/png": "[encoded data removed]",
            "text/plain": [
              "<Figure size 216x216 with 2 Axes>"
            ]
          },
          "metadata": {}
        }
      ]
    },
    {
      "cell_type": "code",
      "metadata": {
        "colab": {
          "base_uri": "https://localhost:8080/"
        },
        "id": "mPFa91zht79u",
        "outputId": "c852725e-c3c7-44f5-89d9-a1fd50098709"
      },
      "source": [
        "## Calculate the diff Metrics\n",
        "roc_auc = roc_auc_score(y_test, y_pred)\n",
        "print(\"ROC-AUC: {:.3f}\".format(roc_auc))\n",
        "precision = precision_score(y_test, y_pred)\n",
        "recall = recall_score(y_test, y_pred)\n",
        "print(\"Precision: {:.3f}\".format(precision))\n",
        "print(\"Recall: {:.3f}\".format(recall))\n",
        "print (\"F1-Score {:.3f}\".format(2*precision*recall/(recall+precision)))\n",
        "accuracy =accuracy_score(y_test, y_pred)\n",
        "print(\"Accuracy {:.3f}\".format(accuracy))\n",
        "print(\"Cohen's Kappa Score {:.3f}\".format(cohen_kappa_score(y_test, y_pred)))\n"
      ],
      "execution_count": 156,
      "outputs": [
        {
          "output_type": "stream",
          "name": "stdout",
          "text": [
            "ROC-AUC: 0.801\n",
            "Precision: 0.737\n",
            "Recall: 0.926\n",
            "F1-Score 0.821\n",
            "Accuracy 0.800\n",
            "Cohen's Kappa Score 0.601\n"
          ]
        }
      ]
    },
    {
      "cell_type": "markdown",
      "source": [
        "#hyperparameter optimization"
      ],
      "metadata": {
        "id": "1xMZer9WmkH8"
      }
    },
    {
      "cell_type": "code",
      "source": [
        "#Define hyper parameters to tune\n",
        "from sklearn.model_selection import train_test_split, GridSearchCV, RandomizedSearchCV\n",
        "import numpy as np\n",
        "grid_params = { 'n_neighbors' : [5,7,9,11,13],\n",
        "               'weights' : ['uniform','distance'],\n",
        "               'metric' : ['minkowski','euclidean','manhattan']}\n",
        "knn = GridSearchCV(KNeighborsClassifier(), grid_params, verbose = 1, cv=5, n_jobs = -1)"
      ],
      "metadata": {
        "id": "AhHV8pMBphy6"
      },
      "execution_count": 161,
      "outputs": []
    },
    {
      "cell_type": "code",
      "source": [
        "# fit the model on our train set\n",
        "g_res = knn.fit(X_train_scaled, y_train)"
      ],
      "metadata": {
        "colab": {
          "base_uri": "https://localhost:8080/"
        },
        "id": "beOi5Zbu67sl",
        "outputId": "71a3fdc0-4304-4cb2-f64d-247ae2260caa"
      },
      "execution_count": 162,
      "outputs": [
        {
          "output_type": "stream",
          "name": "stdout",
          "text": [
            "Fitting 5 folds for each of 30 candidates, totalling 150 fits\n"
          ]
        }
      ]
    },
    {
      "cell_type": "code",
      "source": [
        "#best parameters\n",
        "g_res.best_params_"
      ],
      "metadata": {
        "colab": {
          "base_uri": "https://localhost:8080/"
        },
        "id": "38ASkJ41Mhi-",
        "outputId": "9cd936fd-8916-43ca-aecb-23e0d863d7fd"
      },
      "execution_count": 163,
      "outputs": [
        {
          "output_type": "execute_result",
          "data": {
            "text/plain": [
              "{'metric': 'manhattan', 'n_neighbors': 5, 'weights': 'distance'}"
            ]
          },
          "metadata": {},
          "execution_count": 163
        }
      ]
    },
    {
      "cell_type": "code",
      "source": [
        "# find the best score\n",
        "g_res.best_score_\n"
      ],
      "metadata": {
        "colab": {
          "base_uri": "https://localhost:8080/"
        },
        "id": "aUgnUrfu7CaJ",
        "outputId": "8fa7ebb6-ad8c-4aff-9f96-0b87afd9d775"
      },
      "execution_count": 164,
      "outputs": [
        {
          "output_type": "execute_result",
          "data": {
            "text/plain": [
              "0.8556446772129952"
            ]
          },
          "metadata": {},
          "execution_count": 164
        }
      ]
    },
    {
      "cell_type": "code",
      "source": [
        "# get a prediction\n",
        "y_hat = knn.predict(X_train_scaled)\n",
        "y_knn = knn.predict(X_test_scaled)"
      ],
      "metadata": {
        "id": "Xp7sJnaK738s"
      },
      "execution_count": 166,
      "outputs": []
    },
    {
      "cell_type": "code",
      "source": [
        "## Calculate the diff Metrics\n",
        "roc_auc = roc_auc_score(y_test, y_knn)\n",
        "print(\"ROC-AUC: {:.3f}\".format(roc_auc))\n",
        "precision = precision_score(y_test, y_knn)\n",
        "recall = recall_score(y_test, y_knn)\n",
        "print(\"Precision: {:.3f}\".format(precision))\n",
        "print(\"Recall: {:.3f}\".format(recall))\n",
        "print (\"F1-Score {:.3f}\".format(2*precision*recall/(recall+precision)))\n",
        "accuracy =accuracy_score(y_test, y_knn)\n",
        "print(\"Accuracy {:.3f}\".format(accuracy))\n",
        "print(\"Cohen's Kappa Score {:.3f}\".format(cohen_kappa_score(y_test, y_knn)))\n"
      ],
      "metadata": {
        "colab": {
          "base_uri": "https://localhost:8080/"
        },
        "id": "Eeqlx7Hnkkyr",
        "outputId": "15ca70e5-8c95-4df7-9927-0327e9e00909"
      },
      "execution_count": 167,
      "outputs": [
        {
          "output_type": "stream",
          "name": "stdout",
          "text": [
            "ROC-AUC: 0.872\n",
            "Precision: 0.811\n",
            "Recall: 0.965\n",
            "F1-Score 0.881\n",
            "Accuracy 0.872\n",
            "Cohen's Kappa Score 0.743\n"
          ]
        }
      ]
    },
    {
      "cell_type": "code",
      "source": [
        "# Get the confusion matrix for test\n",
        "plt.figure(figsize=(3,3))\n",
        "labels = ['Not at Risk','Heart Risk' ]\n",
        "cm = confusion_matrix(y_test, y_knn)\n",
        "\n",
        "cat = ['TN','FP','FN','TP']\n",
        "#cat = np.asarray(labels2).reshape(2,2)\n",
        "counts = [count for count in cm.flatten()]\n",
        "labelsIn = [f\"{v1}\\n{v2}\" for v1, v2 in  zip(cat,counts)]\n",
        "\n",
        "labelsIn = np.asarray(labelsIn).reshape(2,2)\n",
        "\n",
        "ax= plt.subplot()\n",
        "#sns.heatmap(cm, annot=labelsIn, ax = ax,fmt='', cmap='Blues');\n",
        "\n",
        "sns.heatmap(cm, annot=labelsIn, cmap='Greys_r', fmt='')\n",
        "\n",
        "# labels, title and ticks\n",
        "ax.set_xlabel('Predicted labels');\n",
        "ax.set_ylabel('True labels');\n",
        "ax.set_title('Confusion Matrix');\n",
        "ax.xaxis.set_ticklabels(labels);\n",
        "ax.yaxis.set_ticklabels(labels);"
      ],
      "metadata": {
        "colab": {
          "base_uri": "https://localhost:8080/",
          "height": 241
        },
        "id": "9O9EUl67sJSN",
        "outputId": "e494854e-678a-474d-e34b-05defbb20160"
      },
      "execution_count": 168,
      "outputs": [
        {
          "output_type": "display_data",
          "data": {
            "image/png": "[encoded data removed]",
            "text/plain": [
              "<Figure size 216x216 with 2 Axes>"
            ]
          },
          "metadata": {}
        }
      ]
    },
    {
      "cell_type": "code",
      "source": [
        "# ROC curve and AUC \n",
        "\n",
        "# calculate AUC\n",
        "log_auc = roc_auc_score(y_test, y_knn)\n",
        "\n",
        "# calculate roc curve\n",
        "fpr, tpr, thresholds = roc_curve(y_test, probs)\n",
        "# plot curve\n",
        "sns.set_style('whitegrid')\n",
        "plt.figure(figsize=(10,6))\n",
        "plt.plot([0, 1], [0, 1], linestyle='--')\n",
        "plt.plot(fpr, tpr, marker='.')\n",
        "plt.ylabel('True positive rate')\n",
        "plt.xlabel('False positive rate')\n",
        "plt.title(f\"AUC = {round(log_auc,3)}\")\n",
        "plt.show()"
      ],
      "metadata": {
        "colab": {
          "base_uri": "https://localhost:8080/",
          "height": 404
        },
        "id": "Z87bG2ocxtEg",
        "outputId": "d8a8affc-804d-425b-df6c-1f4d26cb62bf"
      },
      "execution_count": 169,
      "outputs": [
        {
          "output_type": "display_data",
          "data": {
            "image/png": "[encoded data removed]",
            "text/plain": [
              "<Figure size 720x432 with 1 Axes>"
            ]
          },
          "metadata": {}
        }
      ]
    },
    {
      "cell_type": "markdown",
      "metadata": {
        "id": "HXgR-CN_u9ct"
      },
      "source": [
        "##Support Vector Machine (SVM)"
      ]
    },
    {
      "cell_type": "markdown",
      "metadata": {
        "id": "isQEiDR1u9Ly"
      },
      "source": [
        "Training the SVM model on the Training set"
      ]
    },
    {
      "cell_type": "code",
      "metadata": {
        "colab": {
          "base_uri": "https://localhost:8080/"
        },
        "id": "1SB0tE-9u7UT",
        "outputId": "f89022d5-5d91-4abc-8385-1234148d6b30"
      },
      "source": [
        "#Define the SVM model\n",
        "from sklearn.svm import SVC\n",
        "classifier = SVC(kernel = 'rbf', random_state = 0)\n",
        "classifier.fit(X_train_scaled, y_train)"
      ],
      "execution_count": 170,
      "outputs": [
        {
          "output_type": "execute_result",
          "data": {
            "text/plain": [
              "SVC(random_state=0)"
            ]
          },
          "metadata": {},
          "execution_count": 170
        }
      ]
    },
    {
      "cell_type": "code",
      "source": [
        "# Get the predicted class and confusion matrix\n",
        "y_preds_svm = classifier.predict(X_test_scaled)"
      ],
      "metadata": {
        "id": "eCR9iK0H-nco"
      },
      "execution_count": 171,
      "outputs": []
    },
    {
      "cell_type": "code",
      "metadata": {
        "colab": {
          "base_uri": "https://localhost:8080/",
          "height": 241
        },
        "id": "ksTSKvyovY9l",
        "outputId": "c82f1e74-0608-4c11-bb8b-b4fb79b34443"
      },
      "source": [
        "# Get the confusion matrix for test\n",
        "plt.figure(figsize=(3,3))\n",
        "labels = ['Not at Risk','Heart Risk' ]\n",
        "cm = confusion_matrix(y_test, y_preds_svm)\n",
        "\n",
        "cat = ['TN','FP','FN','TP']\n",
        "#cat = np.asarray(labels2).reshape(2,2)\n",
        "counts = [count for count in cm.flatten()]\n",
        "labelsIn = [f\"{v1}\\n{v2}\" for v1, v2 in  zip(cat,counts)]\n",
        "\n",
        "labelsIn = np.asarray(labelsIn).reshape(2,2)\n",
        "\n",
        "ax= plt.subplot()\n",
        "\n",
        "sns.heatmap(cm, annot=labelsIn, cmap='Greys_r', fmt='')\n",
        "\n",
        "# labels, title and ticks\n",
        "ax.set_xlabel('Predicted labels');\n",
        "ax.set_ylabel('True labels');\n",
        "ax.set_title('Confusion Matrix');\n",
        "ax.xaxis.set_ticklabels(labels);\n",
        "ax.yaxis.set_ticklabels(labels);"
      ],
      "execution_count": 172,
      "outputs": [
        {
          "output_type": "display_data",
          "data": {
            "image/png": "[encoded data removed]",
            "text/plain": [
              "<Figure size 216x216 with 2 Axes>"
            ]
          },
          "metadata": {}
        }
      ]
    },
    {
      "cell_type": "code",
      "metadata": {
        "colab": {
          "base_uri": "https://localhost:8080/"
        },
        "id": "nbvduVDTvhhd",
        "outputId": "bc680f5f-a081-4263-ba58-1cc6828fb707"
      },
      "source": [
        "## Calculate the diff Metrics\n",
        "roc_auc = roc_auc_score(y_test, y_preds_svm)\n",
        "print(\"ROC-AUC: {:.3f}\".format(roc_auc))\n",
        "precision = precision_score(y_test, y_preds_svm)\n",
        "recall = recall_score(y_test, y_preds_svm)\n",
        "print(\"Precision: {:.3f}\".format(precision))\n",
        "print(\"Recall: {:.3f}\".format(recall))\n",
        "print (\"F1-Score {:.3f}\".format(2*precision*recall/(recall+precision)))\n",
        "accuracy =accuracy_score(y_test, y_preds_svm)\n",
        "print(\"Accuracy {:.3f}\".format(accuracy))\n",
        "print(\"Cohen's Kappa Score {:.3f}\".format(cohen_kappa_score(y_test, y_preds_svm)))\n"
      ],
      "execution_count": 173,
      "outputs": [
        {
          "output_type": "stream",
          "name": "stdout",
          "text": [
            "ROC-AUC: 0.787\n",
            "Precision: 0.794\n",
            "Recall: 0.769\n",
            "F1-Score 0.781\n",
            "Accuracy 0.787\n",
            "Cohen's Kappa Score 0.573\n"
          ]
        }
      ]
    },
    {
      "cell_type": "code",
      "source": [
        "#Define hyper parameters to tune\n",
        "\n",
        "param_grid = {'C': [0.1, 1, 10, 100, 1000],\n",
        "              'gamma': [1, 0.1, 0.01, 0.001, 0.0001],\n",
        "              'kernel': ['rbf']}\n",
        " \n",
        "grid = GridSearchCV(SVC(), param_grid, refit = True, verbose = 3)\n",
        " \n",
        "# fitting the model for grid search\n",
        "grid.fit(X_train_scaled, y_train )"
      ],
      "metadata": {
        "id": "VueQNZ2dn8aP",
        "colab": {
          "base_uri": "https://localhost:8080/"
        },
        "outputId": "06d1cebf-c823-4e96-daa9-11c9e5ad1562"
      },
      "execution_count": 174,
      "outputs": [
        {
          "output_type": "stream",
          "name": "stdout",
          "text": [
            "Fitting 5 folds for each of 25 candidates, totalling 125 fits\n",
            "[CV 1/5] END ........C=0.1, gamma=1, kernel=rbf;, score=0.578 total time=   1.2s\n",
            "[CV 2/5] END ........C=0.1, gamma=1, kernel=rbf;, score=0.560 total time=   1.1s\n",
            "[CV 3/5] END ........C=0.1, gamma=1, kernel=rbf;, score=0.588 total time=   1.1s\n",
            "[CV 4/5] END ........C=0.1, gamma=1, kernel=rbf;, score=0.545 total time=   1.1s\n",
            "[CV 5/5] END ........C=0.1, gamma=1, kernel=rbf;, score=0.589 total time=   1.1s\n",
            "[CV 1/5] END ......C=0.1, gamma=0.1, kernel=rbf;, score=0.704 total time=   1.0s\n",
            "[CV 2/5] END ......C=0.1, gamma=0.1, kernel=rbf;, score=0.690 total time=   1.0s\n",
            "[CV 3/5] END ......C=0.1, gamma=0.1, kernel=rbf;, score=0.682 total time=   1.0s\n",
            "[CV 4/5] END ......C=0.1, gamma=0.1, kernel=rbf;, score=0.719 total time=   1.0s\n",
            "[CV 5/5] END ......C=0.1, gamma=0.1, kernel=rbf;, score=0.705 total time=   1.0s\n",
            "[CV 1/5] END .....C=0.1, gamma=0.01, kernel=rbf;, score=0.693 total time=   1.0s\n",
            "[CV 2/5] END .....C=0.1, gamma=0.01, kernel=rbf;, score=0.650 total time=   1.0s\n",
            "[CV 3/5] END .....C=0.1, gamma=0.01, kernel=rbf;, score=0.670 total time=   1.0s\n",
            "[CV 4/5] END .....C=0.1, gamma=0.01, kernel=rbf;, score=0.709 total time=   1.0s\n",
            "[CV 5/5] END .....C=0.1, gamma=0.01, kernel=rbf;, score=0.687 total time=   1.0s\n",
            "[CV 1/5] END ....C=0.1, gamma=0.001, kernel=rbf;, score=0.683 total time=   1.1s\n",
            "[CV 2/5] END ....C=0.1, gamma=0.001, kernel=rbf;, score=0.631 total time=   1.1s\n",
            "[CV 3/5] END ....C=0.1, gamma=0.001, kernel=rbf;, score=0.653 total time=   1.1s\n",
            "[CV 4/5] END ....C=0.1, gamma=0.001, kernel=rbf;, score=0.690 total time=   1.1s\n",
            "[CV 5/5] END ....C=0.1, gamma=0.001, kernel=rbf;, score=0.662 total time=   1.2s\n",
            "[CV 1/5] END ...C=0.1, gamma=0.0001, kernel=rbf;, score=0.502 total time=   1.1s\n",
            "[CV 2/5] END ...C=0.1, gamma=0.0001, kernel=rbf;, score=0.502 total time=   1.2s\n",
            "[CV 3/5] END ...C=0.1, gamma=0.0001, kernel=rbf;, score=0.501 total time=   1.2s\n",
            "[CV 4/5] END ...C=0.1, gamma=0.0001, kernel=rbf;, score=0.501 total time=   1.2s\n",
            "[CV 5/5] END ...C=0.1, gamma=0.0001, kernel=rbf;, score=0.501 total time=   1.2s\n",
            "[CV 1/5] END ..........C=1, gamma=1, kernel=rbf;, score=0.881 total time=   1.2s\n",
            "[CV 2/5] END ..........C=1, gamma=1, kernel=rbf;, score=0.881 total time=   1.4s\n",
            "[CV 3/5] END ..........C=1, gamma=1, kernel=rbf;, score=0.900 total time=   1.3s\n",
            "[CV 4/5] END ..........C=1, gamma=1, kernel=rbf;, score=0.896 total time=   1.3s\n",
            "[CV 5/5] END ..........C=1, gamma=1, kernel=rbf;, score=0.894 total time=   1.2s\n",
            "[CV 1/5] END ........C=1, gamma=0.1, kernel=rbf;, score=0.800 total time=   0.9s\n",
            "[CV 2/5] END ........C=1, gamma=0.1, kernel=rbf;, score=0.784 total time=   0.9s\n",
            "[CV 3/5] END ........C=1, gamma=0.1, kernel=rbf;, score=0.770 total time=   0.9s\n",
            "[CV 4/5] END ........C=1, gamma=0.1, kernel=rbf;, score=0.787 total time=   0.9s\n",
            "[CV 5/5] END ........C=1, gamma=0.1, kernel=rbf;, score=0.783 total time=   0.9s\n",
            "[CV 1/5] END .......C=1, gamma=0.01, kernel=rbf;, score=0.701 total time=   0.9s\n",
            "[CV 2/5] END .......C=1, gamma=0.01, kernel=rbf;, score=0.666 total time=   0.9s\n",
            "[CV 3/5] END .......C=1, gamma=0.01, kernel=rbf;, score=0.683 total time=   0.9s\n",
            "[CV 4/5] END .......C=1, gamma=0.01, kernel=rbf;, score=0.717 total time=   0.9s\n",
            "[CV 5/5] END .......C=1, gamma=0.01, kernel=rbf;, score=0.709 total time=   0.9s\n",
            "[CV 1/5] END ......C=1, gamma=0.001, kernel=rbf;, score=0.686 total time=   1.0s\n",
            "[CV 2/5] END ......C=1, gamma=0.001, kernel=rbf;, score=0.650 total time=   1.0s\n",
            "[CV 3/5] END ......C=1, gamma=0.001, kernel=rbf;, score=0.663 total time=   1.2s\n",
            "[CV 4/5] END ......C=1, gamma=0.001, kernel=rbf;, score=0.706 total time=   1.7s\n",
            "[CV 5/5] END ......C=1, gamma=0.001, kernel=rbf;, score=0.687 total time=   1.6s\n",
            "[CV 1/5] END .....C=1, gamma=0.0001, kernel=rbf;, score=0.683 total time=   2.3s\n",
            "[CV 2/5] END .....C=1, gamma=0.0001, kernel=rbf;, score=0.628 total time=   3.0s\n",
            "[CV 3/5] END .....C=1, gamma=0.0001, kernel=rbf;, score=0.659 total time=   3.2s\n",
            "[CV 4/5] END .....C=1, gamma=0.0001, kernel=rbf;, score=0.689 total time=   1.9s\n",
            "[CV 5/5] END .....C=1, gamma=0.0001, kernel=rbf;, score=0.664 total time=   1.9s\n",
            "[CV 1/5] END .........C=10, gamma=1, kernel=rbf;, score=0.882 total time=   2.1s\n",
            "[CV 2/5] END .........C=10, gamma=1, kernel=rbf;, score=0.881 total time=   1.6s\n",
            "[CV 3/5] END .........C=10, gamma=1, kernel=rbf;, score=0.896 total time=   1.2s\n",
            "[CV 4/5] END .........C=10, gamma=1, kernel=rbf;, score=0.898 total time=   1.3s\n",
            "[CV 5/5] END .........C=10, gamma=1, kernel=rbf;, score=0.895 total time=   1.3s\n",
            "[CV 1/5] END .......C=10, gamma=0.1, kernel=rbf;, score=0.855 total time=   0.9s\n",
            "[CV 2/5] END .......C=10, gamma=0.1, kernel=rbf;, score=0.821 total time=   0.9s\n",
            "[CV 3/5] END .......C=10, gamma=0.1, kernel=rbf;, score=0.828 total time=   0.9s\n",
            "[CV 4/5] END .......C=10, gamma=0.1, kernel=rbf;, score=0.848 total time=   0.9s\n",
            "[CV 5/5] END .......C=10, gamma=0.1, kernel=rbf;, score=0.835 total time=   0.9s\n",
            "[CV 1/5] END ......C=10, gamma=0.01, kernel=rbf;, score=0.743 total time=   0.9s\n",
            "[CV 2/5] END ......C=10, gamma=0.01, kernel=rbf;, score=0.726 total time=   0.9s\n",
            "[CV 3/5] END ......C=10, gamma=0.01, kernel=rbf;, score=0.721 total time=   0.9s\n",
            "[CV 4/5] END ......C=10, gamma=0.01, kernel=rbf;, score=0.751 total time=   0.9s\n",
            "[CV 5/5] END ......C=10, gamma=0.01, kernel=rbf;, score=0.744 total time=   0.9s\n",
            "[CV 1/5] END .....C=10, gamma=0.001, kernel=rbf;, score=0.692 total time=   0.9s\n",
            "[CV 2/5] END .....C=10, gamma=0.001, kernel=rbf;, score=0.660 total time=   0.9s\n",
            "[CV 3/5] END .....C=10, gamma=0.001, kernel=rbf;, score=0.663 total time=   0.9s\n",
            "[CV 4/5] END .....C=10, gamma=0.001, kernel=rbf;, score=0.701 total time=   1.6s\n",
            "[CV 5/5] END .....C=10, gamma=0.001, kernel=rbf;, score=0.693 total time=   0.9s\n",
            "[CV 1/5] END ....C=10, gamma=0.0001, kernel=rbf;, score=0.686 total time=   1.0s\n",
            "[CV 2/5] END ....C=10, gamma=0.0001, kernel=rbf;, score=0.649 total time=   1.0s\n",
            "[CV 3/5] END ....C=10, gamma=0.0001, kernel=rbf;, score=0.666 total time=   0.9s\n",
            "[CV 4/5] END ....C=10, gamma=0.0001, kernel=rbf;, score=0.708 total time=   0.9s\n",
            "[CV 5/5] END ....C=10, gamma=0.0001, kernel=rbf;, score=0.687 total time=   0.9s\n",
            "[CV 1/5] END ........C=100, gamma=1, kernel=rbf;, score=0.881 total time=   1.2s\n",
            "[CV 2/5] END ........C=100, gamma=1, kernel=rbf;, score=0.881 total time=   1.2s\n",
            "[CV 3/5] END ........C=100, gamma=1, kernel=rbf;, score=0.896 total time=   1.3s\n",
            "[CV 4/5] END ........C=100, gamma=1, kernel=rbf;, score=0.900 total time=   1.4s\n",
            "[CV 5/5] END ........C=100, gamma=1, kernel=rbf;, score=0.896 total time=   1.2s\n",
            "[CV 1/5] END ......C=100, gamma=0.1, kernel=rbf;, score=0.863 total time=   1.4s\n",
            "[CV 2/5] END ......C=100, gamma=0.1, kernel=rbf;, score=0.846 total time=   1.3s\n",
            "[CV 3/5] END ......C=100, gamma=0.1, kernel=rbf;, score=0.849 total time=   1.3s\n",
            "[CV 4/5] END ......C=100, gamma=0.1, kernel=rbf;, score=0.862 total time=   1.4s\n",
            "[CV 5/5] END ......C=100, gamma=0.1, kernel=rbf;, score=0.850 total time=   1.4s\n",
            "[CV 1/5] END .....C=100, gamma=0.01, kernel=rbf;, score=0.797 total time=   1.2s\n",
            "[CV 2/5] END .....C=100, gamma=0.01, kernel=rbf;, score=0.784 total time=   1.2s\n",
            "[CV 3/5] END .....C=100, gamma=0.01, kernel=rbf;, score=0.780 total time=   1.1s\n",
            "[CV 4/5] END .....C=100, gamma=0.01, kernel=rbf;, score=0.801 total time=   1.2s\n",
            "[CV 5/5] END .....C=100, gamma=0.01, kernel=rbf;, score=0.800 total time=   1.2s\n",
            "[CV 1/5] END ....C=100, gamma=0.001, kernel=rbf;, score=0.701 total time=   1.0s\n",
            "[CV 2/5] END ....C=100, gamma=0.001, kernel=rbf;, score=0.677 total time=   1.0s\n",
            "[CV 3/5] END ....C=100, gamma=0.001, kernel=rbf;, score=0.688 total time=   1.0s\n",
            "[CV 4/5] END ....C=100, gamma=0.001, kernel=rbf;, score=0.720 total time=   1.0s\n",
            "[CV 5/5] END ....C=100, gamma=0.001, kernel=rbf;, score=0.704 total time=   1.0s\n",
            "[CV 1/5] END ...C=100, gamma=0.0001, kernel=rbf;, score=0.687 total time=   0.9s\n",
            "[CV 2/5] END ...C=100, gamma=0.0001, kernel=rbf;, score=0.658 total time=   0.9s\n",
            "[CV 3/5] END ...C=100, gamma=0.0001, kernel=rbf;, score=0.658 total time=   0.9s\n",
            "[CV 4/5] END ...C=100, gamma=0.0001, kernel=rbf;, score=0.709 total time=   0.9s\n",
            "[CV 5/5] END ...C=100, gamma=0.0001, kernel=rbf;, score=0.685 total time=   0.9s\n",
            "[CV 1/5] END .......C=1000, gamma=1, kernel=rbf;, score=0.881 total time=   1.2s\n",
            "[CV 2/5] END .......C=1000, gamma=1, kernel=rbf;, score=0.881 total time=   1.3s\n",
            "[CV 3/5] END .......C=1000, gamma=1, kernel=rbf;, score=0.896 total time=   1.4s\n",
            "[CV 4/5] END .......C=1000, gamma=1, kernel=rbf;, score=0.900 total time=   1.4s\n",
            "[CV 5/5] END .......C=1000, gamma=1, kernel=rbf;, score=0.896 total time=   1.2s\n",
            "[CV 1/5] END .....C=1000, gamma=0.1, kernel=rbf;, score=0.859 total time=   3.0s\n",
            "[CV 2/5] END .....C=1000, gamma=0.1, kernel=rbf;, score=0.840 total time=   2.7s\n",
            "[CV 3/5] END .....C=1000, gamma=0.1, kernel=rbf;, score=0.835 total time=   2.7s\n",
            "[CV 4/5] END .....C=1000, gamma=0.1, kernel=rbf;, score=0.859 total time=   2.8s\n",
            "[CV 5/5] END .....C=1000, gamma=0.1, kernel=rbf;, score=0.850 total time=   2.9s\n",
            "[CV 1/5] END ....C=1000, gamma=0.01, kernel=rbf;, score=0.831 total time=   2.9s\n",
            "[CV 2/5] END ....C=1000, gamma=0.01, kernel=rbf;, score=0.795 total time=   2.7s\n",
            "[CV 3/5] END ....C=1000, gamma=0.01, kernel=rbf;, score=0.801 total time=   2.9s\n",
            "[CV 4/5] END ....C=1000, gamma=0.01, kernel=rbf;, score=0.816 total time=   2.8s\n",
            "[CV 5/5] END ....C=1000, gamma=0.01, kernel=rbf;, score=0.821 total time=   2.9s\n",
            "[CV 1/5] END ...C=1000, gamma=0.001, kernel=rbf;, score=0.746 total time=   1.5s\n",
            "[CV 2/5] END ...C=1000, gamma=0.001, kernel=rbf;, score=0.722 total time=   1.5s\n",
            "[CV 3/5] END ...C=1000, gamma=0.001, kernel=rbf;, score=0.720 total time=   1.5s\n",
            "[CV 4/5] END ...C=1000, gamma=0.001, kernel=rbf;, score=0.753 total time=   1.5s\n",
            "[CV 5/5] END ...C=1000, gamma=0.001, kernel=rbf;, score=0.756 total time=   1.4s\n",
            "[CV 1/5] END ..C=1000, gamma=0.0001, kernel=rbf;, score=0.692 total time=   1.1s\n",
            "[CV 2/5] END ..C=1000, gamma=0.0001, kernel=rbf;, score=0.660 total time=   1.1s\n",
            "[CV 3/5] END ..C=1000, gamma=0.0001, kernel=rbf;, score=0.661 total time=   1.1s\n",
            "[CV 4/5] END ..C=1000, gamma=0.0001, kernel=rbf;, score=0.706 total time=   1.1s\n",
            "[CV 5/5] END ..C=1000, gamma=0.0001, kernel=rbf;, score=0.690 total time=   1.1s\n"
          ]
        },
        {
          "output_type": "execute_result",
          "data": {
            "text/plain": [
              "GridSearchCV(estimator=SVC(),\n",
              "             param_grid={'C': [0.1, 1, 10, 100, 1000],\n",
              "                         'gamma': [1, 0.1, 0.01, 0.001, 0.0001],\n",
              "                         'kernel': ['rbf']},\n",
              "             verbose=3)"
            ]
          },
          "metadata": {},
          "execution_count": 174
        }
      ]
    },
    {
      "cell_type": "code",
      "source": [
        "# print best parameter after tuning\n",
        "print(grid.best_params_)\n",
        " \n",
        "# print how our model looks after hyper-parameter tuning\n",
        "print(grid.best_estimator_)"
      ],
      "metadata": {
        "colab": {
          "base_uri": "https://localhost:8080/"
        },
        "id": "_Ny4HQ9luScB",
        "outputId": "18051943-8d7d-4590-9cc5-557eb6f505ff"
      },
      "execution_count": 99,
      "outputs": [
        {
          "output_type": "stream",
          "name": "stdout",
          "text": [
            "{'C': 100, 'gamma': 1, 'kernel': 'rbf'}\n",
            "SVC(C=100, gamma=1)\n"
          ]
        }
      ]
    },
    {
      "cell_type": "code",
      "source": [
        "# Predict the test data set class\n",
        "grid_predictions = grid.predict(X_test_scaled)"
      ],
      "metadata": {
        "id": "tdTsD75BuHpI"
      },
      "execution_count": 100,
      "outputs": []
    },
    {
      "cell_type": "code",
      "source": [
        "## Calculate the diff Metrics\n",
        "roc_auc = roc_auc_score(y_test, grid_predictions)\n",
        "print(\"ROC-AUC: {:.3f}\".format(roc_auc))\n",
        "precision = precision_score(y_test, grid_predictions)\n",
        "recall = recall_score(y_test, grid_predictions)\n",
        "print(\"Precision: {:.3f}\".format(precision))\n",
        "print(\"Recall: {:.3f}\".format(recall))\n",
        "print (\"F1-Score {:.3f}\".format(2*precision*recall/(recall+precision)))\n",
        "accuracy =accuracy_score(y_test, grid_predictions)\n",
        "print(\"Accuracy {:.3f}\".format(accuracy))\n",
        "print(\"Cohen's Kappa Score {:.3f}\".format(cohen_kappa_score(y_test, grid_predictions)))\n"
      ],
      "metadata": {
        "colab": {
          "base_uri": "https://localhost:8080/"
        },
        "id": "KJXjCFBN0hcT",
        "outputId": "e25bb808-1c75-41c4-a3f0-91db42349786"
      },
      "execution_count": 102,
      "outputs": [
        {
          "output_type": "stream",
          "name": "stdout",
          "text": [
            "ROC-AUC: 0.913\n",
            "Precision: 0.916\n",
            "Recall: 0.908\n",
            "F1-Score 0.912\n",
            "Accuracy 0.913\n",
            "Cohen's Kappa Score 0.827\n"
          ]
        }
      ]
    },
    {
      "cell_type": "code",
      "source": [
        "# Get the confusion matrix for test\n",
        "plt.figure(figsize=(3,3))\n",
        "labels = ['Not at Risk','Heart Risk' ]\n",
        "cm = confusion_matrix(y_test, grid_predictions)\n",
        "\n",
        "cat = ['TN','FP','FN','TP']\n",
        "#cat = np.asarray(labels2).reshape(2,2)\n",
        "counts = [count for count in cm.flatten()]\n",
        "labelsIn = [f\"{v1}\\n{v2}\" for v1, v2 in  zip(cat,counts)]\n",
        "\n",
        "labelsIn = np.asarray(labelsIn).reshape(2,2)\n",
        "\n",
        "ax= plt.subplot()\n",
        "sns.heatmap(cm, annot=labelsIn,cmap='Greys_r', fmt='')\n",
        "\n",
        "# labels, title and ticks\n",
        "ax.set_xlabel('Predicted labels');\n",
        "ax.set_ylabel('True labels');\n",
        "ax.set_title('Confusion Matrix');\n",
        "ax.xaxis.set_ticklabels(labels);\n",
        "ax.yaxis.set_ticklabels(labels);"
      ],
      "metadata": {
        "colab": {
          "base_uri": "https://localhost:8080/",
          "height": 241
        },
        "id": "Xw3HoGCs1B-_",
        "outputId": "658470e3-b0f9-4832-ecfe-faced5143005"
      },
      "execution_count": 140,
      "outputs": [
        {
          "output_type": "display_data",
          "data": {
            "image/png": "[encoded data removed]",
            "text/plain": [
              "<Figure size 216x216 with 2 Axes>"
            ]
          },
          "metadata": {}
        }
      ]
    },
    {
      "cell_type": "code",
      "source": [
        "# ROC curve and AUC \n",
        "\n",
        "# calculate AUC\n",
        "log_auc = roc_auc_score(y_test, grid_predictions)\n",
        "\n",
        "# calculate roc curve\n",
        "fpr, tpr, thresholds = roc_curve(y_test, grid_predictions)\n",
        "# plot curve\n",
        "sns.set_style('whitegrid')\n",
        "plt.figure(figsize=(10,6))\n",
        "plt.plot([0, 1], [0, 1], linestyle='--')\n",
        "plt.plot(fpr, tpr, marker='.')\n",
        "plt.ylabel('True positive rate')\n",
        "plt.xlabel('False positive rate')\n",
        "plt.title(f\"AUC = {round(log_auc,3)}\")\n",
        "plt.show()"
      ],
      "metadata": {
        "colab": {
          "base_uri": "https://localhost:8080/",
          "height": 404
        },
        "id": "k4D7BkNz1xZa",
        "outputId": "060105c4-cc0b-4fe8-b769-4996b001ebfa"
      },
      "execution_count": 107,
      "outputs": [
        {
          "output_type": "display_data",
          "data": {
            "image/png": "[encoded data removed]",
            "text/plain": [
              "<Figure size 720x432 with 1 Axes>"
            ]
          },
          "metadata": {}
        }
      ]
    },
    {
      "cell_type": "markdown",
      "metadata": {
        "id": "AhC6WHQtvgVA"
      },
      "source": [
        "##Accuracy Scores of each classification model are as follows "
      ]
    },
    {
      "cell_type": "code",
      "metadata": {
        "colab": {
          "base_uri": "https://localhost:8080/"
        },
        "id": "qEtnBx4evqUB",
        "outputId": "da1ad322-b843-40da-cf31-7b3e53a2b0d0"
      },
      "source": [
        "print(f'''Accuracy Scores:\n",
        "K Nearest Neigbours         : {accuracy_score_KNNClassifier}\n",
        "Support Vector Machine      : {accuracy_score_SVM}\n",
        "''')"
      ],
      "execution_count": 108,
      "outputs": [
        {
          "output_type": "stream",
          "name": "stdout",
          "text": [
            "Accuracy Scores:\n",
            "K Nearest Neigbours         : 0.8715034965034965\n",
            "Support Vector Machine      : 0.9134615384615384\n",
            "\n"
          ]
        }
      ]
    }
  ]
}